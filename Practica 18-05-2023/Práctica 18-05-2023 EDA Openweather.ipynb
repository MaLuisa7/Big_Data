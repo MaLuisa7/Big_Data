{
 "cells": [
  {
   "cell_type": "code",
   "execution_count": 2,
   "id": "76147592",
   "metadata": {},
   "outputs": [
    {
     "name": "stdout",
     "output_type": "stream",
     "text": [
      "Requirement already satisfied: requests in c:\\users\\usuario\\anaconda3\\lib\\site-packages (2.28.1)\n",
      "Requirement already satisfied: charset-normalizer<3,>=2 in c:\\users\\usuario\\anaconda3\\lib\\site-packages (from requests) (2.0.4)\n",
      "Requirement already satisfied: idna<4,>=2.5 in c:\\users\\usuario\\anaconda3\\lib\\site-packages (from requests) (3.4)\n",
      "Requirement already satisfied: certifi>=2017.4.17 in c:\\users\\usuario\\anaconda3\\lib\\site-packages (from requests) (2022.12.7)\n",
      "Requirement already satisfied: urllib3<1.27,>=1.21.1 in c:\\users\\usuario\\anaconda3\\lib\\site-packages (from requests) (1.26.14)\n"
     ]
    }
   ],
   "source": [
    "!pip install requests"
   ]
  },
  {
   "cell_type": "markdown",
   "id": "a919b614",
   "metadata": {},
   "source": [
    "## Librerias requeridas"
   ]
  },
  {
   "cell_type": "code",
   "execution_count": 61,
   "id": "c95f0811",
   "metadata": {},
   "outputs": [],
   "source": [
    "import pandas as pd\n",
    "import plotly\n",
    "import numpy  as np\n",
    "import seaborn  as sns\n",
    "import json\n",
    "import requests\n",
    "import plotly.express as px\n",
    "import matplotlib.pyplot as plt"
   ]
  },
  {
   "cell_type": "markdown",
   "id": "52a4eeb4",
   "metadata": {},
   "source": [
    "## Lista de ciudades con su país "
   ]
  },
  {
   "cell_type": "markdown",
   "id": "47e28f87",
   "metadata": {},
   "source": [
    "Este conjunto de datos es posible obtenerlo de la misma página web de openweather y lista los paises y algunas ciudades con su longitus y latitud. Se utilizará para obtener la temperatura, presión, humedad actual y descripción del clima.\n"
   ]
  },
  {
   "cell_type": "code",
   "execution_count": 33,
   "id": "40035d71",
   "metadata": {},
   "outputs": [
    {
     "data": {
      "text/html": [
       "<div>\n",
       "<style scoped>\n",
       "    .dataframe tbody tr th:only-of-type {\n",
       "        vertical-align: middle;\n",
       "    }\n",
       "\n",
       "    .dataframe tbody tr th {\n",
       "        vertical-align: top;\n",
       "    }\n",
       "\n",
       "    .dataframe thead th {\n",
       "        text-align: right;\n",
       "    }\n",
       "</style>\n",
       "<table border=\"1\" class=\"dataframe\">\n",
       "  <thead>\n",
       "    <tr style=\"text-align: right;\">\n",
       "      <th></th>\n",
       "      <th>name</th>\n",
       "      <th>lon</th>\n",
       "      <th>lat</th>\n",
       "      <th>country</th>\n",
       "    </tr>\n",
       "  </thead>\n",
       "  <tbody>\n",
       "    <tr>\n",
       "      <th>0</th>\n",
       "      <td>Abidjan</td>\n",
       "      <td>-4.00167</td>\n",
       "      <td>5.35444</td>\n",
       "      <td>Ivory Coast</td>\n",
       "    </tr>\n",
       "    <tr>\n",
       "      <th>1</th>\n",
       "      <td>Abu Dhabi</td>\n",
       "      <td>54.39696</td>\n",
       "      <td>24.45118</td>\n",
       "      <td>United Arab Emirates</td>\n",
       "    </tr>\n",
       "    <tr>\n",
       "      <th>2</th>\n",
       "      <td>Abuja</td>\n",
       "      <td>7.49508</td>\n",
       "      <td>9.05785</td>\n",
       "      <td>Nigeria</td>\n",
       "    </tr>\n",
       "  </tbody>\n",
       "</table>\n",
       "</div>"
      ],
      "text/plain": [
       "        name       lon       lat               country\n",
       "0    Abidjan  -4.00167   5.35444           Ivory Coast\n",
       "1  Abu Dhabi  54.39696  24.45118  United Arab Emirates\n",
       "2      Abuja   7.49508   9.05785               Nigeria"
      ]
     },
     "execution_count": 33,
     "metadata": {},
     "output_type": "execute_result"
    }
   ],
   "source": [
    "path_cities = \"C:/Users/Usuario/Documents/Big Data/cities_list.xlsx\"\n",
    "cities = pd.read_excel(path_cities)\n",
    "cities.head(3)"
   ]
  },
  {
   "cell_type": "code",
   "execution_count": 38,
   "id": "35d6de66",
   "metadata": {
    "scrolled": true
   },
   "outputs": [
    {
     "name": "stdout",
     "output_type": "stream",
     "text": [
      " Temperature (in kelvin unit) = 299.13 , atmospheric pressure (in hPa unit) = 1011 , humidity (in percentage) = 94 , description = scattered clouds\n",
      " Temperature (in kelvin unit) = 303.21 , atmospheric pressure (in hPa unit) = 1008 , humidity (in percentage) = 53 , description = clear sky\n",
      " Temperature (in kelvin unit) = 299.23 , atmospheric pressure (in hPa unit) = 1011 , humidity (in percentage) = 90 , description = overcast clouds\n",
      " Temperature (in kelvin unit) = 297.38 , atmospheric pressure (in hPa unit) = 1012 , humidity (in percentage) = 100 , description = thunderstorm with light rain\n",
      " Temperature (in kelvin unit) = 286.64 , atmospheric pressure (in hPa unit) = 1026 , humidity (in percentage) = 100 , description = light rain\n",
      " Temperature (in kelvin unit) = 303.17 , atmospheric pressure (in hPa unit) = 1009 , humidity (in percentage) = 66 , description = haze\n",
      " Temperature (in kelvin unit) = 288.62 , atmospheric pressure (in hPa unit) = 1009 , humidity (in percentage) = 82 , description = few clouds\n",
      " Temperature (in kelvin unit) = 290.45 , atmospheric pressure (in hPa unit) = 1010 , humidity (in percentage) = 71 , description = overcast clouds\n",
      " Temperature (in kelvin unit) = 284.05 , atmospheric pressure (in hPa unit) = 1013 , humidity (in percentage) = 87 , description = few clouds\n",
      " Temperature (in kelvin unit) = 292.1 , atmospheric pressure (in hPa unit) = 1015 , humidity (in percentage) = 52 , description = broken clouds\n",
      " Temperature (in kelvin unit) = 286.2 , atmospheric pressure (in hPa unit) = 1012 , humidity (in percentage) = 67 , description = broken clouds\n",
      " Temperature (in kelvin unit) = 287.03 , atmospheric pressure (in hPa unit) = 1019 , humidity (in percentage) = 85 , description = broken clouds\n",
      " Temperature (in kelvin unit) = 286.24 , atmospheric pressure (in hPa unit) = 1021 , humidity (in percentage) = 46 , description = clear sky\n",
      " Temperature (in kelvin unit) = 276.62 , atmospheric pressure (in hPa unit) = 1014 , humidity (in percentage) = 94 , description = overcast clouds\n",
      " Temperature (in kelvin unit) = 284.48 , atmospheric pressure (in hPa unit) = 1009 , humidity (in percentage) = 93 , description = scattered clouds\n",
      " Temperature (in kelvin unit) = 284.13 , atmospheric pressure (in hPa unit) = 1021 , humidity (in percentage) = 100 , description = few clouds\n",
      " Temperature (in kelvin unit) = 306.1 , atmospheric pressure (in hPa unit) = 1011 , humidity (in percentage) = 79 , description = broken clouds\n",
      " Temperature (in kelvin unit) = 280.27 , atmospheric pressure (in hPa unit) = 1025 , humidity (in percentage) = 89 , description = overcast clouds\n",
      " Temperature (in kelvin unit) = 296.07 , atmospheric pressure (in hPa unit) = 1011 , humidity (in percentage) = 38 , description = scattered clouds\n",
      " Temperature (in kelvin unit) = 288.4 , atmospheric pressure (in hPa unit) = 1013 , humidity (in percentage) = 41 , description = clear sky\n",
      " Temperature (in kelvin unit) = 291.84 , atmospheric pressure (in hPa unit) = 1014 , humidity (in percentage) = 94 , description = overcast clouds\n",
      " Temperature (in kelvin unit) = 291.58 , atmospheric pressure (in hPa unit) = 1008 , humidity (in percentage) = 72 , description = broken clouds\n",
      " Temperature (in kelvin unit) = 288.53 , atmospheric pressure (in hPa unit) = 1006 , humidity (in percentage) = 71 , description = overcast clouds\n",
      " Temperature (in kelvin unit) = 298.18 , atmospheric pressure (in hPa unit) = 1013 , humidity (in percentage) = 73 , description = broken clouds\n",
      " Temperature (in kelvin unit) = 296.1 , atmospheric pressure (in hPa unit) = 1004 , humidity (in percentage) = 56 , description = clear sky\n",
      " Temperature (in kelvin unit) = 289.18 , atmospheric pressure (in hPa unit) = 1012 , humidity (in percentage) = 82 , description = clear sky\n",
      " Temperature (in kelvin unit) = 296.38 , atmospheric pressure (in hPa unit) = 1013 , humidity (in percentage) = 94 , description = thunderstorm\n",
      " Temperature (in kelvin unit) = 302.86 , atmospheric pressure (in hPa unit) = 1013 , humidity (in percentage) = 67 , description = broken clouds\n",
      " Temperature (in kelvin unit) = 302.14 , atmospheric pressure (in hPa unit) = 1012 , humidity (in percentage) = 84 , description = broken clouds\n",
      " Temperature (in kelvin unit) = 300.13 , atmospheric pressure (in hPa unit) = 1014 , humidity (in percentage) = 61 , description = scattered clouds\n",
      " Temperature (in kelvin unit) = 305.72 , atmospheric pressure (in hPa unit) = 1009 , humidity (in percentage) = 63 , description = scattered clouds\n",
      " Temperature (in kelvin unit) = 295.91 , atmospheric pressure (in hPa unit) = 1009 , humidity (in percentage) = 79 , description = overcast clouds\n",
      " Temperature (in kelvin unit) = 297.34 , atmospheric pressure (in hPa unit) = 1011 , humidity (in percentage) = 73 , description = overcast clouds\n",
      " Temperature (in kelvin unit) = 287.72 , atmospheric pressure (in hPa unit) = 1012 , humidity (in percentage) = 82 , description = few clouds\n",
      " Temperature (in kelvin unit) = 301.03 , atmospheric pressure (in hPa unit) = 1010 , humidity (in percentage) = 83 , description = scattered clouds\n",
      " Temperature (in kelvin unit) = 302.13 , atmospheric pressure (in hPa unit) = 1005 , humidity (in percentage) = 34 , description = clear sky\n",
      " Temperature (in kelvin unit) = 297.73 , atmospheric pressure (in hPa unit) = 1014 , humidity (in percentage) = 83 , description = scattered clouds\n",
      " Temperature (in kelvin unit) = 299.63 , atmospheric pressure (in hPa unit) = 1014 , humidity (in percentage) = 83 , description = few clouds\n",
      " Temperature (in kelvin unit) = 296.09 , atmospheric pressure (in hPa unit) = 1015 , humidity (in percentage) = 18 , description = overcast clouds\n",
      " Temperature (in kelvin unit) = 291.56 , atmospheric pressure (in hPa unit) = 1011 , humidity (in percentage) = 68 , description = clear sky\n",
      " Temperature (in kelvin unit) = 303.78 , atmospheric pressure (in hPa unit) = 1013 , humidity (in percentage) = 74 , description = haze\n",
      " Temperature (in kelvin unit) = 299.17 , atmospheric pressure (in hPa unit) = 1012 , humidity (in percentage) = 89 , description = clear sky\n",
      " Temperature (in kelvin unit) = 287.58 , atmospheric pressure (in hPa unit) = 1012 , humidity (in percentage) = 83 , description = clear sky\n",
      " Temperature (in kelvin unit) = 302.36 , atmospheric pressure (in hPa unit) = 1014 , humidity (in percentage) = 85 , description = scattered clouds\n",
      " Temperature (in kelvin unit) = 287.59 , atmospheric pressure (in hPa unit) = 1021 , humidity (in percentage) = 67 , description = clear sky\n",
      " Temperature (in kelvin unit) = 297.95 , atmospheric pressure (in hPa unit) = 1016 , humidity (in percentage) = 83 , description = few clouds\n",
      " Temperature (in kelvin unit) = 286.99 , atmospheric pressure (in hPa unit) = 1008 , humidity (in percentage) = 86 , description = clear sky\n",
      " Temperature (in kelvin unit) = 283.93 , atmospheric pressure (in hPa unit) = 1014 , humidity (in percentage) = 83 , description = overcast clouds\n",
      " Temperature (in kelvin unit) = 288.26 , atmospheric pressure (in hPa unit) = 1016 , humidity (in percentage) = 48 , description = clear sky\n",
      " Temperature (in kelvin unit) = 299.14 , atmospheric pressure (in hPa unit) = 1012 , humidity (in percentage) = 69 , description = overcast clouds\n",
      " Temperature (in kelvin unit) = 286.88 , atmospheric pressure (in hPa unit) = 1027 , humidity (in percentage) = 88 , description = broken clouds\n",
      " Temperature (in kelvin unit) = 288.66 , atmospheric pressure (in hPa unit) = 1020 , humidity (in percentage) = 67 , description = clear sky\n",
      " Temperature (in kelvin unit) = 286.25 , atmospheric pressure (in hPa unit) = 1017 , humidity (in percentage) = 83 , description = clear sky\n",
      " Temperature (in kelvin unit) = 296.32 , atmospheric pressure (in hPa unit) = 1010 , humidity (in percentage) = 95 , description = light rain\n",
      " Temperature (in kelvin unit) = 300.42 , atmospheric pressure (in hPa unit) = 1012 , humidity (in percentage) = 83 , description = scattered clouds\n",
      " Temperature (in kelvin unit) = 293.77 , atmospheric pressure (in hPa unit) = 1017 , humidity (in percentage) = 38 , description = clear sky\n",
      " Temperature (in kelvin unit) = 284.11 , atmospheric pressure (in hPa unit) = 1018 , humidity (in percentage) = 81 , description = clear sky\n",
      " Temperature (in kelvin unit) = 288.85 , atmospheric pressure (in hPa unit) = 1011 , humidity (in percentage) = 73 , description = clear sky\n",
      " Temperature (in kelvin unit) = 289.71 , atmospheric pressure (in hPa unit) = 1016 , humidity (in percentage) = 73 , description = clear sky\n",
      " Temperature (in kelvin unit) = 287.45 , atmospheric pressure (in hPa unit) = 1019 , humidity (in percentage) = 78 , description = scattered clouds\n",
      " Temperature (in kelvin unit) = 294.32 , atmospheric pressure (in hPa unit) = 1014 , humidity (in percentage) = 84 , description = overcast clouds\n",
      " Temperature (in kelvin unit) = 281.17 , atmospheric pressure (in hPa unit) = 1011 , humidity (in percentage) = 94 , description = scattered clouds\n",
      " Temperature (in kelvin unit) = 297.14 , atmospheric pressure (in hPa unit) = 1009 , humidity (in percentage) = 57 , description = clear sky\n",
      " Temperature (in kelvin unit) = 295.57 , atmospheric pressure (in hPa unit) = 1009 , humidity (in percentage) = 68 , description = clear sky\n",
      " Temperature (in kelvin unit) = 295.15 , atmospheric pressure (in hPa unit) = 1017 , humidity (in percentage) = 88 , description = broken clouds\n",
      " Temperature (in kelvin unit) = 304.71 , atmospheric pressure (in hPa unit) = 1010 , humidity (in percentage) = 71 , description = scattered clouds\n",
      " Temperature (in kelvin unit) = 299.2 , atmospheric pressure (in hPa unit) = 1012 , humidity (in percentage) = 94 , description = thunderstorm with light rain\n",
      " Temperature (in kelvin unit) = 284.66 , atmospheric pressure (in hPa unit) = 1016 , humidity (in percentage) = 67 , description = broken clouds\n",
      " Temperature (in kelvin unit) = 287.88 , atmospheric pressure (in hPa unit) = 1016 , humidity (in percentage) = 92 , description = light intensity drizzle\n",
      " Temperature (in kelvin unit) = 292.82 , atmospheric pressure (in hPa unit) = 1011 , humidity (in percentage) = 88 , description = broken clouds\n",
      " Temperature (in kelvin unit) = 290.27 , atmospheric pressure (in hPa unit) = 1010 , humidity (in percentage) = 75 , description = overcast clouds\n",
      " Temperature (in kelvin unit) = 299.57 , atmospheric pressure (in hPa unit) = 1013 , humidity (in percentage) = 81 , description = light rain\n",
      " Temperature (in kelvin unit) = 298.17 , atmospheric pressure (in hPa unit) = 1011 , humidity (in percentage) = 94 , description = broken clouds\n",
      " Temperature (in kelvin unit) = 299.63 , atmospheric pressure (in hPa unit) = 1014 , humidity (in percentage) = 77 , description = scattered clouds\n",
      " Temperature (in kelvin unit) = 296.09 , atmospheric pressure (in hPa unit) = 1008 , humidity (in percentage) = 83 , description = mist\n",
      " Temperature (in kelvin unit) = 302.02 , atmospheric pressure (in hPa unit) = 1013 , humidity (in percentage) = 87 , description = thunderstorm\n",
      " Temperature (in kelvin unit) = 288.4 , atmospheric pressure (in hPa unit) = 1021 , humidity (in percentage) = 50 , description = clear sky\n",
      " Temperature (in kelvin unit) = 289.39 , atmospheric pressure (in hPa unit) = 1017 , humidity (in percentage) = 55 , description = clear sky\n",
      " Temperature (in kelvin unit) = 303.4 , atmospheric pressure (in hPa unit) = 1010 , humidity (in percentage) = 71 , description = few clouds\n",
      " Temperature (in kelvin unit) = 296.07 , atmospheric pressure (in hPa unit) = 1003 , humidity (in percentage) = 88 , description = overcast clouds\n",
      " Temperature (in kelvin unit) = 301.12 , atmospheric pressure (in hPa unit) = 1013 , humidity (in percentage) = 75 , description = scattered clouds\n",
      " Temperature (in kelvin unit) = 299.19 , atmospheric pressure (in hPa unit) = 1012 , humidity (in percentage) = 94 , description = thunderstorm with light rain\n",
      " Temperature (in kelvin unit) = 283.92 , atmospheric pressure (in hPa unit) = 1026 , humidity (in percentage) = 77 , description = broken clouds\n",
      " Temperature (in kelvin unit) = 286.12 , atmospheric pressure (in hPa unit) = 990 , humidity (in percentage) = 79 , description = overcast clouds\n",
      " Temperature (in kelvin unit) = 284.88 , atmospheric pressure (in hPa unit) = 1018 , humidity (in percentage) = 59 , description = few clouds\n",
      " Temperature (in kelvin unit) = 297.62 , atmospheric pressure (in hPa unit) = 1009 , humidity (in percentage) = 47 , description = clear sky\n",
      " Temperature (in kelvin unit) = 291.12 , atmospheric pressure (in hPa unit) = 1010 , humidity (in percentage) = 73 , description = overcast clouds\n",
      " Temperature (in kelvin unit) = 296.22 , atmospheric pressure (in hPa unit) = 1011 , humidity (in percentage) = 94 , description = few clouds\n",
      " Temperature (in kelvin unit) = 294.18 , atmospheric pressure (in hPa unit) = 1021 , humidity (in percentage) = 57 , description = broken clouds\n",
      " Temperature (in kelvin unit) = 287.61 , atmospheric pressure (in hPa unit) = 1010 , humidity (in percentage) = 62 , description = scattered clouds\n",
      " Temperature (in kelvin unit) = 296.22 , atmospheric pressure (in hPa unit) = 1013 , humidity (in percentage) = 95 , description = light rain\n",
      " Temperature (in kelvin unit) = 306.2 , atmospheric pressure (in hPa unit) = 1006 , humidity (in percentage) = 27 , description = haze\n",
      " Temperature (in kelvin unit) = 288.19 , atmospheric pressure (in hPa unit) = 1014 , humidity (in percentage) = 61 , description = overcast clouds\n",
      " Temperature (in kelvin unit) = 301.14 , atmospheric pressure (in hPa unit) = 1009 , humidity (in percentage) = 74 , description = haze\n",
      " Temperature (in kelvin unit) = 300.63 , atmospheric pressure (in hPa unit) = 1014 , humidity (in percentage) = 61 , description = overcast clouds\n",
      " Temperature (in kelvin unit) = 299.58 , atmospheric pressure (in hPa unit) = 1009 , humidity (in percentage) = 73 , description = light rain\n",
      " Temperature (in kelvin unit) = 288.36 , atmospheric pressure (in hPa unit) = 1016 , humidity (in percentage) = 94 , description = overcast clouds\n",
      " Temperature (in kelvin unit) = 302.12 , atmospheric pressure (in hPa unit) = 1006 , humidity (in percentage) = 65 , description = clear sky\n",
      " Temperature (in kelvin unit) = 304.1 , atmospheric pressure (in hPa unit) = 1009 , humidity (in percentage) = 61 , description = broken clouds\n",
      " Temperature (in kelvin unit) = 299.1 , atmospheric pressure (in hPa unit) = 1010 , humidity (in percentage) = 100 , description = drizzle\n",
      " Temperature (in kelvin unit) = 289.87 , atmospheric pressure (in hPa unit) = 1021 , humidity (in percentage) = 46 , description = clear sky\n",
      " Temperature (in kelvin unit) = 304.69 , atmospheric pressure (in hPa unit) = 1006 , humidity (in percentage) = 45 , description = clear sky\n",
      " Temperature (in kelvin unit) = 287.05 , atmospheric pressure (in hPa unit) = 1018 , humidity (in percentage) = 81 , description = clear sky\n",
      " Temperature (in kelvin unit) = 287.05 , atmospheric pressure (in hPa unit) = 1016 , humidity (in percentage) = 90 , description = clear sky\n",
      " Temperature (in kelvin unit) = 294.05 , atmospheric pressure (in hPa unit) = 1016 , humidity (in percentage) = 52 , description = overcast clouds\n",
      " Temperature (in kelvin unit) = 310.12 , atmospheric pressure (in hPa unit) = 1003 , humidity (in percentage) = 12 , description = few clouds\n",
      " Temperature (in kelvin unit) = 300.12 , atmospheric pressure (in hPa unit) = 1014 , humidity (in percentage) = 74 , description = few clouds\n",
      " Temperature (in kelvin unit) = 300.22 , atmospheric pressure (in hPa unit) = 1012 , humidity (in percentage) = 89 , description = broken clouds\n",
      " Temperature (in kelvin unit) = 299.6 , atmospheric pressure (in hPa unit) = 1012 , humidity (in percentage) = 82 , description = light rain\n",
      " Temperature (in kelvin unit) = 298.03 , atmospheric pressure (in hPa unit) = 1010 , humidity (in percentage) = 60 , description = broken clouds\n",
      " Temperature (in kelvin unit) = 305.15 , atmospheric pressure (in hPa unit) = 1009 , humidity (in percentage) = 79 , description = broken clouds\n",
      " Temperature (in kelvin unit) = 284.88 , atmospheric pressure (in hPa unit) = 1017 , humidity (in percentage) = 27 , description = clear sky\n",
      " Temperature (in kelvin unit) = 303.12 , atmospheric pressure (in hPa unit) = 1013 , humidity (in percentage) = 66 , description = few clouds\n",
      " Temperature (in kelvin unit) = 303.12 , atmospheric pressure (in hPa unit) = 1013 , humidity (in percentage) = 66 , description = few clouds\n",
      " Temperature (in kelvin unit) = 291.12 , atmospheric pressure (in hPa unit) = 1009 , humidity (in percentage) = 88 , description = scattered clouds\n",
      " Temperature (in kelvin unit) = 287.73 , atmospheric pressure (in hPa unit) = 1015 , humidity (in percentage) = 86 , description = overcast clouds\n",
      " Temperature (in kelvin unit) = 295.56 , atmospheric pressure (in hPa unit) = 1010 , humidity (in percentage) = 49 , description = broken clouds\n",
      " Temperature (in kelvin unit) = 294.02 , atmospheric pressure (in hPa unit) = 1025 , humidity (in percentage) = 49 , description = broken clouds\n",
      " Temperature (in kelvin unit) = 306.12 , atmospheric pressure (in hPa unit) = 1009 , humidity (in percentage) = 53 , description = scattered clouds\n",
      " Temperature (in kelvin unit) = 295.06 , atmospheric pressure (in hPa unit) = 1022 , humidity (in percentage) = 64 , description = few clouds\n",
      " Temperature (in kelvin unit) = 300.13 , atmospheric pressure (in hPa unit) = 1010 , humidity (in percentage) = 83 , description = moderate rain\n",
      " Temperature (in kelvin unit) = 301.18 , atmospheric pressure (in hPa unit) = 1004 , humidity (in percentage) = 15 , description = clear sky\n",
      " Temperature (in kelvin unit) = 299.96 , atmospheric pressure (in hPa unit) = 1019 , humidity (in percentage) = 77 , description = few clouds\n",
      " Temperature (in kelvin unit) = 296.08 , atmospheric pressure (in hPa unit) = 1011 , humidity (in percentage) = 60 , description = broken clouds\n",
      " Temperature (in kelvin unit) = 283.75 , atmospheric pressure (in hPa unit) = 1021 , humidity (in percentage) = 83 , description = clear sky\n",
      " Temperature (in kelvin unit) = 304.15 , atmospheric pressure (in hPa unit) = 1005 , humidity (in percentage) = 56 , description = scattered clouds\n",
      " Temperature (in kelvin unit) = 286.94 , atmospheric pressure (in hPa unit) = 1017 , humidity (in percentage) = 86 , description = few clouds\n",
      " Temperature (in kelvin unit) = 299.39 , atmospheric pressure (in hPa unit) = 1015 , humidity (in percentage) = 83 , description = few clouds\n",
      " Temperature (in kelvin unit) = 281.42 , atmospheric pressure (in hPa unit) = 1024 , humidity (in percentage) = 79 , description = clear sky\n",
      " Temperature (in kelvin unit) = 305.16 , atmospheric pressure (in hPa unit) = 1010 , humidity (in percentage) = 79 , description = broken clouds\n",
      " Temperature (in kelvin unit) = 303.52 , atmospheric pressure (in hPa unit) = 1010 , humidity (in percentage) = 86 , description = scattered clouds\n",
      " Temperature (in kelvin unit) = 302.98 , atmospheric pressure (in hPa unit) = 1010 , humidity (in percentage) = 72 , description = light rain\n",
      " Temperature (in kelvin unit) = 300.43 , atmospheric pressure (in hPa unit) = 1015 , humidity (in percentage) = 74 , description = scattered clouds\n",
      " Temperature (in kelvin unit) = 298.98 , atmospheric pressure (in hPa unit) = 1017 , humidity (in percentage) = 73 , description = broken clouds\n",
      " Temperature (in kelvin unit) = 302.38 , atmospheric pressure (in hPa unit) = 1013 , humidity (in percentage) = 54 , description = haze\n",
      " Temperature (in kelvin unit) = 302.38 , atmospheric pressure (in hPa unit) = 1013 , humidity (in percentage) = 54 , description = haze\n",
      " Temperature (in kelvin unit) = 297.15 , atmospheric pressure (in hPa unit) = 1010 , humidity (in percentage) = 96 , description = light rain\n",
      " Temperature (in kelvin unit) = 290.08 , atmospheric pressure (in hPa unit) = 1010 , humidity (in percentage) = 82 , description = broken clouds\n",
      " Temperature (in kelvin unit) = 290.95 , atmospheric pressure (in hPa unit) = 1010 , humidity (in percentage) = 31 , description = scattered clouds\n",
      " Temperature (in kelvin unit) = 307.15 , atmospheric pressure (in hPa unit) = 1006 , humidity (in percentage) = 16 , description = clear sky\n",
      " Temperature (in kelvin unit) = 287.74 , atmospheric pressure (in hPa unit) = 1010 , humidity (in percentage) = 88 , description = broken clouds\n",
      " Temperature (in kelvin unit) = 287.12 , atmospheric pressure (in hPa unit) = 1008 , humidity (in percentage) = 82 , description = clear sky\n",
      " Temperature (in kelvin unit) = 306.77 , atmospheric pressure (in hPa unit) = 1009 , humidity (in percentage) = 31 , description = haze\n",
      " Temperature (in kelvin unit) = 304.44 , atmospheric pressure (in hPa unit) = 1013 , humidity (in percentage) = 65 , description = haze\n",
      " Temperature (in kelvin unit) = 298.07 , atmospheric pressure (in hPa unit) = 1007 , humidity (in percentage) = 57 , description = clear sky\n",
      " Temperature (in kelvin unit) = 285.76 , atmospheric pressure (in hPa unit) = 1005 , humidity (in percentage) = 90 , description = few clouds\n",
      " Temperature (in kelvin unit) = 278.47 , atmospheric pressure (in hPa unit) = 1021 , humidity (in percentage) = 59 , description = clear sky\n",
      " Temperature (in kelvin unit) = 294.95 , atmospheric pressure (in hPa unit) = 1022 , humidity (in percentage) = 41 , description = dust\n",
      " Temperature (in kelvin unit) = 295.5 , atmospheric pressure (in hPa unit) = 1009 , humidity (in percentage) = 74 , description = clear sky\n",
      " Temperature (in kelvin unit) = 293.42 , atmospheric pressure (in hPa unit) = 1013 , humidity (in percentage) = 24 , description = broken clouds\n",
      " Temperature (in kelvin unit) = 297.2 , atmospheric pressure (in hPa unit) = 1010 , humidity (in percentage) = 77 , description = overcast clouds\n",
      " Temperature (in kelvin unit) = 291.35 , atmospheric pressure (in hPa unit) = 1012 , humidity (in percentage) = 91 , description = scattered clouds\n",
      " Temperature (in kelvin unit) = 301.09 , atmospheric pressure (in hPa unit) = 1012 , humidity (in percentage) = 78 , description = clear sky\n",
      " Temperature (in kelvin unit) = 311.62 , atmospheric pressure (in hPa unit) = 1005 , humidity (in percentage) = 10 , description = clear sky\n",
      " Temperature (in kelvin unit) = 303.59 , atmospheric pressure (in hPa unit) = 1011 , humidity (in percentage) = 69 , description = scattered clouds\n",
      " Temperature (in kelvin unit) = 302.05 , atmospheric pressure (in hPa unit) = 1008 , humidity (in percentage) = 70 , description = smoke\n",
      " Temperature (in kelvin unit) = 287.03 , atmospheric pressure (in hPa unit) = 1018 , humidity (in percentage) = 88 , description = overcast clouds\n",
      " Temperature (in kelvin unit) = 293.27 , atmospheric pressure (in hPa unit) = 1016 , humidity (in percentage) = 64 , description = few clouds\n",
      " Temperature (in kelvin unit) = 296.29 , atmospheric pressure (in hPa unit) = 1008 , humidity (in percentage) = 80 , description = broken clouds\n",
      " Temperature (in kelvin unit) = 284.9 , atmospheric pressure (in hPa unit) = 1020 , humidity (in percentage) = 74 , description = overcast clouds\n",
      " Temperature (in kelvin unit) = 301.49 , atmospheric pressure (in hPa unit) = 1009 , humidity (in percentage) = 15 , description = clear sky\n",
      " Temperature (in kelvin unit) = 305.23 , atmospheric pressure (in hPa unit) = 1009 , humidity (in percentage) = 65 , description = clear sky\n",
      " Temperature (in kelvin unit) = 291.86 , atmospheric pressure (in hPa unit) = 1020 , humidity (in percentage) = 77 , description = few clouds\n",
      " Temperature (in kelvin unit) = 304.36 , atmospheric pressure (in hPa unit) = 1013 , humidity (in percentage) = 27 , description = clear sky\n",
      " Temperature (in kelvin unit) = 299.23 , atmospheric pressure (in hPa unit) = 1012 , humidity (in percentage) = 92 , description = few clouds\n",
      " Temperature (in kelvin unit) = 299.96 , atmospheric pressure (in hPa unit) = 1012 , humidity (in percentage) = 81 , description = scattered clouds\n",
      " Temperature (in kelvin unit) = 296.33 , atmospheric pressure (in hPa unit) = 1012 , humidity (in percentage) = 94 , description = thunderstorm with light rain\n",
      " Temperature (in kelvin unit) = 296.51 , atmospheric pressure (in hPa unit) = 1009 , humidity (in percentage) = 80 , description = broken clouds\n",
      " Temperature (in kelvin unit) = 304.12 , atmospheric pressure (in hPa unit) = 1007 , humidity (in percentage) = 84 , description = haze\n",
      " Temperature (in kelvin unit) = 302.06 , atmospheric pressure (in hPa unit) = 1012 , humidity (in percentage) = 81 , description = overcast clouds\n",
      " Temperature (in kelvin unit) = 303.41 , atmospheric pressure (in hPa unit) = 1016 , humidity (in percentage) = 80 , description = scattered clouds\n",
      " Temperature (in kelvin unit) = 301.23 , atmospheric pressure (in hPa unit) = 1006 , humidity (in percentage) = 92 , description = few clouds\n",
      " Temperature (in kelvin unit) = 295.46 , atmospheric pressure (in hPa unit) = 1012 , humidity (in percentage) = 99 , description = overcast clouds\n",
      " Temperature (in kelvin unit) = 301.48 , atmospheric pressure (in hPa unit) = 1006 , humidity (in percentage) = 74 , description = clear sky\n",
      " Temperature (in kelvin unit) = 283.94 , atmospheric pressure (in hPa unit) = 1009 , humidity (in percentage) = 84 , description = clear sky\n",
      " Temperature (in kelvin unit) = 299.51 , atmospheric pressure (in hPa unit) = 1008 , humidity (in percentage) = 58 , description = scattered clouds\n",
      " Temperature (in kelvin unit) = 282.36 , atmospheric pressure (in hPa unit) = 1036 , humidity (in percentage) = 78 , description = broken clouds\n",
      " Temperature (in kelvin unit) = 299.33 , atmospheric pressure (in hPa unit) = 1010 , humidity (in percentage) = 93 , description = light rain\n",
      " Temperature (in kelvin unit) = 303.14 , atmospheric pressure (in hPa unit) = 1004 , humidity (in percentage) = 42 , description = haze\n",
      " Temperature (in kelvin unit) = 301.16 , atmospheric pressure (in hPa unit) = 1011 , humidity (in percentage) = 78 , description = light rain\n",
      " Temperature (in kelvin unit) = 289.55 , atmospheric pressure (in hPa unit) = 1016 , humidity (in percentage) = 84 , description = scattered clouds\n",
      " Temperature (in kelvin unit) = 294.76 , atmospheric pressure (in hPa unit) = 987 , humidity (in percentage) = 80 , description = overcast clouds\n",
      " Temperature (in kelvin unit) = 289.26 , atmospheric pressure (in hPa unit) = 1010 , humidity (in percentage) = 55 , description = clear sky\n",
      " Temperature (in kelvin unit) = 284.09 , atmospheric pressure (in hPa unit) = 1014 , humidity (in percentage) = 94 , description = scattered clouds\n",
      " Temperature (in kelvin unit) = 298.24 , atmospheric pressure (in hPa unit) = 1011 , humidity (in percentage) = 88 , description = thunderstorm\n",
      " Temperature (in kelvin unit) = 281.85 , atmospheric pressure (in hPa unit) = 1021 , humidity (in percentage) = 84 , description = clear sky\n",
      " Temperature (in kelvin unit) = 290.94 , atmospheric pressure (in hPa unit) = 1017 , humidity (in percentage) = 77 , description = overcast clouds\n",
      " Temperature (in kelvin unit) = 298.15 , atmospheric pressure (in hPa unit) = 1010 , humidity (in percentage) = 83 , description = broken clouds\n",
      " Temperature (in kelvin unit) = 287.54 , atmospheric pressure (in hPa unit) = 1016 , humidity (in percentage) = 83 , description = scattered clouds\n",
      " Temperature (in kelvin unit) = 285.29 , atmospheric pressure (in hPa unit) = 1020 , humidity (in percentage) = 82 , description = clear sky\n",
      " Temperature (in kelvin unit) = 283.48 , atmospheric pressure (in hPa unit) = 1016 , humidity (in percentage) = 98 , description = overcast clouds\n",
      " Temperature (in kelvin unit) = 302.01 , atmospheric pressure (in hPa unit) = 1009 , humidity (in percentage) = 89 , description = scattered clouds\n",
      " Temperature (in kelvin unit) = 284.61 , atmospheric pressure (in hPa unit) = 1012 , humidity (in percentage) = 57 , description = clear sky\n",
      " Temperature (in kelvin unit) = 303.13 , atmospheric pressure (in hPa unit) = 1009 , humidity (in percentage) = 79 , description = light rain\n",
      " Temperature (in kelvin unit) = 303.18 , atmospheric pressure (in hPa unit) = 1012 , humidity (in percentage) = 62 , description = few clouds\n",
      " Temperature (in kelvin unit) = 298.07 , atmospheric pressure (in hPa unit) = 1011 , humidity (in percentage) = 100 , description = light rain\n",
      " Temperature (in kelvin unit) = 303.12 , atmospheric pressure (in hPa unit) = 1011 , humidity (in percentage) = 79 , description = scattered clouds\n",
      " Temperature (in kelvin unit) = 298.94 , atmospheric pressure (in hPa unit) = 1013 , humidity (in percentage) = 89 , description = broken clouds\n",
      " Temperature (in kelvin unit) = 304.84 , atmospheric pressure (in hPa unit) = 1009 , humidity (in percentage) = 58 , description = scattered clouds\n",
      " Temperature (in kelvin unit) = 303.67 , atmospheric pressure (in hPa unit) = 1006 , humidity (in percentage) = 62 , description = clear sky\n",
      " Temperature (in kelvin unit) = 300.42 , atmospheric pressure (in hPa unit) = 1010 , humidity (in percentage) = 89 , description = moderate rain\n",
      " Temperature (in kelvin unit) = 304.23 , atmospheric pressure (in hPa unit) = 1011 , humidity (in percentage) = 73 , description = scattered clouds\n",
      " Temperature (in kelvin unit) = 291.61 , atmospheric pressure (in hPa unit) = 1016 , humidity (in percentage) = 87 , description = clear sky\n",
      " Temperature (in kelvin unit) = 300.48 , atmospheric pressure (in hPa unit) = 1009 , humidity (in percentage) = 84 , description = overcast clouds\n",
      " Temperature (in kelvin unit) = 298.05 , atmospheric pressure (in hPa unit) = 1012 , humidity (in percentage) = 78 , description = scattered clouds\n",
      " Temperature (in kelvin unit) = 275.07 , atmospheric pressure (in hPa unit) = 1030 , humidity (in percentage) = 100 , description = clear sky\n",
      " Temperature (in kelvin unit) = 300.05 , atmospheric pressure (in hPa unit) = 1015 , humidity (in percentage) = 83 , description = few clouds\n",
      " Temperature (in kelvin unit) = 277.2 , atmospheric pressure (in hPa unit) = 1019 , humidity (in percentage) = 50 , description = clear sky\n",
      " Temperature (in kelvin unit) = 293.23 , atmospheric pressure (in hPa unit) = 1016 , humidity (in percentage) = 52 , description = clear sky\n",
      " Temperature (in kelvin unit) = 279.38 , atmospheric pressure (in hPa unit) = 1018 , humidity (in percentage) = 52 , description = clear sky\n",
      " Temperature (in kelvin unit) = 299.87 , atmospheric pressure (in hPa unit) = 1009 , humidity (in percentage) = 41 , description = clear sky\n",
      " Temperature (in kelvin unit) = 299.83 , atmospheric pressure (in hPa unit) = 1012 , humidity (in percentage) = 83 , description = broken clouds\n",
      " Temperature (in kelvin unit) = 293.33 , atmospheric pressure (in hPa unit) = 1026 , humidity (in percentage) = 99 , description = broken clouds\n",
      " Temperature (in kelvin unit) = 298.39 , atmospheric pressure (in hPa unit) = 1011 , humidity (in percentage) = 22 , description = clear sky\n",
      " Temperature (in kelvin unit) = 298.92 , atmospheric pressure (in hPa unit) = 1015 , humidity (in percentage) = 83 , description = broken clouds\n",
      " Temperature (in kelvin unit) = 289.94 , atmospheric pressure (in hPa unit) = 1020 , humidity (in percentage) = 77 , description = moderate rain\n",
      " Temperature (in kelvin unit) = 299.84 , atmospheric pressure (in hPa unit) = 1015 , humidity (in percentage) = 80 , description = clear sky\n",
      " Temperature (in kelvin unit) = 277.01 , atmospheric pressure (in hPa unit) = 1028 , humidity (in percentage) = 76 , description = overcast clouds\n",
      " Temperature (in kelvin unit) = 299.79 , atmospheric pressure (in hPa unit) = 1012 , humidity (in percentage) = 83 , description = overcast clouds\n",
      " Temperature (in kelvin unit) = 288.39 , atmospheric pressure (in hPa unit) = 1011 , humidity (in percentage) = 94 , description = moderate rain\n",
      " Temperature (in kelvin unit) = 298.02 , atmospheric pressure (in hPa unit) = 1011 , humidity (in percentage) = 85 , description = light rain\n",
      " Temperature (in kelvin unit) = 287.88 , atmospheric pressure (in hPa unit) = 1019 , humidity (in percentage) = 77 , description = overcast clouds\n",
      " Temperature (in kelvin unit) = 287.84 , atmospheric pressure (in hPa unit) = 1008 , humidity (in percentage) = 90 , description = moderate rain\n",
      " Temperature (in kelvin unit) = 299.23 , atmospheric pressure (in hPa unit) = 1015 , humidity (in percentage) = 75 , description = broken clouds\n",
      " Temperature (in kelvin unit) = 283.17 , atmospheric pressure (in hPa unit) = 1023 , humidity (in percentage) = 89 , description = overcast clouds\n",
      " Temperature (in kelvin unit) = 292.41 , atmospheric pressure (in hPa unit) = 1008 , humidity (in percentage) = 73 , description = moderate rain\n",
      " Temperature (in kelvin unit) = 302.09 , atmospheric pressure (in hPa unit) = 1002 , humidity (in percentage) = 54 , description = smoke\n",
      " Temperature (in kelvin unit) = 303.14 , atmospheric pressure (in hPa unit) = 1011 , humidity (in percentage) = 70 , description = haze\n",
      " Temperature (in kelvin unit) = 308.16 , atmospheric pressure (in hPa unit) = 1007 , humidity (in percentage) = 43 , description = broken clouds\n",
      " Temperature (in kelvin unit) = 305.01 , atmospheric pressure (in hPa unit) = 1006 , humidity (in percentage) = 45 , description = broken clouds\n",
      " Temperature (in kelvin unit) = 300.91 , atmospheric pressure (in hPa unit) = 1007 , humidity (in percentage) = 52 , description = scattered clouds\n",
      " Temperature (in kelvin unit) = 288.77 , atmospheric pressure (in hPa unit) = 1021 , humidity (in percentage) = 88 , description = clear sky\n",
      " Temperature (in kelvin unit) = 293.79 , atmospheric pressure (in hPa unit) = 1007 , humidity (in percentage) = 71 , description = overcast clouds\n",
      " Temperature (in kelvin unit) = 297.1 , atmospheric pressure (in hPa unit) = 1009 , humidity (in percentage) = 64 , description = overcast clouds\n",
      " Temperature (in kelvin unit) = 290.03 , atmospheric pressure (in hPa unit) = 1011 , humidity (in percentage) = 91 , description = fog\n",
      " Temperature (in kelvin unit) = 306.18 , atmospheric pressure (in hPa unit) = 1010 , humidity (in percentage) = 51 , description = clear sky\n",
      " Temperature (in kelvin unit) = 291.11 , atmospheric pressure (in hPa unit) = 1011 , humidity (in percentage) = 94 , description = mist\n",
      " Temperature (in kelvin unit) = 307.31 , atmospheric pressure (in hPa unit) = 1007 , humidity (in percentage) = 46 , description = clear sky\n",
      " Temperature (in kelvin unit) = 288.98 , atmospheric pressure (in hPa unit) = 1008 , humidity (in percentage) = 88 , description = scattered clouds\n",
      " Temperature (in kelvin unit) = 295.11 , atmospheric pressure (in hPa unit) = 1011 , humidity (in percentage) = 72 , description = scattered clouds\n",
      " Temperature (in kelvin unit) = 298.71 , atmospheric pressure (in hPa unit) = 1017 , humidity (in percentage) = 99 , description = overcast clouds\n",
      " Temperature (in kelvin unit) = 287.76 , atmospheric pressure (in hPa unit) = 1019 , humidity (in percentage) = 33 , description = clear sky\n",
      " Temperature (in kelvin unit) = 299.34 , atmospheric pressure (in hPa unit) = 1014 , humidity (in percentage) = 83 , description = broken clouds\n",
      " Temperature (in kelvin unit) = 290.12 , atmospheric pressure (in hPa unit) = 1019 , humidity (in percentage) = 31 , description = clear sky\n",
      " Temperature (in kelvin unit) = 272.49 , atmospheric pressure (in hPa unit) = 1003 , humidity (in percentage) = 80 , description = scattered clouds\n",
      " Temperature (in kelvin unit) = 300.88 , atmospheric pressure (in hPa unit) = 1010 , humidity (in percentage) = 88 , description = scattered clouds\n",
      " Temperature (in kelvin unit) = 298.61 , atmospheric pressure (in hPa unit) = 1009 , humidity (in percentage) = 50 , description = broken clouds\n",
      " Temperature (in kelvin unit) = 279.07 , atmospheric pressure (in hPa unit) = 1026 , humidity (in percentage) = 63 , description = clear sky\n",
      " Temperature (in kelvin unit) = 287.34 , atmospheric pressure (in hPa unit) = 1015 , humidity (in percentage) = 94 , description = mist\n",
      " Temperature (in kelvin unit) = 305.22 , atmospheric pressure (in hPa unit) = 1010 , humidity (in percentage) = 62 , description = clear sky\n",
      " Temperature (in kelvin unit) = 301.25 , atmospheric pressure (in hPa unit) = 1011 , humidity (in percentage) = 79 , description = broken clouds\n",
      " Temperature (in kelvin unit) = 303.2 , atmospheric pressure (in hPa unit) = 1013 , humidity (in percentage) = 74 , description = few clouds\n",
      " Temperature (in kelvin unit) = 288.7 , atmospheric pressure (in hPa unit) = 1018 , humidity (in percentage) = 79 , description = scattered clouds\n",
      " Temperature (in kelvin unit) = 299.23 , atmospheric pressure (in hPa unit) = 1012 , humidity (in percentage) = 94 , description = overcast clouds\n",
      " Temperature (in kelvin unit) = 303.11 , atmospheric pressure (in hPa unit) = 1010 , humidity (in percentage) = 70 , description = scattered clouds\n",
      " Temperature (in kelvin unit) = 299.77 , atmospheric pressure (in hPa unit) = 1011 , humidity (in percentage) = 90 , description = overcast clouds\n",
      " Temperature (in kelvin unit) = 286.4 , atmospheric pressure (in hPa unit) = 1016 , humidity (in percentage) = 82 , description = clear sky\n",
      " Temperature (in kelvin unit) = 290.29 , atmospheric pressure (in hPa unit) = 1030 , humidity (in percentage) = 55 , description = overcast clouds\n",
      " Temperature (in kelvin unit) = 291.94 , atmospheric pressure (in hPa unit) = 1012 , humidity (in percentage) = 93 , description = broken clouds\n",
      " Temperature (in kelvin unit) = 304.1 , atmospheric pressure (in hPa unit) = 1009 , humidity (in percentage) = 79 , description = scattered clouds\n",
      " Temperature (in kelvin unit) = 305.64 , atmospheric pressure (in hPa unit) = 1010 , humidity (in percentage) = 21 , description = few clouds\n",
      " Temperature (in kelvin unit) = 289.03 , atmospheric pressure (in hPa unit) = 1009 , humidity (in percentage) = 88 , description = clear sky\n",
      " Temperature (in kelvin unit) = 295.05 , atmospheric pressure (in hPa unit) = 1016 , humidity (in percentage) = 84 , description = clear sky\n",
      " Temperature (in kelvin unit) = 301.83 , atmospheric pressure (in hPa unit) = 1013 , humidity (in percentage) = 70 , description = haze\n",
      " Temperature (in kelvin unit) = 300.87 , atmospheric pressure (in hPa unit) = 1014 , humidity (in percentage) = 77 , description = overcast clouds\n",
      " Temperature (in kelvin unit) = 297.93 , atmospheric pressure (in hPa unit) = 1013 , humidity (in percentage) = 88 , description = light rain\n",
      " Temperature (in kelvin unit) = 298.16 , atmospheric pressure (in hPa unit) = 1014 , humidity (in percentage) = 84 , description = broken clouds\n",
      " Temperature (in kelvin unit) = 291.47 , atmospheric pressure (in hPa unit) = 1018 , humidity (in percentage) = 94 , description = mist\n",
      " Temperature (in kelvin unit) = 299.05 , atmospheric pressure (in hPa unit) = 1010 , humidity (in percentage) = 91 , description = moderate rain\n",
      " Temperature (in kelvin unit) = 286.09 , atmospheric pressure (in hPa unit) = 1015 , humidity (in percentage) = 91 , description = clear sky\n",
      " Temperature (in kelvin unit) = 295.45 , atmospheric pressure (in hPa unit) = 1014 , humidity (in percentage) = 78 , description = few clouds\n",
      " Temperature (in kelvin unit) = 279.72 , atmospheric pressure (in hPa unit) = 1018 , humidity (in percentage) = 29 , description = clear sky\n",
      " Temperature (in kelvin unit) = 284.92 , atmospheric pressure (in hPa unit) = 1011 , humidity (in percentage) = 81 , description = broken clouds\n",
      " Temperature (in kelvin unit) = 295.85 , atmospheric pressure (in hPa unit) = 1015 , humidity (in percentage) = 46 , description = overcast clouds\n",
      " Temperature (in kelvin unit) = 302.02 , atmospheric pressure (in hPa unit) = 1012 , humidity (in percentage) = 44 , description = clear sky\n",
      " Temperature (in kelvin unit) = 295.65 , atmospheric pressure (in hPa unit) = 1008 , humidity (in percentage) = 29 , description = broken clouds\n",
      " Temperature (in kelvin unit) = 304.09 , atmospheric pressure (in hPa unit) = 1011 , humidity (in percentage) = 73 , description = scattered clouds\n",
      " Temperature (in kelvin unit) = 283.68 , atmospheric pressure (in hPa unit) = 1019 , humidity (in percentage) = 94 , description = overcast clouds\n",
      " Temperature (in kelvin unit) = 290.75 , atmospheric pressure (in hPa unit) = 1009 , humidity (in percentage) = 84 , description = light rain\n",
      " Temperature (in kelvin unit) = 306.44 , atmospheric pressure (in hPa unit) = 1005 , humidity (in percentage) = 17 , description = clear sky\n",
      " Temperature (in kelvin unit) = 296.17 , atmospheric pressure (in hPa unit) = 1013 , humidity (in percentage) = 94 , description = broken clouds\n",
      " Temperature (in kelvin unit) = 278.96 , atmospheric pressure (in hPa unit) = 1001 , humidity (in percentage) = 87 , description = broken clouds\n",
      " Temperature (in kelvin unit) = 282.61 , atmospheric pressure (in hPa unit) = 1027 , humidity (in percentage) = 74 , description = clear sky\n",
      " Temperature (in kelvin unit) = 294.13 , atmospheric pressure (in hPa unit) = 1018 , humidity (in percentage) = 83 , description = clear sky\n",
      " Temperature (in kelvin unit) = 300.23 , atmospheric pressure (in hPa unit) = 1007 , humidity (in percentage) = 32 , description = overcast clouds\n",
      " Temperature (in kelvin unit) = 300.51 , atmospheric pressure (in hPa unit) = 1014 , humidity (in percentage) = 77 , description = scattered clouds\n",
      " Temperature (in kelvin unit) = 292.97 , atmospheric pressure (in hPa unit) = 1016 , humidity (in percentage) = 95 , description = mist\n",
      " Temperature (in kelvin unit) = 300.03 , atmospheric pressure (in hPa unit) = 1013 , humidity (in percentage) = 76 , description = scattered clouds\n",
      " Temperature (in kelvin unit) = 299.97 , atmospheric pressure (in hPa unit) = 1012 , humidity (in percentage) = 89 , description = broken clouds\n",
      " Temperature (in kelvin unit) = 285.92 , atmospheric pressure (in hPa unit) = 1019 , humidity (in percentage) = 60 , description = clear sky\n",
      " Temperature (in kelvin unit) = 281.78 , atmospheric pressure (in hPa unit) = 1027 , humidity (in percentage) = 91 , description = broken clouds\n",
      " Temperature (in kelvin unit) = 284.78 , atmospheric pressure (in hPa unit) = 1021 , humidity (in percentage) = 71 , description = clear sky\n",
      " Temperature (in kelvin unit) = 280.23 , atmospheric pressure (in hPa unit) = 1030 , humidity (in percentage) = 100 , description = fog\n",
      " Temperature (in kelvin unit) = 286.43 , atmospheric pressure (in hPa unit) = 1016 , humidity (in percentage) = 82 , description = clear sky\n",
      " Temperature (in kelvin unit) = 294.95 , atmospheric pressure (in hPa unit) = 1014 , humidity (in percentage) = 73 , description = clear sky\n",
      " Temperature (in kelvin unit) = 303.51 , atmospheric pressure (in hPa unit) = 1011 , humidity (in percentage) = 100 , description = broken clouds\n",
      " Temperature (in kelvin unit) = 299.37 , atmospheric pressure (in hPa unit) = 1012 , humidity (in percentage) = 79 , description = scattered clouds\n",
      " Temperature (in kelvin unit) = 296.67 , atmospheric pressure (in hPa unit) = 1019 , humidity (in percentage) = 76 , description = overcast clouds\n",
      " Temperature (in kelvin unit) = 290.12 , atmospheric pressure (in hPa unit) = 1017 , humidity (in percentage) = 83 , description = overcast clouds\n",
      " Temperature (in kelvin unit) = 286.07 , atmospheric pressure (in hPa unit) = 1018 , humidity (in percentage) = 87 , description = broken clouds\n",
      " Temperature (in kelvin unit) = 290.43 , atmospheric pressure (in hPa unit) = 1018 , humidity (in percentage) = 71 , description = few clouds\n",
      " Temperature (in kelvin unit) = 286.69 , atmospheric pressure (in hPa unit) = 1010 , humidity (in percentage) = 56 , description = clear sky\n",
      " Temperature (in kelvin unit) = 286.69 , atmospheric pressure (in hPa unit) = 1011 , humidity (in percentage) = 90 , description = broken clouds\n",
      " Temperature (in kelvin unit) = 299.28 , atmospheric pressure (in hPa unit) = 1013 , humidity (in percentage) = 85 , description = broken clouds\n",
      " Temperature (in kelvin unit) = 290.27 , atmospheric pressure (in hPa unit) = 1016 , humidity (in percentage) = 57 , description = scattered clouds\n",
      " Temperature (in kelvin unit) = 295.85 , atmospheric pressure (in hPa unit) = 1011 , humidity (in percentage) = 94 , description = broken clouds\n",
      " Temperature (in kelvin unit) = 285.36 , atmospheric pressure (in hPa unit) = 1016 , humidity (in percentage) = 59 , description = clear sky\n",
      " Temperature (in kelvin unit) = 296.25 , atmospheric pressure (in hPa unit) = 1014 , humidity (in percentage) = 95 , description = overcast clouds\n",
      " Temperature (in kelvin unit) = 287.83 , atmospheric pressure (in hPa unit) = 1021 , humidity (in percentage) = 91 , description = clear sky\n",
      " Temperature (in kelvin unit) = 299.19 , atmospheric pressure (in hPa unit) = 1011 , humidity (in percentage) = 81 , description = overcast clouds\n",
      " Temperature (in kelvin unit) = 285.32 , atmospheric pressure (in hPa unit) = 1005 , humidity (in percentage) = 49 , description = light intensity shower rain\n",
      " Temperature (in kelvin unit) = 283.1 , atmospheric pressure (in hPa unit) = 1014 , humidity (in percentage) = 93 , description = clear sky\n",
      " Temperature (in kelvin unit) = 295.08 , atmospheric pressure (in hPa unit) = 1017 , humidity (in percentage) = 49 , description = few clouds\n",
      " Temperature (in kelvin unit) = 303.11 , atmospheric pressure (in hPa unit) = 1013 , humidity (in percentage) = 62 , description = few clouds\n",
      " Temperature (in kelvin unit) = 293.17 , atmospheric pressure (in hPa unit) = 1010 , humidity (in percentage) = 66 , description = broken clouds\n",
      " Temperature (in kelvin unit) = 296.71 , atmospheric pressure (in hPa unit) = 1009 , humidity (in percentage) = 80 , description = broken clouds\n",
      " Temperature (in kelvin unit) = 303.31 , atmospheric pressure (in hPa unit) = 1007 , humidity (in percentage) = 48 , description = clear sky\n",
      " Temperature (in kelvin unit) = 305.28 , atmospheric pressure (in hPa unit) = 997 , humidity (in percentage) = 93 , description = broken clouds\n",
      " Temperature (in kelvin unit) = 300.01 , atmospheric pressure (in hPa unit) = 1013 , humidity (in percentage) = 85 , description = light rain\n",
      " Temperature (in kelvin unit) = 283.97 , atmospheric pressure (in hPa unit) = 1013 , humidity (in percentage) = 100 , description = scattered clouds\n",
      " Temperature (in kelvin unit) = 283.91 , atmospheric pressure (in hPa unit) = 1017 , humidity (in percentage) = 95 , description = broken clouds\n",
      " City Not Found \n",
      " Temperature (in kelvin unit) = 278.24 , atmospheric pressure (in hPa unit) = 1021 , humidity (in percentage) = 75 , description = clear sky\n",
      " Temperature (in kelvin unit) = 279.03 , atmospheric pressure (in hPa unit) = 1029 , humidity (in percentage) = 88 , description = few clouds\n",
      " Temperature (in kelvin unit) = 285.32 , atmospheric pressure (in hPa unit) = 1014 , humidity (in percentage) = 81 , description = broken clouds\n",
      " Temperature (in kelvin unit) = 303.12 , atmospheric pressure (in hPa unit) = 1013 , humidity (in percentage) = 70 , description = few clouds\n",
      " Temperature (in kelvin unit) = 303.14 , atmospheric pressure (in hPa unit) = 1010 , humidity (in percentage) = 79 , description = few clouds\n",
      " Temperature (in kelvin unit) = 298.86 , atmospheric pressure (in hPa unit) = 1014 , humidity (in percentage) = 89 , description = broken clouds\n",
      " Temperature (in kelvin unit) = 292.01 , atmospheric pressure (in hPa unit) = 1012 , humidity (in percentage) = 46 , description = clear sky\n",
      " Temperature (in kelvin unit) = 284.85 , atmospheric pressure (in hPa unit) = 1016 , humidity (in percentage) = 87 , description = overcast clouds\n",
      " Temperature (in kelvin unit) = 301.97 , atmospheric pressure (in hPa unit) = 1010 , humidity (in percentage) = 58 , description = broken clouds\n",
      " Temperature (in kelvin unit) = 277.34 , atmospheric pressure (in hPa unit) = 1030 , humidity (in percentage) = 87 , description = clear sky\n",
      " Temperature (in kelvin unit) = 303.73 , atmospheric pressure (in hPa unit) = 1017 , humidity (in percentage) = 66 , description = few clouds\n",
      " Temperature (in kelvin unit) = 305.2 , atmospheric pressure (in hPa unit) = 1009 , humidity (in percentage) = 70 , description = scattered clouds\n",
      " Temperature (in kelvin unit) = 294.12 , atmospheric pressure (in hPa unit) = 1015 , humidity (in percentage) = 46 , description = clear sky\n",
      " Temperature (in kelvin unit) = 288.99 , atmospheric pressure (in hPa unit) = 1013 , humidity (in percentage) = 82 , description = overcast clouds\n",
      " Temperature (in kelvin unit) = 298.57 , atmospheric pressure (in hPa unit) = 1018 , humidity (in percentage) = 65 , description = scattered clouds\n",
      " Temperature (in kelvin unit) = 292.14 , atmospheric pressure (in hPa unit) = 1015 , humidity (in percentage) = 45 , description = broken clouds\n",
      " Temperature (in kelvin unit) = 290.09 , atmospheric pressure (in hPa unit) = 1010 , humidity (in percentage) = 79 , description = few clouds\n",
      " Temperature (in kelvin unit) = 289.41 , atmospheric pressure (in hPa unit) = 1015 , humidity (in percentage) = 64 , description = broken clouds\n",
      " Temperature (in kelvin unit) = 295.12 , atmospheric pressure (in hPa unit) = 1014 , humidity (in percentage) = 33 , description = clear sky\n",
      " Temperature (in kelvin unit) = 290.18 , atmospheric pressure (in hPa unit) = 1018 , humidity (in percentage) = 83 , description = overcast clouds\n",
      " Temperature (in kelvin unit) = 286.64 , atmospheric pressure (in hPa unit) = 1008 , humidity (in percentage) = 100 , description = overcast clouds\n",
      " Temperature (in kelvin unit) = 297.14 , atmospheric pressure (in hPa unit) = 1007 , humidity (in percentage) = 68 , description = scattered clouds\n",
      " Temperature (in kelvin unit) = 284.36 , atmospheric pressure (in hPa unit) = 1013 , humidity (in percentage) = 79 , description = overcast clouds\n",
      " Temperature (in kelvin unit) = 281.81 , atmospheric pressure (in hPa unit) = 1021 , humidity (in percentage) = 80 , description = clear sky\n",
      " Temperature (in kelvin unit) = 292.43 , atmospheric pressure (in hPa unit) = 1008 , humidity (in percentage) = 76 , description = clear sky\n",
      " Temperature (in kelvin unit) = 292.04 , atmospheric pressure (in hPa unit) = 1008 , humidity (in percentage) = 52 , description = few clouds\n",
      " Temperature (in kelvin unit) = 277.22 , atmospheric pressure (in hPa unit) = 1026 , humidity (in percentage) = 75 , description = broken clouds\n",
      " Temperature (in kelvin unit) = 286 , atmospheric pressure (in hPa unit) = 1010 , humidity (in percentage) = 92 , description = overcast clouds\n",
      " Temperature (in kelvin unit) = 285.13 , atmospheric pressure (in hPa unit) = 1012 , humidity (in percentage) = 75 , description = overcast clouds\n",
      " Temperature (in kelvin unit) = 290.45 , atmospheric pressure (in hPa unit) = 1003 , humidity (in percentage) = 94 , description = few clouds\n",
      " Temperature (in kelvin unit) = 293.77 , atmospheric pressure (in hPa unit) = 1017 , humidity (in percentage) = 61 , description = few clouds\n",
      " Temperature (in kelvin unit) = 303.12 , atmospheric pressure (in hPa unit) = 1009 , humidity (in percentage) = 89 , description = scattered clouds\n",
      " Temperature (in kelvin unit) = 286.32 , atmospheric pressure (in hPa unit) = 1018 , humidity (in percentage) = 90 , description = clear sky\n",
      " Temperature (in kelvin unit) = 306.16 , atmospheric pressure (in hPa unit) = 1008 , humidity (in percentage) = 64 , description = clear sky\n",
      " Temperature (in kelvin unit) = 283.24 , atmospheric pressure (in hPa unit) = 1027 , humidity (in percentage) = 81 , description = clear sky\n",
      " Temperature (in kelvin unit) = 285.87 , atmospheric pressure (in hPa unit) = 1022 , humidity (in percentage) = 75 , description = clear sky\n",
      " Temperature (in kelvin unit) = 300.85 , atmospheric pressure (in hPa unit) = 1016 , humidity (in percentage) = 79 , description = overcast clouds\n",
      " Temperature (in kelvin unit) = 286.26 , atmospheric pressure (in hPa unit) = 998 , humidity (in percentage) = 81 , description = broken clouds\n",
      " Temperature (in kelvin unit) = 300.1 , atmospheric pressure (in hPa unit) = 1011 , humidity (in percentage) = 89 , description = few clouds\n",
      " Temperature (in kelvin unit) = 285.99 , atmospheric pressure (in hPa unit) = 1013 , humidity (in percentage) = 33 , description = clear sky\n",
      " Temperature (in kelvin unit) = 299.2 , atmospheric pressure (in hPa unit) = 1007 , humidity (in percentage) = 64 , description = scattered clouds\n",
      " Temperature (in kelvin unit) = 286.6 , atmospheric pressure (in hPa unit) = 1025 , humidity (in percentage) = 81 , description = moderate rain\n",
      " Temperature (in kelvin unit) = 298.07 , atmospheric pressure (in hPa unit) = 1012 , humidity (in percentage) = 94 , description = broken clouds\n",
      " Temperature (in kelvin unit) = 301.13 , atmospheric pressure (in hPa unit) = 1009 , humidity (in percentage) = 83 , description = scattered clouds\n",
      " Temperature (in kelvin unit) = 295.89 , atmospheric pressure (in hPa unit) = 1016 , humidity (in percentage) = 100 , description = broken clouds\n",
      " Temperature (in kelvin unit) = 278.92 , atmospheric pressure (in hPa unit) = 1027 , humidity (in percentage) = 75 , description = few clouds\n",
      " Temperature (in kelvin unit) = 285.24 , atmospheric pressure (in hPa unit) = 1011 , humidity (in percentage) = 71 , description = few clouds\n",
      " Temperature (in kelvin unit) = 296.09 , atmospheric pressure (in hPa unit) = 1008 , humidity (in percentage) = 80 , description = broken clouds\n",
      " Temperature (in kelvin unit) = 284.99 , atmospheric pressure (in hPa unit) = 1014 , humidity (in percentage) = 94 , description = clear sky\n"
     ]
    }
   ],
   "source": [
    "#  API key \n",
    "api_key = \"4b57e0c4e8a1908***\"\n",
    " \n",
    "# base_url - tomar en cuenta el url que se necesita para dicho propósito\n",
    "base_url = \"http://api.openweathermap.org/data/2.5/weather?\"\n",
    " \n",
    "# Obtener las 4 características de cada país en la lista de los paises\n",
    "lst_data = []\n",
    "for city in cities.name.to_list():\n",
    "\n",
    "    # url address completo\n",
    "    complete_url = base_url + \"appid=\" + api_key + \"&q=\" + city\n",
    "\n",
    "    # se obtiene el metodo del modulo de peticiones / requests get \n",
    "    # retorna el objeto de respuesta  \n",
    "    response = requests.get(complete_url)\n",
    "\n",
    "    # método json de objeto de respuesta\n",
    "    # convertir datos de formato json en\n",
    "    # datos en formato python\n",
    "    x = response.json()\n",
    "\n",
    "    # Ahora x contiene una lista de diccionarios anidados\n",
    "    # Si el valor de la tecla \"cod\" es igual a\n",
    "    # \"404\", significa que la ciudad se encuentra, de otra manera la\n",
    "    # ciudad no se encuentra\n",
    "    if x[\"cod\"] != \"404\":\n",
    "\n",
    "        # almacenar el valor de \"principal\"\n",
    "        # tecla en variable y\n",
    "        y = x[\"main\"]\n",
    "\n",
    "        # almacenar el valor correspondiente\n",
    "        # a la variable \"temp\" de y\n",
    "        current_temperature = y[\"temp\"]\n",
    "\n",
    "        # almacenar el valor correspondiente\n",
    "        # a la variable \"presión\" de y\n",
    "        current_pressure = y[\"pressure\"]\n",
    "\n",
    "        # almacenar el valor correspondiente\n",
    "        # a la variable \"humedad\" de y\n",
    "        current_humidity = y[\"humidity\"]\n",
    "\n",
    "        # almacenar el valor correspondiente\n",
    "        # a la variable \"clima\" de y\n",
    "        z = x[\"weather\"]\n",
    "\n",
    "        # almacenar el valor correspondiente\n",
    "        # a la variable \"descripción del clima\" de y\n",
    "        weather_description = z[0][\"description\"]\n",
    "\n",
    "        # se imprimen los valores y se guardan en una lista\n",
    "        print(\" Temperatura (en unidades Kelvin) = \" +\n",
    "                        str(current_temperature) +\n",
    "              \" , presión atmosferica (en unidaes hPa) = \" +\n",
    "                        str(current_pressure) +\n",
    "              \" , humedad (en porcentaje) = \" +\n",
    "                        str(current_humidity) +\n",
    "              \" , descripción = \" +\n",
    "                        str(weather_description))\n",
    "        lst_data.append([city,current_temperature,current_pressure,current_humidity,weather_description])\n",
    "\n",
    "    else:\n",
    "        print(\" No se encontro la ciudad \")"
   ]
  },
  {
   "cell_type": "markdown",
   "id": "6088ef65",
   "metadata": {},
   "source": [
    "## Creación del conjunto de datos en objeto de dataframe"
   ]
  },
  {
   "cell_type": "markdown",
   "id": "4f6e694b",
   "metadata": {},
   "source": [
    "Se creo el dataframe que contiene la información de 370 ciudades, con la temperatura en unidades Kelvin, la presión en hPa y humedad en %, es posible consultarlo aquí  https://openweathermap.org/weather-data ."
   ]
  },
  {
   "cell_type": "code",
   "execution_count": 39,
   "id": "229557be",
   "metadata": {},
   "outputs": [
    {
     "data": {
      "text/html": [
       "<div>\n",
       "<style scoped>\n",
       "    .dataframe tbody tr th:only-of-type {\n",
       "        vertical-align: middle;\n",
       "    }\n",
       "\n",
       "    .dataframe tbody tr th {\n",
       "        vertical-align: top;\n",
       "    }\n",
       "\n",
       "    .dataframe thead th {\n",
       "        text-align: right;\n",
       "    }\n",
       "</style>\n",
       "<table border=\"1\" class=\"dataframe\">\n",
       "  <thead>\n",
       "    <tr style=\"text-align: right;\">\n",
       "      <th></th>\n",
       "      <th>city</th>\n",
       "      <th>cur_temp</th>\n",
       "      <th>curr_press</th>\n",
       "      <th>curr_hum</th>\n",
       "      <th>description</th>\n",
       "    </tr>\n",
       "  </thead>\n",
       "  <tbody>\n",
       "    <tr>\n",
       "      <th>0</th>\n",
       "      <td>Abidjan</td>\n",
       "      <td>299.13</td>\n",
       "      <td>1011</td>\n",
       "      <td>94</td>\n",
       "      <td>scattered clouds</td>\n",
       "    </tr>\n",
       "    <tr>\n",
       "      <th>1</th>\n",
       "      <td>Abu Dhabi</td>\n",
       "      <td>303.21</td>\n",
       "      <td>1008</td>\n",
       "      <td>53</td>\n",
       "      <td>clear sky</td>\n",
       "    </tr>\n",
       "    <tr>\n",
       "      <th>2</th>\n",
       "      <td>Abuja</td>\n",
       "      <td>299.23</td>\n",
       "      <td>1011</td>\n",
       "      <td>90</td>\n",
       "      <td>overcast clouds</td>\n",
       "    </tr>\n",
       "    <tr>\n",
       "      <th>3</th>\n",
       "      <td>Accra</td>\n",
       "      <td>297.38</td>\n",
       "      <td>1012</td>\n",
       "      <td>100</td>\n",
       "      <td>thunderstorm with light rain</td>\n",
       "    </tr>\n",
       "    <tr>\n",
       "      <th>4</th>\n",
       "      <td>Addis Ababa</td>\n",
       "      <td>286.64</td>\n",
       "      <td>1026</td>\n",
       "      <td>100</td>\n",
       "      <td>light rain</td>\n",
       "    </tr>\n",
       "  </tbody>\n",
       "</table>\n",
       "</div>"
      ],
      "text/plain": [
       "          city  cur_temp  curr_press  curr_hum                   description\n",
       "0      Abidjan    299.13        1011        94              scattered clouds\n",
       "1    Abu Dhabi    303.21        1008        53                     clear sky\n",
       "2        Abuja    299.23        1011        90               overcast clouds\n",
       "3        Accra    297.38        1012       100  thunderstorm with light rain\n",
       "4  Addis Ababa    286.64        1026       100                    light rain"
      ]
     },
     "execution_count": 39,
     "metadata": {},
     "output_type": "execute_result"
    }
   ],
   "source": [
    "df = pd.DataFrame(lst_data, columns= ['city','cur_temp','curr_press','curr_hum','description'])\n",
    "df.head()"
   ]
  },
  {
   "cell_type": "markdown",
   "id": "d6c50353",
   "metadata": {},
   "source": [
    "Se convirtieron los grados Kelvin a grados Centigrados por que es más fácil para mi entenderlo en esta unidad."
   ]
  },
  {
   "cell_type": "code",
   "execution_count": 42,
   "id": "0c935880",
   "metadata": {},
   "outputs": [],
   "source": [
    "df['curr_temp_C'] = (df.cur_temp - 273.15)"
   ]
  },
  {
   "cell_type": "code",
   "execution_count": 43,
   "id": "14bfc66a",
   "metadata": {},
   "outputs": [
    {
     "data": {
      "text/html": [
       "<div>\n",
       "<style scoped>\n",
       "    .dataframe tbody tr th:only-of-type {\n",
       "        vertical-align: middle;\n",
       "    }\n",
       "\n",
       "    .dataframe tbody tr th {\n",
       "        vertical-align: top;\n",
       "    }\n",
       "\n",
       "    .dataframe thead th {\n",
       "        text-align: right;\n",
       "    }\n",
       "</style>\n",
       "<table border=\"1\" class=\"dataframe\">\n",
       "  <thead>\n",
       "    <tr style=\"text-align: right;\">\n",
       "      <th></th>\n",
       "      <th>city</th>\n",
       "      <th>cur_temp</th>\n",
       "      <th>curr_press</th>\n",
       "      <th>curr_hum</th>\n",
       "      <th>description</th>\n",
       "      <th>curr_temp_C</th>\n",
       "    </tr>\n",
       "  </thead>\n",
       "  <tbody>\n",
       "    <tr>\n",
       "      <th>0</th>\n",
       "      <td>Abidjan</td>\n",
       "      <td>299.13</td>\n",
       "      <td>1011</td>\n",
       "      <td>94</td>\n",
       "      <td>scattered clouds</td>\n",
       "      <td>25.98</td>\n",
       "    </tr>\n",
       "    <tr>\n",
       "      <th>1</th>\n",
       "      <td>Abu Dhabi</td>\n",
       "      <td>303.21</td>\n",
       "      <td>1008</td>\n",
       "      <td>53</td>\n",
       "      <td>clear sky</td>\n",
       "      <td>30.06</td>\n",
       "    </tr>\n",
       "    <tr>\n",
       "      <th>2</th>\n",
       "      <td>Abuja</td>\n",
       "      <td>299.23</td>\n",
       "      <td>1011</td>\n",
       "      <td>90</td>\n",
       "      <td>overcast clouds</td>\n",
       "      <td>26.08</td>\n",
       "    </tr>\n",
       "    <tr>\n",
       "      <th>3</th>\n",
       "      <td>Accra</td>\n",
       "      <td>297.38</td>\n",
       "      <td>1012</td>\n",
       "      <td>100</td>\n",
       "      <td>thunderstorm with light rain</td>\n",
       "      <td>24.23</td>\n",
       "    </tr>\n",
       "    <tr>\n",
       "      <th>4</th>\n",
       "      <td>Addis Ababa</td>\n",
       "      <td>286.64</td>\n",
       "      <td>1026</td>\n",
       "      <td>100</td>\n",
       "      <td>light rain</td>\n",
       "      <td>13.49</td>\n",
       "    </tr>\n",
       "  </tbody>\n",
       "</table>\n",
       "</div>"
      ],
      "text/plain": [
       "          city  cur_temp  curr_press  curr_hum                   description  \\\n",
       "0      Abidjan    299.13        1011        94              scattered clouds   \n",
       "1    Abu Dhabi    303.21        1008        53                     clear sky   \n",
       "2        Abuja    299.23        1011        90               overcast clouds   \n",
       "3        Accra    297.38        1012       100  thunderstorm with light rain   \n",
       "4  Addis Ababa    286.64        1026       100                    light rain   \n",
       "\n",
       "   curr_temp_C  \n",
       "0        25.98  \n",
       "1        30.06  \n",
       "2        26.08  \n",
       "3        24.23  \n",
       "4        13.49  "
      ]
     },
     "execution_count": 43,
     "metadata": {},
     "output_type": "execute_result"
    }
   ],
   "source": [
    "df.head()"
   ]
  },
  {
   "cell_type": "markdown",
   "id": "bd6e0c23",
   "metadata": {},
   "source": [
    "## Análisis Exploratorio de Datos"
   ]
  },
  {
   "cell_type": "markdown",
   "id": "bf28470b",
   "metadata": {},
   "source": [
    "A continuación se realizará un análisis exploratorio de datos"
   ]
  },
  {
   "cell_type": "code",
   "execution_count": 44,
   "id": "c2ae7d62",
   "metadata": {},
   "outputs": [
    {
     "data": {
      "text/plain": [
       "(370, 6)"
      ]
     },
     "execution_count": 44,
     "metadata": {},
     "output_type": "execute_result"
    }
   ],
   "source": [
    "df.shape"
   ]
  },
  {
   "cell_type": "code",
   "execution_count": 45,
   "id": "619b2928",
   "metadata": {},
   "outputs": [
    {
     "name": "stdout",
     "output_type": "stream",
     "text": [
      "<class 'pandas.core.frame.DataFrame'>\n",
      "RangeIndex: 370 entries, 0 to 369\n",
      "Data columns (total 6 columns):\n",
      " #   Column       Non-Null Count  Dtype  \n",
      "---  ------       --------------  -----  \n",
      " 0   city         370 non-null    object \n",
      " 1   cur_temp     370 non-null    float64\n",
      " 2   curr_press   370 non-null    int64  \n",
      " 3   curr_hum     370 non-null    int64  \n",
      " 4   description  370 non-null    object \n",
      " 5   curr_temp_C  370 non-null    float64\n",
      "dtypes: float64(2), int64(2), object(2)\n",
      "memory usage: 17.5+ KB\n"
     ]
    }
   ],
   "source": [
    "df.info()"
   ]
  },
  {
   "cell_type": "code",
   "execution_count": 46,
   "id": "fc89ac24",
   "metadata": {},
   "outputs": [
    {
     "data": {
      "text/html": [
       "<div>\n",
       "<style scoped>\n",
       "    .dataframe tbody tr th:only-of-type {\n",
       "        vertical-align: middle;\n",
       "    }\n",
       "\n",
       "    .dataframe tbody tr th {\n",
       "        vertical-align: top;\n",
       "    }\n",
       "\n",
       "    .dataframe thead th {\n",
       "        text-align: right;\n",
       "    }\n",
       "</style>\n",
       "<table border=\"1\" class=\"dataframe\">\n",
       "  <thead>\n",
       "    <tr style=\"text-align: right;\">\n",
       "      <th></th>\n",
       "      <th>city</th>\n",
       "      <th>cur_temp</th>\n",
       "      <th>curr_press</th>\n",
       "      <th>curr_hum</th>\n",
       "      <th>description</th>\n",
       "      <th>curr_temp_C</th>\n",
       "    </tr>\n",
       "  </thead>\n",
       "  <tbody>\n",
       "    <tr>\n",
       "      <th>count</th>\n",
       "      <td>370</td>\n",
       "      <td>370.000000</td>\n",
       "      <td>370.000000</td>\n",
       "      <td>370.000000</td>\n",
       "      <td>370</td>\n",
       "      <td>370.000000</td>\n",
       "    </tr>\n",
       "    <tr>\n",
       "      <th>unique</th>\n",
       "      <td>369</td>\n",
       "      <td>NaN</td>\n",
       "      <td>NaN</td>\n",
       "      <td>NaN</td>\n",
       "      <td>17</td>\n",
       "      <td>NaN</td>\n",
       "    </tr>\n",
       "    <tr>\n",
       "      <th>top</th>\n",
       "      <td>Hyderabad</td>\n",
       "      <td>NaN</td>\n",
       "      <td>NaN</td>\n",
       "      <td>NaN</td>\n",
       "      <td>clear sky</td>\n",
       "      <td>NaN</td>\n",
       "    </tr>\n",
       "    <tr>\n",
       "      <th>freq</th>\n",
       "      <td>2</td>\n",
       "      <td>NaN</td>\n",
       "      <td>NaN</td>\n",
       "      <td>NaN</td>\n",
       "      <td>95</td>\n",
       "      <td>NaN</td>\n",
       "    </tr>\n",
       "    <tr>\n",
       "      <th>mean</th>\n",
       "      <td>NaN</td>\n",
       "      <td>294.306081</td>\n",
       "      <td>1013.075676</td>\n",
       "      <td>73.113514</td>\n",
       "      <td>NaN</td>\n",
       "      <td>21.156081</td>\n",
       "    </tr>\n",
       "    <tr>\n",
       "      <th>std</th>\n",
       "      <td>NaN</td>\n",
       "      <td>7.728352</td>\n",
       "      <td>5.821621</td>\n",
       "      <td>19.122854</td>\n",
       "      <td>NaN</td>\n",
       "      <td>7.728352</td>\n",
       "    </tr>\n",
       "    <tr>\n",
       "      <th>min</th>\n",
       "      <td>NaN</td>\n",
       "      <td>272.490000</td>\n",
       "      <td>987.000000</td>\n",
       "      <td>10.000000</td>\n",
       "      <td>NaN</td>\n",
       "      <td>-0.660000</td>\n",
       "    </tr>\n",
       "    <tr>\n",
       "      <th>25%</th>\n",
       "      <td>NaN</td>\n",
       "      <td>287.745000</td>\n",
       "      <td>1010.000000</td>\n",
       "      <td>63.000000</td>\n",
       "      <td>NaN</td>\n",
       "      <td>14.595000</td>\n",
       "    </tr>\n",
       "    <tr>\n",
       "      <th>50%</th>\n",
       "      <td>NaN</td>\n",
       "      <td>295.850000</td>\n",
       "      <td>1012.000000</td>\n",
       "      <td>79.000000</td>\n",
       "      <td>NaN</td>\n",
       "      <td>22.700000</td>\n",
       "    </tr>\n",
       "    <tr>\n",
       "      <th>75%</th>\n",
       "      <td>NaN</td>\n",
       "      <td>300.372500</td>\n",
       "      <td>1016.000000</td>\n",
       "      <td>87.000000</td>\n",
       "      <td>NaN</td>\n",
       "      <td>27.222500</td>\n",
       "    </tr>\n",
       "    <tr>\n",
       "      <th>max</th>\n",
       "      <td>NaN</td>\n",
       "      <td>311.620000</td>\n",
       "      <td>1036.000000</td>\n",
       "      <td>100.000000</td>\n",
       "      <td>NaN</td>\n",
       "      <td>38.470000</td>\n",
       "    </tr>\n",
       "  </tbody>\n",
       "</table>\n",
       "</div>"
      ],
      "text/plain": [
       "             city    cur_temp   curr_press    curr_hum description  \\\n",
       "count         370  370.000000   370.000000  370.000000         370   \n",
       "unique        369         NaN          NaN         NaN          17   \n",
       "top     Hyderabad         NaN          NaN         NaN   clear sky   \n",
       "freq            2         NaN          NaN         NaN          95   \n",
       "mean          NaN  294.306081  1013.075676   73.113514         NaN   \n",
       "std           NaN    7.728352     5.821621   19.122854         NaN   \n",
       "min           NaN  272.490000   987.000000   10.000000         NaN   \n",
       "25%           NaN  287.745000  1010.000000   63.000000         NaN   \n",
       "50%           NaN  295.850000  1012.000000   79.000000         NaN   \n",
       "75%           NaN  300.372500  1016.000000   87.000000         NaN   \n",
       "max           NaN  311.620000  1036.000000  100.000000         NaN   \n",
       "\n",
       "        curr_temp_C  \n",
       "count    370.000000  \n",
       "unique          NaN  \n",
       "top             NaN  \n",
       "freq            NaN  \n",
       "mean      21.156081  \n",
       "std        7.728352  \n",
       "min       -0.660000  \n",
       "25%       14.595000  \n",
       "50%       22.700000  \n",
       "75%       27.222500  \n",
       "max       38.470000  "
      ]
     },
     "execution_count": 46,
     "metadata": {},
     "output_type": "execute_result"
    }
   ],
   "source": [
    "df.describe(include= 'all')"
   ]
  },
  {
   "cell_type": "code",
   "execution_count": 47,
   "id": "86919214",
   "metadata": {},
   "outputs": [],
   "source": [
    "# Top 10 ciudades con temperatura más baja\n",
    "# Top 10  ciudades con temperatura más alta\n",
    "# Histograma de la temperatura \n",
    "# Boxplot de descripción con la temperatura en C"
   ]
  },
  {
   "cell_type": "code",
   "execution_count": 56,
   "id": "5dabe834",
   "metadata": {},
   "outputs": [
    {
     "data": {
      "text/plain": [
       "244   -0.66\n",
       "205    1.92\n",
       "13     3.47\n",
       "217    3.86\n",
       "207    4.05\n",
       "347    4.07\n",
       "330    4.19\n",
       "321    5.09\n",
       "146    5.32\n",
       "366    5.77\n",
       "Name: curr_temp_C, dtype: float64"
      ]
     },
     "execution_count": 56,
     "metadata": {},
     "output_type": "execute_result"
    }
   ],
   "source": [
    "df1"
   ]
  },
  {
   "cell_type": "code",
   "execution_count": 57,
   "id": "4689b783",
   "metadata": {},
   "outputs": [
    {
     "data": {
      "application/vnd.plotly.v1+json": {
       "config": {
        "plotlyServerURL": "https://plot.ly"
       },
       "data": [
        {
         "alignmentgroup": "True",
         "hovertemplate": "city=%{x}<br>curr_temp_C=%{y}<extra></extra>",
         "legendgroup": "",
         "marker": {
          "color": "#636efa",
          "pattern": {
           "shape": ""
          }
         },
         "name": "",
         "offsetgroup": "",
         "orientation": "v",
         "showlegend": false,
         "textposition": "auto",
         "type": "bar",
         "x": [
          "Nuuk",
          "Mariehamn",
          "Andorra la Vella",
          "Minsk",
          "Maseru",
          "Ulan Bator",
          "Tallinn",
          "Soweto",
          "Johannesburg",
          "Yekaterinburg"
         ],
         "xaxis": "x",
         "y": [
          -0.6599999999999682,
          1.920000000000016,
          3.4700000000000273,
          3.8600000000000136,
          4.050000000000011,
          4.07000000000005,
          4.189999999999998,
          5.090000000000032,
          5.32000000000005,
          5.770000000000039
         ],
         "yaxis": "y"
        }
       ],
       "layout": {
        "barmode": "relative",
        "legend": {
         "tracegroupgap": 0
        },
        "margin": {
         "t": 60
        },
        "template": {
         "data": {
          "bar": [
           {
            "error_x": {
             "color": "#2a3f5f"
            },
            "error_y": {
             "color": "#2a3f5f"
            },
            "marker": {
             "line": {
              "color": "#E5ECF6",
              "width": 0.5
             },
             "pattern": {
              "fillmode": "overlay",
              "size": 10,
              "solidity": 0.2
             }
            },
            "type": "bar"
           }
          ],
          "barpolar": [
           {
            "marker": {
             "line": {
              "color": "#E5ECF6",
              "width": 0.5
             },
             "pattern": {
              "fillmode": "overlay",
              "size": 10,
              "solidity": 0.2
             }
            },
            "type": "barpolar"
           }
          ],
          "carpet": [
           {
            "aaxis": {
             "endlinecolor": "#2a3f5f",
             "gridcolor": "white",
             "linecolor": "white",
             "minorgridcolor": "white",
             "startlinecolor": "#2a3f5f"
            },
            "baxis": {
             "endlinecolor": "#2a3f5f",
             "gridcolor": "white",
             "linecolor": "white",
             "minorgridcolor": "white",
             "startlinecolor": "#2a3f5f"
            },
            "type": "carpet"
           }
          ],
          "choropleth": [
           {
            "colorbar": {
             "outlinewidth": 0,
             "ticks": ""
            },
            "type": "choropleth"
           }
          ],
          "contour": [
           {
            "colorbar": {
             "outlinewidth": 0,
             "ticks": ""
            },
            "colorscale": [
             [
              0,
              "#0d0887"
             ],
             [
              0.1111111111111111,
              "#46039f"
             ],
             [
              0.2222222222222222,
              "#7201a8"
             ],
             [
              0.3333333333333333,
              "#9c179e"
             ],
             [
              0.4444444444444444,
              "#bd3786"
             ],
             [
              0.5555555555555556,
              "#d8576b"
             ],
             [
              0.6666666666666666,
              "#ed7953"
             ],
             [
              0.7777777777777778,
              "#fb9f3a"
             ],
             [
              0.8888888888888888,
              "#fdca26"
             ],
             [
              1,
              "#f0f921"
             ]
            ],
            "type": "contour"
           }
          ],
          "contourcarpet": [
           {
            "colorbar": {
             "outlinewidth": 0,
             "ticks": ""
            },
            "type": "contourcarpet"
           }
          ],
          "heatmap": [
           {
            "colorbar": {
             "outlinewidth": 0,
             "ticks": ""
            },
            "colorscale": [
             [
              0,
              "#0d0887"
             ],
             [
              0.1111111111111111,
              "#46039f"
             ],
             [
              0.2222222222222222,
              "#7201a8"
             ],
             [
              0.3333333333333333,
              "#9c179e"
             ],
             [
              0.4444444444444444,
              "#bd3786"
             ],
             [
              0.5555555555555556,
              "#d8576b"
             ],
             [
              0.6666666666666666,
              "#ed7953"
             ],
             [
              0.7777777777777778,
              "#fb9f3a"
             ],
             [
              0.8888888888888888,
              "#fdca26"
             ],
             [
              1,
              "#f0f921"
             ]
            ],
            "type": "heatmap"
           }
          ],
          "heatmapgl": [
           {
            "colorbar": {
             "outlinewidth": 0,
             "ticks": ""
            },
            "colorscale": [
             [
              0,
              "#0d0887"
             ],
             [
              0.1111111111111111,
              "#46039f"
             ],
             [
              0.2222222222222222,
              "#7201a8"
             ],
             [
              0.3333333333333333,
              "#9c179e"
             ],
             [
              0.4444444444444444,
              "#bd3786"
             ],
             [
              0.5555555555555556,
              "#d8576b"
             ],
             [
              0.6666666666666666,
              "#ed7953"
             ],
             [
              0.7777777777777778,
              "#fb9f3a"
             ],
             [
              0.8888888888888888,
              "#fdca26"
             ],
             [
              1,
              "#f0f921"
             ]
            ],
            "type": "heatmapgl"
           }
          ],
          "histogram": [
           {
            "marker": {
             "pattern": {
              "fillmode": "overlay",
              "size": 10,
              "solidity": 0.2
             }
            },
            "type": "histogram"
           }
          ],
          "histogram2d": [
           {
            "colorbar": {
             "outlinewidth": 0,
             "ticks": ""
            },
            "colorscale": [
             [
              0,
              "#0d0887"
             ],
             [
              0.1111111111111111,
              "#46039f"
             ],
             [
              0.2222222222222222,
              "#7201a8"
             ],
             [
              0.3333333333333333,
              "#9c179e"
             ],
             [
              0.4444444444444444,
              "#bd3786"
             ],
             [
              0.5555555555555556,
              "#d8576b"
             ],
             [
              0.6666666666666666,
              "#ed7953"
             ],
             [
              0.7777777777777778,
              "#fb9f3a"
             ],
             [
              0.8888888888888888,
              "#fdca26"
             ],
             [
              1,
              "#f0f921"
             ]
            ],
            "type": "histogram2d"
           }
          ],
          "histogram2dcontour": [
           {
            "colorbar": {
             "outlinewidth": 0,
             "ticks": ""
            },
            "colorscale": [
             [
              0,
              "#0d0887"
             ],
             [
              0.1111111111111111,
              "#46039f"
             ],
             [
              0.2222222222222222,
              "#7201a8"
             ],
             [
              0.3333333333333333,
              "#9c179e"
             ],
             [
              0.4444444444444444,
              "#bd3786"
             ],
             [
              0.5555555555555556,
              "#d8576b"
             ],
             [
              0.6666666666666666,
              "#ed7953"
             ],
             [
              0.7777777777777778,
              "#fb9f3a"
             ],
             [
              0.8888888888888888,
              "#fdca26"
             ],
             [
              1,
              "#f0f921"
             ]
            ],
            "type": "histogram2dcontour"
           }
          ],
          "mesh3d": [
           {
            "colorbar": {
             "outlinewidth": 0,
             "ticks": ""
            },
            "type": "mesh3d"
           }
          ],
          "parcoords": [
           {
            "line": {
             "colorbar": {
              "outlinewidth": 0,
              "ticks": ""
             }
            },
            "type": "parcoords"
           }
          ],
          "pie": [
           {
            "automargin": true,
            "type": "pie"
           }
          ],
          "scatter": [
           {
            "fillpattern": {
             "fillmode": "overlay",
             "size": 10,
             "solidity": 0.2
            },
            "type": "scatter"
           }
          ],
          "scatter3d": [
           {
            "line": {
             "colorbar": {
              "outlinewidth": 0,
              "ticks": ""
             }
            },
            "marker": {
             "colorbar": {
              "outlinewidth": 0,
              "ticks": ""
             }
            },
            "type": "scatter3d"
           }
          ],
          "scattercarpet": [
           {
            "marker": {
             "colorbar": {
              "outlinewidth": 0,
              "ticks": ""
             }
            },
            "type": "scattercarpet"
           }
          ],
          "scattergeo": [
           {
            "marker": {
             "colorbar": {
              "outlinewidth": 0,
              "ticks": ""
             }
            },
            "type": "scattergeo"
           }
          ],
          "scattergl": [
           {
            "marker": {
             "colorbar": {
              "outlinewidth": 0,
              "ticks": ""
             }
            },
            "type": "scattergl"
           }
          ],
          "scattermapbox": [
           {
            "marker": {
             "colorbar": {
              "outlinewidth": 0,
              "ticks": ""
             }
            },
            "type": "scattermapbox"
           }
          ],
          "scatterpolar": [
           {
            "marker": {
             "colorbar": {
              "outlinewidth": 0,
              "ticks": ""
             }
            },
            "type": "scatterpolar"
           }
          ],
          "scatterpolargl": [
           {
            "marker": {
             "colorbar": {
              "outlinewidth": 0,
              "ticks": ""
             }
            },
            "type": "scatterpolargl"
           }
          ],
          "scatterternary": [
           {
            "marker": {
             "colorbar": {
              "outlinewidth": 0,
              "ticks": ""
             }
            },
            "type": "scatterternary"
           }
          ],
          "surface": [
           {
            "colorbar": {
             "outlinewidth": 0,
             "ticks": ""
            },
            "colorscale": [
             [
              0,
              "#0d0887"
             ],
             [
              0.1111111111111111,
              "#46039f"
             ],
             [
              0.2222222222222222,
              "#7201a8"
             ],
             [
              0.3333333333333333,
              "#9c179e"
             ],
             [
              0.4444444444444444,
              "#bd3786"
             ],
             [
              0.5555555555555556,
              "#d8576b"
             ],
             [
              0.6666666666666666,
              "#ed7953"
             ],
             [
              0.7777777777777778,
              "#fb9f3a"
             ],
             [
              0.8888888888888888,
              "#fdca26"
             ],
             [
              1,
              "#f0f921"
             ]
            ],
            "type": "surface"
           }
          ],
          "table": [
           {
            "cells": {
             "fill": {
              "color": "#EBF0F8"
             },
             "line": {
              "color": "white"
             }
            },
            "header": {
             "fill": {
              "color": "#C8D4E3"
             },
             "line": {
              "color": "white"
             }
            },
            "type": "table"
           }
          ]
         },
         "layout": {
          "annotationdefaults": {
           "arrowcolor": "#2a3f5f",
           "arrowhead": 0,
           "arrowwidth": 1
          },
          "autotypenumbers": "strict",
          "coloraxis": {
           "colorbar": {
            "outlinewidth": 0,
            "ticks": ""
           }
          },
          "colorscale": {
           "diverging": [
            [
             0,
             "#8e0152"
            ],
            [
             0.1,
             "#c51b7d"
            ],
            [
             0.2,
             "#de77ae"
            ],
            [
             0.3,
             "#f1b6da"
            ],
            [
             0.4,
             "#fde0ef"
            ],
            [
             0.5,
             "#f7f7f7"
            ],
            [
             0.6,
             "#e6f5d0"
            ],
            [
             0.7,
             "#b8e186"
            ],
            [
             0.8,
             "#7fbc41"
            ],
            [
             0.9,
             "#4d9221"
            ],
            [
             1,
             "#276419"
            ]
           ],
           "sequential": [
            [
             0,
             "#0d0887"
            ],
            [
             0.1111111111111111,
             "#46039f"
            ],
            [
             0.2222222222222222,
             "#7201a8"
            ],
            [
             0.3333333333333333,
             "#9c179e"
            ],
            [
             0.4444444444444444,
             "#bd3786"
            ],
            [
             0.5555555555555556,
             "#d8576b"
            ],
            [
             0.6666666666666666,
             "#ed7953"
            ],
            [
             0.7777777777777778,
             "#fb9f3a"
            ],
            [
             0.8888888888888888,
             "#fdca26"
            ],
            [
             1,
             "#f0f921"
            ]
           ],
           "sequentialminus": [
            [
             0,
             "#0d0887"
            ],
            [
             0.1111111111111111,
             "#46039f"
            ],
            [
             0.2222222222222222,
             "#7201a8"
            ],
            [
             0.3333333333333333,
             "#9c179e"
            ],
            [
             0.4444444444444444,
             "#bd3786"
            ],
            [
             0.5555555555555556,
             "#d8576b"
            ],
            [
             0.6666666666666666,
             "#ed7953"
            ],
            [
             0.7777777777777778,
             "#fb9f3a"
            ],
            [
             0.8888888888888888,
             "#fdca26"
            ],
            [
             1,
             "#f0f921"
            ]
           ]
          },
          "colorway": [
           "#636efa",
           "#EF553B",
           "#00cc96",
           "#ab63fa",
           "#FFA15A",
           "#19d3f3",
           "#FF6692",
           "#B6E880",
           "#FF97FF",
           "#FECB52"
          ],
          "font": {
           "color": "#2a3f5f"
          },
          "geo": {
           "bgcolor": "white",
           "lakecolor": "white",
           "landcolor": "#E5ECF6",
           "showlakes": true,
           "showland": true,
           "subunitcolor": "white"
          },
          "hoverlabel": {
           "align": "left"
          },
          "hovermode": "closest",
          "mapbox": {
           "style": "light"
          },
          "paper_bgcolor": "white",
          "plot_bgcolor": "#E5ECF6",
          "polar": {
           "angularaxis": {
            "gridcolor": "white",
            "linecolor": "white",
            "ticks": ""
           },
           "bgcolor": "#E5ECF6",
           "radialaxis": {
            "gridcolor": "white",
            "linecolor": "white",
            "ticks": ""
           }
          },
          "scene": {
           "xaxis": {
            "backgroundcolor": "#E5ECF6",
            "gridcolor": "white",
            "gridwidth": 2,
            "linecolor": "white",
            "showbackground": true,
            "ticks": "",
            "zerolinecolor": "white"
           },
           "yaxis": {
            "backgroundcolor": "#E5ECF6",
            "gridcolor": "white",
            "gridwidth": 2,
            "linecolor": "white",
            "showbackground": true,
            "ticks": "",
            "zerolinecolor": "white"
           },
           "zaxis": {
            "backgroundcolor": "#E5ECF6",
            "gridcolor": "white",
            "gridwidth": 2,
            "linecolor": "white",
            "showbackground": true,
            "ticks": "",
            "zerolinecolor": "white"
           }
          },
          "shapedefaults": {
           "line": {
            "color": "#2a3f5f"
           }
          },
          "ternary": {
           "aaxis": {
            "gridcolor": "white",
            "linecolor": "white",
            "ticks": ""
           },
           "baxis": {
            "gridcolor": "white",
            "linecolor": "white",
            "ticks": ""
           },
           "bgcolor": "#E5ECF6",
           "caxis": {
            "gridcolor": "white",
            "linecolor": "white",
            "ticks": ""
           }
          },
          "title": {
           "x": 0.05
          },
          "xaxis": {
           "automargin": true,
           "gridcolor": "white",
           "linecolor": "white",
           "ticks": "",
           "title": {
            "standoff": 15
           },
           "zerolinecolor": "white",
           "zerolinewidth": 2
          },
          "yaxis": {
           "automargin": true,
           "gridcolor": "white",
           "linecolor": "white",
           "ticks": "",
           "title": {
            "standoff": 15
           },
           "zerolinecolor": "white",
           "zerolinewidth": 2
          }
         }
        },
        "xaxis": {
         "anchor": "y",
         "domain": [
          0,
          1
         ],
         "title": {
          "text": "city"
         }
        },
        "yaxis": {
         "anchor": "x",
         "domain": [
          0,
          1
         ],
         "title": {
          "text": "curr_temp_C"
         }
        }
       }
      },
      "text/html": [
       "<div>                            <div id=\"ea0c1908-8154-4b0f-83bb-83a1cc4be0d8\" class=\"plotly-graph-div\" style=\"height:525px; width:100%;\"></div>            <script type=\"text/javascript\">                require([\"plotly\"], function(Plotly) {                    window.PLOTLYENV=window.PLOTLYENV || {};                                    if (document.getElementById(\"ea0c1908-8154-4b0f-83bb-83a1cc4be0d8\")) {                    Plotly.newPlot(                        \"ea0c1908-8154-4b0f-83bb-83a1cc4be0d8\",                        [{\"alignmentgroup\":\"True\",\"hovertemplate\":\"city=%{x}<br>curr_temp_C=%{y}<extra></extra>\",\"legendgroup\":\"\",\"marker\":{\"color\":\"#636efa\",\"pattern\":{\"shape\":\"\"}},\"name\":\"\",\"offsetgroup\":\"\",\"orientation\":\"v\",\"showlegend\":false,\"textposition\":\"auto\",\"x\":[\"Nuuk\",\"Mariehamn\",\"Andorra la Vella\",\"Minsk\",\"Maseru\",\"Ulan Bator\",\"Tallinn\",\"Soweto\",\"Johannesburg\",\"Yekaterinburg\"],\"xaxis\":\"x\",\"y\":[-0.6599999999999682,1.920000000000016,3.4700000000000273,3.8600000000000136,4.050000000000011,4.07000000000005,4.189999999999998,5.090000000000032,5.32000000000005,5.770000000000039],\"yaxis\":\"y\",\"type\":\"bar\"}],                        {\"template\":{\"data\":{\"histogram2dcontour\":[{\"type\":\"histogram2dcontour\",\"colorbar\":{\"outlinewidth\":0,\"ticks\":\"\"},\"colorscale\":[[0.0,\"#0d0887\"],[0.1111111111111111,\"#46039f\"],[0.2222222222222222,\"#7201a8\"],[0.3333333333333333,\"#9c179e\"],[0.4444444444444444,\"#bd3786\"],[0.5555555555555556,\"#d8576b\"],[0.6666666666666666,\"#ed7953\"],[0.7777777777777778,\"#fb9f3a\"],[0.8888888888888888,\"#fdca26\"],[1.0,\"#f0f921\"]]}],\"choropleth\":[{\"type\":\"choropleth\",\"colorbar\":{\"outlinewidth\":0,\"ticks\":\"\"}}],\"histogram2d\":[{\"type\":\"histogram2d\",\"colorbar\":{\"outlinewidth\":0,\"ticks\":\"\"},\"colorscale\":[[0.0,\"#0d0887\"],[0.1111111111111111,\"#46039f\"],[0.2222222222222222,\"#7201a8\"],[0.3333333333333333,\"#9c179e\"],[0.4444444444444444,\"#bd3786\"],[0.5555555555555556,\"#d8576b\"],[0.6666666666666666,\"#ed7953\"],[0.7777777777777778,\"#fb9f3a\"],[0.8888888888888888,\"#fdca26\"],[1.0,\"#f0f921\"]]}],\"heatmap\":[{\"type\":\"heatmap\",\"colorbar\":{\"outlinewidth\":0,\"ticks\":\"\"},\"colorscale\":[[0.0,\"#0d0887\"],[0.1111111111111111,\"#46039f\"],[0.2222222222222222,\"#7201a8\"],[0.3333333333333333,\"#9c179e\"],[0.4444444444444444,\"#bd3786\"],[0.5555555555555556,\"#d8576b\"],[0.6666666666666666,\"#ed7953\"],[0.7777777777777778,\"#fb9f3a\"],[0.8888888888888888,\"#fdca26\"],[1.0,\"#f0f921\"]]}],\"heatmapgl\":[{\"type\":\"heatmapgl\",\"colorbar\":{\"outlinewidth\":0,\"ticks\":\"\"},\"colorscale\":[[0.0,\"#0d0887\"],[0.1111111111111111,\"#46039f\"],[0.2222222222222222,\"#7201a8\"],[0.3333333333333333,\"#9c179e\"],[0.4444444444444444,\"#bd3786\"],[0.5555555555555556,\"#d8576b\"],[0.6666666666666666,\"#ed7953\"],[0.7777777777777778,\"#fb9f3a\"],[0.8888888888888888,\"#fdca26\"],[1.0,\"#f0f921\"]]}],\"contourcarpet\":[{\"type\":\"contourcarpet\",\"colorbar\":{\"outlinewidth\":0,\"ticks\":\"\"}}],\"contour\":[{\"type\":\"contour\",\"colorbar\":{\"outlinewidth\":0,\"ticks\":\"\"},\"colorscale\":[[0.0,\"#0d0887\"],[0.1111111111111111,\"#46039f\"],[0.2222222222222222,\"#7201a8\"],[0.3333333333333333,\"#9c179e\"],[0.4444444444444444,\"#bd3786\"],[0.5555555555555556,\"#d8576b\"],[0.6666666666666666,\"#ed7953\"],[0.7777777777777778,\"#fb9f3a\"],[0.8888888888888888,\"#fdca26\"],[1.0,\"#f0f921\"]]}],\"surface\":[{\"type\":\"surface\",\"colorbar\":{\"outlinewidth\":0,\"ticks\":\"\"},\"colorscale\":[[0.0,\"#0d0887\"],[0.1111111111111111,\"#46039f\"],[0.2222222222222222,\"#7201a8\"],[0.3333333333333333,\"#9c179e\"],[0.4444444444444444,\"#bd3786\"],[0.5555555555555556,\"#d8576b\"],[0.6666666666666666,\"#ed7953\"],[0.7777777777777778,\"#fb9f3a\"],[0.8888888888888888,\"#fdca26\"],[1.0,\"#f0f921\"]]}],\"mesh3d\":[{\"type\":\"mesh3d\",\"colorbar\":{\"outlinewidth\":0,\"ticks\":\"\"}}],\"scatter\":[{\"fillpattern\":{\"fillmode\":\"overlay\",\"size\":10,\"solidity\":0.2},\"type\":\"scatter\"}],\"parcoords\":[{\"type\":\"parcoords\",\"line\":{\"colorbar\":{\"outlinewidth\":0,\"ticks\":\"\"}}}],\"scatterpolargl\":[{\"type\":\"scatterpolargl\",\"marker\":{\"colorbar\":{\"outlinewidth\":0,\"ticks\":\"\"}}}],\"bar\":[{\"error_x\":{\"color\":\"#2a3f5f\"},\"error_y\":{\"color\":\"#2a3f5f\"},\"marker\":{\"line\":{\"color\":\"#E5ECF6\",\"width\":0.5},\"pattern\":{\"fillmode\":\"overlay\",\"size\":10,\"solidity\":0.2}},\"type\":\"bar\"}],\"scattergeo\":[{\"type\":\"scattergeo\",\"marker\":{\"colorbar\":{\"outlinewidth\":0,\"ticks\":\"\"}}}],\"scatterpolar\":[{\"type\":\"scatterpolar\",\"marker\":{\"colorbar\":{\"outlinewidth\":0,\"ticks\":\"\"}}}],\"histogram\":[{\"marker\":{\"pattern\":{\"fillmode\":\"overlay\",\"size\":10,\"solidity\":0.2}},\"type\":\"histogram\"}],\"scattergl\":[{\"type\":\"scattergl\",\"marker\":{\"colorbar\":{\"outlinewidth\":0,\"ticks\":\"\"}}}],\"scatter3d\":[{\"type\":\"scatter3d\",\"line\":{\"colorbar\":{\"outlinewidth\":0,\"ticks\":\"\"}},\"marker\":{\"colorbar\":{\"outlinewidth\":0,\"ticks\":\"\"}}}],\"scattermapbox\":[{\"type\":\"scattermapbox\",\"marker\":{\"colorbar\":{\"outlinewidth\":0,\"ticks\":\"\"}}}],\"scatterternary\":[{\"type\":\"scatterternary\",\"marker\":{\"colorbar\":{\"outlinewidth\":0,\"ticks\":\"\"}}}],\"scattercarpet\":[{\"type\":\"scattercarpet\",\"marker\":{\"colorbar\":{\"outlinewidth\":0,\"ticks\":\"\"}}}],\"carpet\":[{\"aaxis\":{\"endlinecolor\":\"#2a3f5f\",\"gridcolor\":\"white\",\"linecolor\":\"white\",\"minorgridcolor\":\"white\",\"startlinecolor\":\"#2a3f5f\"},\"baxis\":{\"endlinecolor\":\"#2a3f5f\",\"gridcolor\":\"white\",\"linecolor\":\"white\",\"minorgridcolor\":\"white\",\"startlinecolor\":\"#2a3f5f\"},\"type\":\"carpet\"}],\"table\":[{\"cells\":{\"fill\":{\"color\":\"#EBF0F8\"},\"line\":{\"color\":\"white\"}},\"header\":{\"fill\":{\"color\":\"#C8D4E3\"},\"line\":{\"color\":\"white\"}},\"type\":\"table\"}],\"barpolar\":[{\"marker\":{\"line\":{\"color\":\"#E5ECF6\",\"width\":0.5},\"pattern\":{\"fillmode\":\"overlay\",\"size\":10,\"solidity\":0.2}},\"type\":\"barpolar\"}],\"pie\":[{\"automargin\":true,\"type\":\"pie\"}]},\"layout\":{\"autotypenumbers\":\"strict\",\"colorway\":[\"#636efa\",\"#EF553B\",\"#00cc96\",\"#ab63fa\",\"#FFA15A\",\"#19d3f3\",\"#FF6692\",\"#B6E880\",\"#FF97FF\",\"#FECB52\"],\"font\":{\"color\":\"#2a3f5f\"},\"hovermode\":\"closest\",\"hoverlabel\":{\"align\":\"left\"},\"paper_bgcolor\":\"white\",\"plot_bgcolor\":\"#E5ECF6\",\"polar\":{\"bgcolor\":\"#E5ECF6\",\"angularaxis\":{\"gridcolor\":\"white\",\"linecolor\":\"white\",\"ticks\":\"\"},\"radialaxis\":{\"gridcolor\":\"white\",\"linecolor\":\"white\",\"ticks\":\"\"}},\"ternary\":{\"bgcolor\":\"#E5ECF6\",\"aaxis\":{\"gridcolor\":\"white\",\"linecolor\":\"white\",\"ticks\":\"\"},\"baxis\":{\"gridcolor\":\"white\",\"linecolor\":\"white\",\"ticks\":\"\"},\"caxis\":{\"gridcolor\":\"white\",\"linecolor\":\"white\",\"ticks\":\"\"}},\"coloraxis\":{\"colorbar\":{\"outlinewidth\":0,\"ticks\":\"\"}},\"colorscale\":{\"sequential\":[[0.0,\"#0d0887\"],[0.1111111111111111,\"#46039f\"],[0.2222222222222222,\"#7201a8\"],[0.3333333333333333,\"#9c179e\"],[0.4444444444444444,\"#bd3786\"],[0.5555555555555556,\"#d8576b\"],[0.6666666666666666,\"#ed7953\"],[0.7777777777777778,\"#fb9f3a\"],[0.8888888888888888,\"#fdca26\"],[1.0,\"#f0f921\"]],\"sequentialminus\":[[0.0,\"#0d0887\"],[0.1111111111111111,\"#46039f\"],[0.2222222222222222,\"#7201a8\"],[0.3333333333333333,\"#9c179e\"],[0.4444444444444444,\"#bd3786\"],[0.5555555555555556,\"#d8576b\"],[0.6666666666666666,\"#ed7953\"],[0.7777777777777778,\"#fb9f3a\"],[0.8888888888888888,\"#fdca26\"],[1.0,\"#f0f921\"]],\"diverging\":[[0,\"#8e0152\"],[0.1,\"#c51b7d\"],[0.2,\"#de77ae\"],[0.3,\"#f1b6da\"],[0.4,\"#fde0ef\"],[0.5,\"#f7f7f7\"],[0.6,\"#e6f5d0\"],[0.7,\"#b8e186\"],[0.8,\"#7fbc41\"],[0.9,\"#4d9221\"],[1,\"#276419\"]]},\"xaxis\":{\"gridcolor\":\"white\",\"linecolor\":\"white\",\"ticks\":\"\",\"title\":{\"standoff\":15},\"zerolinecolor\":\"white\",\"automargin\":true,\"zerolinewidth\":2},\"yaxis\":{\"gridcolor\":\"white\",\"linecolor\":\"white\",\"ticks\":\"\",\"title\":{\"standoff\":15},\"zerolinecolor\":\"white\",\"automargin\":true,\"zerolinewidth\":2},\"scene\":{\"xaxis\":{\"backgroundcolor\":\"#E5ECF6\",\"gridcolor\":\"white\",\"linecolor\":\"white\",\"showbackground\":true,\"ticks\":\"\",\"zerolinecolor\":\"white\",\"gridwidth\":2},\"yaxis\":{\"backgroundcolor\":\"#E5ECF6\",\"gridcolor\":\"white\",\"linecolor\":\"white\",\"showbackground\":true,\"ticks\":\"\",\"zerolinecolor\":\"white\",\"gridwidth\":2},\"zaxis\":{\"backgroundcolor\":\"#E5ECF6\",\"gridcolor\":\"white\",\"linecolor\":\"white\",\"showbackground\":true,\"ticks\":\"\",\"zerolinecolor\":\"white\",\"gridwidth\":2}},\"shapedefaults\":{\"line\":{\"color\":\"#2a3f5f\"}},\"annotationdefaults\":{\"arrowcolor\":\"#2a3f5f\",\"arrowhead\":0,\"arrowwidth\":1},\"geo\":{\"bgcolor\":\"white\",\"landcolor\":\"#E5ECF6\",\"subunitcolor\":\"white\",\"showland\":true,\"showlakes\":true,\"lakecolor\":\"white\"},\"title\":{\"x\":0.05},\"mapbox\":{\"style\":\"light\"}}},\"xaxis\":{\"anchor\":\"y\",\"domain\":[0.0,1.0],\"title\":{\"text\":\"city\"}},\"yaxis\":{\"anchor\":\"x\",\"domain\":[0.0,1.0],\"title\":{\"text\":\"curr_temp_C\"}},\"legend\":{\"tracegroupgap\":0},\"margin\":{\"t\":60},\"barmode\":\"relative\"},                        {\"responsive\": true}                    ).then(function(){\n",
       "                            \n",
       "var gd = document.getElementById('ea0c1908-8154-4b0f-83bb-83a1cc4be0d8');\n",
       "var x = new MutationObserver(function (mutations, observer) {{\n",
       "        var display = window.getComputedStyle(gd).display;\n",
       "        if (!display || display === 'none') {{\n",
       "            console.log([gd, 'removed!']);\n",
       "            Plotly.purge(gd);\n",
       "            observer.disconnect();\n",
       "        }}\n",
       "}});\n",
       "\n",
       "// Listen for the removal of the full notebook cells\n",
       "var notebookContainer = gd.closest('#notebook-container');\n",
       "if (notebookContainer) {{\n",
       "    x.observe(notebookContainer, {childList: true});\n",
       "}}\n",
       "\n",
       "// Listen for the clearing of the current output cell\n",
       "var outputEl = gd.closest('.output');\n",
       "if (outputEl) {{\n",
       "    x.observe(outputEl, {childList: true});\n",
       "}}\n",
       "\n",
       "                        })                };                });            </script>        </div>"
      ]
     },
     "metadata": {},
     "output_type": "display_data"
    }
   ],
   "source": [
    "df1 = df.sort_values(by='curr_temp_C').iloc[:10,[0,-1]]\n",
    "fig = px.bar(df1, x='city', y='curr_temp_C', title = 'Top 10 de ciudades más frias')\n",
    "fig.show()\n"
   ]
  },
  {
   "cell_type": "code",
   "execution_count": 63,
   "id": "3725c13a",
   "metadata": {},
   "outputs": [
    {
     "data": {
      "application/vnd.plotly.v1+json": {
       "config": {
        "plotlyServerURL": "https://plot.ly"
       },
       "data": [
        {
         "alignmentgroup": "True",
         "hovertemplate": "city=%{x}<br>curr_temp_C=%{y}<extra></extra>",
         "legendgroup": "",
         "marker": {
          "color": "#636efa",
          "pattern": {
           "shape": ""
          }
         },
         "name": "",
         "offsetgroup": "",
         "orientation": "v",
         "showlegend": false,
         "textposition": "auto",
         "type": "bar",
         "x": [
          "Vientiane",
          "Nay Pyi Taw",
          "Delhi",
          "Rawalpindi",
          "Jaipur",
          "Islamabad",
          "Niamey",
          "Muscat",
          "Faisalabad",
          "Kanpur"
         ],
         "xaxis": "x",
         "y": [
          33.01000000000005,
          33.03000000000003,
          33.05000000000001,
          33.29000000000002,
          33.620000000000005,
          34,
          34.160000000000025,
          35.01000000000005,
          36.97000000000003,
          38.47000000000003
         ],
         "yaxis": "y"
        }
       ],
       "layout": {
        "barmode": "relative",
        "legend": {
         "tracegroupgap": 0
        },
        "template": {
         "data": {
          "bar": [
           {
            "error_x": {
             "color": "#2a3f5f"
            },
            "error_y": {
             "color": "#2a3f5f"
            },
            "marker": {
             "line": {
              "color": "#E5ECF6",
              "width": 0.5
             },
             "pattern": {
              "fillmode": "overlay",
              "size": 10,
              "solidity": 0.2
             }
            },
            "type": "bar"
           }
          ],
          "barpolar": [
           {
            "marker": {
             "line": {
              "color": "#E5ECF6",
              "width": 0.5
             },
             "pattern": {
              "fillmode": "overlay",
              "size": 10,
              "solidity": 0.2
             }
            },
            "type": "barpolar"
           }
          ],
          "carpet": [
           {
            "aaxis": {
             "endlinecolor": "#2a3f5f",
             "gridcolor": "white",
             "linecolor": "white",
             "minorgridcolor": "white",
             "startlinecolor": "#2a3f5f"
            },
            "baxis": {
             "endlinecolor": "#2a3f5f",
             "gridcolor": "white",
             "linecolor": "white",
             "minorgridcolor": "white",
             "startlinecolor": "#2a3f5f"
            },
            "type": "carpet"
           }
          ],
          "choropleth": [
           {
            "colorbar": {
             "outlinewidth": 0,
             "ticks": ""
            },
            "type": "choropleth"
           }
          ],
          "contour": [
           {
            "colorbar": {
             "outlinewidth": 0,
             "ticks": ""
            },
            "colorscale": [
             [
              0,
              "#0d0887"
             ],
             [
              0.1111111111111111,
              "#46039f"
             ],
             [
              0.2222222222222222,
              "#7201a8"
             ],
             [
              0.3333333333333333,
              "#9c179e"
             ],
             [
              0.4444444444444444,
              "#bd3786"
             ],
             [
              0.5555555555555556,
              "#d8576b"
             ],
             [
              0.6666666666666666,
              "#ed7953"
             ],
             [
              0.7777777777777778,
              "#fb9f3a"
             ],
             [
              0.8888888888888888,
              "#fdca26"
             ],
             [
              1,
              "#f0f921"
             ]
            ],
            "type": "contour"
           }
          ],
          "contourcarpet": [
           {
            "colorbar": {
             "outlinewidth": 0,
             "ticks": ""
            },
            "type": "contourcarpet"
           }
          ],
          "heatmap": [
           {
            "colorbar": {
             "outlinewidth": 0,
             "ticks": ""
            },
            "colorscale": [
             [
              0,
              "#0d0887"
             ],
             [
              0.1111111111111111,
              "#46039f"
             ],
             [
              0.2222222222222222,
              "#7201a8"
             ],
             [
              0.3333333333333333,
              "#9c179e"
             ],
             [
              0.4444444444444444,
              "#bd3786"
             ],
             [
              0.5555555555555556,
              "#d8576b"
             ],
             [
              0.6666666666666666,
              "#ed7953"
             ],
             [
              0.7777777777777778,
              "#fb9f3a"
             ],
             [
              0.8888888888888888,
              "#fdca26"
             ],
             [
              1,
              "#f0f921"
             ]
            ],
            "type": "heatmap"
           }
          ],
          "heatmapgl": [
           {
            "colorbar": {
             "outlinewidth": 0,
             "ticks": ""
            },
            "colorscale": [
             [
              0,
              "#0d0887"
             ],
             [
              0.1111111111111111,
              "#46039f"
             ],
             [
              0.2222222222222222,
              "#7201a8"
             ],
             [
              0.3333333333333333,
              "#9c179e"
             ],
             [
              0.4444444444444444,
              "#bd3786"
             ],
             [
              0.5555555555555556,
              "#d8576b"
             ],
             [
              0.6666666666666666,
              "#ed7953"
             ],
             [
              0.7777777777777778,
              "#fb9f3a"
             ],
             [
              0.8888888888888888,
              "#fdca26"
             ],
             [
              1,
              "#f0f921"
             ]
            ],
            "type": "heatmapgl"
           }
          ],
          "histogram": [
           {
            "marker": {
             "pattern": {
              "fillmode": "overlay",
              "size": 10,
              "solidity": 0.2
             }
            },
            "type": "histogram"
           }
          ],
          "histogram2d": [
           {
            "colorbar": {
             "outlinewidth": 0,
             "ticks": ""
            },
            "colorscale": [
             [
              0,
              "#0d0887"
             ],
             [
              0.1111111111111111,
              "#46039f"
             ],
             [
              0.2222222222222222,
              "#7201a8"
             ],
             [
              0.3333333333333333,
              "#9c179e"
             ],
             [
              0.4444444444444444,
              "#bd3786"
             ],
             [
              0.5555555555555556,
              "#d8576b"
             ],
             [
              0.6666666666666666,
              "#ed7953"
             ],
             [
              0.7777777777777778,
              "#fb9f3a"
             ],
             [
              0.8888888888888888,
              "#fdca26"
             ],
             [
              1,
              "#f0f921"
             ]
            ],
            "type": "histogram2d"
           }
          ],
          "histogram2dcontour": [
           {
            "colorbar": {
             "outlinewidth": 0,
             "ticks": ""
            },
            "colorscale": [
             [
              0,
              "#0d0887"
             ],
             [
              0.1111111111111111,
              "#46039f"
             ],
             [
              0.2222222222222222,
              "#7201a8"
             ],
             [
              0.3333333333333333,
              "#9c179e"
             ],
             [
              0.4444444444444444,
              "#bd3786"
             ],
             [
              0.5555555555555556,
              "#d8576b"
             ],
             [
              0.6666666666666666,
              "#ed7953"
             ],
             [
              0.7777777777777778,
              "#fb9f3a"
             ],
             [
              0.8888888888888888,
              "#fdca26"
             ],
             [
              1,
              "#f0f921"
             ]
            ],
            "type": "histogram2dcontour"
           }
          ],
          "mesh3d": [
           {
            "colorbar": {
             "outlinewidth": 0,
             "ticks": ""
            },
            "type": "mesh3d"
           }
          ],
          "parcoords": [
           {
            "line": {
             "colorbar": {
              "outlinewidth": 0,
              "ticks": ""
             }
            },
            "type": "parcoords"
           }
          ],
          "pie": [
           {
            "automargin": true,
            "type": "pie"
           }
          ],
          "scatter": [
           {
            "fillpattern": {
             "fillmode": "overlay",
             "size": 10,
             "solidity": 0.2
            },
            "type": "scatter"
           }
          ],
          "scatter3d": [
           {
            "line": {
             "colorbar": {
              "outlinewidth": 0,
              "ticks": ""
             }
            },
            "marker": {
             "colorbar": {
              "outlinewidth": 0,
              "ticks": ""
             }
            },
            "type": "scatter3d"
           }
          ],
          "scattercarpet": [
           {
            "marker": {
             "colorbar": {
              "outlinewidth": 0,
              "ticks": ""
             }
            },
            "type": "scattercarpet"
           }
          ],
          "scattergeo": [
           {
            "marker": {
             "colorbar": {
              "outlinewidth": 0,
              "ticks": ""
             }
            },
            "type": "scattergeo"
           }
          ],
          "scattergl": [
           {
            "marker": {
             "colorbar": {
              "outlinewidth": 0,
              "ticks": ""
             }
            },
            "type": "scattergl"
           }
          ],
          "scattermapbox": [
           {
            "marker": {
             "colorbar": {
              "outlinewidth": 0,
              "ticks": ""
             }
            },
            "type": "scattermapbox"
           }
          ],
          "scatterpolar": [
           {
            "marker": {
             "colorbar": {
              "outlinewidth": 0,
              "ticks": ""
             }
            },
            "type": "scatterpolar"
           }
          ],
          "scatterpolargl": [
           {
            "marker": {
             "colorbar": {
              "outlinewidth": 0,
              "ticks": ""
             }
            },
            "type": "scatterpolargl"
           }
          ],
          "scatterternary": [
           {
            "marker": {
             "colorbar": {
              "outlinewidth": 0,
              "ticks": ""
             }
            },
            "type": "scatterternary"
           }
          ],
          "surface": [
           {
            "colorbar": {
             "outlinewidth": 0,
             "ticks": ""
            },
            "colorscale": [
             [
              0,
              "#0d0887"
             ],
             [
              0.1111111111111111,
              "#46039f"
             ],
             [
              0.2222222222222222,
              "#7201a8"
             ],
             [
              0.3333333333333333,
              "#9c179e"
             ],
             [
              0.4444444444444444,
              "#bd3786"
             ],
             [
              0.5555555555555556,
              "#d8576b"
             ],
             [
              0.6666666666666666,
              "#ed7953"
             ],
             [
              0.7777777777777778,
              "#fb9f3a"
             ],
             [
              0.8888888888888888,
              "#fdca26"
             ],
             [
              1,
              "#f0f921"
             ]
            ],
            "type": "surface"
           }
          ],
          "table": [
           {
            "cells": {
             "fill": {
              "color": "#EBF0F8"
             },
             "line": {
              "color": "white"
             }
            },
            "header": {
             "fill": {
              "color": "#C8D4E3"
             },
             "line": {
              "color": "white"
             }
            },
            "type": "table"
           }
          ]
         },
         "layout": {
          "annotationdefaults": {
           "arrowcolor": "#2a3f5f",
           "arrowhead": 0,
           "arrowwidth": 1
          },
          "autotypenumbers": "strict",
          "coloraxis": {
           "colorbar": {
            "outlinewidth": 0,
            "ticks": ""
           }
          },
          "colorscale": {
           "diverging": [
            [
             0,
             "#8e0152"
            ],
            [
             0.1,
             "#c51b7d"
            ],
            [
             0.2,
             "#de77ae"
            ],
            [
             0.3,
             "#f1b6da"
            ],
            [
             0.4,
             "#fde0ef"
            ],
            [
             0.5,
             "#f7f7f7"
            ],
            [
             0.6,
             "#e6f5d0"
            ],
            [
             0.7,
             "#b8e186"
            ],
            [
             0.8,
             "#7fbc41"
            ],
            [
             0.9,
             "#4d9221"
            ],
            [
             1,
             "#276419"
            ]
           ],
           "sequential": [
            [
             0,
             "#0d0887"
            ],
            [
             0.1111111111111111,
             "#46039f"
            ],
            [
             0.2222222222222222,
             "#7201a8"
            ],
            [
             0.3333333333333333,
             "#9c179e"
            ],
            [
             0.4444444444444444,
             "#bd3786"
            ],
            [
             0.5555555555555556,
             "#d8576b"
            ],
            [
             0.6666666666666666,
             "#ed7953"
            ],
            [
             0.7777777777777778,
             "#fb9f3a"
            ],
            [
             0.8888888888888888,
             "#fdca26"
            ],
            [
             1,
             "#f0f921"
            ]
           ],
           "sequentialminus": [
            [
             0,
             "#0d0887"
            ],
            [
             0.1111111111111111,
             "#46039f"
            ],
            [
             0.2222222222222222,
             "#7201a8"
            ],
            [
             0.3333333333333333,
             "#9c179e"
            ],
            [
             0.4444444444444444,
             "#bd3786"
            ],
            [
             0.5555555555555556,
             "#d8576b"
            ],
            [
             0.6666666666666666,
             "#ed7953"
            ],
            [
             0.7777777777777778,
             "#fb9f3a"
            ],
            [
             0.8888888888888888,
             "#fdca26"
            ],
            [
             1,
             "#f0f921"
            ]
           ]
          },
          "colorway": [
           "#636efa",
           "#EF553B",
           "#00cc96",
           "#ab63fa",
           "#FFA15A",
           "#19d3f3",
           "#FF6692",
           "#B6E880",
           "#FF97FF",
           "#FECB52"
          ],
          "font": {
           "color": "#2a3f5f"
          },
          "geo": {
           "bgcolor": "white",
           "lakecolor": "white",
           "landcolor": "#E5ECF6",
           "showlakes": true,
           "showland": true,
           "subunitcolor": "white"
          },
          "hoverlabel": {
           "align": "left"
          },
          "hovermode": "closest",
          "mapbox": {
           "style": "light"
          },
          "paper_bgcolor": "white",
          "plot_bgcolor": "#E5ECF6",
          "polar": {
           "angularaxis": {
            "gridcolor": "white",
            "linecolor": "white",
            "ticks": ""
           },
           "bgcolor": "#E5ECF6",
           "radialaxis": {
            "gridcolor": "white",
            "linecolor": "white",
            "ticks": ""
           }
          },
          "scene": {
           "xaxis": {
            "backgroundcolor": "#E5ECF6",
            "gridcolor": "white",
            "gridwidth": 2,
            "linecolor": "white",
            "showbackground": true,
            "ticks": "",
            "zerolinecolor": "white"
           },
           "yaxis": {
            "backgroundcolor": "#E5ECF6",
            "gridcolor": "white",
            "gridwidth": 2,
            "linecolor": "white",
            "showbackground": true,
            "ticks": "",
            "zerolinecolor": "white"
           },
           "zaxis": {
            "backgroundcolor": "#E5ECF6",
            "gridcolor": "white",
            "gridwidth": 2,
            "linecolor": "white",
            "showbackground": true,
            "ticks": "",
            "zerolinecolor": "white"
           }
          },
          "shapedefaults": {
           "line": {
            "color": "#2a3f5f"
           }
          },
          "ternary": {
           "aaxis": {
            "gridcolor": "white",
            "linecolor": "white",
            "ticks": ""
           },
           "baxis": {
            "gridcolor": "white",
            "linecolor": "white",
            "ticks": ""
           },
           "bgcolor": "#E5ECF6",
           "caxis": {
            "gridcolor": "white",
            "linecolor": "white",
            "ticks": ""
           }
          },
          "title": {
           "x": 0.05
          },
          "xaxis": {
           "automargin": true,
           "gridcolor": "white",
           "linecolor": "white",
           "ticks": "",
           "title": {
            "standoff": 15
           },
           "zerolinecolor": "white",
           "zerolinewidth": 2
          },
          "yaxis": {
           "automargin": true,
           "gridcolor": "white",
           "linecolor": "white",
           "ticks": "",
           "title": {
            "standoff": 15
           },
           "zerolinecolor": "white",
           "zerolinewidth": 2
          }
         }
        },
        "title": {
         "text": "Top 10 de ciudades más calurosas"
        },
        "xaxis": {
         "anchor": "y",
         "domain": [
          0,
          1
         ],
         "title": {
          "text": "city"
         }
        },
        "yaxis": {
         "anchor": "x",
         "domain": [
          0,
          1
         ],
         "title": {
          "text": "curr_temp_C"
         }
        }
       }
      },
      "text/html": [
       "<div>                            <div id=\"9974afac-79cd-4ec9-aff3-a63bae0ddfee\" class=\"plotly-graph-div\" style=\"height:525px; width:100%;\"></div>            <script type=\"text/javascript\">                require([\"plotly\"], function(Plotly) {                    window.PLOTLYENV=window.PLOTLYENV || {};                                    if (document.getElementById(\"9974afac-79cd-4ec9-aff3-a63bae0ddfee\")) {                    Plotly.newPlot(                        \"9974afac-79cd-4ec9-aff3-a63bae0ddfee\",                        [{\"alignmentgroup\":\"True\",\"hovertemplate\":\"city=%{x}<br>curr_temp_C=%{y}<extra></extra>\",\"legendgroup\":\"\",\"marker\":{\"color\":\"#636efa\",\"pattern\":{\"shape\":\"\"}},\"name\":\"\",\"offsetgroup\":\"\",\"orientation\":\"v\",\"showlegend\":false,\"textposition\":\"auto\",\"x\":[\"Vientiane\",\"Nay Pyi Taw\",\"Delhi\",\"Rawalpindi\",\"Jaipur\",\"Islamabad\",\"Niamey\",\"Muscat\",\"Faisalabad\",\"Kanpur\"],\"xaxis\":\"x\",\"y\":[33.01000000000005,33.03000000000003,33.05000000000001,33.29000000000002,33.620000000000005,34.0,34.160000000000025,35.01000000000005,36.97000000000003,38.47000000000003],\"yaxis\":\"y\",\"type\":\"bar\"}],                        {\"template\":{\"data\":{\"histogram2dcontour\":[{\"type\":\"histogram2dcontour\",\"colorbar\":{\"outlinewidth\":0,\"ticks\":\"\"},\"colorscale\":[[0.0,\"#0d0887\"],[0.1111111111111111,\"#46039f\"],[0.2222222222222222,\"#7201a8\"],[0.3333333333333333,\"#9c179e\"],[0.4444444444444444,\"#bd3786\"],[0.5555555555555556,\"#d8576b\"],[0.6666666666666666,\"#ed7953\"],[0.7777777777777778,\"#fb9f3a\"],[0.8888888888888888,\"#fdca26\"],[1.0,\"#f0f921\"]]}],\"choropleth\":[{\"type\":\"choropleth\",\"colorbar\":{\"outlinewidth\":0,\"ticks\":\"\"}}],\"histogram2d\":[{\"type\":\"histogram2d\",\"colorbar\":{\"outlinewidth\":0,\"ticks\":\"\"},\"colorscale\":[[0.0,\"#0d0887\"],[0.1111111111111111,\"#46039f\"],[0.2222222222222222,\"#7201a8\"],[0.3333333333333333,\"#9c179e\"],[0.4444444444444444,\"#bd3786\"],[0.5555555555555556,\"#d8576b\"],[0.6666666666666666,\"#ed7953\"],[0.7777777777777778,\"#fb9f3a\"],[0.8888888888888888,\"#fdca26\"],[1.0,\"#f0f921\"]]}],\"heatmap\":[{\"type\":\"heatmap\",\"colorbar\":{\"outlinewidth\":0,\"ticks\":\"\"},\"colorscale\":[[0.0,\"#0d0887\"],[0.1111111111111111,\"#46039f\"],[0.2222222222222222,\"#7201a8\"],[0.3333333333333333,\"#9c179e\"],[0.4444444444444444,\"#bd3786\"],[0.5555555555555556,\"#d8576b\"],[0.6666666666666666,\"#ed7953\"],[0.7777777777777778,\"#fb9f3a\"],[0.8888888888888888,\"#fdca26\"],[1.0,\"#f0f921\"]]}],\"heatmapgl\":[{\"type\":\"heatmapgl\",\"colorbar\":{\"outlinewidth\":0,\"ticks\":\"\"},\"colorscale\":[[0.0,\"#0d0887\"],[0.1111111111111111,\"#46039f\"],[0.2222222222222222,\"#7201a8\"],[0.3333333333333333,\"#9c179e\"],[0.4444444444444444,\"#bd3786\"],[0.5555555555555556,\"#d8576b\"],[0.6666666666666666,\"#ed7953\"],[0.7777777777777778,\"#fb9f3a\"],[0.8888888888888888,\"#fdca26\"],[1.0,\"#f0f921\"]]}],\"contourcarpet\":[{\"type\":\"contourcarpet\",\"colorbar\":{\"outlinewidth\":0,\"ticks\":\"\"}}],\"contour\":[{\"type\":\"contour\",\"colorbar\":{\"outlinewidth\":0,\"ticks\":\"\"},\"colorscale\":[[0.0,\"#0d0887\"],[0.1111111111111111,\"#46039f\"],[0.2222222222222222,\"#7201a8\"],[0.3333333333333333,\"#9c179e\"],[0.4444444444444444,\"#bd3786\"],[0.5555555555555556,\"#d8576b\"],[0.6666666666666666,\"#ed7953\"],[0.7777777777777778,\"#fb9f3a\"],[0.8888888888888888,\"#fdca26\"],[1.0,\"#f0f921\"]]}],\"surface\":[{\"type\":\"surface\",\"colorbar\":{\"outlinewidth\":0,\"ticks\":\"\"},\"colorscale\":[[0.0,\"#0d0887\"],[0.1111111111111111,\"#46039f\"],[0.2222222222222222,\"#7201a8\"],[0.3333333333333333,\"#9c179e\"],[0.4444444444444444,\"#bd3786\"],[0.5555555555555556,\"#d8576b\"],[0.6666666666666666,\"#ed7953\"],[0.7777777777777778,\"#fb9f3a\"],[0.8888888888888888,\"#fdca26\"],[1.0,\"#f0f921\"]]}],\"mesh3d\":[{\"type\":\"mesh3d\",\"colorbar\":{\"outlinewidth\":0,\"ticks\":\"\"}}],\"scatter\":[{\"fillpattern\":{\"fillmode\":\"overlay\",\"size\":10,\"solidity\":0.2},\"type\":\"scatter\"}],\"parcoords\":[{\"type\":\"parcoords\",\"line\":{\"colorbar\":{\"outlinewidth\":0,\"ticks\":\"\"}}}],\"scatterpolargl\":[{\"type\":\"scatterpolargl\",\"marker\":{\"colorbar\":{\"outlinewidth\":0,\"ticks\":\"\"}}}],\"bar\":[{\"error_x\":{\"color\":\"#2a3f5f\"},\"error_y\":{\"color\":\"#2a3f5f\"},\"marker\":{\"line\":{\"color\":\"#E5ECF6\",\"width\":0.5},\"pattern\":{\"fillmode\":\"overlay\",\"size\":10,\"solidity\":0.2}},\"type\":\"bar\"}],\"scattergeo\":[{\"type\":\"scattergeo\",\"marker\":{\"colorbar\":{\"outlinewidth\":0,\"ticks\":\"\"}}}],\"scatterpolar\":[{\"type\":\"scatterpolar\",\"marker\":{\"colorbar\":{\"outlinewidth\":0,\"ticks\":\"\"}}}],\"histogram\":[{\"marker\":{\"pattern\":{\"fillmode\":\"overlay\",\"size\":10,\"solidity\":0.2}},\"type\":\"histogram\"}],\"scattergl\":[{\"type\":\"scattergl\",\"marker\":{\"colorbar\":{\"outlinewidth\":0,\"ticks\":\"\"}}}],\"scatter3d\":[{\"type\":\"scatter3d\",\"line\":{\"colorbar\":{\"outlinewidth\":0,\"ticks\":\"\"}},\"marker\":{\"colorbar\":{\"outlinewidth\":0,\"ticks\":\"\"}}}],\"scattermapbox\":[{\"type\":\"scattermapbox\",\"marker\":{\"colorbar\":{\"outlinewidth\":0,\"ticks\":\"\"}}}],\"scatterternary\":[{\"type\":\"scatterternary\",\"marker\":{\"colorbar\":{\"outlinewidth\":0,\"ticks\":\"\"}}}],\"scattercarpet\":[{\"type\":\"scattercarpet\",\"marker\":{\"colorbar\":{\"outlinewidth\":0,\"ticks\":\"\"}}}],\"carpet\":[{\"aaxis\":{\"endlinecolor\":\"#2a3f5f\",\"gridcolor\":\"white\",\"linecolor\":\"white\",\"minorgridcolor\":\"white\",\"startlinecolor\":\"#2a3f5f\"},\"baxis\":{\"endlinecolor\":\"#2a3f5f\",\"gridcolor\":\"white\",\"linecolor\":\"white\",\"minorgridcolor\":\"white\",\"startlinecolor\":\"#2a3f5f\"},\"type\":\"carpet\"}],\"table\":[{\"cells\":{\"fill\":{\"color\":\"#EBF0F8\"},\"line\":{\"color\":\"white\"}},\"header\":{\"fill\":{\"color\":\"#C8D4E3\"},\"line\":{\"color\":\"white\"}},\"type\":\"table\"}],\"barpolar\":[{\"marker\":{\"line\":{\"color\":\"#E5ECF6\",\"width\":0.5},\"pattern\":{\"fillmode\":\"overlay\",\"size\":10,\"solidity\":0.2}},\"type\":\"barpolar\"}],\"pie\":[{\"automargin\":true,\"type\":\"pie\"}]},\"layout\":{\"autotypenumbers\":\"strict\",\"colorway\":[\"#636efa\",\"#EF553B\",\"#00cc96\",\"#ab63fa\",\"#FFA15A\",\"#19d3f3\",\"#FF6692\",\"#B6E880\",\"#FF97FF\",\"#FECB52\"],\"font\":{\"color\":\"#2a3f5f\"},\"hovermode\":\"closest\",\"hoverlabel\":{\"align\":\"left\"},\"paper_bgcolor\":\"white\",\"plot_bgcolor\":\"#E5ECF6\",\"polar\":{\"bgcolor\":\"#E5ECF6\",\"angularaxis\":{\"gridcolor\":\"white\",\"linecolor\":\"white\",\"ticks\":\"\"},\"radialaxis\":{\"gridcolor\":\"white\",\"linecolor\":\"white\",\"ticks\":\"\"}},\"ternary\":{\"bgcolor\":\"#E5ECF6\",\"aaxis\":{\"gridcolor\":\"white\",\"linecolor\":\"white\",\"ticks\":\"\"},\"baxis\":{\"gridcolor\":\"white\",\"linecolor\":\"white\",\"ticks\":\"\"},\"caxis\":{\"gridcolor\":\"white\",\"linecolor\":\"white\",\"ticks\":\"\"}},\"coloraxis\":{\"colorbar\":{\"outlinewidth\":0,\"ticks\":\"\"}},\"colorscale\":{\"sequential\":[[0.0,\"#0d0887\"],[0.1111111111111111,\"#46039f\"],[0.2222222222222222,\"#7201a8\"],[0.3333333333333333,\"#9c179e\"],[0.4444444444444444,\"#bd3786\"],[0.5555555555555556,\"#d8576b\"],[0.6666666666666666,\"#ed7953\"],[0.7777777777777778,\"#fb9f3a\"],[0.8888888888888888,\"#fdca26\"],[1.0,\"#f0f921\"]],\"sequentialminus\":[[0.0,\"#0d0887\"],[0.1111111111111111,\"#46039f\"],[0.2222222222222222,\"#7201a8\"],[0.3333333333333333,\"#9c179e\"],[0.4444444444444444,\"#bd3786\"],[0.5555555555555556,\"#d8576b\"],[0.6666666666666666,\"#ed7953\"],[0.7777777777777778,\"#fb9f3a\"],[0.8888888888888888,\"#fdca26\"],[1.0,\"#f0f921\"]],\"diverging\":[[0,\"#8e0152\"],[0.1,\"#c51b7d\"],[0.2,\"#de77ae\"],[0.3,\"#f1b6da\"],[0.4,\"#fde0ef\"],[0.5,\"#f7f7f7\"],[0.6,\"#e6f5d0\"],[0.7,\"#b8e186\"],[0.8,\"#7fbc41\"],[0.9,\"#4d9221\"],[1,\"#276419\"]]},\"xaxis\":{\"gridcolor\":\"white\",\"linecolor\":\"white\",\"ticks\":\"\",\"title\":{\"standoff\":15},\"zerolinecolor\":\"white\",\"automargin\":true,\"zerolinewidth\":2},\"yaxis\":{\"gridcolor\":\"white\",\"linecolor\":\"white\",\"ticks\":\"\",\"title\":{\"standoff\":15},\"zerolinecolor\":\"white\",\"automargin\":true,\"zerolinewidth\":2},\"scene\":{\"xaxis\":{\"backgroundcolor\":\"#E5ECF6\",\"gridcolor\":\"white\",\"linecolor\":\"white\",\"showbackground\":true,\"ticks\":\"\",\"zerolinecolor\":\"white\",\"gridwidth\":2},\"yaxis\":{\"backgroundcolor\":\"#E5ECF6\",\"gridcolor\":\"white\",\"linecolor\":\"white\",\"showbackground\":true,\"ticks\":\"\",\"zerolinecolor\":\"white\",\"gridwidth\":2},\"zaxis\":{\"backgroundcolor\":\"#E5ECF6\",\"gridcolor\":\"white\",\"linecolor\":\"white\",\"showbackground\":true,\"ticks\":\"\",\"zerolinecolor\":\"white\",\"gridwidth\":2}},\"shapedefaults\":{\"line\":{\"color\":\"#2a3f5f\"}},\"annotationdefaults\":{\"arrowcolor\":\"#2a3f5f\",\"arrowhead\":0,\"arrowwidth\":1},\"geo\":{\"bgcolor\":\"white\",\"landcolor\":\"#E5ECF6\",\"subunitcolor\":\"white\",\"showland\":true,\"showlakes\":true,\"lakecolor\":\"white\"},\"title\":{\"x\":0.05},\"mapbox\":{\"style\":\"light\"}}},\"xaxis\":{\"anchor\":\"y\",\"domain\":[0.0,1.0],\"title\":{\"text\":\"city\"}},\"yaxis\":{\"anchor\":\"x\",\"domain\":[0.0,1.0],\"title\":{\"text\":\"curr_temp_C\"}},\"legend\":{\"tracegroupgap\":0},\"title\":{\"text\":\"Top 10 de ciudades m\\u00e1s calurosas\"},\"barmode\":\"relative\"},                        {\"responsive\": true}                    ).then(function(){\n",
       "                            \n",
       "var gd = document.getElementById('9974afac-79cd-4ec9-aff3-a63bae0ddfee');\n",
       "var x = new MutationObserver(function (mutations, observer) {{\n",
       "        var display = window.getComputedStyle(gd).display;\n",
       "        if (!display || display === 'none') {{\n",
       "            console.log([gd, 'removed!']);\n",
       "            Plotly.purge(gd);\n",
       "            observer.disconnect();\n",
       "        }}\n",
       "}});\n",
       "\n",
       "// Listen for the removal of the full notebook cells\n",
       "var notebookContainer = gd.closest('#notebook-container');\n",
       "if (notebookContainer) {{\n",
       "    x.observe(notebookContainer, {childList: true});\n",
       "}}\n",
       "\n",
       "// Listen for the clearing of the current output cell\n",
       "var outputEl = gd.closest('.output');\n",
       "if (outputEl) {{\n",
       "    x.observe(outputEl, {childList: true});\n",
       "}}\n",
       "\n",
       "                        })                };                });            </script>        </div>"
      ]
     },
     "metadata": {},
     "output_type": "display_data"
    }
   ],
   "source": [
    "df2 = df.sort_values(by='curr_temp_C').iloc[-10:,[0,-1]]\n",
    "fig = px.bar(df2, x='city', y='curr_temp_C', title=\"Top 10 de ciudades más calurosas\")\n",
    "fig.show()\n"
   ]
  },
  {
   "cell_type": "code",
   "execution_count": 66,
   "id": "c131065e",
   "metadata": {},
   "outputs": [
    {
     "data": {
      "application/vnd.plotly.v1+json": {
       "config": {
        "plotlyServerURL": "https://plot.ly"
       },
       "data": [
        {
         "alignmentgroup": "True",
         "bingroup": "x",
         "hovertemplate": "curr_temp_C=%{x}<br>count=%{y}<extra></extra>",
         "legendgroup": "",
         "marker": {
          "color": "#636efa",
          "pattern": {
           "shape": ""
          }
         },
         "name": "",
         "nbinsx": 80,
         "offsetgroup": "",
         "orientation": "v",
         "showlegend": false,
         "type": "histogram",
         "x": [
          25.980000000000018,
          30.060000000000002,
          26.08000000000004,
          24.230000000000018,
          13.490000000000009,
          30.02000000000004,
          15.470000000000027,
          17.30000000000001,
          10.900000000000034,
          18.950000000000045,
          13.050000000000011,
          13.879999999999995,
          13.090000000000032,
          3.4700000000000273,
          11.330000000000041,
          10.980000000000018,
          32.950000000000045,
          7.1200000000000045,
          22.920000000000016,
          15.25,
          18.689999999999998,
          18.430000000000007,
          15.379999999999995,
          25.03000000000003,
          22.950000000000045,
          16.03000000000003,
          23.230000000000018,
          29.710000000000036,
          28.99000000000001,
          26.980000000000018,
          32.57000000000005,
          22.760000000000048,
          24.189999999999998,
          14.57000000000005,
          27.879999999999995,
          28.980000000000018,
          24.58000000000004,
          26.480000000000018,
          22.939999999999998,
          18.410000000000025,
          30.629999999999995,
          26.02000000000004,
          14.430000000000007,
          29.210000000000036,
          14.439999999999998,
          24.80000000000001,
          13.840000000000032,
          10.78000000000003,
          15.110000000000014,
          25.99000000000001,
          13.730000000000018,
          15.510000000000048,
          13.100000000000023,
          23.170000000000016,
          27.27000000000004,
          20.620000000000005,
          10.960000000000036,
          15.700000000000045,
          16.560000000000002,
          14.300000000000011,
          21.170000000000016,
          8.020000000000039,
          23.99000000000001,
          22.420000000000016,
          22,
          31.560000000000002,
          26.05000000000001,
          11.510000000000048,
          14.730000000000018,
          19.670000000000016,
          17.120000000000005,
          26.420000000000016,
          25.02000000000004,
          26.480000000000018,
          22.939999999999998,
          28.870000000000005,
          15.25,
          16.24000000000001,
          30.25,
          22.920000000000016,
          27.970000000000027,
          26.04000000000002,
          10.770000000000039,
          12.970000000000027,
          11.730000000000018,
          24.470000000000027,
          17.970000000000027,
          23.07000000000005,
          21.03000000000003,
          14.460000000000036,
          23.07000000000005,
          33.05000000000001,
          15.04000000000002,
          27.99000000000001,
          27.480000000000018,
          26.430000000000007,
          15.210000000000036,
          28.970000000000027,
          30.950000000000045,
          25.950000000000045,
          16.720000000000027,
          31.54000000000002,
          13.900000000000034,
          13.900000000000034,
          20.900000000000034,
          36.97000000000003,
          26.970000000000027,
          27.07000000000005,
          26.450000000000045,
          24.879999999999995,
          32,
          11.730000000000018,
          29.970000000000027,
          29.970000000000027,
          17.970000000000027,
          14.580000000000041,
          22.410000000000025,
          20.870000000000005,
          32.97000000000003,
          21.910000000000025,
          26.980000000000018,
          28.03000000000003,
          26.810000000000002,
          22.930000000000007,
          10.600000000000023,
          31,
          13.79000000000002,
          26.24000000000001,
          8.270000000000039,
          32.01000000000005,
          30.370000000000005,
          29.83000000000004,
          27.28000000000003,
          25.83000000000004,
          29.230000000000018,
          29.230000000000018,
          24,
          16.930000000000007,
          17.80000000000001,
          34,
          14.590000000000032,
          13.970000000000027,
          33.620000000000005,
          31.29000000000002,
          24.920000000000016,
          12.610000000000014,
          5.32000000000005,
          21.80000000000001,
          22.350000000000023,
          20.27000000000004,
          24.05000000000001,
          18.200000000000045,
          27.939999999999998,
          38.47000000000003,
          30.439999999999998,
          28.900000000000034,
          13.879999999999995,
          20.120000000000005,
          23.140000000000043,
          11.75,
          28.340000000000032,
          32.08000000000004,
          18.710000000000036,
          31.210000000000036,
          26.08000000000004,
          26.810000000000002,
          23.180000000000007,
          23.360000000000014,
          30.970000000000027,
          28.910000000000025,
          30.260000000000048,
          28.08000000000004,
          22.310000000000002,
          28.33000000000004,
          10.79000000000002,
          26.360000000000014,
          9.210000000000036,
          26.180000000000007,
          29.99000000000001,
          28.010000000000048,
          16.400000000000034,
          21.610000000000014,
          16.110000000000014,
          10.939999999999998,
          25.090000000000032,
          8.700000000000045,
          17.79000000000002,
          25,
          14.390000000000043,
          12.140000000000043,
          10.330000000000041,
          28.860000000000014,
          11.460000000000036,
          29.980000000000018,
          30.03000000000003,
          24.920000000000016,
          29.970000000000027,
          25.79000000000002,
          31.689999999999998,
          30.52000000000004,
          27.27000000000004,
          31.08000000000004,
          18.460000000000036,
          27.33000000000004,
          24.900000000000034,
          1.920000000000016,
          26.900000000000034,
          4.050000000000011,
          20.08000000000004,
          6.230000000000018,
          26.720000000000027,
          26.680000000000007,
          20.180000000000007,
          25.24000000000001,
          25.77000000000004,
          16.79000000000002,
          26.689999999999998,
          3.8600000000000136,
          26.640000000000043,
          15.240000000000009,
          24.870000000000005,
          14.730000000000018,
          14.689999999999998,
          26.08000000000004,
          10.020000000000039,
          19.260000000000048,
          28.939999999999998,
          29.99000000000001,
          35.01000000000005,
          31.860000000000014,
          27.760000000000048,
          15.620000000000005,
          20.640000000000043,
          23.950000000000045,
          16.879999999999995,
          33.03000000000003,
          17.960000000000036,
          34.160000000000025,
          15.830000000000041,
          21.960000000000036,
          25.560000000000002,
          14.610000000000014,
          26.189999999999998,
          16.970000000000027,
          -0.6599999999999682,
          27.730000000000018,
          25.460000000000036,
          5.920000000000016,
          14.189999999999998,
          32.07000000000005,
          28.100000000000023,
          30.05000000000001,
          15.550000000000011,
          26.08000000000004,
          29.960000000000036,
          26.620000000000005,
          13.25,
          17.140000000000043,
          18.79000000000002,
          30.950000000000045,
          32.49000000000001,
          15.879999999999995,
          21.900000000000034,
          28.680000000000007,
          27.720000000000027,
          24.78000000000003,
          25.010000000000048,
          18.32000000000005,
          25.900000000000034,
          12.939999999999998,
          22.30000000000001,
          6.57000000000005,
          11.770000000000039,
          22.700000000000045,
          28.870000000000005,
          22.5,
          30.939999999999998,
          10.53000000000003,
          17.600000000000023,
          33.29000000000002,
          23.02000000000004,
          5.810000000000002,
          9.460000000000036,
          20.980000000000018,
          27.08000000000004,
          27.360000000000014,
          19.82000000000005,
          26.879999999999995,
          26.82000000000005,
          12.770000000000039,
          8.629999999999995,
          11.629999999999995,
          7.080000000000041,
          13.28000000000003,
          21.80000000000001,
          30.360000000000014,
          26.220000000000027,
          23.52000000000004,
          16.970000000000027,
          12.920000000000016,
          17.28000000000003,
          13.54000000000002,
          13.54000000000002,
          26.129999999999995,
          17.120000000000005,
          22.700000000000045,
          12.210000000000036,
          23.100000000000023,
          14.680000000000007,
          26.04000000000002,
          12.170000000000016,
          9.950000000000045,
          21.930000000000007,
          29.960000000000036,
          20.02000000000004,
          23.560000000000002,
          30.160000000000025,
          32.129999999999995,
          26.860000000000014,
          10.82000000000005,
          10.760000000000048,
          5.090000000000032,
          5.8799999999999955,
          12.170000000000016,
          29.970000000000027,
          29.99000000000001,
          25.710000000000036,
          18.860000000000014,
          11.700000000000045,
          28.82000000000005,
          4.189999999999998,
          30.58000000000004,
          32.05000000000001,
          20.970000000000027,
          15.840000000000032,
          25.420000000000016,
          18.99000000000001,
          16.939999999999998,
          16.260000000000048,
          21.970000000000027,
          17.03000000000003,
          13.490000000000009,
          23.99000000000001,
          11.210000000000036,
          8.660000000000025,
          19.28000000000003,
          18.890000000000043,
          4.07000000000005,
          12.850000000000023,
          11.980000000000018,
          17.30000000000001,
          20.620000000000005,
          29.970000000000027,
          13.170000000000016,
          33.01000000000005,
          10.090000000000032,
          12.720000000000027,
          27.700000000000045,
          13.110000000000014,
          26.950000000000045,
          12.840000000000032,
          26.05000000000001,
          13.450000000000045,
          24.920000000000016,
          27.980000000000018,
          22.74000000000001,
          5.770000000000039,
          12.090000000000032,
          22.939999999999998,
          11.840000000000032
         ],
         "xaxis": "x",
         "yaxis": "y"
        }
       ],
       "layout": {
        "barmode": "relative",
        "legend": {
         "tracegroupgap": 0
        },
        "template": {
         "data": {
          "bar": [
           {
            "error_x": {
             "color": "#2a3f5f"
            },
            "error_y": {
             "color": "#2a3f5f"
            },
            "marker": {
             "line": {
              "color": "#E5ECF6",
              "width": 0.5
             },
             "pattern": {
              "fillmode": "overlay",
              "size": 10,
              "solidity": 0.2
             }
            },
            "type": "bar"
           }
          ],
          "barpolar": [
           {
            "marker": {
             "line": {
              "color": "#E5ECF6",
              "width": 0.5
             },
             "pattern": {
              "fillmode": "overlay",
              "size": 10,
              "solidity": 0.2
             }
            },
            "type": "barpolar"
           }
          ],
          "carpet": [
           {
            "aaxis": {
             "endlinecolor": "#2a3f5f",
             "gridcolor": "white",
             "linecolor": "white",
             "minorgridcolor": "white",
             "startlinecolor": "#2a3f5f"
            },
            "baxis": {
             "endlinecolor": "#2a3f5f",
             "gridcolor": "white",
             "linecolor": "white",
             "minorgridcolor": "white",
             "startlinecolor": "#2a3f5f"
            },
            "type": "carpet"
           }
          ],
          "choropleth": [
           {
            "colorbar": {
             "outlinewidth": 0,
             "ticks": ""
            },
            "type": "choropleth"
           }
          ],
          "contour": [
           {
            "colorbar": {
             "outlinewidth": 0,
             "ticks": ""
            },
            "colorscale": [
             [
              0,
              "#0d0887"
             ],
             [
              0.1111111111111111,
              "#46039f"
             ],
             [
              0.2222222222222222,
              "#7201a8"
             ],
             [
              0.3333333333333333,
              "#9c179e"
             ],
             [
              0.4444444444444444,
              "#bd3786"
             ],
             [
              0.5555555555555556,
              "#d8576b"
             ],
             [
              0.6666666666666666,
              "#ed7953"
             ],
             [
              0.7777777777777778,
              "#fb9f3a"
             ],
             [
              0.8888888888888888,
              "#fdca26"
             ],
             [
              1,
              "#f0f921"
             ]
            ],
            "type": "contour"
           }
          ],
          "contourcarpet": [
           {
            "colorbar": {
             "outlinewidth": 0,
             "ticks": ""
            },
            "type": "contourcarpet"
           }
          ],
          "heatmap": [
           {
            "colorbar": {
             "outlinewidth": 0,
             "ticks": ""
            },
            "colorscale": [
             [
              0,
              "#0d0887"
             ],
             [
              0.1111111111111111,
              "#46039f"
             ],
             [
              0.2222222222222222,
              "#7201a8"
             ],
             [
              0.3333333333333333,
              "#9c179e"
             ],
             [
              0.4444444444444444,
              "#bd3786"
             ],
             [
              0.5555555555555556,
              "#d8576b"
             ],
             [
              0.6666666666666666,
              "#ed7953"
             ],
             [
              0.7777777777777778,
              "#fb9f3a"
             ],
             [
              0.8888888888888888,
              "#fdca26"
             ],
             [
              1,
              "#f0f921"
             ]
            ],
            "type": "heatmap"
           }
          ],
          "heatmapgl": [
           {
            "colorbar": {
             "outlinewidth": 0,
             "ticks": ""
            },
            "colorscale": [
             [
              0,
              "#0d0887"
             ],
             [
              0.1111111111111111,
              "#46039f"
             ],
             [
              0.2222222222222222,
              "#7201a8"
             ],
             [
              0.3333333333333333,
              "#9c179e"
             ],
             [
              0.4444444444444444,
              "#bd3786"
             ],
             [
              0.5555555555555556,
              "#d8576b"
             ],
             [
              0.6666666666666666,
              "#ed7953"
             ],
             [
              0.7777777777777778,
              "#fb9f3a"
             ],
             [
              0.8888888888888888,
              "#fdca26"
             ],
             [
              1,
              "#f0f921"
             ]
            ],
            "type": "heatmapgl"
           }
          ],
          "histogram": [
           {
            "marker": {
             "pattern": {
              "fillmode": "overlay",
              "size": 10,
              "solidity": 0.2
             }
            },
            "type": "histogram"
           }
          ],
          "histogram2d": [
           {
            "colorbar": {
             "outlinewidth": 0,
             "ticks": ""
            },
            "colorscale": [
             [
              0,
              "#0d0887"
             ],
             [
              0.1111111111111111,
              "#46039f"
             ],
             [
              0.2222222222222222,
              "#7201a8"
             ],
             [
              0.3333333333333333,
              "#9c179e"
             ],
             [
              0.4444444444444444,
              "#bd3786"
             ],
             [
              0.5555555555555556,
              "#d8576b"
             ],
             [
              0.6666666666666666,
              "#ed7953"
             ],
             [
              0.7777777777777778,
              "#fb9f3a"
             ],
             [
              0.8888888888888888,
              "#fdca26"
             ],
             [
              1,
              "#f0f921"
             ]
            ],
            "type": "histogram2d"
           }
          ],
          "histogram2dcontour": [
           {
            "colorbar": {
             "outlinewidth": 0,
             "ticks": ""
            },
            "colorscale": [
             [
              0,
              "#0d0887"
             ],
             [
              0.1111111111111111,
              "#46039f"
             ],
             [
              0.2222222222222222,
              "#7201a8"
             ],
             [
              0.3333333333333333,
              "#9c179e"
             ],
             [
              0.4444444444444444,
              "#bd3786"
             ],
             [
              0.5555555555555556,
              "#d8576b"
             ],
             [
              0.6666666666666666,
              "#ed7953"
             ],
             [
              0.7777777777777778,
              "#fb9f3a"
             ],
             [
              0.8888888888888888,
              "#fdca26"
             ],
             [
              1,
              "#f0f921"
             ]
            ],
            "type": "histogram2dcontour"
           }
          ],
          "mesh3d": [
           {
            "colorbar": {
             "outlinewidth": 0,
             "ticks": ""
            },
            "type": "mesh3d"
           }
          ],
          "parcoords": [
           {
            "line": {
             "colorbar": {
              "outlinewidth": 0,
              "ticks": ""
             }
            },
            "type": "parcoords"
           }
          ],
          "pie": [
           {
            "automargin": true,
            "type": "pie"
           }
          ],
          "scatter": [
           {
            "fillpattern": {
             "fillmode": "overlay",
             "size": 10,
             "solidity": 0.2
            },
            "type": "scatter"
           }
          ],
          "scatter3d": [
           {
            "line": {
             "colorbar": {
              "outlinewidth": 0,
              "ticks": ""
             }
            },
            "marker": {
             "colorbar": {
              "outlinewidth": 0,
              "ticks": ""
             }
            },
            "type": "scatter3d"
           }
          ],
          "scattercarpet": [
           {
            "marker": {
             "colorbar": {
              "outlinewidth": 0,
              "ticks": ""
             }
            },
            "type": "scattercarpet"
           }
          ],
          "scattergeo": [
           {
            "marker": {
             "colorbar": {
              "outlinewidth": 0,
              "ticks": ""
             }
            },
            "type": "scattergeo"
           }
          ],
          "scattergl": [
           {
            "marker": {
             "colorbar": {
              "outlinewidth": 0,
              "ticks": ""
             }
            },
            "type": "scattergl"
           }
          ],
          "scattermapbox": [
           {
            "marker": {
             "colorbar": {
              "outlinewidth": 0,
              "ticks": ""
             }
            },
            "type": "scattermapbox"
           }
          ],
          "scatterpolar": [
           {
            "marker": {
             "colorbar": {
              "outlinewidth": 0,
              "ticks": ""
             }
            },
            "type": "scatterpolar"
           }
          ],
          "scatterpolargl": [
           {
            "marker": {
             "colorbar": {
              "outlinewidth": 0,
              "ticks": ""
             }
            },
            "type": "scatterpolargl"
           }
          ],
          "scatterternary": [
           {
            "marker": {
             "colorbar": {
              "outlinewidth": 0,
              "ticks": ""
             }
            },
            "type": "scatterternary"
           }
          ],
          "surface": [
           {
            "colorbar": {
             "outlinewidth": 0,
             "ticks": ""
            },
            "colorscale": [
             [
              0,
              "#0d0887"
             ],
             [
              0.1111111111111111,
              "#46039f"
             ],
             [
              0.2222222222222222,
              "#7201a8"
             ],
             [
              0.3333333333333333,
              "#9c179e"
             ],
             [
              0.4444444444444444,
              "#bd3786"
             ],
             [
              0.5555555555555556,
              "#d8576b"
             ],
             [
              0.6666666666666666,
              "#ed7953"
             ],
             [
              0.7777777777777778,
              "#fb9f3a"
             ],
             [
              0.8888888888888888,
              "#fdca26"
             ],
             [
              1,
              "#f0f921"
             ]
            ],
            "type": "surface"
           }
          ],
          "table": [
           {
            "cells": {
             "fill": {
              "color": "#EBF0F8"
             },
             "line": {
              "color": "white"
             }
            },
            "header": {
             "fill": {
              "color": "#C8D4E3"
             },
             "line": {
              "color": "white"
             }
            },
            "type": "table"
           }
          ]
         },
         "layout": {
          "annotationdefaults": {
           "arrowcolor": "#2a3f5f",
           "arrowhead": 0,
           "arrowwidth": 1
          },
          "autotypenumbers": "strict",
          "coloraxis": {
           "colorbar": {
            "outlinewidth": 0,
            "ticks": ""
           }
          },
          "colorscale": {
           "diverging": [
            [
             0,
             "#8e0152"
            ],
            [
             0.1,
             "#c51b7d"
            ],
            [
             0.2,
             "#de77ae"
            ],
            [
             0.3,
             "#f1b6da"
            ],
            [
             0.4,
             "#fde0ef"
            ],
            [
             0.5,
             "#f7f7f7"
            ],
            [
             0.6,
             "#e6f5d0"
            ],
            [
             0.7,
             "#b8e186"
            ],
            [
             0.8,
             "#7fbc41"
            ],
            [
             0.9,
             "#4d9221"
            ],
            [
             1,
             "#276419"
            ]
           ],
           "sequential": [
            [
             0,
             "#0d0887"
            ],
            [
             0.1111111111111111,
             "#46039f"
            ],
            [
             0.2222222222222222,
             "#7201a8"
            ],
            [
             0.3333333333333333,
             "#9c179e"
            ],
            [
             0.4444444444444444,
             "#bd3786"
            ],
            [
             0.5555555555555556,
             "#d8576b"
            ],
            [
             0.6666666666666666,
             "#ed7953"
            ],
            [
             0.7777777777777778,
             "#fb9f3a"
            ],
            [
             0.8888888888888888,
             "#fdca26"
            ],
            [
             1,
             "#f0f921"
            ]
           ],
           "sequentialminus": [
            [
             0,
             "#0d0887"
            ],
            [
             0.1111111111111111,
             "#46039f"
            ],
            [
             0.2222222222222222,
             "#7201a8"
            ],
            [
             0.3333333333333333,
             "#9c179e"
            ],
            [
             0.4444444444444444,
             "#bd3786"
            ],
            [
             0.5555555555555556,
             "#d8576b"
            ],
            [
             0.6666666666666666,
             "#ed7953"
            ],
            [
             0.7777777777777778,
             "#fb9f3a"
            ],
            [
             0.8888888888888888,
             "#fdca26"
            ],
            [
             1,
             "#f0f921"
            ]
           ]
          },
          "colorway": [
           "#636efa",
           "#EF553B",
           "#00cc96",
           "#ab63fa",
           "#FFA15A",
           "#19d3f3",
           "#FF6692",
           "#B6E880",
           "#FF97FF",
           "#FECB52"
          ],
          "font": {
           "color": "#2a3f5f"
          },
          "geo": {
           "bgcolor": "white",
           "lakecolor": "white",
           "landcolor": "#E5ECF6",
           "showlakes": true,
           "showland": true,
           "subunitcolor": "white"
          },
          "hoverlabel": {
           "align": "left"
          },
          "hovermode": "closest",
          "mapbox": {
           "style": "light"
          },
          "paper_bgcolor": "white",
          "plot_bgcolor": "#E5ECF6",
          "polar": {
           "angularaxis": {
            "gridcolor": "white",
            "linecolor": "white",
            "ticks": ""
           },
           "bgcolor": "#E5ECF6",
           "radialaxis": {
            "gridcolor": "white",
            "linecolor": "white",
            "ticks": ""
           }
          },
          "scene": {
           "xaxis": {
            "backgroundcolor": "#E5ECF6",
            "gridcolor": "white",
            "gridwidth": 2,
            "linecolor": "white",
            "showbackground": true,
            "ticks": "",
            "zerolinecolor": "white"
           },
           "yaxis": {
            "backgroundcolor": "#E5ECF6",
            "gridcolor": "white",
            "gridwidth": 2,
            "linecolor": "white",
            "showbackground": true,
            "ticks": "",
            "zerolinecolor": "white"
           },
           "zaxis": {
            "backgroundcolor": "#E5ECF6",
            "gridcolor": "white",
            "gridwidth": 2,
            "linecolor": "white",
            "showbackground": true,
            "ticks": "",
            "zerolinecolor": "white"
           }
          },
          "shapedefaults": {
           "line": {
            "color": "#2a3f5f"
           }
          },
          "ternary": {
           "aaxis": {
            "gridcolor": "white",
            "linecolor": "white",
            "ticks": ""
           },
           "baxis": {
            "gridcolor": "white",
            "linecolor": "white",
            "ticks": ""
           },
           "bgcolor": "#E5ECF6",
           "caxis": {
            "gridcolor": "white",
            "linecolor": "white",
            "ticks": ""
           }
          },
          "title": {
           "x": 0.05
          },
          "xaxis": {
           "automargin": true,
           "gridcolor": "white",
           "linecolor": "white",
           "ticks": "",
           "title": {
            "standoff": 15
           },
           "zerolinecolor": "white",
           "zerolinewidth": 2
          },
          "yaxis": {
           "automargin": true,
           "gridcolor": "white",
           "linecolor": "white",
           "ticks": "",
           "title": {
            "standoff": 15
           },
           "zerolinecolor": "white",
           "zerolinewidth": 2
          }
         }
        },
        "title": {
         "text": "Histograma de las temperaturas en Centigrados"
        },
        "xaxis": {
         "anchor": "y",
         "domain": [
          0,
          1
         ],
         "title": {
          "text": "curr_temp_C"
         }
        },
        "yaxis": {
         "anchor": "x",
         "domain": [
          0,
          1
         ],
         "title": {
          "text": "count"
         }
        }
       }
      },
      "text/html": [
       "<div>                            <div id=\"fb4ef47b-1939-4195-bdd2-377f375cb56b\" class=\"plotly-graph-div\" style=\"height:525px; width:100%;\"></div>            <script type=\"text/javascript\">                require([\"plotly\"], function(Plotly) {                    window.PLOTLYENV=window.PLOTLYENV || {};                                    if (document.getElementById(\"fb4ef47b-1939-4195-bdd2-377f375cb56b\")) {                    Plotly.newPlot(                        \"fb4ef47b-1939-4195-bdd2-377f375cb56b\",                        [{\"alignmentgroup\":\"True\",\"bingroup\":\"x\",\"hovertemplate\":\"curr_temp_C=%{x}<br>count=%{y}<extra></extra>\",\"legendgroup\":\"\",\"marker\":{\"color\":\"#636efa\",\"pattern\":{\"shape\":\"\"}},\"name\":\"\",\"nbinsx\":80,\"offsetgroup\":\"\",\"orientation\":\"v\",\"showlegend\":false,\"x\":[25.980000000000018,30.060000000000002,26.08000000000004,24.230000000000018,13.490000000000009,30.02000000000004,15.470000000000027,17.30000000000001,10.900000000000034,18.950000000000045,13.050000000000011,13.879999999999995,13.090000000000032,3.4700000000000273,11.330000000000041,10.980000000000018,32.950000000000045,7.1200000000000045,22.920000000000016,15.25,18.689999999999998,18.430000000000007,15.379999999999995,25.03000000000003,22.950000000000045,16.03000000000003,23.230000000000018,29.710000000000036,28.99000000000001,26.980000000000018,32.57000000000005,22.760000000000048,24.189999999999998,14.57000000000005,27.879999999999995,28.980000000000018,24.58000000000004,26.480000000000018,22.939999999999998,18.410000000000025,30.629999999999995,26.02000000000004,14.430000000000007,29.210000000000036,14.439999999999998,24.80000000000001,13.840000000000032,10.78000000000003,15.110000000000014,25.99000000000001,13.730000000000018,15.510000000000048,13.100000000000023,23.170000000000016,27.27000000000004,20.620000000000005,10.960000000000036,15.700000000000045,16.560000000000002,14.300000000000011,21.170000000000016,8.020000000000039,23.99000000000001,22.420000000000016,22.0,31.560000000000002,26.05000000000001,11.510000000000048,14.730000000000018,19.670000000000016,17.120000000000005,26.420000000000016,25.02000000000004,26.480000000000018,22.939999999999998,28.870000000000005,15.25,16.24000000000001,30.25,22.920000000000016,27.970000000000027,26.04000000000002,10.770000000000039,12.970000000000027,11.730000000000018,24.470000000000027,17.970000000000027,23.07000000000005,21.03000000000003,14.460000000000036,23.07000000000005,33.05000000000001,15.04000000000002,27.99000000000001,27.480000000000018,26.430000000000007,15.210000000000036,28.970000000000027,30.950000000000045,25.950000000000045,16.720000000000027,31.54000000000002,13.900000000000034,13.900000000000034,20.900000000000034,36.97000000000003,26.970000000000027,27.07000000000005,26.450000000000045,24.879999999999995,32.0,11.730000000000018,29.970000000000027,29.970000000000027,17.970000000000027,14.580000000000041,22.410000000000025,20.870000000000005,32.97000000000003,21.910000000000025,26.980000000000018,28.03000000000003,26.810000000000002,22.930000000000007,10.600000000000023,31.0,13.79000000000002,26.24000000000001,8.270000000000039,32.01000000000005,30.370000000000005,29.83000000000004,27.28000000000003,25.83000000000004,29.230000000000018,29.230000000000018,24.0,16.930000000000007,17.80000000000001,34.0,14.590000000000032,13.970000000000027,33.620000000000005,31.29000000000002,24.920000000000016,12.610000000000014,5.32000000000005,21.80000000000001,22.350000000000023,20.27000000000004,24.05000000000001,18.200000000000045,27.939999999999998,38.47000000000003,30.439999999999998,28.900000000000034,13.879999999999995,20.120000000000005,23.140000000000043,11.75,28.340000000000032,32.08000000000004,18.710000000000036,31.210000000000036,26.08000000000004,26.810000000000002,23.180000000000007,23.360000000000014,30.970000000000027,28.910000000000025,30.260000000000048,28.08000000000004,22.310000000000002,28.33000000000004,10.79000000000002,26.360000000000014,9.210000000000036,26.180000000000007,29.99000000000001,28.010000000000048,16.400000000000034,21.610000000000014,16.110000000000014,10.939999999999998,25.090000000000032,8.700000000000045,17.79000000000002,25.0,14.390000000000043,12.140000000000043,10.330000000000041,28.860000000000014,11.460000000000036,29.980000000000018,30.03000000000003,24.920000000000016,29.970000000000027,25.79000000000002,31.689999999999998,30.52000000000004,27.27000000000004,31.08000000000004,18.460000000000036,27.33000000000004,24.900000000000034,1.920000000000016,26.900000000000034,4.050000000000011,20.08000000000004,6.230000000000018,26.720000000000027,26.680000000000007,20.180000000000007,25.24000000000001,25.77000000000004,16.79000000000002,26.689999999999998,3.8600000000000136,26.640000000000043,15.240000000000009,24.870000000000005,14.730000000000018,14.689999999999998,26.08000000000004,10.020000000000039,19.260000000000048,28.939999999999998,29.99000000000001,35.01000000000005,31.860000000000014,27.760000000000048,15.620000000000005,20.640000000000043,23.950000000000045,16.879999999999995,33.03000000000003,17.960000000000036,34.160000000000025,15.830000000000041,21.960000000000036,25.560000000000002,14.610000000000014,26.189999999999998,16.970000000000027,-0.6599999999999682,27.730000000000018,25.460000000000036,5.920000000000016,14.189999999999998,32.07000000000005,28.100000000000023,30.05000000000001,15.550000000000011,26.08000000000004,29.960000000000036,26.620000000000005,13.25,17.140000000000043,18.79000000000002,30.950000000000045,32.49000000000001,15.879999999999995,21.900000000000034,28.680000000000007,27.720000000000027,24.78000000000003,25.010000000000048,18.32000000000005,25.900000000000034,12.939999999999998,22.30000000000001,6.57000000000005,11.770000000000039,22.700000000000045,28.870000000000005,22.5,30.939999999999998,10.53000000000003,17.600000000000023,33.29000000000002,23.02000000000004,5.810000000000002,9.460000000000036,20.980000000000018,27.08000000000004,27.360000000000014,19.82000000000005,26.879999999999995,26.82000000000005,12.770000000000039,8.629999999999995,11.629999999999995,7.080000000000041,13.28000000000003,21.80000000000001,30.360000000000014,26.220000000000027,23.52000000000004,16.970000000000027,12.920000000000016,17.28000000000003,13.54000000000002,13.54000000000002,26.129999999999995,17.120000000000005,22.700000000000045,12.210000000000036,23.100000000000023,14.680000000000007,26.04000000000002,12.170000000000016,9.950000000000045,21.930000000000007,29.960000000000036,20.02000000000004,23.560000000000002,30.160000000000025,32.129999999999995,26.860000000000014,10.82000000000005,10.760000000000048,5.090000000000032,5.8799999999999955,12.170000000000016,29.970000000000027,29.99000000000001,25.710000000000036,18.860000000000014,11.700000000000045,28.82000000000005,4.189999999999998,30.58000000000004,32.05000000000001,20.970000000000027,15.840000000000032,25.420000000000016,18.99000000000001,16.939999999999998,16.260000000000048,21.970000000000027,17.03000000000003,13.490000000000009,23.99000000000001,11.210000000000036,8.660000000000025,19.28000000000003,18.890000000000043,4.07000000000005,12.850000000000023,11.980000000000018,17.30000000000001,20.620000000000005,29.970000000000027,13.170000000000016,33.01000000000005,10.090000000000032,12.720000000000027,27.700000000000045,13.110000000000014,26.950000000000045,12.840000000000032,26.05000000000001,13.450000000000045,24.920000000000016,27.980000000000018,22.74000000000001,5.770000000000039,12.090000000000032,22.939999999999998,11.840000000000032],\"xaxis\":\"x\",\"yaxis\":\"y\",\"type\":\"histogram\"}],                        {\"template\":{\"data\":{\"histogram2dcontour\":[{\"type\":\"histogram2dcontour\",\"colorbar\":{\"outlinewidth\":0,\"ticks\":\"\"},\"colorscale\":[[0.0,\"#0d0887\"],[0.1111111111111111,\"#46039f\"],[0.2222222222222222,\"#7201a8\"],[0.3333333333333333,\"#9c179e\"],[0.4444444444444444,\"#bd3786\"],[0.5555555555555556,\"#d8576b\"],[0.6666666666666666,\"#ed7953\"],[0.7777777777777778,\"#fb9f3a\"],[0.8888888888888888,\"#fdca26\"],[1.0,\"#f0f921\"]]}],\"choropleth\":[{\"type\":\"choropleth\",\"colorbar\":{\"outlinewidth\":0,\"ticks\":\"\"}}],\"histogram2d\":[{\"type\":\"histogram2d\",\"colorbar\":{\"outlinewidth\":0,\"ticks\":\"\"},\"colorscale\":[[0.0,\"#0d0887\"],[0.1111111111111111,\"#46039f\"],[0.2222222222222222,\"#7201a8\"],[0.3333333333333333,\"#9c179e\"],[0.4444444444444444,\"#bd3786\"],[0.5555555555555556,\"#d8576b\"],[0.6666666666666666,\"#ed7953\"],[0.7777777777777778,\"#fb9f3a\"],[0.8888888888888888,\"#fdca26\"],[1.0,\"#f0f921\"]]}],\"heatmap\":[{\"type\":\"heatmap\",\"colorbar\":{\"outlinewidth\":0,\"ticks\":\"\"},\"colorscale\":[[0.0,\"#0d0887\"],[0.1111111111111111,\"#46039f\"],[0.2222222222222222,\"#7201a8\"],[0.3333333333333333,\"#9c179e\"],[0.4444444444444444,\"#bd3786\"],[0.5555555555555556,\"#d8576b\"],[0.6666666666666666,\"#ed7953\"],[0.7777777777777778,\"#fb9f3a\"],[0.8888888888888888,\"#fdca26\"],[1.0,\"#f0f921\"]]}],\"heatmapgl\":[{\"type\":\"heatmapgl\",\"colorbar\":{\"outlinewidth\":0,\"ticks\":\"\"},\"colorscale\":[[0.0,\"#0d0887\"],[0.1111111111111111,\"#46039f\"],[0.2222222222222222,\"#7201a8\"],[0.3333333333333333,\"#9c179e\"],[0.4444444444444444,\"#bd3786\"],[0.5555555555555556,\"#d8576b\"],[0.6666666666666666,\"#ed7953\"],[0.7777777777777778,\"#fb9f3a\"],[0.8888888888888888,\"#fdca26\"],[1.0,\"#f0f921\"]]}],\"contourcarpet\":[{\"type\":\"contourcarpet\",\"colorbar\":{\"outlinewidth\":0,\"ticks\":\"\"}}],\"contour\":[{\"type\":\"contour\",\"colorbar\":{\"outlinewidth\":0,\"ticks\":\"\"},\"colorscale\":[[0.0,\"#0d0887\"],[0.1111111111111111,\"#46039f\"],[0.2222222222222222,\"#7201a8\"],[0.3333333333333333,\"#9c179e\"],[0.4444444444444444,\"#bd3786\"],[0.5555555555555556,\"#d8576b\"],[0.6666666666666666,\"#ed7953\"],[0.7777777777777778,\"#fb9f3a\"],[0.8888888888888888,\"#fdca26\"],[1.0,\"#f0f921\"]]}],\"surface\":[{\"type\":\"surface\",\"colorbar\":{\"outlinewidth\":0,\"ticks\":\"\"},\"colorscale\":[[0.0,\"#0d0887\"],[0.1111111111111111,\"#46039f\"],[0.2222222222222222,\"#7201a8\"],[0.3333333333333333,\"#9c179e\"],[0.4444444444444444,\"#bd3786\"],[0.5555555555555556,\"#d8576b\"],[0.6666666666666666,\"#ed7953\"],[0.7777777777777778,\"#fb9f3a\"],[0.8888888888888888,\"#fdca26\"],[1.0,\"#f0f921\"]]}],\"mesh3d\":[{\"type\":\"mesh3d\",\"colorbar\":{\"outlinewidth\":0,\"ticks\":\"\"}}],\"scatter\":[{\"fillpattern\":{\"fillmode\":\"overlay\",\"size\":10,\"solidity\":0.2},\"type\":\"scatter\"}],\"parcoords\":[{\"type\":\"parcoords\",\"line\":{\"colorbar\":{\"outlinewidth\":0,\"ticks\":\"\"}}}],\"scatterpolargl\":[{\"type\":\"scatterpolargl\",\"marker\":{\"colorbar\":{\"outlinewidth\":0,\"ticks\":\"\"}}}],\"bar\":[{\"error_x\":{\"color\":\"#2a3f5f\"},\"error_y\":{\"color\":\"#2a3f5f\"},\"marker\":{\"line\":{\"color\":\"#E5ECF6\",\"width\":0.5},\"pattern\":{\"fillmode\":\"overlay\",\"size\":10,\"solidity\":0.2}},\"type\":\"bar\"}],\"scattergeo\":[{\"type\":\"scattergeo\",\"marker\":{\"colorbar\":{\"outlinewidth\":0,\"ticks\":\"\"}}}],\"scatterpolar\":[{\"type\":\"scatterpolar\",\"marker\":{\"colorbar\":{\"outlinewidth\":0,\"ticks\":\"\"}}}],\"histogram\":[{\"marker\":{\"pattern\":{\"fillmode\":\"overlay\",\"size\":10,\"solidity\":0.2}},\"type\":\"histogram\"}],\"scattergl\":[{\"type\":\"scattergl\",\"marker\":{\"colorbar\":{\"outlinewidth\":0,\"ticks\":\"\"}}}],\"scatter3d\":[{\"type\":\"scatter3d\",\"line\":{\"colorbar\":{\"outlinewidth\":0,\"ticks\":\"\"}},\"marker\":{\"colorbar\":{\"outlinewidth\":0,\"ticks\":\"\"}}}],\"scattermapbox\":[{\"type\":\"scattermapbox\",\"marker\":{\"colorbar\":{\"outlinewidth\":0,\"ticks\":\"\"}}}],\"scatterternary\":[{\"type\":\"scatterternary\",\"marker\":{\"colorbar\":{\"outlinewidth\":0,\"ticks\":\"\"}}}],\"scattercarpet\":[{\"type\":\"scattercarpet\",\"marker\":{\"colorbar\":{\"outlinewidth\":0,\"ticks\":\"\"}}}],\"carpet\":[{\"aaxis\":{\"endlinecolor\":\"#2a3f5f\",\"gridcolor\":\"white\",\"linecolor\":\"white\",\"minorgridcolor\":\"white\",\"startlinecolor\":\"#2a3f5f\"},\"baxis\":{\"endlinecolor\":\"#2a3f5f\",\"gridcolor\":\"white\",\"linecolor\":\"white\",\"minorgridcolor\":\"white\",\"startlinecolor\":\"#2a3f5f\"},\"type\":\"carpet\"}],\"table\":[{\"cells\":{\"fill\":{\"color\":\"#EBF0F8\"},\"line\":{\"color\":\"white\"}},\"header\":{\"fill\":{\"color\":\"#C8D4E3\"},\"line\":{\"color\":\"white\"}},\"type\":\"table\"}],\"barpolar\":[{\"marker\":{\"line\":{\"color\":\"#E5ECF6\",\"width\":0.5},\"pattern\":{\"fillmode\":\"overlay\",\"size\":10,\"solidity\":0.2}},\"type\":\"barpolar\"}],\"pie\":[{\"automargin\":true,\"type\":\"pie\"}]},\"layout\":{\"autotypenumbers\":\"strict\",\"colorway\":[\"#636efa\",\"#EF553B\",\"#00cc96\",\"#ab63fa\",\"#FFA15A\",\"#19d3f3\",\"#FF6692\",\"#B6E880\",\"#FF97FF\",\"#FECB52\"],\"font\":{\"color\":\"#2a3f5f\"},\"hovermode\":\"closest\",\"hoverlabel\":{\"align\":\"left\"},\"paper_bgcolor\":\"white\",\"plot_bgcolor\":\"#E5ECF6\",\"polar\":{\"bgcolor\":\"#E5ECF6\",\"angularaxis\":{\"gridcolor\":\"white\",\"linecolor\":\"white\",\"ticks\":\"\"},\"radialaxis\":{\"gridcolor\":\"white\",\"linecolor\":\"white\",\"ticks\":\"\"}},\"ternary\":{\"bgcolor\":\"#E5ECF6\",\"aaxis\":{\"gridcolor\":\"white\",\"linecolor\":\"white\",\"ticks\":\"\"},\"baxis\":{\"gridcolor\":\"white\",\"linecolor\":\"white\",\"ticks\":\"\"},\"caxis\":{\"gridcolor\":\"white\",\"linecolor\":\"white\",\"ticks\":\"\"}},\"coloraxis\":{\"colorbar\":{\"outlinewidth\":0,\"ticks\":\"\"}},\"colorscale\":{\"sequential\":[[0.0,\"#0d0887\"],[0.1111111111111111,\"#46039f\"],[0.2222222222222222,\"#7201a8\"],[0.3333333333333333,\"#9c179e\"],[0.4444444444444444,\"#bd3786\"],[0.5555555555555556,\"#d8576b\"],[0.6666666666666666,\"#ed7953\"],[0.7777777777777778,\"#fb9f3a\"],[0.8888888888888888,\"#fdca26\"],[1.0,\"#f0f921\"]],\"sequentialminus\":[[0.0,\"#0d0887\"],[0.1111111111111111,\"#46039f\"],[0.2222222222222222,\"#7201a8\"],[0.3333333333333333,\"#9c179e\"],[0.4444444444444444,\"#bd3786\"],[0.5555555555555556,\"#d8576b\"],[0.6666666666666666,\"#ed7953\"],[0.7777777777777778,\"#fb9f3a\"],[0.8888888888888888,\"#fdca26\"],[1.0,\"#f0f921\"]],\"diverging\":[[0,\"#8e0152\"],[0.1,\"#c51b7d\"],[0.2,\"#de77ae\"],[0.3,\"#f1b6da\"],[0.4,\"#fde0ef\"],[0.5,\"#f7f7f7\"],[0.6,\"#e6f5d0\"],[0.7,\"#b8e186\"],[0.8,\"#7fbc41\"],[0.9,\"#4d9221\"],[1,\"#276419\"]]},\"xaxis\":{\"gridcolor\":\"white\",\"linecolor\":\"white\",\"ticks\":\"\",\"title\":{\"standoff\":15},\"zerolinecolor\":\"white\",\"automargin\":true,\"zerolinewidth\":2},\"yaxis\":{\"gridcolor\":\"white\",\"linecolor\":\"white\",\"ticks\":\"\",\"title\":{\"standoff\":15},\"zerolinecolor\":\"white\",\"automargin\":true,\"zerolinewidth\":2},\"scene\":{\"xaxis\":{\"backgroundcolor\":\"#E5ECF6\",\"gridcolor\":\"white\",\"linecolor\":\"white\",\"showbackground\":true,\"ticks\":\"\",\"zerolinecolor\":\"white\",\"gridwidth\":2},\"yaxis\":{\"backgroundcolor\":\"#E5ECF6\",\"gridcolor\":\"white\",\"linecolor\":\"white\",\"showbackground\":true,\"ticks\":\"\",\"zerolinecolor\":\"white\",\"gridwidth\":2},\"zaxis\":{\"backgroundcolor\":\"#E5ECF6\",\"gridcolor\":\"white\",\"linecolor\":\"white\",\"showbackground\":true,\"ticks\":\"\",\"zerolinecolor\":\"white\",\"gridwidth\":2}},\"shapedefaults\":{\"line\":{\"color\":\"#2a3f5f\"}},\"annotationdefaults\":{\"arrowcolor\":\"#2a3f5f\",\"arrowhead\":0,\"arrowwidth\":1},\"geo\":{\"bgcolor\":\"white\",\"landcolor\":\"#E5ECF6\",\"subunitcolor\":\"white\",\"showland\":true,\"showlakes\":true,\"lakecolor\":\"white\"},\"title\":{\"x\":0.05},\"mapbox\":{\"style\":\"light\"}}},\"xaxis\":{\"anchor\":\"y\",\"domain\":[0.0,1.0],\"title\":{\"text\":\"curr_temp_C\"}},\"yaxis\":{\"anchor\":\"x\",\"domain\":[0.0,1.0],\"title\":{\"text\":\"count\"}},\"legend\":{\"tracegroupgap\":0},\"title\":{\"text\":\"Histograma de las temperaturas en Centigrados\"},\"barmode\":\"relative\"},                        {\"responsive\": true}                    ).then(function(){\n",
       "                            \n",
       "var gd = document.getElementById('fb4ef47b-1939-4195-bdd2-377f375cb56b');\n",
       "var x = new MutationObserver(function (mutations, observer) {{\n",
       "        var display = window.getComputedStyle(gd).display;\n",
       "        if (!display || display === 'none') {{\n",
       "            console.log([gd, 'removed!']);\n",
       "            Plotly.purge(gd);\n",
       "            observer.disconnect();\n",
       "        }}\n",
       "}});\n",
       "\n",
       "// Listen for the removal of the full notebook cells\n",
       "var notebookContainer = gd.closest('#notebook-container');\n",
       "if (notebookContainer) {{\n",
       "    x.observe(notebookContainer, {childList: true});\n",
       "}}\n",
       "\n",
       "// Listen for the clearing of the current output cell\n",
       "var outputEl = gd.closest('.output');\n",
       "if (outputEl) {{\n",
       "    x.observe(outputEl, {childList: true});\n",
       "}}\n",
       "\n",
       "                        })                };                });            </script>        </div>"
      ]
     },
     "metadata": {},
     "output_type": "display_data"
    }
   ],
   "source": [
    "fig = px.histogram(df, x=\"curr_temp_C\",nbins=80, title='Histograma de las temperaturas en Centígrados')\n",
    "fig.show()"
   ]
  },
  {
   "cell_type": "code",
   "execution_count": 69,
   "id": "38017279",
   "metadata": {},
   "outputs": [
    {
     "data": {
      "application/vnd.plotly.v1+json": {
       "config": {
        "plotlyServerURL": "https://plot.ly"
       },
       "data": [
        {
         "alignmentgroup": "True",
         "hovertemplate": "description=%{x}<br>curr_temp_C=%{y}<extra></extra>",
         "legendgroup": "",
         "marker": {
          "color": "#636efa"
         },
         "name": "",
         "notched": false,
         "offsetgroup": "",
         "orientation": "v",
         "showlegend": false,
         "type": "box",
         "x": [
          "scattered clouds",
          "clear sky",
          "overcast clouds",
          "thunderstorm with light rain",
          "light rain",
          "haze",
          "few clouds",
          "overcast clouds",
          "few clouds",
          "broken clouds",
          "broken clouds",
          "broken clouds",
          "clear sky",
          "overcast clouds",
          "scattered clouds",
          "few clouds",
          "broken clouds",
          "overcast clouds",
          "scattered clouds",
          "clear sky",
          "overcast clouds",
          "broken clouds",
          "overcast clouds",
          "broken clouds",
          "clear sky",
          "clear sky",
          "thunderstorm",
          "broken clouds",
          "broken clouds",
          "scattered clouds",
          "scattered clouds",
          "overcast clouds",
          "overcast clouds",
          "few clouds",
          "scattered clouds",
          "clear sky",
          "scattered clouds",
          "few clouds",
          "overcast clouds",
          "clear sky",
          "haze",
          "clear sky",
          "clear sky",
          "scattered clouds",
          "clear sky",
          "few clouds",
          "clear sky",
          "overcast clouds",
          "clear sky",
          "overcast clouds",
          "broken clouds",
          "clear sky",
          "clear sky",
          "light rain",
          "scattered clouds",
          "clear sky",
          "clear sky",
          "clear sky",
          "clear sky",
          "scattered clouds",
          "overcast clouds",
          "scattered clouds",
          "clear sky",
          "clear sky",
          "broken clouds",
          "scattered clouds",
          "thunderstorm with light rain",
          "broken clouds",
          "light intensity drizzle",
          "broken clouds",
          "overcast clouds",
          "light rain",
          "broken clouds",
          "scattered clouds",
          "mist",
          "thunderstorm",
          "clear sky",
          "clear sky",
          "few clouds",
          "overcast clouds",
          "scattered clouds",
          "thunderstorm with light rain",
          "broken clouds",
          "overcast clouds",
          "few clouds",
          "clear sky",
          "overcast clouds",
          "few clouds",
          "broken clouds",
          "scattered clouds",
          "light rain",
          "haze",
          "overcast clouds",
          "haze",
          "overcast clouds",
          "light rain",
          "overcast clouds",
          "clear sky",
          "broken clouds",
          "drizzle",
          "clear sky",
          "clear sky",
          "clear sky",
          "clear sky",
          "overcast clouds",
          "few clouds",
          "few clouds",
          "broken clouds",
          "light rain",
          "broken clouds",
          "broken clouds",
          "clear sky",
          "few clouds",
          "few clouds",
          "scattered clouds",
          "overcast clouds",
          "broken clouds",
          "broken clouds",
          "scattered clouds",
          "few clouds",
          "moderate rain",
          "clear sky",
          "few clouds",
          "broken clouds",
          "clear sky",
          "scattered clouds",
          "few clouds",
          "few clouds",
          "clear sky",
          "broken clouds",
          "scattered clouds",
          "light rain",
          "scattered clouds",
          "broken clouds",
          "haze",
          "haze",
          "light rain",
          "broken clouds",
          "scattered clouds",
          "clear sky",
          "broken clouds",
          "clear sky",
          "haze",
          "haze",
          "clear sky",
          "few clouds",
          "clear sky",
          "dust",
          "clear sky",
          "broken clouds",
          "overcast clouds",
          "scattered clouds",
          "clear sky",
          "clear sky",
          "scattered clouds",
          "smoke",
          "overcast clouds",
          "few clouds",
          "broken clouds",
          "overcast clouds",
          "clear sky",
          "clear sky",
          "few clouds",
          "clear sky",
          "few clouds",
          "scattered clouds",
          "thunderstorm with light rain",
          "broken clouds",
          "haze",
          "overcast clouds",
          "scattered clouds",
          "few clouds",
          "overcast clouds",
          "clear sky",
          "clear sky",
          "scattered clouds",
          "broken clouds",
          "light rain",
          "haze",
          "light rain",
          "scattered clouds",
          "overcast clouds",
          "clear sky",
          "scattered clouds",
          "thunderstorm",
          "clear sky",
          "overcast clouds",
          "broken clouds",
          "scattered clouds",
          "clear sky",
          "overcast clouds",
          "scattered clouds",
          "clear sky",
          "light rain",
          "few clouds",
          "light rain",
          "scattered clouds",
          "broken clouds",
          "scattered clouds",
          "clear sky",
          "moderate rain",
          "scattered clouds",
          "clear sky",
          "overcast clouds",
          "scattered clouds",
          "clear sky",
          "few clouds",
          "clear sky",
          "clear sky",
          "clear sky",
          "clear sky",
          "broken clouds",
          "broken clouds",
          "clear sky",
          "broken clouds",
          "moderate rain",
          "clear sky",
          "overcast clouds",
          "overcast clouds",
          "moderate rain",
          "light rain",
          "overcast clouds",
          "moderate rain",
          "broken clouds",
          "overcast clouds",
          "moderate rain",
          "smoke",
          "haze",
          "broken clouds",
          "broken clouds",
          "scattered clouds",
          "clear sky",
          "overcast clouds",
          "overcast clouds",
          "fog",
          "clear sky",
          "mist",
          "clear sky",
          "scattered clouds",
          "scattered clouds",
          "overcast clouds",
          "clear sky",
          "broken clouds",
          "clear sky",
          "scattered clouds",
          "scattered clouds",
          "broken clouds",
          "clear sky",
          "mist",
          "clear sky",
          "broken clouds",
          "few clouds",
          "scattered clouds",
          "overcast clouds",
          "scattered clouds",
          "overcast clouds",
          "clear sky",
          "overcast clouds",
          "broken clouds",
          "scattered clouds",
          "few clouds",
          "clear sky",
          "clear sky",
          "haze",
          "overcast clouds",
          "light rain",
          "broken clouds",
          "mist",
          "moderate rain",
          "clear sky",
          "few clouds",
          "clear sky",
          "broken clouds",
          "overcast clouds",
          "clear sky",
          "broken clouds",
          "scattered clouds",
          "overcast clouds",
          "light rain",
          "clear sky",
          "broken clouds",
          "broken clouds",
          "clear sky",
          "clear sky",
          "overcast clouds",
          "scattered clouds",
          "mist",
          "scattered clouds",
          "broken clouds",
          "clear sky",
          "broken clouds",
          "clear sky",
          "fog",
          "clear sky",
          "clear sky",
          "broken clouds",
          "scattered clouds",
          "overcast clouds",
          "overcast clouds",
          "broken clouds",
          "few clouds",
          "clear sky",
          "broken clouds",
          "broken clouds",
          "scattered clouds",
          "broken clouds",
          "clear sky",
          "overcast clouds",
          "clear sky",
          "overcast clouds",
          "light intensity shower rain",
          "clear sky",
          "few clouds",
          "few clouds",
          "broken clouds",
          "broken clouds",
          "clear sky",
          "broken clouds",
          "light rain",
          "scattered clouds",
          "broken clouds",
          "clear sky",
          "few clouds",
          "broken clouds",
          "few clouds",
          "few clouds",
          "broken clouds",
          "clear sky",
          "overcast clouds",
          "broken clouds",
          "clear sky",
          "few clouds",
          "scattered clouds",
          "clear sky",
          "overcast clouds",
          "scattered clouds",
          "broken clouds",
          "few clouds",
          "broken clouds",
          "clear sky",
          "overcast clouds",
          "overcast clouds",
          "scattered clouds",
          "overcast clouds",
          "clear sky",
          "clear sky",
          "few clouds",
          "broken clouds",
          "overcast clouds",
          "overcast clouds",
          "few clouds",
          "few clouds",
          "scattered clouds",
          "clear sky",
          "clear sky",
          "clear sky",
          "clear sky",
          "overcast clouds",
          "broken clouds",
          "few clouds",
          "clear sky",
          "scattered clouds",
          "moderate rain",
          "broken clouds",
          "scattered clouds",
          "broken clouds",
          "few clouds",
          "few clouds",
          "broken clouds",
          "clear sky"
         ],
         "x0": " ",
         "xaxis": "x",
         "y": [
          25.980000000000018,
          30.060000000000002,
          26.08000000000004,
          24.230000000000018,
          13.490000000000009,
          30.02000000000004,
          15.470000000000027,
          17.30000000000001,
          10.900000000000034,
          18.950000000000045,
          13.050000000000011,
          13.879999999999995,
          13.090000000000032,
          3.4700000000000273,
          11.330000000000041,
          10.980000000000018,
          32.950000000000045,
          7.1200000000000045,
          22.920000000000016,
          15.25,
          18.689999999999998,
          18.430000000000007,
          15.379999999999995,
          25.03000000000003,
          22.950000000000045,
          16.03000000000003,
          23.230000000000018,
          29.710000000000036,
          28.99000000000001,
          26.980000000000018,
          32.57000000000005,
          22.760000000000048,
          24.189999999999998,
          14.57000000000005,
          27.879999999999995,
          28.980000000000018,
          24.58000000000004,
          26.480000000000018,
          22.939999999999998,
          18.410000000000025,
          30.629999999999995,
          26.02000000000004,
          14.430000000000007,
          29.210000000000036,
          14.439999999999998,
          24.80000000000001,
          13.840000000000032,
          10.78000000000003,
          15.110000000000014,
          25.99000000000001,
          13.730000000000018,
          15.510000000000048,
          13.100000000000023,
          23.170000000000016,
          27.27000000000004,
          20.620000000000005,
          10.960000000000036,
          15.700000000000045,
          16.560000000000002,
          14.300000000000011,
          21.170000000000016,
          8.020000000000039,
          23.99000000000001,
          22.420000000000016,
          22,
          31.560000000000002,
          26.05000000000001,
          11.510000000000048,
          14.730000000000018,
          19.670000000000016,
          17.120000000000005,
          26.420000000000016,
          25.02000000000004,
          26.480000000000018,
          22.939999999999998,
          28.870000000000005,
          15.25,
          16.24000000000001,
          30.25,
          22.920000000000016,
          27.970000000000027,
          26.04000000000002,
          10.770000000000039,
          12.970000000000027,
          11.730000000000018,
          24.470000000000027,
          17.970000000000027,
          23.07000000000005,
          21.03000000000003,
          14.460000000000036,
          23.07000000000005,
          33.05000000000001,
          15.04000000000002,
          27.99000000000001,
          27.480000000000018,
          26.430000000000007,
          15.210000000000036,
          28.970000000000027,
          30.950000000000045,
          25.950000000000045,
          16.720000000000027,
          31.54000000000002,
          13.900000000000034,
          13.900000000000034,
          20.900000000000034,
          36.97000000000003,
          26.970000000000027,
          27.07000000000005,
          26.450000000000045,
          24.879999999999995,
          32,
          11.730000000000018,
          29.970000000000027,
          29.970000000000027,
          17.970000000000027,
          14.580000000000041,
          22.410000000000025,
          20.870000000000005,
          32.97000000000003,
          21.910000000000025,
          26.980000000000018,
          28.03000000000003,
          26.810000000000002,
          22.930000000000007,
          10.600000000000023,
          31,
          13.79000000000002,
          26.24000000000001,
          8.270000000000039,
          32.01000000000005,
          30.370000000000005,
          29.83000000000004,
          27.28000000000003,
          25.83000000000004,
          29.230000000000018,
          29.230000000000018,
          24,
          16.930000000000007,
          17.80000000000001,
          34,
          14.590000000000032,
          13.970000000000027,
          33.620000000000005,
          31.29000000000002,
          24.920000000000016,
          12.610000000000014,
          5.32000000000005,
          21.80000000000001,
          22.350000000000023,
          20.27000000000004,
          24.05000000000001,
          18.200000000000045,
          27.939999999999998,
          38.47000000000003,
          30.439999999999998,
          28.900000000000034,
          13.879999999999995,
          20.120000000000005,
          23.140000000000043,
          11.75,
          28.340000000000032,
          32.08000000000004,
          18.710000000000036,
          31.210000000000036,
          26.08000000000004,
          26.810000000000002,
          23.180000000000007,
          23.360000000000014,
          30.970000000000027,
          28.910000000000025,
          30.260000000000048,
          28.08000000000004,
          22.310000000000002,
          28.33000000000004,
          10.79000000000002,
          26.360000000000014,
          9.210000000000036,
          26.180000000000007,
          29.99000000000001,
          28.010000000000048,
          16.400000000000034,
          21.610000000000014,
          16.110000000000014,
          10.939999999999998,
          25.090000000000032,
          8.700000000000045,
          17.79000000000002,
          25,
          14.390000000000043,
          12.140000000000043,
          10.330000000000041,
          28.860000000000014,
          11.460000000000036,
          29.980000000000018,
          30.03000000000003,
          24.920000000000016,
          29.970000000000027,
          25.79000000000002,
          31.689999999999998,
          30.52000000000004,
          27.27000000000004,
          31.08000000000004,
          18.460000000000036,
          27.33000000000004,
          24.900000000000034,
          1.920000000000016,
          26.900000000000034,
          4.050000000000011,
          20.08000000000004,
          6.230000000000018,
          26.720000000000027,
          26.680000000000007,
          20.180000000000007,
          25.24000000000001,
          25.77000000000004,
          16.79000000000002,
          26.689999999999998,
          3.8600000000000136,
          26.640000000000043,
          15.240000000000009,
          24.870000000000005,
          14.730000000000018,
          14.689999999999998,
          26.08000000000004,
          10.020000000000039,
          19.260000000000048,
          28.939999999999998,
          29.99000000000001,
          35.01000000000005,
          31.860000000000014,
          27.760000000000048,
          15.620000000000005,
          20.640000000000043,
          23.950000000000045,
          16.879999999999995,
          33.03000000000003,
          17.960000000000036,
          34.160000000000025,
          15.830000000000041,
          21.960000000000036,
          25.560000000000002,
          14.610000000000014,
          26.189999999999998,
          16.970000000000027,
          -0.6599999999999682,
          27.730000000000018,
          25.460000000000036,
          5.920000000000016,
          14.189999999999998,
          32.07000000000005,
          28.100000000000023,
          30.05000000000001,
          15.550000000000011,
          26.08000000000004,
          29.960000000000036,
          26.620000000000005,
          13.25,
          17.140000000000043,
          18.79000000000002,
          30.950000000000045,
          32.49000000000001,
          15.879999999999995,
          21.900000000000034,
          28.680000000000007,
          27.720000000000027,
          24.78000000000003,
          25.010000000000048,
          18.32000000000005,
          25.900000000000034,
          12.939999999999998,
          22.30000000000001,
          6.57000000000005,
          11.770000000000039,
          22.700000000000045,
          28.870000000000005,
          22.5,
          30.939999999999998,
          10.53000000000003,
          17.600000000000023,
          33.29000000000002,
          23.02000000000004,
          5.810000000000002,
          9.460000000000036,
          20.980000000000018,
          27.08000000000004,
          27.360000000000014,
          19.82000000000005,
          26.879999999999995,
          26.82000000000005,
          12.770000000000039,
          8.629999999999995,
          11.629999999999995,
          7.080000000000041,
          13.28000000000003,
          21.80000000000001,
          30.360000000000014,
          26.220000000000027,
          23.52000000000004,
          16.970000000000027,
          12.920000000000016,
          17.28000000000003,
          13.54000000000002,
          13.54000000000002,
          26.129999999999995,
          17.120000000000005,
          22.700000000000045,
          12.210000000000036,
          23.100000000000023,
          14.680000000000007,
          26.04000000000002,
          12.170000000000016,
          9.950000000000045,
          21.930000000000007,
          29.960000000000036,
          20.02000000000004,
          23.560000000000002,
          30.160000000000025,
          32.129999999999995,
          26.860000000000014,
          10.82000000000005,
          10.760000000000048,
          5.090000000000032,
          5.8799999999999955,
          12.170000000000016,
          29.970000000000027,
          29.99000000000001,
          25.710000000000036,
          18.860000000000014,
          11.700000000000045,
          28.82000000000005,
          4.189999999999998,
          30.58000000000004,
          32.05000000000001,
          20.970000000000027,
          15.840000000000032,
          25.420000000000016,
          18.99000000000001,
          16.939999999999998,
          16.260000000000048,
          21.970000000000027,
          17.03000000000003,
          13.490000000000009,
          23.99000000000001,
          11.210000000000036,
          8.660000000000025,
          19.28000000000003,
          18.890000000000043,
          4.07000000000005,
          12.850000000000023,
          11.980000000000018,
          17.30000000000001,
          20.620000000000005,
          29.970000000000027,
          13.170000000000016,
          33.01000000000005,
          10.090000000000032,
          12.720000000000027,
          27.700000000000045,
          13.110000000000014,
          26.950000000000045,
          12.840000000000032,
          26.05000000000001,
          13.450000000000045,
          24.920000000000016,
          27.980000000000018,
          22.74000000000001,
          5.770000000000039,
          12.090000000000032,
          22.939999999999998,
          11.840000000000032
         ],
         "y0": " ",
         "yaxis": "y"
        }
       ],
       "layout": {
        "boxmode": "group",
        "legend": {
         "tracegroupgap": 0
        },
        "template": {
         "data": {
          "bar": [
           {
            "error_x": {
             "color": "#2a3f5f"
            },
            "error_y": {
             "color": "#2a3f5f"
            },
            "marker": {
             "line": {
              "color": "#E5ECF6",
              "width": 0.5
             },
             "pattern": {
              "fillmode": "overlay",
              "size": 10,
              "solidity": 0.2
             }
            },
            "type": "bar"
           }
          ],
          "barpolar": [
           {
            "marker": {
             "line": {
              "color": "#E5ECF6",
              "width": 0.5
             },
             "pattern": {
              "fillmode": "overlay",
              "size": 10,
              "solidity": 0.2
             }
            },
            "type": "barpolar"
           }
          ],
          "carpet": [
           {
            "aaxis": {
             "endlinecolor": "#2a3f5f",
             "gridcolor": "white",
             "linecolor": "white",
             "minorgridcolor": "white",
             "startlinecolor": "#2a3f5f"
            },
            "baxis": {
             "endlinecolor": "#2a3f5f",
             "gridcolor": "white",
             "linecolor": "white",
             "minorgridcolor": "white",
             "startlinecolor": "#2a3f5f"
            },
            "type": "carpet"
           }
          ],
          "choropleth": [
           {
            "colorbar": {
             "outlinewidth": 0,
             "ticks": ""
            },
            "type": "choropleth"
           }
          ],
          "contour": [
           {
            "colorbar": {
             "outlinewidth": 0,
             "ticks": ""
            },
            "colorscale": [
             [
              0,
              "#0d0887"
             ],
             [
              0.1111111111111111,
              "#46039f"
             ],
             [
              0.2222222222222222,
              "#7201a8"
             ],
             [
              0.3333333333333333,
              "#9c179e"
             ],
             [
              0.4444444444444444,
              "#bd3786"
             ],
             [
              0.5555555555555556,
              "#d8576b"
             ],
             [
              0.6666666666666666,
              "#ed7953"
             ],
             [
              0.7777777777777778,
              "#fb9f3a"
             ],
             [
              0.8888888888888888,
              "#fdca26"
             ],
             [
              1,
              "#f0f921"
             ]
            ],
            "type": "contour"
           }
          ],
          "contourcarpet": [
           {
            "colorbar": {
             "outlinewidth": 0,
             "ticks": ""
            },
            "type": "contourcarpet"
           }
          ],
          "heatmap": [
           {
            "colorbar": {
             "outlinewidth": 0,
             "ticks": ""
            },
            "colorscale": [
             [
              0,
              "#0d0887"
             ],
             [
              0.1111111111111111,
              "#46039f"
             ],
             [
              0.2222222222222222,
              "#7201a8"
             ],
             [
              0.3333333333333333,
              "#9c179e"
             ],
             [
              0.4444444444444444,
              "#bd3786"
             ],
             [
              0.5555555555555556,
              "#d8576b"
             ],
             [
              0.6666666666666666,
              "#ed7953"
             ],
             [
              0.7777777777777778,
              "#fb9f3a"
             ],
             [
              0.8888888888888888,
              "#fdca26"
             ],
             [
              1,
              "#f0f921"
             ]
            ],
            "type": "heatmap"
           }
          ],
          "heatmapgl": [
           {
            "colorbar": {
             "outlinewidth": 0,
             "ticks": ""
            },
            "colorscale": [
             [
              0,
              "#0d0887"
             ],
             [
              0.1111111111111111,
              "#46039f"
             ],
             [
              0.2222222222222222,
              "#7201a8"
             ],
             [
              0.3333333333333333,
              "#9c179e"
             ],
             [
              0.4444444444444444,
              "#bd3786"
             ],
             [
              0.5555555555555556,
              "#d8576b"
             ],
             [
              0.6666666666666666,
              "#ed7953"
             ],
             [
              0.7777777777777778,
              "#fb9f3a"
             ],
             [
              0.8888888888888888,
              "#fdca26"
             ],
             [
              1,
              "#f0f921"
             ]
            ],
            "type": "heatmapgl"
           }
          ],
          "histogram": [
           {
            "marker": {
             "pattern": {
              "fillmode": "overlay",
              "size": 10,
              "solidity": 0.2
             }
            },
            "type": "histogram"
           }
          ],
          "histogram2d": [
           {
            "colorbar": {
             "outlinewidth": 0,
             "ticks": ""
            },
            "colorscale": [
             [
              0,
              "#0d0887"
             ],
             [
              0.1111111111111111,
              "#46039f"
             ],
             [
              0.2222222222222222,
              "#7201a8"
             ],
             [
              0.3333333333333333,
              "#9c179e"
             ],
             [
              0.4444444444444444,
              "#bd3786"
             ],
             [
              0.5555555555555556,
              "#d8576b"
             ],
             [
              0.6666666666666666,
              "#ed7953"
             ],
             [
              0.7777777777777778,
              "#fb9f3a"
             ],
             [
              0.8888888888888888,
              "#fdca26"
             ],
             [
              1,
              "#f0f921"
             ]
            ],
            "type": "histogram2d"
           }
          ],
          "histogram2dcontour": [
           {
            "colorbar": {
             "outlinewidth": 0,
             "ticks": ""
            },
            "colorscale": [
             [
              0,
              "#0d0887"
             ],
             [
              0.1111111111111111,
              "#46039f"
             ],
             [
              0.2222222222222222,
              "#7201a8"
             ],
             [
              0.3333333333333333,
              "#9c179e"
             ],
             [
              0.4444444444444444,
              "#bd3786"
             ],
             [
              0.5555555555555556,
              "#d8576b"
             ],
             [
              0.6666666666666666,
              "#ed7953"
             ],
             [
              0.7777777777777778,
              "#fb9f3a"
             ],
             [
              0.8888888888888888,
              "#fdca26"
             ],
             [
              1,
              "#f0f921"
             ]
            ],
            "type": "histogram2dcontour"
           }
          ],
          "mesh3d": [
           {
            "colorbar": {
             "outlinewidth": 0,
             "ticks": ""
            },
            "type": "mesh3d"
           }
          ],
          "parcoords": [
           {
            "line": {
             "colorbar": {
              "outlinewidth": 0,
              "ticks": ""
             }
            },
            "type": "parcoords"
           }
          ],
          "pie": [
           {
            "automargin": true,
            "type": "pie"
           }
          ],
          "scatter": [
           {
            "fillpattern": {
             "fillmode": "overlay",
             "size": 10,
             "solidity": 0.2
            },
            "type": "scatter"
           }
          ],
          "scatter3d": [
           {
            "line": {
             "colorbar": {
              "outlinewidth": 0,
              "ticks": ""
             }
            },
            "marker": {
             "colorbar": {
              "outlinewidth": 0,
              "ticks": ""
             }
            },
            "type": "scatter3d"
           }
          ],
          "scattercarpet": [
           {
            "marker": {
             "colorbar": {
              "outlinewidth": 0,
              "ticks": ""
             }
            },
            "type": "scattercarpet"
           }
          ],
          "scattergeo": [
           {
            "marker": {
             "colorbar": {
              "outlinewidth": 0,
              "ticks": ""
             }
            },
            "type": "scattergeo"
           }
          ],
          "scattergl": [
           {
            "marker": {
             "colorbar": {
              "outlinewidth": 0,
              "ticks": ""
             }
            },
            "type": "scattergl"
           }
          ],
          "scattermapbox": [
           {
            "marker": {
             "colorbar": {
              "outlinewidth": 0,
              "ticks": ""
             }
            },
            "type": "scattermapbox"
           }
          ],
          "scatterpolar": [
           {
            "marker": {
             "colorbar": {
              "outlinewidth": 0,
              "ticks": ""
             }
            },
            "type": "scatterpolar"
           }
          ],
          "scatterpolargl": [
           {
            "marker": {
             "colorbar": {
              "outlinewidth": 0,
              "ticks": ""
             }
            },
            "type": "scatterpolargl"
           }
          ],
          "scatterternary": [
           {
            "marker": {
             "colorbar": {
              "outlinewidth": 0,
              "ticks": ""
             }
            },
            "type": "scatterternary"
           }
          ],
          "surface": [
           {
            "colorbar": {
             "outlinewidth": 0,
             "ticks": ""
            },
            "colorscale": [
             [
              0,
              "#0d0887"
             ],
             [
              0.1111111111111111,
              "#46039f"
             ],
             [
              0.2222222222222222,
              "#7201a8"
             ],
             [
              0.3333333333333333,
              "#9c179e"
             ],
             [
              0.4444444444444444,
              "#bd3786"
             ],
             [
              0.5555555555555556,
              "#d8576b"
             ],
             [
              0.6666666666666666,
              "#ed7953"
             ],
             [
              0.7777777777777778,
              "#fb9f3a"
             ],
             [
              0.8888888888888888,
              "#fdca26"
             ],
             [
              1,
              "#f0f921"
             ]
            ],
            "type": "surface"
           }
          ],
          "table": [
           {
            "cells": {
             "fill": {
              "color": "#EBF0F8"
             },
             "line": {
              "color": "white"
             }
            },
            "header": {
             "fill": {
              "color": "#C8D4E3"
             },
             "line": {
              "color": "white"
             }
            },
            "type": "table"
           }
          ]
         },
         "layout": {
          "annotationdefaults": {
           "arrowcolor": "#2a3f5f",
           "arrowhead": 0,
           "arrowwidth": 1
          },
          "autotypenumbers": "strict",
          "coloraxis": {
           "colorbar": {
            "outlinewidth": 0,
            "ticks": ""
           }
          },
          "colorscale": {
           "diverging": [
            [
             0,
             "#8e0152"
            ],
            [
             0.1,
             "#c51b7d"
            ],
            [
             0.2,
             "#de77ae"
            ],
            [
             0.3,
             "#f1b6da"
            ],
            [
             0.4,
             "#fde0ef"
            ],
            [
             0.5,
             "#f7f7f7"
            ],
            [
             0.6,
             "#e6f5d0"
            ],
            [
             0.7,
             "#b8e186"
            ],
            [
             0.8,
             "#7fbc41"
            ],
            [
             0.9,
             "#4d9221"
            ],
            [
             1,
             "#276419"
            ]
           ],
           "sequential": [
            [
             0,
             "#0d0887"
            ],
            [
             0.1111111111111111,
             "#46039f"
            ],
            [
             0.2222222222222222,
             "#7201a8"
            ],
            [
             0.3333333333333333,
             "#9c179e"
            ],
            [
             0.4444444444444444,
             "#bd3786"
            ],
            [
             0.5555555555555556,
             "#d8576b"
            ],
            [
             0.6666666666666666,
             "#ed7953"
            ],
            [
             0.7777777777777778,
             "#fb9f3a"
            ],
            [
             0.8888888888888888,
             "#fdca26"
            ],
            [
             1,
             "#f0f921"
            ]
           ],
           "sequentialminus": [
            [
             0,
             "#0d0887"
            ],
            [
             0.1111111111111111,
             "#46039f"
            ],
            [
             0.2222222222222222,
             "#7201a8"
            ],
            [
             0.3333333333333333,
             "#9c179e"
            ],
            [
             0.4444444444444444,
             "#bd3786"
            ],
            [
             0.5555555555555556,
             "#d8576b"
            ],
            [
             0.6666666666666666,
             "#ed7953"
            ],
            [
             0.7777777777777778,
             "#fb9f3a"
            ],
            [
             0.8888888888888888,
             "#fdca26"
            ],
            [
             1,
             "#f0f921"
            ]
           ]
          },
          "colorway": [
           "#636efa",
           "#EF553B",
           "#00cc96",
           "#ab63fa",
           "#FFA15A",
           "#19d3f3",
           "#FF6692",
           "#B6E880",
           "#FF97FF",
           "#FECB52"
          ],
          "font": {
           "color": "#2a3f5f"
          },
          "geo": {
           "bgcolor": "white",
           "lakecolor": "white",
           "landcolor": "#E5ECF6",
           "showlakes": true,
           "showland": true,
           "subunitcolor": "white"
          },
          "hoverlabel": {
           "align": "left"
          },
          "hovermode": "closest",
          "mapbox": {
           "style": "light"
          },
          "paper_bgcolor": "white",
          "plot_bgcolor": "#E5ECF6",
          "polar": {
           "angularaxis": {
            "gridcolor": "white",
            "linecolor": "white",
            "ticks": ""
           },
           "bgcolor": "#E5ECF6",
           "radialaxis": {
            "gridcolor": "white",
            "linecolor": "white",
            "ticks": ""
           }
          },
          "scene": {
           "xaxis": {
            "backgroundcolor": "#E5ECF6",
            "gridcolor": "white",
            "gridwidth": 2,
            "linecolor": "white",
            "showbackground": true,
            "ticks": "",
            "zerolinecolor": "white"
           },
           "yaxis": {
            "backgroundcolor": "#E5ECF6",
            "gridcolor": "white",
            "gridwidth": 2,
            "linecolor": "white",
            "showbackground": true,
            "ticks": "",
            "zerolinecolor": "white"
           },
           "zaxis": {
            "backgroundcolor": "#E5ECF6",
            "gridcolor": "white",
            "gridwidth": 2,
            "linecolor": "white",
            "showbackground": true,
            "ticks": "",
            "zerolinecolor": "white"
           }
          },
          "shapedefaults": {
           "line": {
            "color": "#2a3f5f"
           }
          },
          "ternary": {
           "aaxis": {
            "gridcolor": "white",
            "linecolor": "white",
            "ticks": ""
           },
           "baxis": {
            "gridcolor": "white",
            "linecolor": "white",
            "ticks": ""
           },
           "bgcolor": "#E5ECF6",
           "caxis": {
            "gridcolor": "white",
            "linecolor": "white",
            "ticks": ""
           }
          },
          "title": {
           "x": 0.05
          },
          "xaxis": {
           "automargin": true,
           "gridcolor": "white",
           "linecolor": "white",
           "ticks": "",
           "title": {
            "standoff": 15
           },
           "zerolinecolor": "white",
           "zerolinewidth": 2
          },
          "yaxis": {
           "automargin": true,
           "gridcolor": "white",
           "linecolor": "white",
           "ticks": "",
           "title": {
            "standoff": 15
           },
           "zerolinecolor": "white",
           "zerolinewidth": 2
          }
         }
        },
        "title": {
         "text": "Boxplot de tipo de descripci[on y temperatura]"
        },
        "xaxis": {
         "anchor": "y",
         "domain": [
          0,
          1
         ],
         "title": {
          "text": "description"
         }
        },
        "yaxis": {
         "anchor": "x",
         "domain": [
          0,
          1
         ],
         "title": {
          "text": "curr_temp_C"
         }
        }
       }
      },
      "text/html": [
       "<div>                            <div id=\"d44dff72-54ef-4650-948d-c384573fc7f8\" class=\"plotly-graph-div\" style=\"height:525px; width:100%;\"></div>            <script type=\"text/javascript\">                require([\"plotly\"], function(Plotly) {                    window.PLOTLYENV=window.PLOTLYENV || {};                                    if (document.getElementById(\"d44dff72-54ef-4650-948d-c384573fc7f8\")) {                    Plotly.newPlot(                        \"d44dff72-54ef-4650-948d-c384573fc7f8\",                        [{\"alignmentgroup\":\"True\",\"hovertemplate\":\"description=%{x}<br>curr_temp_C=%{y}<extra></extra>\",\"legendgroup\":\"\",\"marker\":{\"color\":\"#636efa\"},\"name\":\"\",\"notched\":false,\"offsetgroup\":\"\",\"orientation\":\"v\",\"showlegend\":false,\"x\":[\"scattered clouds\",\"clear sky\",\"overcast clouds\",\"thunderstorm with light rain\",\"light rain\",\"haze\",\"few clouds\",\"overcast clouds\",\"few clouds\",\"broken clouds\",\"broken clouds\",\"broken clouds\",\"clear sky\",\"overcast clouds\",\"scattered clouds\",\"few clouds\",\"broken clouds\",\"overcast clouds\",\"scattered clouds\",\"clear sky\",\"overcast clouds\",\"broken clouds\",\"overcast clouds\",\"broken clouds\",\"clear sky\",\"clear sky\",\"thunderstorm\",\"broken clouds\",\"broken clouds\",\"scattered clouds\",\"scattered clouds\",\"overcast clouds\",\"overcast clouds\",\"few clouds\",\"scattered clouds\",\"clear sky\",\"scattered clouds\",\"few clouds\",\"overcast clouds\",\"clear sky\",\"haze\",\"clear sky\",\"clear sky\",\"scattered clouds\",\"clear sky\",\"few clouds\",\"clear sky\",\"overcast clouds\",\"clear sky\",\"overcast clouds\",\"broken clouds\",\"clear sky\",\"clear sky\",\"light rain\",\"scattered clouds\",\"clear sky\",\"clear sky\",\"clear sky\",\"clear sky\",\"scattered clouds\",\"overcast clouds\",\"scattered clouds\",\"clear sky\",\"clear sky\",\"broken clouds\",\"scattered clouds\",\"thunderstorm with light rain\",\"broken clouds\",\"light intensity drizzle\",\"broken clouds\",\"overcast clouds\",\"light rain\",\"broken clouds\",\"scattered clouds\",\"mist\",\"thunderstorm\",\"clear sky\",\"clear sky\",\"few clouds\",\"overcast clouds\",\"scattered clouds\",\"thunderstorm with light rain\",\"broken clouds\",\"overcast clouds\",\"few clouds\",\"clear sky\",\"overcast clouds\",\"few clouds\",\"broken clouds\",\"scattered clouds\",\"light rain\",\"haze\",\"overcast clouds\",\"haze\",\"overcast clouds\",\"light rain\",\"overcast clouds\",\"clear sky\",\"broken clouds\",\"drizzle\",\"clear sky\",\"clear sky\",\"clear sky\",\"clear sky\",\"overcast clouds\",\"few clouds\",\"few clouds\",\"broken clouds\",\"light rain\",\"broken clouds\",\"broken clouds\",\"clear sky\",\"few clouds\",\"few clouds\",\"scattered clouds\",\"overcast clouds\",\"broken clouds\",\"broken clouds\",\"scattered clouds\",\"few clouds\",\"moderate rain\",\"clear sky\",\"few clouds\",\"broken clouds\",\"clear sky\",\"scattered clouds\",\"few clouds\",\"few clouds\",\"clear sky\",\"broken clouds\",\"scattered clouds\",\"light rain\",\"scattered clouds\",\"broken clouds\",\"haze\",\"haze\",\"light rain\",\"broken clouds\",\"scattered clouds\",\"clear sky\",\"broken clouds\",\"clear sky\",\"haze\",\"haze\",\"clear sky\",\"few clouds\",\"clear sky\",\"dust\",\"clear sky\",\"broken clouds\",\"overcast clouds\",\"scattered clouds\",\"clear sky\",\"clear sky\",\"scattered clouds\",\"smoke\",\"overcast clouds\",\"few clouds\",\"broken clouds\",\"overcast clouds\",\"clear sky\",\"clear sky\",\"few clouds\",\"clear sky\",\"few clouds\",\"scattered clouds\",\"thunderstorm with light rain\",\"broken clouds\",\"haze\",\"overcast clouds\",\"scattered clouds\",\"few clouds\",\"overcast clouds\",\"clear sky\",\"clear sky\",\"scattered clouds\",\"broken clouds\",\"light rain\",\"haze\",\"light rain\",\"scattered clouds\",\"overcast clouds\",\"clear sky\",\"scattered clouds\",\"thunderstorm\",\"clear sky\",\"overcast clouds\",\"broken clouds\",\"scattered clouds\",\"clear sky\",\"overcast clouds\",\"scattered clouds\",\"clear sky\",\"light rain\",\"few clouds\",\"light rain\",\"scattered clouds\",\"broken clouds\",\"scattered clouds\",\"clear sky\",\"moderate rain\",\"scattered clouds\",\"clear sky\",\"overcast clouds\",\"scattered clouds\",\"clear sky\",\"few clouds\",\"clear sky\",\"clear sky\",\"clear sky\",\"clear sky\",\"broken clouds\",\"broken clouds\",\"clear sky\",\"broken clouds\",\"moderate rain\",\"clear sky\",\"overcast clouds\",\"overcast clouds\",\"moderate rain\",\"light rain\",\"overcast clouds\",\"moderate rain\",\"broken clouds\",\"overcast clouds\",\"moderate rain\",\"smoke\",\"haze\",\"broken clouds\",\"broken clouds\",\"scattered clouds\",\"clear sky\",\"overcast clouds\",\"overcast clouds\",\"fog\",\"clear sky\",\"mist\",\"clear sky\",\"scattered clouds\",\"scattered clouds\",\"overcast clouds\",\"clear sky\",\"broken clouds\",\"clear sky\",\"scattered clouds\",\"scattered clouds\",\"broken clouds\",\"clear sky\",\"mist\",\"clear sky\",\"broken clouds\",\"few clouds\",\"scattered clouds\",\"overcast clouds\",\"scattered clouds\",\"overcast clouds\",\"clear sky\",\"overcast clouds\",\"broken clouds\",\"scattered clouds\",\"few clouds\",\"clear sky\",\"clear sky\",\"haze\",\"overcast clouds\",\"light rain\",\"broken clouds\",\"mist\",\"moderate rain\",\"clear sky\",\"few clouds\",\"clear sky\",\"broken clouds\",\"overcast clouds\",\"clear sky\",\"broken clouds\",\"scattered clouds\",\"overcast clouds\",\"light rain\",\"clear sky\",\"broken clouds\",\"broken clouds\",\"clear sky\",\"clear sky\",\"overcast clouds\",\"scattered clouds\",\"mist\",\"scattered clouds\",\"broken clouds\",\"clear sky\",\"broken clouds\",\"clear sky\",\"fog\",\"clear sky\",\"clear sky\",\"broken clouds\",\"scattered clouds\",\"overcast clouds\",\"overcast clouds\",\"broken clouds\",\"few clouds\",\"clear sky\",\"broken clouds\",\"broken clouds\",\"scattered clouds\",\"broken clouds\",\"clear sky\",\"overcast clouds\",\"clear sky\",\"overcast clouds\",\"light intensity shower rain\",\"clear sky\",\"few clouds\",\"few clouds\",\"broken clouds\",\"broken clouds\",\"clear sky\",\"broken clouds\",\"light rain\",\"scattered clouds\",\"broken clouds\",\"clear sky\",\"few clouds\",\"broken clouds\",\"few clouds\",\"few clouds\",\"broken clouds\",\"clear sky\",\"overcast clouds\",\"broken clouds\",\"clear sky\",\"few clouds\",\"scattered clouds\",\"clear sky\",\"overcast clouds\",\"scattered clouds\",\"broken clouds\",\"few clouds\",\"broken clouds\",\"clear sky\",\"overcast clouds\",\"overcast clouds\",\"scattered clouds\",\"overcast clouds\",\"clear sky\",\"clear sky\",\"few clouds\",\"broken clouds\",\"overcast clouds\",\"overcast clouds\",\"few clouds\",\"few clouds\",\"scattered clouds\",\"clear sky\",\"clear sky\",\"clear sky\",\"clear sky\",\"overcast clouds\",\"broken clouds\",\"few clouds\",\"clear sky\",\"scattered clouds\",\"moderate rain\",\"broken clouds\",\"scattered clouds\",\"broken clouds\",\"few clouds\",\"few clouds\",\"broken clouds\",\"clear sky\"],\"x0\":\" \",\"xaxis\":\"x\",\"y\":[25.980000000000018,30.060000000000002,26.08000000000004,24.230000000000018,13.490000000000009,30.02000000000004,15.470000000000027,17.30000000000001,10.900000000000034,18.950000000000045,13.050000000000011,13.879999999999995,13.090000000000032,3.4700000000000273,11.330000000000041,10.980000000000018,32.950000000000045,7.1200000000000045,22.920000000000016,15.25,18.689999999999998,18.430000000000007,15.379999999999995,25.03000000000003,22.950000000000045,16.03000000000003,23.230000000000018,29.710000000000036,28.99000000000001,26.980000000000018,32.57000000000005,22.760000000000048,24.189999999999998,14.57000000000005,27.879999999999995,28.980000000000018,24.58000000000004,26.480000000000018,22.939999999999998,18.410000000000025,30.629999999999995,26.02000000000004,14.430000000000007,29.210000000000036,14.439999999999998,24.80000000000001,13.840000000000032,10.78000000000003,15.110000000000014,25.99000000000001,13.730000000000018,15.510000000000048,13.100000000000023,23.170000000000016,27.27000000000004,20.620000000000005,10.960000000000036,15.700000000000045,16.560000000000002,14.300000000000011,21.170000000000016,8.020000000000039,23.99000000000001,22.420000000000016,22.0,31.560000000000002,26.05000000000001,11.510000000000048,14.730000000000018,19.670000000000016,17.120000000000005,26.420000000000016,25.02000000000004,26.480000000000018,22.939999999999998,28.870000000000005,15.25,16.24000000000001,30.25,22.920000000000016,27.970000000000027,26.04000000000002,10.770000000000039,12.970000000000027,11.730000000000018,24.470000000000027,17.970000000000027,23.07000000000005,21.03000000000003,14.460000000000036,23.07000000000005,33.05000000000001,15.04000000000002,27.99000000000001,27.480000000000018,26.430000000000007,15.210000000000036,28.970000000000027,30.950000000000045,25.950000000000045,16.720000000000027,31.54000000000002,13.900000000000034,13.900000000000034,20.900000000000034,36.97000000000003,26.970000000000027,27.07000000000005,26.450000000000045,24.879999999999995,32.0,11.730000000000018,29.970000000000027,29.970000000000027,17.970000000000027,14.580000000000041,22.410000000000025,20.870000000000005,32.97000000000003,21.910000000000025,26.980000000000018,28.03000000000003,26.810000000000002,22.930000000000007,10.600000000000023,31.0,13.79000000000002,26.24000000000001,8.270000000000039,32.01000000000005,30.370000000000005,29.83000000000004,27.28000000000003,25.83000000000004,29.230000000000018,29.230000000000018,24.0,16.930000000000007,17.80000000000001,34.0,14.590000000000032,13.970000000000027,33.620000000000005,31.29000000000002,24.920000000000016,12.610000000000014,5.32000000000005,21.80000000000001,22.350000000000023,20.27000000000004,24.05000000000001,18.200000000000045,27.939999999999998,38.47000000000003,30.439999999999998,28.900000000000034,13.879999999999995,20.120000000000005,23.140000000000043,11.75,28.340000000000032,32.08000000000004,18.710000000000036,31.210000000000036,26.08000000000004,26.810000000000002,23.180000000000007,23.360000000000014,30.970000000000027,28.910000000000025,30.260000000000048,28.08000000000004,22.310000000000002,28.33000000000004,10.79000000000002,26.360000000000014,9.210000000000036,26.180000000000007,29.99000000000001,28.010000000000048,16.400000000000034,21.610000000000014,16.110000000000014,10.939999999999998,25.090000000000032,8.700000000000045,17.79000000000002,25.0,14.390000000000043,12.140000000000043,10.330000000000041,28.860000000000014,11.460000000000036,29.980000000000018,30.03000000000003,24.920000000000016,29.970000000000027,25.79000000000002,31.689999999999998,30.52000000000004,27.27000000000004,31.08000000000004,18.460000000000036,27.33000000000004,24.900000000000034,1.920000000000016,26.900000000000034,4.050000000000011,20.08000000000004,6.230000000000018,26.720000000000027,26.680000000000007,20.180000000000007,25.24000000000001,25.77000000000004,16.79000000000002,26.689999999999998,3.8600000000000136,26.640000000000043,15.240000000000009,24.870000000000005,14.730000000000018,14.689999999999998,26.08000000000004,10.020000000000039,19.260000000000048,28.939999999999998,29.99000000000001,35.01000000000005,31.860000000000014,27.760000000000048,15.620000000000005,20.640000000000043,23.950000000000045,16.879999999999995,33.03000000000003,17.960000000000036,34.160000000000025,15.830000000000041,21.960000000000036,25.560000000000002,14.610000000000014,26.189999999999998,16.970000000000027,-0.6599999999999682,27.730000000000018,25.460000000000036,5.920000000000016,14.189999999999998,32.07000000000005,28.100000000000023,30.05000000000001,15.550000000000011,26.08000000000004,29.960000000000036,26.620000000000005,13.25,17.140000000000043,18.79000000000002,30.950000000000045,32.49000000000001,15.879999999999995,21.900000000000034,28.680000000000007,27.720000000000027,24.78000000000003,25.010000000000048,18.32000000000005,25.900000000000034,12.939999999999998,22.30000000000001,6.57000000000005,11.770000000000039,22.700000000000045,28.870000000000005,22.5,30.939999999999998,10.53000000000003,17.600000000000023,33.29000000000002,23.02000000000004,5.810000000000002,9.460000000000036,20.980000000000018,27.08000000000004,27.360000000000014,19.82000000000005,26.879999999999995,26.82000000000005,12.770000000000039,8.629999999999995,11.629999999999995,7.080000000000041,13.28000000000003,21.80000000000001,30.360000000000014,26.220000000000027,23.52000000000004,16.970000000000027,12.920000000000016,17.28000000000003,13.54000000000002,13.54000000000002,26.129999999999995,17.120000000000005,22.700000000000045,12.210000000000036,23.100000000000023,14.680000000000007,26.04000000000002,12.170000000000016,9.950000000000045,21.930000000000007,29.960000000000036,20.02000000000004,23.560000000000002,30.160000000000025,32.129999999999995,26.860000000000014,10.82000000000005,10.760000000000048,5.090000000000032,5.8799999999999955,12.170000000000016,29.970000000000027,29.99000000000001,25.710000000000036,18.860000000000014,11.700000000000045,28.82000000000005,4.189999999999998,30.58000000000004,32.05000000000001,20.970000000000027,15.840000000000032,25.420000000000016,18.99000000000001,16.939999999999998,16.260000000000048,21.970000000000027,17.03000000000003,13.490000000000009,23.99000000000001,11.210000000000036,8.660000000000025,19.28000000000003,18.890000000000043,4.07000000000005,12.850000000000023,11.980000000000018,17.30000000000001,20.620000000000005,29.970000000000027,13.170000000000016,33.01000000000005,10.090000000000032,12.720000000000027,27.700000000000045,13.110000000000014,26.950000000000045,12.840000000000032,26.05000000000001,13.450000000000045,24.920000000000016,27.980000000000018,22.74000000000001,5.770000000000039,12.090000000000032,22.939999999999998,11.840000000000032],\"y0\":\" \",\"yaxis\":\"y\",\"type\":\"box\"}],                        {\"template\":{\"data\":{\"histogram2dcontour\":[{\"type\":\"histogram2dcontour\",\"colorbar\":{\"outlinewidth\":0,\"ticks\":\"\"},\"colorscale\":[[0.0,\"#0d0887\"],[0.1111111111111111,\"#46039f\"],[0.2222222222222222,\"#7201a8\"],[0.3333333333333333,\"#9c179e\"],[0.4444444444444444,\"#bd3786\"],[0.5555555555555556,\"#d8576b\"],[0.6666666666666666,\"#ed7953\"],[0.7777777777777778,\"#fb9f3a\"],[0.8888888888888888,\"#fdca26\"],[1.0,\"#f0f921\"]]}],\"choropleth\":[{\"type\":\"choropleth\",\"colorbar\":{\"outlinewidth\":0,\"ticks\":\"\"}}],\"histogram2d\":[{\"type\":\"histogram2d\",\"colorbar\":{\"outlinewidth\":0,\"ticks\":\"\"},\"colorscale\":[[0.0,\"#0d0887\"],[0.1111111111111111,\"#46039f\"],[0.2222222222222222,\"#7201a8\"],[0.3333333333333333,\"#9c179e\"],[0.4444444444444444,\"#bd3786\"],[0.5555555555555556,\"#d8576b\"],[0.6666666666666666,\"#ed7953\"],[0.7777777777777778,\"#fb9f3a\"],[0.8888888888888888,\"#fdca26\"],[1.0,\"#f0f921\"]]}],\"heatmap\":[{\"type\":\"heatmap\",\"colorbar\":{\"outlinewidth\":0,\"ticks\":\"\"},\"colorscale\":[[0.0,\"#0d0887\"],[0.1111111111111111,\"#46039f\"],[0.2222222222222222,\"#7201a8\"],[0.3333333333333333,\"#9c179e\"],[0.4444444444444444,\"#bd3786\"],[0.5555555555555556,\"#d8576b\"],[0.6666666666666666,\"#ed7953\"],[0.7777777777777778,\"#fb9f3a\"],[0.8888888888888888,\"#fdca26\"],[1.0,\"#f0f921\"]]}],\"heatmapgl\":[{\"type\":\"heatmapgl\",\"colorbar\":{\"outlinewidth\":0,\"ticks\":\"\"},\"colorscale\":[[0.0,\"#0d0887\"],[0.1111111111111111,\"#46039f\"],[0.2222222222222222,\"#7201a8\"],[0.3333333333333333,\"#9c179e\"],[0.4444444444444444,\"#bd3786\"],[0.5555555555555556,\"#d8576b\"],[0.6666666666666666,\"#ed7953\"],[0.7777777777777778,\"#fb9f3a\"],[0.8888888888888888,\"#fdca26\"],[1.0,\"#f0f921\"]]}],\"contourcarpet\":[{\"type\":\"contourcarpet\",\"colorbar\":{\"outlinewidth\":0,\"ticks\":\"\"}}],\"contour\":[{\"type\":\"contour\",\"colorbar\":{\"outlinewidth\":0,\"ticks\":\"\"},\"colorscale\":[[0.0,\"#0d0887\"],[0.1111111111111111,\"#46039f\"],[0.2222222222222222,\"#7201a8\"],[0.3333333333333333,\"#9c179e\"],[0.4444444444444444,\"#bd3786\"],[0.5555555555555556,\"#d8576b\"],[0.6666666666666666,\"#ed7953\"],[0.7777777777777778,\"#fb9f3a\"],[0.8888888888888888,\"#fdca26\"],[1.0,\"#f0f921\"]]}],\"surface\":[{\"type\":\"surface\",\"colorbar\":{\"outlinewidth\":0,\"ticks\":\"\"},\"colorscale\":[[0.0,\"#0d0887\"],[0.1111111111111111,\"#46039f\"],[0.2222222222222222,\"#7201a8\"],[0.3333333333333333,\"#9c179e\"],[0.4444444444444444,\"#bd3786\"],[0.5555555555555556,\"#d8576b\"],[0.6666666666666666,\"#ed7953\"],[0.7777777777777778,\"#fb9f3a\"],[0.8888888888888888,\"#fdca26\"],[1.0,\"#f0f921\"]]}],\"mesh3d\":[{\"type\":\"mesh3d\",\"colorbar\":{\"outlinewidth\":0,\"ticks\":\"\"}}],\"scatter\":[{\"fillpattern\":{\"fillmode\":\"overlay\",\"size\":10,\"solidity\":0.2},\"type\":\"scatter\"}],\"parcoords\":[{\"type\":\"parcoords\",\"line\":{\"colorbar\":{\"outlinewidth\":0,\"ticks\":\"\"}}}],\"scatterpolargl\":[{\"type\":\"scatterpolargl\",\"marker\":{\"colorbar\":{\"outlinewidth\":0,\"ticks\":\"\"}}}],\"bar\":[{\"error_x\":{\"color\":\"#2a3f5f\"},\"error_y\":{\"color\":\"#2a3f5f\"},\"marker\":{\"line\":{\"color\":\"#E5ECF6\",\"width\":0.5},\"pattern\":{\"fillmode\":\"overlay\",\"size\":10,\"solidity\":0.2}},\"type\":\"bar\"}],\"scattergeo\":[{\"type\":\"scattergeo\",\"marker\":{\"colorbar\":{\"outlinewidth\":0,\"ticks\":\"\"}}}],\"scatterpolar\":[{\"type\":\"scatterpolar\",\"marker\":{\"colorbar\":{\"outlinewidth\":0,\"ticks\":\"\"}}}],\"histogram\":[{\"marker\":{\"pattern\":{\"fillmode\":\"overlay\",\"size\":10,\"solidity\":0.2}},\"type\":\"histogram\"}],\"scattergl\":[{\"type\":\"scattergl\",\"marker\":{\"colorbar\":{\"outlinewidth\":0,\"ticks\":\"\"}}}],\"scatter3d\":[{\"type\":\"scatter3d\",\"line\":{\"colorbar\":{\"outlinewidth\":0,\"ticks\":\"\"}},\"marker\":{\"colorbar\":{\"outlinewidth\":0,\"ticks\":\"\"}}}],\"scattermapbox\":[{\"type\":\"scattermapbox\",\"marker\":{\"colorbar\":{\"outlinewidth\":0,\"ticks\":\"\"}}}],\"scatterternary\":[{\"type\":\"scatterternary\",\"marker\":{\"colorbar\":{\"outlinewidth\":0,\"ticks\":\"\"}}}],\"scattercarpet\":[{\"type\":\"scattercarpet\",\"marker\":{\"colorbar\":{\"outlinewidth\":0,\"ticks\":\"\"}}}],\"carpet\":[{\"aaxis\":{\"endlinecolor\":\"#2a3f5f\",\"gridcolor\":\"white\",\"linecolor\":\"white\",\"minorgridcolor\":\"white\",\"startlinecolor\":\"#2a3f5f\"},\"baxis\":{\"endlinecolor\":\"#2a3f5f\",\"gridcolor\":\"white\",\"linecolor\":\"white\",\"minorgridcolor\":\"white\",\"startlinecolor\":\"#2a3f5f\"},\"type\":\"carpet\"}],\"table\":[{\"cells\":{\"fill\":{\"color\":\"#EBF0F8\"},\"line\":{\"color\":\"white\"}},\"header\":{\"fill\":{\"color\":\"#C8D4E3\"},\"line\":{\"color\":\"white\"}},\"type\":\"table\"}],\"barpolar\":[{\"marker\":{\"line\":{\"color\":\"#E5ECF6\",\"width\":0.5},\"pattern\":{\"fillmode\":\"overlay\",\"size\":10,\"solidity\":0.2}},\"type\":\"barpolar\"}],\"pie\":[{\"automargin\":true,\"type\":\"pie\"}]},\"layout\":{\"autotypenumbers\":\"strict\",\"colorway\":[\"#636efa\",\"#EF553B\",\"#00cc96\",\"#ab63fa\",\"#FFA15A\",\"#19d3f3\",\"#FF6692\",\"#B6E880\",\"#FF97FF\",\"#FECB52\"],\"font\":{\"color\":\"#2a3f5f\"},\"hovermode\":\"closest\",\"hoverlabel\":{\"align\":\"left\"},\"paper_bgcolor\":\"white\",\"plot_bgcolor\":\"#E5ECF6\",\"polar\":{\"bgcolor\":\"#E5ECF6\",\"angularaxis\":{\"gridcolor\":\"white\",\"linecolor\":\"white\",\"ticks\":\"\"},\"radialaxis\":{\"gridcolor\":\"white\",\"linecolor\":\"white\",\"ticks\":\"\"}},\"ternary\":{\"bgcolor\":\"#E5ECF6\",\"aaxis\":{\"gridcolor\":\"white\",\"linecolor\":\"white\",\"ticks\":\"\"},\"baxis\":{\"gridcolor\":\"white\",\"linecolor\":\"white\",\"ticks\":\"\"},\"caxis\":{\"gridcolor\":\"white\",\"linecolor\":\"white\",\"ticks\":\"\"}},\"coloraxis\":{\"colorbar\":{\"outlinewidth\":0,\"ticks\":\"\"}},\"colorscale\":{\"sequential\":[[0.0,\"#0d0887\"],[0.1111111111111111,\"#46039f\"],[0.2222222222222222,\"#7201a8\"],[0.3333333333333333,\"#9c179e\"],[0.4444444444444444,\"#bd3786\"],[0.5555555555555556,\"#d8576b\"],[0.6666666666666666,\"#ed7953\"],[0.7777777777777778,\"#fb9f3a\"],[0.8888888888888888,\"#fdca26\"],[1.0,\"#f0f921\"]],\"sequentialminus\":[[0.0,\"#0d0887\"],[0.1111111111111111,\"#46039f\"],[0.2222222222222222,\"#7201a8\"],[0.3333333333333333,\"#9c179e\"],[0.4444444444444444,\"#bd3786\"],[0.5555555555555556,\"#d8576b\"],[0.6666666666666666,\"#ed7953\"],[0.7777777777777778,\"#fb9f3a\"],[0.8888888888888888,\"#fdca26\"],[1.0,\"#f0f921\"]],\"diverging\":[[0,\"#8e0152\"],[0.1,\"#c51b7d\"],[0.2,\"#de77ae\"],[0.3,\"#f1b6da\"],[0.4,\"#fde0ef\"],[0.5,\"#f7f7f7\"],[0.6,\"#e6f5d0\"],[0.7,\"#b8e186\"],[0.8,\"#7fbc41\"],[0.9,\"#4d9221\"],[1,\"#276419\"]]},\"xaxis\":{\"gridcolor\":\"white\",\"linecolor\":\"white\",\"ticks\":\"\",\"title\":{\"standoff\":15},\"zerolinecolor\":\"white\",\"automargin\":true,\"zerolinewidth\":2},\"yaxis\":{\"gridcolor\":\"white\",\"linecolor\":\"white\",\"ticks\":\"\",\"title\":{\"standoff\":15},\"zerolinecolor\":\"white\",\"automargin\":true,\"zerolinewidth\":2},\"scene\":{\"xaxis\":{\"backgroundcolor\":\"#E5ECF6\",\"gridcolor\":\"white\",\"linecolor\":\"white\",\"showbackground\":true,\"ticks\":\"\",\"zerolinecolor\":\"white\",\"gridwidth\":2},\"yaxis\":{\"backgroundcolor\":\"#E5ECF6\",\"gridcolor\":\"white\",\"linecolor\":\"white\",\"showbackground\":true,\"ticks\":\"\",\"zerolinecolor\":\"white\",\"gridwidth\":2},\"zaxis\":{\"backgroundcolor\":\"#E5ECF6\",\"gridcolor\":\"white\",\"linecolor\":\"white\",\"showbackground\":true,\"ticks\":\"\",\"zerolinecolor\":\"white\",\"gridwidth\":2}},\"shapedefaults\":{\"line\":{\"color\":\"#2a3f5f\"}},\"annotationdefaults\":{\"arrowcolor\":\"#2a3f5f\",\"arrowhead\":0,\"arrowwidth\":1},\"geo\":{\"bgcolor\":\"white\",\"landcolor\":\"#E5ECF6\",\"subunitcolor\":\"white\",\"showland\":true,\"showlakes\":true,\"lakecolor\":\"white\"},\"title\":{\"x\":0.05},\"mapbox\":{\"style\":\"light\"}}},\"xaxis\":{\"anchor\":\"y\",\"domain\":[0.0,1.0],\"title\":{\"text\":\"description\"}},\"yaxis\":{\"anchor\":\"x\",\"domain\":[0.0,1.0],\"title\":{\"text\":\"curr_temp_C\"}},\"legend\":{\"tracegroupgap\":0},\"title\":{\"text\":\"Boxplot de tipo de descripci[on y temperatura]\"},\"boxmode\":\"group\"},                        {\"responsive\": true}                    ).then(function(){\n",
       "                            \n",
       "var gd = document.getElementById('d44dff72-54ef-4650-948d-c384573fc7f8');\n",
       "var x = new MutationObserver(function (mutations, observer) {{\n",
       "        var display = window.getComputedStyle(gd).display;\n",
       "        if (!display || display === 'none') {{\n",
       "            console.log([gd, 'removed!']);\n",
       "            Plotly.purge(gd);\n",
       "            observer.disconnect();\n",
       "        }}\n",
       "}});\n",
       "\n",
       "// Listen for the removal of the full notebook cells\n",
       "var notebookContainer = gd.closest('#notebook-container');\n",
       "if (notebookContainer) {{\n",
       "    x.observe(notebookContainer, {childList: true});\n",
       "}}\n",
       "\n",
       "// Listen for the clearing of the current output cell\n",
       "var outputEl = gd.closest('.output');\n",
       "if (outputEl) {{\n",
       "    x.observe(outputEl, {childList: true});\n",
       "}}\n",
       "\n",
       "                        })                };                });            </script>        </div>"
      ]
     },
     "metadata": {},
     "output_type": "display_data"
    }
   ],
   "source": [
    "fig = px.box(df, x=\"description\", y=\"curr_temp_C\", title= 'Boxplot de tipo de descripción y temperatura]')\n",
    "fig.show()"
   ]
  },
  {
   "cell_type": "code",
   "execution_count": 70,
   "id": "5e8c2fc6",
   "metadata": {},
   "outputs": [
    {
     "data": {
      "application/vnd.plotly.v1+json": {
       "config": {
        "plotlyServerURL": "https://plot.ly"
       },
       "data": [
        {
         "alignmentgroup": "True",
         "hovertemplate": "description=%{x}<br>curr_press=%{y}<extra></extra>",
         "legendgroup": "",
         "marker": {
          "color": "#636efa"
         },
         "name": "",
         "notched": false,
         "offsetgroup": "",
         "orientation": "v",
         "showlegend": false,
         "type": "box",
         "x": [
          "scattered clouds",
          "clear sky",
          "overcast clouds",
          "thunderstorm with light rain",
          "light rain",
          "haze",
          "few clouds",
          "overcast clouds",
          "few clouds",
          "broken clouds",
          "broken clouds",
          "broken clouds",
          "clear sky",
          "overcast clouds",
          "scattered clouds",
          "few clouds",
          "broken clouds",
          "overcast clouds",
          "scattered clouds",
          "clear sky",
          "overcast clouds",
          "broken clouds",
          "overcast clouds",
          "broken clouds",
          "clear sky",
          "clear sky",
          "thunderstorm",
          "broken clouds",
          "broken clouds",
          "scattered clouds",
          "scattered clouds",
          "overcast clouds",
          "overcast clouds",
          "few clouds",
          "scattered clouds",
          "clear sky",
          "scattered clouds",
          "few clouds",
          "overcast clouds",
          "clear sky",
          "haze",
          "clear sky",
          "clear sky",
          "scattered clouds",
          "clear sky",
          "few clouds",
          "clear sky",
          "overcast clouds",
          "clear sky",
          "overcast clouds",
          "broken clouds",
          "clear sky",
          "clear sky",
          "light rain",
          "scattered clouds",
          "clear sky",
          "clear sky",
          "clear sky",
          "clear sky",
          "scattered clouds",
          "overcast clouds",
          "scattered clouds",
          "clear sky",
          "clear sky",
          "broken clouds",
          "scattered clouds",
          "thunderstorm with light rain",
          "broken clouds",
          "light intensity drizzle",
          "broken clouds",
          "overcast clouds",
          "light rain",
          "broken clouds",
          "scattered clouds",
          "mist",
          "thunderstorm",
          "clear sky",
          "clear sky",
          "few clouds",
          "overcast clouds",
          "scattered clouds",
          "thunderstorm with light rain",
          "broken clouds",
          "overcast clouds",
          "few clouds",
          "clear sky",
          "overcast clouds",
          "few clouds",
          "broken clouds",
          "scattered clouds",
          "light rain",
          "haze",
          "overcast clouds",
          "haze",
          "overcast clouds",
          "light rain",
          "overcast clouds",
          "clear sky",
          "broken clouds",
          "drizzle",
          "clear sky",
          "clear sky",
          "clear sky",
          "clear sky",
          "overcast clouds",
          "few clouds",
          "few clouds",
          "broken clouds",
          "light rain",
          "broken clouds",
          "broken clouds",
          "clear sky",
          "few clouds",
          "few clouds",
          "scattered clouds",
          "overcast clouds",
          "broken clouds",
          "broken clouds",
          "scattered clouds",
          "few clouds",
          "moderate rain",
          "clear sky",
          "few clouds",
          "broken clouds",
          "clear sky",
          "scattered clouds",
          "few clouds",
          "few clouds",
          "clear sky",
          "broken clouds",
          "scattered clouds",
          "light rain",
          "scattered clouds",
          "broken clouds",
          "haze",
          "haze",
          "light rain",
          "broken clouds",
          "scattered clouds",
          "clear sky",
          "broken clouds",
          "clear sky",
          "haze",
          "haze",
          "clear sky",
          "few clouds",
          "clear sky",
          "dust",
          "clear sky",
          "broken clouds",
          "overcast clouds",
          "scattered clouds",
          "clear sky",
          "clear sky",
          "scattered clouds",
          "smoke",
          "overcast clouds",
          "few clouds",
          "broken clouds",
          "overcast clouds",
          "clear sky",
          "clear sky",
          "few clouds",
          "clear sky",
          "few clouds",
          "scattered clouds",
          "thunderstorm with light rain",
          "broken clouds",
          "haze",
          "overcast clouds",
          "scattered clouds",
          "few clouds",
          "overcast clouds",
          "clear sky",
          "clear sky",
          "scattered clouds",
          "broken clouds",
          "light rain",
          "haze",
          "light rain",
          "scattered clouds",
          "overcast clouds",
          "clear sky",
          "scattered clouds",
          "thunderstorm",
          "clear sky",
          "overcast clouds",
          "broken clouds",
          "scattered clouds",
          "clear sky",
          "overcast clouds",
          "scattered clouds",
          "clear sky",
          "light rain",
          "few clouds",
          "light rain",
          "scattered clouds",
          "broken clouds",
          "scattered clouds",
          "clear sky",
          "moderate rain",
          "scattered clouds",
          "clear sky",
          "overcast clouds",
          "scattered clouds",
          "clear sky",
          "few clouds",
          "clear sky",
          "clear sky",
          "clear sky",
          "clear sky",
          "broken clouds",
          "broken clouds",
          "clear sky",
          "broken clouds",
          "moderate rain",
          "clear sky",
          "overcast clouds",
          "overcast clouds",
          "moderate rain",
          "light rain",
          "overcast clouds",
          "moderate rain",
          "broken clouds",
          "overcast clouds",
          "moderate rain",
          "smoke",
          "haze",
          "broken clouds",
          "broken clouds",
          "scattered clouds",
          "clear sky",
          "overcast clouds",
          "overcast clouds",
          "fog",
          "clear sky",
          "mist",
          "clear sky",
          "scattered clouds",
          "scattered clouds",
          "overcast clouds",
          "clear sky",
          "broken clouds",
          "clear sky",
          "scattered clouds",
          "scattered clouds",
          "broken clouds",
          "clear sky",
          "mist",
          "clear sky",
          "broken clouds",
          "few clouds",
          "scattered clouds",
          "overcast clouds",
          "scattered clouds",
          "overcast clouds",
          "clear sky",
          "overcast clouds",
          "broken clouds",
          "scattered clouds",
          "few clouds",
          "clear sky",
          "clear sky",
          "haze",
          "overcast clouds",
          "light rain",
          "broken clouds",
          "mist",
          "moderate rain",
          "clear sky",
          "few clouds",
          "clear sky",
          "broken clouds",
          "overcast clouds",
          "clear sky",
          "broken clouds",
          "scattered clouds",
          "overcast clouds",
          "light rain",
          "clear sky",
          "broken clouds",
          "broken clouds",
          "clear sky",
          "clear sky",
          "overcast clouds",
          "scattered clouds",
          "mist",
          "scattered clouds",
          "broken clouds",
          "clear sky",
          "broken clouds",
          "clear sky",
          "fog",
          "clear sky",
          "clear sky",
          "broken clouds",
          "scattered clouds",
          "overcast clouds",
          "overcast clouds",
          "broken clouds",
          "few clouds",
          "clear sky",
          "broken clouds",
          "broken clouds",
          "scattered clouds",
          "broken clouds",
          "clear sky",
          "overcast clouds",
          "clear sky",
          "overcast clouds",
          "light intensity shower rain",
          "clear sky",
          "few clouds",
          "few clouds",
          "broken clouds",
          "broken clouds",
          "clear sky",
          "broken clouds",
          "light rain",
          "scattered clouds",
          "broken clouds",
          "clear sky",
          "few clouds",
          "broken clouds",
          "few clouds",
          "few clouds",
          "broken clouds",
          "clear sky",
          "overcast clouds",
          "broken clouds",
          "clear sky",
          "few clouds",
          "scattered clouds",
          "clear sky",
          "overcast clouds",
          "scattered clouds",
          "broken clouds",
          "few clouds",
          "broken clouds",
          "clear sky",
          "overcast clouds",
          "overcast clouds",
          "scattered clouds",
          "overcast clouds",
          "clear sky",
          "clear sky",
          "few clouds",
          "broken clouds",
          "overcast clouds",
          "overcast clouds",
          "few clouds",
          "few clouds",
          "scattered clouds",
          "clear sky",
          "clear sky",
          "clear sky",
          "clear sky",
          "overcast clouds",
          "broken clouds",
          "few clouds",
          "clear sky",
          "scattered clouds",
          "moderate rain",
          "broken clouds",
          "scattered clouds",
          "broken clouds",
          "few clouds",
          "few clouds",
          "broken clouds",
          "clear sky"
         ],
         "x0": " ",
         "xaxis": "x",
         "y": [
          1011,
          1008,
          1011,
          1012,
          1026,
          1009,
          1009,
          1010,
          1013,
          1015,
          1012,
          1019,
          1021,
          1014,
          1009,
          1021,
          1011,
          1025,
          1011,
          1013,
          1014,
          1008,
          1006,
          1013,
          1004,
          1012,
          1013,
          1013,
          1012,
          1014,
          1009,
          1009,
          1011,
          1012,
          1010,
          1005,
          1014,
          1014,
          1015,
          1011,
          1013,
          1012,
          1012,
          1014,
          1021,
          1016,
          1008,
          1014,
          1016,
          1012,
          1027,
          1020,
          1017,
          1010,
          1012,
          1017,
          1018,
          1011,
          1016,
          1019,
          1014,
          1011,
          1009,
          1009,
          1017,
          1010,
          1012,
          1016,
          1016,
          1011,
          1010,
          1013,
          1011,
          1014,
          1008,
          1013,
          1021,
          1017,
          1010,
          1003,
          1013,
          1012,
          1026,
          990,
          1018,
          1009,
          1010,
          1011,
          1021,
          1010,
          1013,
          1006,
          1014,
          1009,
          1014,
          1009,
          1016,
          1006,
          1009,
          1010,
          1021,
          1006,
          1018,
          1016,
          1016,
          1003,
          1014,
          1012,
          1012,
          1010,
          1009,
          1017,
          1013,
          1013,
          1009,
          1015,
          1010,
          1025,
          1009,
          1022,
          1010,
          1004,
          1019,
          1011,
          1021,
          1005,
          1017,
          1015,
          1024,
          1010,
          1010,
          1010,
          1015,
          1017,
          1013,
          1013,
          1010,
          1010,
          1010,
          1006,
          1010,
          1008,
          1009,
          1013,
          1007,
          1005,
          1021,
          1022,
          1009,
          1013,
          1010,
          1012,
          1012,
          1005,
          1011,
          1008,
          1018,
          1016,
          1008,
          1020,
          1009,
          1009,
          1020,
          1013,
          1012,
          1012,
          1012,
          1009,
          1007,
          1012,
          1016,
          1006,
          1012,
          1006,
          1009,
          1008,
          1036,
          1010,
          1004,
          1011,
          1016,
          987,
          1010,
          1014,
          1011,
          1021,
          1017,
          1010,
          1016,
          1020,
          1016,
          1009,
          1012,
          1009,
          1012,
          1011,
          1011,
          1013,
          1009,
          1006,
          1010,
          1011,
          1016,
          1009,
          1012,
          1030,
          1015,
          1019,
          1016,
          1018,
          1009,
          1012,
          1026,
          1011,
          1015,
          1020,
          1015,
          1028,
          1012,
          1011,
          1011,
          1019,
          1008,
          1015,
          1023,
          1008,
          1002,
          1011,
          1007,
          1006,
          1007,
          1021,
          1007,
          1009,
          1011,
          1010,
          1011,
          1007,
          1008,
          1011,
          1017,
          1019,
          1014,
          1019,
          1003,
          1010,
          1009,
          1026,
          1015,
          1010,
          1011,
          1013,
          1018,
          1012,
          1010,
          1011,
          1016,
          1030,
          1012,
          1009,
          1010,
          1009,
          1016,
          1013,
          1014,
          1013,
          1014,
          1018,
          1010,
          1015,
          1014,
          1018,
          1011,
          1015,
          1012,
          1008,
          1011,
          1019,
          1009,
          1005,
          1013,
          1001,
          1027,
          1018,
          1007,
          1014,
          1016,
          1013,
          1012,
          1019,
          1027,
          1021,
          1030,
          1016,
          1014,
          1011,
          1012,
          1019,
          1017,
          1018,
          1018,
          1010,
          1011,
          1013,
          1016,
          1011,
          1016,
          1014,
          1021,
          1011,
          1005,
          1014,
          1017,
          1013,
          1010,
          1009,
          1007,
          997,
          1013,
          1013,
          1017,
          1021,
          1029,
          1014,
          1013,
          1010,
          1014,
          1012,
          1016,
          1010,
          1030,
          1017,
          1009,
          1015,
          1013,
          1018,
          1015,
          1010,
          1015,
          1014,
          1018,
          1008,
          1007,
          1013,
          1021,
          1008,
          1008,
          1026,
          1010,
          1012,
          1003,
          1017,
          1009,
          1018,
          1008,
          1027,
          1022,
          1016,
          998,
          1011,
          1013,
          1007,
          1025,
          1012,
          1009,
          1016,
          1027,
          1011,
          1008,
          1014
         ],
         "y0": " ",
         "yaxis": "y"
        }
       ],
       "layout": {
        "boxmode": "group",
        "legend": {
         "tracegroupgap": 0
        },
        "template": {
         "data": {
          "bar": [
           {
            "error_x": {
             "color": "#2a3f5f"
            },
            "error_y": {
             "color": "#2a3f5f"
            },
            "marker": {
             "line": {
              "color": "#E5ECF6",
              "width": 0.5
             },
             "pattern": {
              "fillmode": "overlay",
              "size": 10,
              "solidity": 0.2
             }
            },
            "type": "bar"
           }
          ],
          "barpolar": [
           {
            "marker": {
             "line": {
              "color": "#E5ECF6",
              "width": 0.5
             },
             "pattern": {
              "fillmode": "overlay",
              "size": 10,
              "solidity": 0.2
             }
            },
            "type": "barpolar"
           }
          ],
          "carpet": [
           {
            "aaxis": {
             "endlinecolor": "#2a3f5f",
             "gridcolor": "white",
             "linecolor": "white",
             "minorgridcolor": "white",
             "startlinecolor": "#2a3f5f"
            },
            "baxis": {
             "endlinecolor": "#2a3f5f",
             "gridcolor": "white",
             "linecolor": "white",
             "minorgridcolor": "white",
             "startlinecolor": "#2a3f5f"
            },
            "type": "carpet"
           }
          ],
          "choropleth": [
           {
            "colorbar": {
             "outlinewidth": 0,
             "ticks": ""
            },
            "type": "choropleth"
           }
          ],
          "contour": [
           {
            "colorbar": {
             "outlinewidth": 0,
             "ticks": ""
            },
            "colorscale": [
             [
              0,
              "#0d0887"
             ],
             [
              0.1111111111111111,
              "#46039f"
             ],
             [
              0.2222222222222222,
              "#7201a8"
             ],
             [
              0.3333333333333333,
              "#9c179e"
             ],
             [
              0.4444444444444444,
              "#bd3786"
             ],
             [
              0.5555555555555556,
              "#d8576b"
             ],
             [
              0.6666666666666666,
              "#ed7953"
             ],
             [
              0.7777777777777778,
              "#fb9f3a"
             ],
             [
              0.8888888888888888,
              "#fdca26"
             ],
             [
              1,
              "#f0f921"
             ]
            ],
            "type": "contour"
           }
          ],
          "contourcarpet": [
           {
            "colorbar": {
             "outlinewidth": 0,
             "ticks": ""
            },
            "type": "contourcarpet"
           }
          ],
          "heatmap": [
           {
            "colorbar": {
             "outlinewidth": 0,
             "ticks": ""
            },
            "colorscale": [
             [
              0,
              "#0d0887"
             ],
             [
              0.1111111111111111,
              "#46039f"
             ],
             [
              0.2222222222222222,
              "#7201a8"
             ],
             [
              0.3333333333333333,
              "#9c179e"
             ],
             [
              0.4444444444444444,
              "#bd3786"
             ],
             [
              0.5555555555555556,
              "#d8576b"
             ],
             [
              0.6666666666666666,
              "#ed7953"
             ],
             [
              0.7777777777777778,
              "#fb9f3a"
             ],
             [
              0.8888888888888888,
              "#fdca26"
             ],
             [
              1,
              "#f0f921"
             ]
            ],
            "type": "heatmap"
           }
          ],
          "heatmapgl": [
           {
            "colorbar": {
             "outlinewidth": 0,
             "ticks": ""
            },
            "colorscale": [
             [
              0,
              "#0d0887"
             ],
             [
              0.1111111111111111,
              "#46039f"
             ],
             [
              0.2222222222222222,
              "#7201a8"
             ],
             [
              0.3333333333333333,
              "#9c179e"
             ],
             [
              0.4444444444444444,
              "#bd3786"
             ],
             [
              0.5555555555555556,
              "#d8576b"
             ],
             [
              0.6666666666666666,
              "#ed7953"
             ],
             [
              0.7777777777777778,
              "#fb9f3a"
             ],
             [
              0.8888888888888888,
              "#fdca26"
             ],
             [
              1,
              "#f0f921"
             ]
            ],
            "type": "heatmapgl"
           }
          ],
          "histogram": [
           {
            "marker": {
             "pattern": {
              "fillmode": "overlay",
              "size": 10,
              "solidity": 0.2
             }
            },
            "type": "histogram"
           }
          ],
          "histogram2d": [
           {
            "colorbar": {
             "outlinewidth": 0,
             "ticks": ""
            },
            "colorscale": [
             [
              0,
              "#0d0887"
             ],
             [
              0.1111111111111111,
              "#46039f"
             ],
             [
              0.2222222222222222,
              "#7201a8"
             ],
             [
              0.3333333333333333,
              "#9c179e"
             ],
             [
              0.4444444444444444,
              "#bd3786"
             ],
             [
              0.5555555555555556,
              "#d8576b"
             ],
             [
              0.6666666666666666,
              "#ed7953"
             ],
             [
              0.7777777777777778,
              "#fb9f3a"
             ],
             [
              0.8888888888888888,
              "#fdca26"
             ],
             [
              1,
              "#f0f921"
             ]
            ],
            "type": "histogram2d"
           }
          ],
          "histogram2dcontour": [
           {
            "colorbar": {
             "outlinewidth": 0,
             "ticks": ""
            },
            "colorscale": [
             [
              0,
              "#0d0887"
             ],
             [
              0.1111111111111111,
              "#46039f"
             ],
             [
              0.2222222222222222,
              "#7201a8"
             ],
             [
              0.3333333333333333,
              "#9c179e"
             ],
             [
              0.4444444444444444,
              "#bd3786"
             ],
             [
              0.5555555555555556,
              "#d8576b"
             ],
             [
              0.6666666666666666,
              "#ed7953"
             ],
             [
              0.7777777777777778,
              "#fb9f3a"
             ],
             [
              0.8888888888888888,
              "#fdca26"
             ],
             [
              1,
              "#f0f921"
             ]
            ],
            "type": "histogram2dcontour"
           }
          ],
          "mesh3d": [
           {
            "colorbar": {
             "outlinewidth": 0,
             "ticks": ""
            },
            "type": "mesh3d"
           }
          ],
          "parcoords": [
           {
            "line": {
             "colorbar": {
              "outlinewidth": 0,
              "ticks": ""
             }
            },
            "type": "parcoords"
           }
          ],
          "pie": [
           {
            "automargin": true,
            "type": "pie"
           }
          ],
          "scatter": [
           {
            "fillpattern": {
             "fillmode": "overlay",
             "size": 10,
             "solidity": 0.2
            },
            "type": "scatter"
           }
          ],
          "scatter3d": [
           {
            "line": {
             "colorbar": {
              "outlinewidth": 0,
              "ticks": ""
             }
            },
            "marker": {
             "colorbar": {
              "outlinewidth": 0,
              "ticks": ""
             }
            },
            "type": "scatter3d"
           }
          ],
          "scattercarpet": [
           {
            "marker": {
             "colorbar": {
              "outlinewidth": 0,
              "ticks": ""
             }
            },
            "type": "scattercarpet"
           }
          ],
          "scattergeo": [
           {
            "marker": {
             "colorbar": {
              "outlinewidth": 0,
              "ticks": ""
             }
            },
            "type": "scattergeo"
           }
          ],
          "scattergl": [
           {
            "marker": {
             "colorbar": {
              "outlinewidth": 0,
              "ticks": ""
             }
            },
            "type": "scattergl"
           }
          ],
          "scattermapbox": [
           {
            "marker": {
             "colorbar": {
              "outlinewidth": 0,
              "ticks": ""
             }
            },
            "type": "scattermapbox"
           }
          ],
          "scatterpolar": [
           {
            "marker": {
             "colorbar": {
              "outlinewidth": 0,
              "ticks": ""
             }
            },
            "type": "scatterpolar"
           }
          ],
          "scatterpolargl": [
           {
            "marker": {
             "colorbar": {
              "outlinewidth": 0,
              "ticks": ""
             }
            },
            "type": "scatterpolargl"
           }
          ],
          "scatterternary": [
           {
            "marker": {
             "colorbar": {
              "outlinewidth": 0,
              "ticks": ""
             }
            },
            "type": "scatterternary"
           }
          ],
          "surface": [
           {
            "colorbar": {
             "outlinewidth": 0,
             "ticks": ""
            },
            "colorscale": [
             [
              0,
              "#0d0887"
             ],
             [
              0.1111111111111111,
              "#46039f"
             ],
             [
              0.2222222222222222,
              "#7201a8"
             ],
             [
              0.3333333333333333,
              "#9c179e"
             ],
             [
              0.4444444444444444,
              "#bd3786"
             ],
             [
              0.5555555555555556,
              "#d8576b"
             ],
             [
              0.6666666666666666,
              "#ed7953"
             ],
             [
              0.7777777777777778,
              "#fb9f3a"
             ],
             [
              0.8888888888888888,
              "#fdca26"
             ],
             [
              1,
              "#f0f921"
             ]
            ],
            "type": "surface"
           }
          ],
          "table": [
           {
            "cells": {
             "fill": {
              "color": "#EBF0F8"
             },
             "line": {
              "color": "white"
             }
            },
            "header": {
             "fill": {
              "color": "#C8D4E3"
             },
             "line": {
              "color": "white"
             }
            },
            "type": "table"
           }
          ]
         },
         "layout": {
          "annotationdefaults": {
           "arrowcolor": "#2a3f5f",
           "arrowhead": 0,
           "arrowwidth": 1
          },
          "autotypenumbers": "strict",
          "coloraxis": {
           "colorbar": {
            "outlinewidth": 0,
            "ticks": ""
           }
          },
          "colorscale": {
           "diverging": [
            [
             0,
             "#8e0152"
            ],
            [
             0.1,
             "#c51b7d"
            ],
            [
             0.2,
             "#de77ae"
            ],
            [
             0.3,
             "#f1b6da"
            ],
            [
             0.4,
             "#fde0ef"
            ],
            [
             0.5,
             "#f7f7f7"
            ],
            [
             0.6,
             "#e6f5d0"
            ],
            [
             0.7,
             "#b8e186"
            ],
            [
             0.8,
             "#7fbc41"
            ],
            [
             0.9,
             "#4d9221"
            ],
            [
             1,
             "#276419"
            ]
           ],
           "sequential": [
            [
             0,
             "#0d0887"
            ],
            [
             0.1111111111111111,
             "#46039f"
            ],
            [
             0.2222222222222222,
             "#7201a8"
            ],
            [
             0.3333333333333333,
             "#9c179e"
            ],
            [
             0.4444444444444444,
             "#bd3786"
            ],
            [
             0.5555555555555556,
             "#d8576b"
            ],
            [
             0.6666666666666666,
             "#ed7953"
            ],
            [
             0.7777777777777778,
             "#fb9f3a"
            ],
            [
             0.8888888888888888,
             "#fdca26"
            ],
            [
             1,
             "#f0f921"
            ]
           ],
           "sequentialminus": [
            [
             0,
             "#0d0887"
            ],
            [
             0.1111111111111111,
             "#46039f"
            ],
            [
             0.2222222222222222,
             "#7201a8"
            ],
            [
             0.3333333333333333,
             "#9c179e"
            ],
            [
             0.4444444444444444,
             "#bd3786"
            ],
            [
             0.5555555555555556,
             "#d8576b"
            ],
            [
             0.6666666666666666,
             "#ed7953"
            ],
            [
             0.7777777777777778,
             "#fb9f3a"
            ],
            [
             0.8888888888888888,
             "#fdca26"
            ],
            [
             1,
             "#f0f921"
            ]
           ]
          },
          "colorway": [
           "#636efa",
           "#EF553B",
           "#00cc96",
           "#ab63fa",
           "#FFA15A",
           "#19d3f3",
           "#FF6692",
           "#B6E880",
           "#FF97FF",
           "#FECB52"
          ],
          "font": {
           "color": "#2a3f5f"
          },
          "geo": {
           "bgcolor": "white",
           "lakecolor": "white",
           "landcolor": "#E5ECF6",
           "showlakes": true,
           "showland": true,
           "subunitcolor": "white"
          },
          "hoverlabel": {
           "align": "left"
          },
          "hovermode": "closest",
          "mapbox": {
           "style": "light"
          },
          "paper_bgcolor": "white",
          "plot_bgcolor": "#E5ECF6",
          "polar": {
           "angularaxis": {
            "gridcolor": "white",
            "linecolor": "white",
            "ticks": ""
           },
           "bgcolor": "#E5ECF6",
           "radialaxis": {
            "gridcolor": "white",
            "linecolor": "white",
            "ticks": ""
           }
          },
          "scene": {
           "xaxis": {
            "backgroundcolor": "#E5ECF6",
            "gridcolor": "white",
            "gridwidth": 2,
            "linecolor": "white",
            "showbackground": true,
            "ticks": "",
            "zerolinecolor": "white"
           },
           "yaxis": {
            "backgroundcolor": "#E5ECF6",
            "gridcolor": "white",
            "gridwidth": 2,
            "linecolor": "white",
            "showbackground": true,
            "ticks": "",
            "zerolinecolor": "white"
           },
           "zaxis": {
            "backgroundcolor": "#E5ECF6",
            "gridcolor": "white",
            "gridwidth": 2,
            "linecolor": "white",
            "showbackground": true,
            "ticks": "",
            "zerolinecolor": "white"
           }
          },
          "shapedefaults": {
           "line": {
            "color": "#2a3f5f"
           }
          },
          "ternary": {
           "aaxis": {
            "gridcolor": "white",
            "linecolor": "white",
            "ticks": ""
           },
           "baxis": {
            "gridcolor": "white",
            "linecolor": "white",
            "ticks": ""
           },
           "bgcolor": "#E5ECF6",
           "caxis": {
            "gridcolor": "white",
            "linecolor": "white",
            "ticks": ""
           }
          },
          "title": {
           "x": 0.05
          },
          "xaxis": {
           "automargin": true,
           "gridcolor": "white",
           "linecolor": "white",
           "ticks": "",
           "title": {
            "standoff": 15
           },
           "zerolinecolor": "white",
           "zerolinewidth": 2
          },
          "yaxis": {
           "automargin": true,
           "gridcolor": "white",
           "linecolor": "white",
           "ticks": "",
           "title": {
            "standoff": 15
           },
           "zerolinecolor": "white",
           "zerolinewidth": 2
          }
         }
        },
        "title": {
         "text": "Boxplot de tipo de descripción y presión"
        },
        "xaxis": {
         "anchor": "y",
         "domain": [
          0,
          1
         ],
         "title": {
          "text": "description"
         }
        },
        "yaxis": {
         "anchor": "x",
         "domain": [
          0,
          1
         ],
         "title": {
          "text": "curr_press"
         }
        }
       }
      },
      "text/html": [
       "<div>                            <div id=\"29c612ae-fb74-41fc-89fa-e740e1a8dd5d\" class=\"plotly-graph-div\" style=\"height:525px; width:100%;\"></div>            <script type=\"text/javascript\">                require([\"plotly\"], function(Plotly) {                    window.PLOTLYENV=window.PLOTLYENV || {};                                    if (document.getElementById(\"29c612ae-fb74-41fc-89fa-e740e1a8dd5d\")) {                    Plotly.newPlot(                        \"29c612ae-fb74-41fc-89fa-e740e1a8dd5d\",                        [{\"alignmentgroup\":\"True\",\"hovertemplate\":\"description=%{x}<br>curr_press=%{y}<extra></extra>\",\"legendgroup\":\"\",\"marker\":{\"color\":\"#636efa\"},\"name\":\"\",\"notched\":false,\"offsetgroup\":\"\",\"orientation\":\"v\",\"showlegend\":false,\"x\":[\"scattered clouds\",\"clear sky\",\"overcast clouds\",\"thunderstorm with light rain\",\"light rain\",\"haze\",\"few clouds\",\"overcast clouds\",\"few clouds\",\"broken clouds\",\"broken clouds\",\"broken clouds\",\"clear sky\",\"overcast clouds\",\"scattered clouds\",\"few clouds\",\"broken clouds\",\"overcast clouds\",\"scattered clouds\",\"clear sky\",\"overcast clouds\",\"broken clouds\",\"overcast clouds\",\"broken clouds\",\"clear sky\",\"clear sky\",\"thunderstorm\",\"broken clouds\",\"broken clouds\",\"scattered clouds\",\"scattered clouds\",\"overcast clouds\",\"overcast clouds\",\"few clouds\",\"scattered clouds\",\"clear sky\",\"scattered clouds\",\"few clouds\",\"overcast clouds\",\"clear sky\",\"haze\",\"clear sky\",\"clear sky\",\"scattered clouds\",\"clear sky\",\"few clouds\",\"clear sky\",\"overcast clouds\",\"clear sky\",\"overcast clouds\",\"broken clouds\",\"clear sky\",\"clear sky\",\"light rain\",\"scattered clouds\",\"clear sky\",\"clear sky\",\"clear sky\",\"clear sky\",\"scattered clouds\",\"overcast clouds\",\"scattered clouds\",\"clear sky\",\"clear sky\",\"broken clouds\",\"scattered clouds\",\"thunderstorm with light rain\",\"broken clouds\",\"light intensity drizzle\",\"broken clouds\",\"overcast clouds\",\"light rain\",\"broken clouds\",\"scattered clouds\",\"mist\",\"thunderstorm\",\"clear sky\",\"clear sky\",\"few clouds\",\"overcast clouds\",\"scattered clouds\",\"thunderstorm with light rain\",\"broken clouds\",\"overcast clouds\",\"few clouds\",\"clear sky\",\"overcast clouds\",\"few clouds\",\"broken clouds\",\"scattered clouds\",\"light rain\",\"haze\",\"overcast clouds\",\"haze\",\"overcast clouds\",\"light rain\",\"overcast clouds\",\"clear sky\",\"broken clouds\",\"drizzle\",\"clear sky\",\"clear sky\",\"clear sky\",\"clear sky\",\"overcast clouds\",\"few clouds\",\"few clouds\",\"broken clouds\",\"light rain\",\"broken clouds\",\"broken clouds\",\"clear sky\",\"few clouds\",\"few clouds\",\"scattered clouds\",\"overcast clouds\",\"broken clouds\",\"broken clouds\",\"scattered clouds\",\"few clouds\",\"moderate rain\",\"clear sky\",\"few clouds\",\"broken clouds\",\"clear sky\",\"scattered clouds\",\"few clouds\",\"few clouds\",\"clear sky\",\"broken clouds\",\"scattered clouds\",\"light rain\",\"scattered clouds\",\"broken clouds\",\"haze\",\"haze\",\"light rain\",\"broken clouds\",\"scattered clouds\",\"clear sky\",\"broken clouds\",\"clear sky\",\"haze\",\"haze\",\"clear sky\",\"few clouds\",\"clear sky\",\"dust\",\"clear sky\",\"broken clouds\",\"overcast clouds\",\"scattered clouds\",\"clear sky\",\"clear sky\",\"scattered clouds\",\"smoke\",\"overcast clouds\",\"few clouds\",\"broken clouds\",\"overcast clouds\",\"clear sky\",\"clear sky\",\"few clouds\",\"clear sky\",\"few clouds\",\"scattered clouds\",\"thunderstorm with light rain\",\"broken clouds\",\"haze\",\"overcast clouds\",\"scattered clouds\",\"few clouds\",\"overcast clouds\",\"clear sky\",\"clear sky\",\"scattered clouds\",\"broken clouds\",\"light rain\",\"haze\",\"light rain\",\"scattered clouds\",\"overcast clouds\",\"clear sky\",\"scattered clouds\",\"thunderstorm\",\"clear sky\",\"overcast clouds\",\"broken clouds\",\"scattered clouds\",\"clear sky\",\"overcast clouds\",\"scattered clouds\",\"clear sky\",\"light rain\",\"few clouds\",\"light rain\",\"scattered clouds\",\"broken clouds\",\"scattered clouds\",\"clear sky\",\"moderate rain\",\"scattered clouds\",\"clear sky\",\"overcast clouds\",\"scattered clouds\",\"clear sky\",\"few clouds\",\"clear sky\",\"clear sky\",\"clear sky\",\"clear sky\",\"broken clouds\",\"broken clouds\",\"clear sky\",\"broken clouds\",\"moderate rain\",\"clear sky\",\"overcast clouds\",\"overcast clouds\",\"moderate rain\",\"light rain\",\"overcast clouds\",\"moderate rain\",\"broken clouds\",\"overcast clouds\",\"moderate rain\",\"smoke\",\"haze\",\"broken clouds\",\"broken clouds\",\"scattered clouds\",\"clear sky\",\"overcast clouds\",\"overcast clouds\",\"fog\",\"clear sky\",\"mist\",\"clear sky\",\"scattered clouds\",\"scattered clouds\",\"overcast clouds\",\"clear sky\",\"broken clouds\",\"clear sky\",\"scattered clouds\",\"scattered clouds\",\"broken clouds\",\"clear sky\",\"mist\",\"clear sky\",\"broken clouds\",\"few clouds\",\"scattered clouds\",\"overcast clouds\",\"scattered clouds\",\"overcast clouds\",\"clear sky\",\"overcast clouds\",\"broken clouds\",\"scattered clouds\",\"few clouds\",\"clear sky\",\"clear sky\",\"haze\",\"overcast clouds\",\"light rain\",\"broken clouds\",\"mist\",\"moderate rain\",\"clear sky\",\"few clouds\",\"clear sky\",\"broken clouds\",\"overcast clouds\",\"clear sky\",\"broken clouds\",\"scattered clouds\",\"overcast clouds\",\"light rain\",\"clear sky\",\"broken clouds\",\"broken clouds\",\"clear sky\",\"clear sky\",\"overcast clouds\",\"scattered clouds\",\"mist\",\"scattered clouds\",\"broken clouds\",\"clear sky\",\"broken clouds\",\"clear sky\",\"fog\",\"clear sky\",\"clear sky\",\"broken clouds\",\"scattered clouds\",\"overcast clouds\",\"overcast clouds\",\"broken clouds\",\"few clouds\",\"clear sky\",\"broken clouds\",\"broken clouds\",\"scattered clouds\",\"broken clouds\",\"clear sky\",\"overcast clouds\",\"clear sky\",\"overcast clouds\",\"light intensity shower rain\",\"clear sky\",\"few clouds\",\"few clouds\",\"broken clouds\",\"broken clouds\",\"clear sky\",\"broken clouds\",\"light rain\",\"scattered clouds\",\"broken clouds\",\"clear sky\",\"few clouds\",\"broken clouds\",\"few clouds\",\"few clouds\",\"broken clouds\",\"clear sky\",\"overcast clouds\",\"broken clouds\",\"clear sky\",\"few clouds\",\"scattered clouds\",\"clear sky\",\"overcast clouds\",\"scattered clouds\",\"broken clouds\",\"few clouds\",\"broken clouds\",\"clear sky\",\"overcast clouds\",\"overcast clouds\",\"scattered clouds\",\"overcast clouds\",\"clear sky\",\"clear sky\",\"few clouds\",\"broken clouds\",\"overcast clouds\",\"overcast clouds\",\"few clouds\",\"few clouds\",\"scattered clouds\",\"clear sky\",\"clear sky\",\"clear sky\",\"clear sky\",\"overcast clouds\",\"broken clouds\",\"few clouds\",\"clear sky\",\"scattered clouds\",\"moderate rain\",\"broken clouds\",\"scattered clouds\",\"broken clouds\",\"few clouds\",\"few clouds\",\"broken clouds\",\"clear sky\"],\"x0\":\" \",\"xaxis\":\"x\",\"y\":[1011,1008,1011,1012,1026,1009,1009,1010,1013,1015,1012,1019,1021,1014,1009,1021,1011,1025,1011,1013,1014,1008,1006,1013,1004,1012,1013,1013,1012,1014,1009,1009,1011,1012,1010,1005,1014,1014,1015,1011,1013,1012,1012,1014,1021,1016,1008,1014,1016,1012,1027,1020,1017,1010,1012,1017,1018,1011,1016,1019,1014,1011,1009,1009,1017,1010,1012,1016,1016,1011,1010,1013,1011,1014,1008,1013,1021,1017,1010,1003,1013,1012,1026,990,1018,1009,1010,1011,1021,1010,1013,1006,1014,1009,1014,1009,1016,1006,1009,1010,1021,1006,1018,1016,1016,1003,1014,1012,1012,1010,1009,1017,1013,1013,1009,1015,1010,1025,1009,1022,1010,1004,1019,1011,1021,1005,1017,1015,1024,1010,1010,1010,1015,1017,1013,1013,1010,1010,1010,1006,1010,1008,1009,1013,1007,1005,1021,1022,1009,1013,1010,1012,1012,1005,1011,1008,1018,1016,1008,1020,1009,1009,1020,1013,1012,1012,1012,1009,1007,1012,1016,1006,1012,1006,1009,1008,1036,1010,1004,1011,1016,987,1010,1014,1011,1021,1017,1010,1016,1020,1016,1009,1012,1009,1012,1011,1011,1013,1009,1006,1010,1011,1016,1009,1012,1030,1015,1019,1016,1018,1009,1012,1026,1011,1015,1020,1015,1028,1012,1011,1011,1019,1008,1015,1023,1008,1002,1011,1007,1006,1007,1021,1007,1009,1011,1010,1011,1007,1008,1011,1017,1019,1014,1019,1003,1010,1009,1026,1015,1010,1011,1013,1018,1012,1010,1011,1016,1030,1012,1009,1010,1009,1016,1013,1014,1013,1014,1018,1010,1015,1014,1018,1011,1015,1012,1008,1011,1019,1009,1005,1013,1001,1027,1018,1007,1014,1016,1013,1012,1019,1027,1021,1030,1016,1014,1011,1012,1019,1017,1018,1018,1010,1011,1013,1016,1011,1016,1014,1021,1011,1005,1014,1017,1013,1010,1009,1007,997,1013,1013,1017,1021,1029,1014,1013,1010,1014,1012,1016,1010,1030,1017,1009,1015,1013,1018,1015,1010,1015,1014,1018,1008,1007,1013,1021,1008,1008,1026,1010,1012,1003,1017,1009,1018,1008,1027,1022,1016,998,1011,1013,1007,1025,1012,1009,1016,1027,1011,1008,1014],\"y0\":\" \",\"yaxis\":\"y\",\"type\":\"box\"}],                        {\"template\":{\"data\":{\"histogram2dcontour\":[{\"type\":\"histogram2dcontour\",\"colorbar\":{\"outlinewidth\":0,\"ticks\":\"\"},\"colorscale\":[[0.0,\"#0d0887\"],[0.1111111111111111,\"#46039f\"],[0.2222222222222222,\"#7201a8\"],[0.3333333333333333,\"#9c179e\"],[0.4444444444444444,\"#bd3786\"],[0.5555555555555556,\"#d8576b\"],[0.6666666666666666,\"#ed7953\"],[0.7777777777777778,\"#fb9f3a\"],[0.8888888888888888,\"#fdca26\"],[1.0,\"#f0f921\"]]}],\"choropleth\":[{\"type\":\"choropleth\",\"colorbar\":{\"outlinewidth\":0,\"ticks\":\"\"}}],\"histogram2d\":[{\"type\":\"histogram2d\",\"colorbar\":{\"outlinewidth\":0,\"ticks\":\"\"},\"colorscale\":[[0.0,\"#0d0887\"],[0.1111111111111111,\"#46039f\"],[0.2222222222222222,\"#7201a8\"],[0.3333333333333333,\"#9c179e\"],[0.4444444444444444,\"#bd3786\"],[0.5555555555555556,\"#d8576b\"],[0.6666666666666666,\"#ed7953\"],[0.7777777777777778,\"#fb9f3a\"],[0.8888888888888888,\"#fdca26\"],[1.0,\"#f0f921\"]]}],\"heatmap\":[{\"type\":\"heatmap\",\"colorbar\":{\"outlinewidth\":0,\"ticks\":\"\"},\"colorscale\":[[0.0,\"#0d0887\"],[0.1111111111111111,\"#46039f\"],[0.2222222222222222,\"#7201a8\"],[0.3333333333333333,\"#9c179e\"],[0.4444444444444444,\"#bd3786\"],[0.5555555555555556,\"#d8576b\"],[0.6666666666666666,\"#ed7953\"],[0.7777777777777778,\"#fb9f3a\"],[0.8888888888888888,\"#fdca26\"],[1.0,\"#f0f921\"]]}],\"heatmapgl\":[{\"type\":\"heatmapgl\",\"colorbar\":{\"outlinewidth\":0,\"ticks\":\"\"},\"colorscale\":[[0.0,\"#0d0887\"],[0.1111111111111111,\"#46039f\"],[0.2222222222222222,\"#7201a8\"],[0.3333333333333333,\"#9c179e\"],[0.4444444444444444,\"#bd3786\"],[0.5555555555555556,\"#d8576b\"],[0.6666666666666666,\"#ed7953\"],[0.7777777777777778,\"#fb9f3a\"],[0.8888888888888888,\"#fdca26\"],[1.0,\"#f0f921\"]]}],\"contourcarpet\":[{\"type\":\"contourcarpet\",\"colorbar\":{\"outlinewidth\":0,\"ticks\":\"\"}}],\"contour\":[{\"type\":\"contour\",\"colorbar\":{\"outlinewidth\":0,\"ticks\":\"\"},\"colorscale\":[[0.0,\"#0d0887\"],[0.1111111111111111,\"#46039f\"],[0.2222222222222222,\"#7201a8\"],[0.3333333333333333,\"#9c179e\"],[0.4444444444444444,\"#bd3786\"],[0.5555555555555556,\"#d8576b\"],[0.6666666666666666,\"#ed7953\"],[0.7777777777777778,\"#fb9f3a\"],[0.8888888888888888,\"#fdca26\"],[1.0,\"#f0f921\"]]}],\"surface\":[{\"type\":\"surface\",\"colorbar\":{\"outlinewidth\":0,\"ticks\":\"\"},\"colorscale\":[[0.0,\"#0d0887\"],[0.1111111111111111,\"#46039f\"],[0.2222222222222222,\"#7201a8\"],[0.3333333333333333,\"#9c179e\"],[0.4444444444444444,\"#bd3786\"],[0.5555555555555556,\"#d8576b\"],[0.6666666666666666,\"#ed7953\"],[0.7777777777777778,\"#fb9f3a\"],[0.8888888888888888,\"#fdca26\"],[1.0,\"#f0f921\"]]}],\"mesh3d\":[{\"type\":\"mesh3d\",\"colorbar\":{\"outlinewidth\":0,\"ticks\":\"\"}}],\"scatter\":[{\"fillpattern\":{\"fillmode\":\"overlay\",\"size\":10,\"solidity\":0.2},\"type\":\"scatter\"}],\"parcoords\":[{\"type\":\"parcoords\",\"line\":{\"colorbar\":{\"outlinewidth\":0,\"ticks\":\"\"}}}],\"scatterpolargl\":[{\"type\":\"scatterpolargl\",\"marker\":{\"colorbar\":{\"outlinewidth\":0,\"ticks\":\"\"}}}],\"bar\":[{\"error_x\":{\"color\":\"#2a3f5f\"},\"error_y\":{\"color\":\"#2a3f5f\"},\"marker\":{\"line\":{\"color\":\"#E5ECF6\",\"width\":0.5},\"pattern\":{\"fillmode\":\"overlay\",\"size\":10,\"solidity\":0.2}},\"type\":\"bar\"}],\"scattergeo\":[{\"type\":\"scattergeo\",\"marker\":{\"colorbar\":{\"outlinewidth\":0,\"ticks\":\"\"}}}],\"scatterpolar\":[{\"type\":\"scatterpolar\",\"marker\":{\"colorbar\":{\"outlinewidth\":0,\"ticks\":\"\"}}}],\"histogram\":[{\"marker\":{\"pattern\":{\"fillmode\":\"overlay\",\"size\":10,\"solidity\":0.2}},\"type\":\"histogram\"}],\"scattergl\":[{\"type\":\"scattergl\",\"marker\":{\"colorbar\":{\"outlinewidth\":0,\"ticks\":\"\"}}}],\"scatter3d\":[{\"type\":\"scatter3d\",\"line\":{\"colorbar\":{\"outlinewidth\":0,\"ticks\":\"\"}},\"marker\":{\"colorbar\":{\"outlinewidth\":0,\"ticks\":\"\"}}}],\"scattermapbox\":[{\"type\":\"scattermapbox\",\"marker\":{\"colorbar\":{\"outlinewidth\":0,\"ticks\":\"\"}}}],\"scatterternary\":[{\"type\":\"scatterternary\",\"marker\":{\"colorbar\":{\"outlinewidth\":0,\"ticks\":\"\"}}}],\"scattercarpet\":[{\"type\":\"scattercarpet\",\"marker\":{\"colorbar\":{\"outlinewidth\":0,\"ticks\":\"\"}}}],\"carpet\":[{\"aaxis\":{\"endlinecolor\":\"#2a3f5f\",\"gridcolor\":\"white\",\"linecolor\":\"white\",\"minorgridcolor\":\"white\",\"startlinecolor\":\"#2a3f5f\"},\"baxis\":{\"endlinecolor\":\"#2a3f5f\",\"gridcolor\":\"white\",\"linecolor\":\"white\",\"minorgridcolor\":\"white\",\"startlinecolor\":\"#2a3f5f\"},\"type\":\"carpet\"}],\"table\":[{\"cells\":{\"fill\":{\"color\":\"#EBF0F8\"},\"line\":{\"color\":\"white\"}},\"header\":{\"fill\":{\"color\":\"#C8D4E3\"},\"line\":{\"color\":\"white\"}},\"type\":\"table\"}],\"barpolar\":[{\"marker\":{\"line\":{\"color\":\"#E5ECF6\",\"width\":0.5},\"pattern\":{\"fillmode\":\"overlay\",\"size\":10,\"solidity\":0.2}},\"type\":\"barpolar\"}],\"pie\":[{\"automargin\":true,\"type\":\"pie\"}]},\"layout\":{\"autotypenumbers\":\"strict\",\"colorway\":[\"#636efa\",\"#EF553B\",\"#00cc96\",\"#ab63fa\",\"#FFA15A\",\"#19d3f3\",\"#FF6692\",\"#B6E880\",\"#FF97FF\",\"#FECB52\"],\"font\":{\"color\":\"#2a3f5f\"},\"hovermode\":\"closest\",\"hoverlabel\":{\"align\":\"left\"},\"paper_bgcolor\":\"white\",\"plot_bgcolor\":\"#E5ECF6\",\"polar\":{\"bgcolor\":\"#E5ECF6\",\"angularaxis\":{\"gridcolor\":\"white\",\"linecolor\":\"white\",\"ticks\":\"\"},\"radialaxis\":{\"gridcolor\":\"white\",\"linecolor\":\"white\",\"ticks\":\"\"}},\"ternary\":{\"bgcolor\":\"#E5ECF6\",\"aaxis\":{\"gridcolor\":\"white\",\"linecolor\":\"white\",\"ticks\":\"\"},\"baxis\":{\"gridcolor\":\"white\",\"linecolor\":\"white\",\"ticks\":\"\"},\"caxis\":{\"gridcolor\":\"white\",\"linecolor\":\"white\",\"ticks\":\"\"}},\"coloraxis\":{\"colorbar\":{\"outlinewidth\":0,\"ticks\":\"\"}},\"colorscale\":{\"sequential\":[[0.0,\"#0d0887\"],[0.1111111111111111,\"#46039f\"],[0.2222222222222222,\"#7201a8\"],[0.3333333333333333,\"#9c179e\"],[0.4444444444444444,\"#bd3786\"],[0.5555555555555556,\"#d8576b\"],[0.6666666666666666,\"#ed7953\"],[0.7777777777777778,\"#fb9f3a\"],[0.8888888888888888,\"#fdca26\"],[1.0,\"#f0f921\"]],\"sequentialminus\":[[0.0,\"#0d0887\"],[0.1111111111111111,\"#46039f\"],[0.2222222222222222,\"#7201a8\"],[0.3333333333333333,\"#9c179e\"],[0.4444444444444444,\"#bd3786\"],[0.5555555555555556,\"#d8576b\"],[0.6666666666666666,\"#ed7953\"],[0.7777777777777778,\"#fb9f3a\"],[0.8888888888888888,\"#fdca26\"],[1.0,\"#f0f921\"]],\"diverging\":[[0,\"#8e0152\"],[0.1,\"#c51b7d\"],[0.2,\"#de77ae\"],[0.3,\"#f1b6da\"],[0.4,\"#fde0ef\"],[0.5,\"#f7f7f7\"],[0.6,\"#e6f5d0\"],[0.7,\"#b8e186\"],[0.8,\"#7fbc41\"],[0.9,\"#4d9221\"],[1,\"#276419\"]]},\"xaxis\":{\"gridcolor\":\"white\",\"linecolor\":\"white\",\"ticks\":\"\",\"title\":{\"standoff\":15},\"zerolinecolor\":\"white\",\"automargin\":true,\"zerolinewidth\":2},\"yaxis\":{\"gridcolor\":\"white\",\"linecolor\":\"white\",\"ticks\":\"\",\"title\":{\"standoff\":15},\"zerolinecolor\":\"white\",\"automargin\":true,\"zerolinewidth\":2},\"scene\":{\"xaxis\":{\"backgroundcolor\":\"#E5ECF6\",\"gridcolor\":\"white\",\"linecolor\":\"white\",\"showbackground\":true,\"ticks\":\"\",\"zerolinecolor\":\"white\",\"gridwidth\":2},\"yaxis\":{\"backgroundcolor\":\"#E5ECF6\",\"gridcolor\":\"white\",\"linecolor\":\"white\",\"showbackground\":true,\"ticks\":\"\",\"zerolinecolor\":\"white\",\"gridwidth\":2},\"zaxis\":{\"backgroundcolor\":\"#E5ECF6\",\"gridcolor\":\"white\",\"linecolor\":\"white\",\"showbackground\":true,\"ticks\":\"\",\"zerolinecolor\":\"white\",\"gridwidth\":2}},\"shapedefaults\":{\"line\":{\"color\":\"#2a3f5f\"}},\"annotationdefaults\":{\"arrowcolor\":\"#2a3f5f\",\"arrowhead\":0,\"arrowwidth\":1},\"geo\":{\"bgcolor\":\"white\",\"landcolor\":\"#E5ECF6\",\"subunitcolor\":\"white\",\"showland\":true,\"showlakes\":true,\"lakecolor\":\"white\"},\"title\":{\"x\":0.05},\"mapbox\":{\"style\":\"light\"}}},\"xaxis\":{\"anchor\":\"y\",\"domain\":[0.0,1.0],\"title\":{\"text\":\"description\"}},\"yaxis\":{\"anchor\":\"x\",\"domain\":[0.0,1.0],\"title\":{\"text\":\"curr_press\"}},\"legend\":{\"tracegroupgap\":0},\"title\":{\"text\":\"Boxplot de tipo de descripci\\u00f3n y presi\\u00f3n\"},\"boxmode\":\"group\"},                        {\"responsive\": true}                    ).then(function(){\n",
       "                            \n",
       "var gd = document.getElementById('29c612ae-fb74-41fc-89fa-e740e1a8dd5d');\n",
       "var x = new MutationObserver(function (mutations, observer) {{\n",
       "        var display = window.getComputedStyle(gd).display;\n",
       "        if (!display || display === 'none') {{\n",
       "            console.log([gd, 'removed!']);\n",
       "            Plotly.purge(gd);\n",
       "            observer.disconnect();\n",
       "        }}\n",
       "}});\n",
       "\n",
       "// Listen for the removal of the full notebook cells\n",
       "var notebookContainer = gd.closest('#notebook-container');\n",
       "if (notebookContainer) {{\n",
       "    x.observe(notebookContainer, {childList: true});\n",
       "}}\n",
       "\n",
       "// Listen for the clearing of the current output cell\n",
       "var outputEl = gd.closest('.output');\n",
       "if (outputEl) {{\n",
       "    x.observe(outputEl, {childList: true});\n",
       "}}\n",
       "\n",
       "                        })                };                });            </script>        </div>"
      ]
     },
     "metadata": {},
     "output_type": "display_data"
    }
   ],
   "source": [
    "fig = px.box(df, x=\"description\", y=\"curr_press\", title= 'Boxplot de tipo de descripción y presión')\n",
    "fig.show()"
   ]
  },
  {
   "cell_type": "code",
   "execution_count": 71,
   "id": "e04a8f2a",
   "metadata": {},
   "outputs": [
    {
     "data": {
      "application/vnd.plotly.v1+json": {
       "config": {
        "plotlyServerURL": "https://plot.ly"
       },
       "data": [
        {
         "alignmentgroup": "True",
         "hovertemplate": "description=%{x}<br>curr_hum=%{y}<extra></extra>",
         "legendgroup": "",
         "marker": {
          "color": "#636efa"
         },
         "name": "",
         "notched": false,
         "offsetgroup": "",
         "orientation": "v",
         "showlegend": false,
         "type": "box",
         "x": [
          "scattered clouds",
          "clear sky",
          "overcast clouds",
          "thunderstorm with light rain",
          "light rain",
          "haze",
          "few clouds",
          "overcast clouds",
          "few clouds",
          "broken clouds",
          "broken clouds",
          "broken clouds",
          "clear sky",
          "overcast clouds",
          "scattered clouds",
          "few clouds",
          "broken clouds",
          "overcast clouds",
          "scattered clouds",
          "clear sky",
          "overcast clouds",
          "broken clouds",
          "overcast clouds",
          "broken clouds",
          "clear sky",
          "clear sky",
          "thunderstorm",
          "broken clouds",
          "broken clouds",
          "scattered clouds",
          "scattered clouds",
          "overcast clouds",
          "overcast clouds",
          "few clouds",
          "scattered clouds",
          "clear sky",
          "scattered clouds",
          "few clouds",
          "overcast clouds",
          "clear sky",
          "haze",
          "clear sky",
          "clear sky",
          "scattered clouds",
          "clear sky",
          "few clouds",
          "clear sky",
          "overcast clouds",
          "clear sky",
          "overcast clouds",
          "broken clouds",
          "clear sky",
          "clear sky",
          "light rain",
          "scattered clouds",
          "clear sky",
          "clear sky",
          "clear sky",
          "clear sky",
          "scattered clouds",
          "overcast clouds",
          "scattered clouds",
          "clear sky",
          "clear sky",
          "broken clouds",
          "scattered clouds",
          "thunderstorm with light rain",
          "broken clouds",
          "light intensity drizzle",
          "broken clouds",
          "overcast clouds",
          "light rain",
          "broken clouds",
          "scattered clouds",
          "mist",
          "thunderstorm",
          "clear sky",
          "clear sky",
          "few clouds",
          "overcast clouds",
          "scattered clouds",
          "thunderstorm with light rain",
          "broken clouds",
          "overcast clouds",
          "few clouds",
          "clear sky",
          "overcast clouds",
          "few clouds",
          "broken clouds",
          "scattered clouds",
          "light rain",
          "haze",
          "overcast clouds",
          "haze",
          "overcast clouds",
          "light rain",
          "overcast clouds",
          "clear sky",
          "broken clouds",
          "drizzle",
          "clear sky",
          "clear sky",
          "clear sky",
          "clear sky",
          "overcast clouds",
          "few clouds",
          "few clouds",
          "broken clouds",
          "light rain",
          "broken clouds",
          "broken clouds",
          "clear sky",
          "few clouds",
          "few clouds",
          "scattered clouds",
          "overcast clouds",
          "broken clouds",
          "broken clouds",
          "scattered clouds",
          "few clouds",
          "moderate rain",
          "clear sky",
          "few clouds",
          "broken clouds",
          "clear sky",
          "scattered clouds",
          "few clouds",
          "few clouds",
          "clear sky",
          "broken clouds",
          "scattered clouds",
          "light rain",
          "scattered clouds",
          "broken clouds",
          "haze",
          "haze",
          "light rain",
          "broken clouds",
          "scattered clouds",
          "clear sky",
          "broken clouds",
          "clear sky",
          "haze",
          "haze",
          "clear sky",
          "few clouds",
          "clear sky",
          "dust",
          "clear sky",
          "broken clouds",
          "overcast clouds",
          "scattered clouds",
          "clear sky",
          "clear sky",
          "scattered clouds",
          "smoke",
          "overcast clouds",
          "few clouds",
          "broken clouds",
          "overcast clouds",
          "clear sky",
          "clear sky",
          "few clouds",
          "clear sky",
          "few clouds",
          "scattered clouds",
          "thunderstorm with light rain",
          "broken clouds",
          "haze",
          "overcast clouds",
          "scattered clouds",
          "few clouds",
          "overcast clouds",
          "clear sky",
          "clear sky",
          "scattered clouds",
          "broken clouds",
          "light rain",
          "haze",
          "light rain",
          "scattered clouds",
          "overcast clouds",
          "clear sky",
          "scattered clouds",
          "thunderstorm",
          "clear sky",
          "overcast clouds",
          "broken clouds",
          "scattered clouds",
          "clear sky",
          "overcast clouds",
          "scattered clouds",
          "clear sky",
          "light rain",
          "few clouds",
          "light rain",
          "scattered clouds",
          "broken clouds",
          "scattered clouds",
          "clear sky",
          "moderate rain",
          "scattered clouds",
          "clear sky",
          "overcast clouds",
          "scattered clouds",
          "clear sky",
          "few clouds",
          "clear sky",
          "clear sky",
          "clear sky",
          "clear sky",
          "broken clouds",
          "broken clouds",
          "clear sky",
          "broken clouds",
          "moderate rain",
          "clear sky",
          "overcast clouds",
          "overcast clouds",
          "moderate rain",
          "light rain",
          "overcast clouds",
          "moderate rain",
          "broken clouds",
          "overcast clouds",
          "moderate rain",
          "smoke",
          "haze",
          "broken clouds",
          "broken clouds",
          "scattered clouds",
          "clear sky",
          "overcast clouds",
          "overcast clouds",
          "fog",
          "clear sky",
          "mist",
          "clear sky",
          "scattered clouds",
          "scattered clouds",
          "overcast clouds",
          "clear sky",
          "broken clouds",
          "clear sky",
          "scattered clouds",
          "scattered clouds",
          "broken clouds",
          "clear sky",
          "mist",
          "clear sky",
          "broken clouds",
          "few clouds",
          "scattered clouds",
          "overcast clouds",
          "scattered clouds",
          "overcast clouds",
          "clear sky",
          "overcast clouds",
          "broken clouds",
          "scattered clouds",
          "few clouds",
          "clear sky",
          "clear sky",
          "haze",
          "overcast clouds",
          "light rain",
          "broken clouds",
          "mist",
          "moderate rain",
          "clear sky",
          "few clouds",
          "clear sky",
          "broken clouds",
          "overcast clouds",
          "clear sky",
          "broken clouds",
          "scattered clouds",
          "overcast clouds",
          "light rain",
          "clear sky",
          "broken clouds",
          "broken clouds",
          "clear sky",
          "clear sky",
          "overcast clouds",
          "scattered clouds",
          "mist",
          "scattered clouds",
          "broken clouds",
          "clear sky",
          "broken clouds",
          "clear sky",
          "fog",
          "clear sky",
          "clear sky",
          "broken clouds",
          "scattered clouds",
          "overcast clouds",
          "overcast clouds",
          "broken clouds",
          "few clouds",
          "clear sky",
          "broken clouds",
          "broken clouds",
          "scattered clouds",
          "broken clouds",
          "clear sky",
          "overcast clouds",
          "clear sky",
          "overcast clouds",
          "light intensity shower rain",
          "clear sky",
          "few clouds",
          "few clouds",
          "broken clouds",
          "broken clouds",
          "clear sky",
          "broken clouds",
          "light rain",
          "scattered clouds",
          "broken clouds",
          "clear sky",
          "few clouds",
          "broken clouds",
          "few clouds",
          "few clouds",
          "broken clouds",
          "clear sky",
          "overcast clouds",
          "broken clouds",
          "clear sky",
          "few clouds",
          "scattered clouds",
          "clear sky",
          "overcast clouds",
          "scattered clouds",
          "broken clouds",
          "few clouds",
          "broken clouds",
          "clear sky",
          "overcast clouds",
          "overcast clouds",
          "scattered clouds",
          "overcast clouds",
          "clear sky",
          "clear sky",
          "few clouds",
          "broken clouds",
          "overcast clouds",
          "overcast clouds",
          "few clouds",
          "few clouds",
          "scattered clouds",
          "clear sky",
          "clear sky",
          "clear sky",
          "clear sky",
          "overcast clouds",
          "broken clouds",
          "few clouds",
          "clear sky",
          "scattered clouds",
          "moderate rain",
          "broken clouds",
          "scattered clouds",
          "broken clouds",
          "few clouds",
          "few clouds",
          "broken clouds",
          "clear sky"
         ],
         "x0": " ",
         "xaxis": "x",
         "y": [
          94,
          53,
          90,
          100,
          100,
          66,
          82,
          71,
          87,
          52,
          67,
          85,
          46,
          94,
          93,
          100,
          79,
          89,
          38,
          41,
          94,
          72,
          71,
          73,
          56,
          82,
          94,
          67,
          84,
          61,
          63,
          79,
          73,
          82,
          83,
          34,
          83,
          83,
          18,
          68,
          74,
          89,
          83,
          85,
          67,
          83,
          86,
          83,
          48,
          69,
          88,
          67,
          83,
          95,
          83,
          38,
          81,
          73,
          73,
          78,
          84,
          94,
          57,
          68,
          88,
          71,
          94,
          67,
          92,
          88,
          75,
          81,
          94,
          77,
          83,
          87,
          50,
          55,
          71,
          88,
          75,
          94,
          77,
          79,
          59,
          47,
          73,
          94,
          57,
          62,
          95,
          27,
          61,
          74,
          61,
          73,
          94,
          65,
          61,
          100,
          46,
          45,
          81,
          90,
          52,
          12,
          74,
          89,
          82,
          60,
          79,
          27,
          66,
          66,
          88,
          86,
          49,
          49,
          53,
          64,
          83,
          15,
          77,
          60,
          83,
          56,
          86,
          83,
          79,
          79,
          86,
          72,
          74,
          73,
          54,
          54,
          96,
          82,
          31,
          16,
          88,
          82,
          31,
          65,
          57,
          90,
          59,
          41,
          74,
          24,
          77,
          91,
          78,
          10,
          69,
          70,
          88,
          64,
          80,
          74,
          15,
          65,
          77,
          27,
          92,
          81,
          94,
          80,
          84,
          81,
          80,
          92,
          99,
          74,
          84,
          58,
          78,
          93,
          42,
          78,
          84,
          80,
          55,
          94,
          88,
          84,
          77,
          83,
          83,
          82,
          98,
          89,
          57,
          79,
          62,
          100,
          79,
          89,
          58,
          62,
          89,
          73,
          87,
          84,
          78,
          100,
          83,
          50,
          52,
          52,
          41,
          83,
          99,
          22,
          83,
          77,
          80,
          76,
          83,
          94,
          85,
          77,
          90,
          75,
          89,
          73,
          54,
          70,
          43,
          45,
          52,
          88,
          71,
          64,
          91,
          51,
          94,
          46,
          88,
          72,
          99,
          33,
          83,
          31,
          80,
          88,
          50,
          63,
          94,
          62,
          79,
          74,
          79,
          94,
          70,
          90,
          82,
          55,
          93,
          79,
          21,
          88,
          84,
          70,
          77,
          88,
          84,
          94,
          91,
          91,
          78,
          29,
          81,
          46,
          44,
          29,
          73,
          94,
          84,
          17,
          94,
          87,
          74,
          83,
          32,
          77,
          95,
          76,
          89,
          60,
          91,
          71,
          100,
          82,
          73,
          100,
          79,
          76,
          83,
          87,
          71,
          56,
          90,
          85,
          57,
          94,
          59,
          95,
          91,
          81,
          49,
          93,
          49,
          62,
          66,
          80,
          48,
          93,
          85,
          100,
          95,
          75,
          88,
          81,
          70,
          79,
          89,
          46,
          87,
          58,
          87,
          66,
          70,
          46,
          82,
          65,
          45,
          79,
          64,
          33,
          83,
          100,
          68,
          79,
          80,
          76,
          52,
          75,
          92,
          75,
          94,
          61,
          89,
          90,
          64,
          81,
          75,
          79,
          81,
          89,
          33,
          64,
          81,
          94,
          83,
          100,
          75,
          71,
          80,
          94
         ],
         "y0": " ",
         "yaxis": "y"
        }
       ],
       "layout": {
        "boxmode": "group",
        "legend": {
         "tracegroupgap": 0
        },
        "template": {
         "data": {
          "bar": [
           {
            "error_x": {
             "color": "#2a3f5f"
            },
            "error_y": {
             "color": "#2a3f5f"
            },
            "marker": {
             "line": {
              "color": "#E5ECF6",
              "width": 0.5
             },
             "pattern": {
              "fillmode": "overlay",
              "size": 10,
              "solidity": 0.2
             }
            },
            "type": "bar"
           }
          ],
          "barpolar": [
           {
            "marker": {
             "line": {
              "color": "#E5ECF6",
              "width": 0.5
             },
             "pattern": {
              "fillmode": "overlay",
              "size": 10,
              "solidity": 0.2
             }
            },
            "type": "barpolar"
           }
          ],
          "carpet": [
           {
            "aaxis": {
             "endlinecolor": "#2a3f5f",
             "gridcolor": "white",
             "linecolor": "white",
             "minorgridcolor": "white",
             "startlinecolor": "#2a3f5f"
            },
            "baxis": {
             "endlinecolor": "#2a3f5f",
             "gridcolor": "white",
             "linecolor": "white",
             "minorgridcolor": "white",
             "startlinecolor": "#2a3f5f"
            },
            "type": "carpet"
           }
          ],
          "choropleth": [
           {
            "colorbar": {
             "outlinewidth": 0,
             "ticks": ""
            },
            "type": "choropleth"
           }
          ],
          "contour": [
           {
            "colorbar": {
             "outlinewidth": 0,
             "ticks": ""
            },
            "colorscale": [
             [
              0,
              "#0d0887"
             ],
             [
              0.1111111111111111,
              "#46039f"
             ],
             [
              0.2222222222222222,
              "#7201a8"
             ],
             [
              0.3333333333333333,
              "#9c179e"
             ],
             [
              0.4444444444444444,
              "#bd3786"
             ],
             [
              0.5555555555555556,
              "#d8576b"
             ],
             [
              0.6666666666666666,
              "#ed7953"
             ],
             [
              0.7777777777777778,
              "#fb9f3a"
             ],
             [
              0.8888888888888888,
              "#fdca26"
             ],
             [
              1,
              "#f0f921"
             ]
            ],
            "type": "contour"
           }
          ],
          "contourcarpet": [
           {
            "colorbar": {
             "outlinewidth": 0,
             "ticks": ""
            },
            "type": "contourcarpet"
           }
          ],
          "heatmap": [
           {
            "colorbar": {
             "outlinewidth": 0,
             "ticks": ""
            },
            "colorscale": [
             [
              0,
              "#0d0887"
             ],
             [
              0.1111111111111111,
              "#46039f"
             ],
             [
              0.2222222222222222,
              "#7201a8"
             ],
             [
              0.3333333333333333,
              "#9c179e"
             ],
             [
              0.4444444444444444,
              "#bd3786"
             ],
             [
              0.5555555555555556,
              "#d8576b"
             ],
             [
              0.6666666666666666,
              "#ed7953"
             ],
             [
              0.7777777777777778,
              "#fb9f3a"
             ],
             [
              0.8888888888888888,
              "#fdca26"
             ],
             [
              1,
              "#f0f921"
             ]
            ],
            "type": "heatmap"
           }
          ],
          "heatmapgl": [
           {
            "colorbar": {
             "outlinewidth": 0,
             "ticks": ""
            },
            "colorscale": [
             [
              0,
              "#0d0887"
             ],
             [
              0.1111111111111111,
              "#46039f"
             ],
             [
              0.2222222222222222,
              "#7201a8"
             ],
             [
              0.3333333333333333,
              "#9c179e"
             ],
             [
              0.4444444444444444,
              "#bd3786"
             ],
             [
              0.5555555555555556,
              "#d8576b"
             ],
             [
              0.6666666666666666,
              "#ed7953"
             ],
             [
              0.7777777777777778,
              "#fb9f3a"
             ],
             [
              0.8888888888888888,
              "#fdca26"
             ],
             [
              1,
              "#f0f921"
             ]
            ],
            "type": "heatmapgl"
           }
          ],
          "histogram": [
           {
            "marker": {
             "pattern": {
              "fillmode": "overlay",
              "size": 10,
              "solidity": 0.2
             }
            },
            "type": "histogram"
           }
          ],
          "histogram2d": [
           {
            "colorbar": {
             "outlinewidth": 0,
             "ticks": ""
            },
            "colorscale": [
             [
              0,
              "#0d0887"
             ],
             [
              0.1111111111111111,
              "#46039f"
             ],
             [
              0.2222222222222222,
              "#7201a8"
             ],
             [
              0.3333333333333333,
              "#9c179e"
             ],
             [
              0.4444444444444444,
              "#bd3786"
             ],
             [
              0.5555555555555556,
              "#d8576b"
             ],
             [
              0.6666666666666666,
              "#ed7953"
             ],
             [
              0.7777777777777778,
              "#fb9f3a"
             ],
             [
              0.8888888888888888,
              "#fdca26"
             ],
             [
              1,
              "#f0f921"
             ]
            ],
            "type": "histogram2d"
           }
          ],
          "histogram2dcontour": [
           {
            "colorbar": {
             "outlinewidth": 0,
             "ticks": ""
            },
            "colorscale": [
             [
              0,
              "#0d0887"
             ],
             [
              0.1111111111111111,
              "#46039f"
             ],
             [
              0.2222222222222222,
              "#7201a8"
             ],
             [
              0.3333333333333333,
              "#9c179e"
             ],
             [
              0.4444444444444444,
              "#bd3786"
             ],
             [
              0.5555555555555556,
              "#d8576b"
             ],
             [
              0.6666666666666666,
              "#ed7953"
             ],
             [
              0.7777777777777778,
              "#fb9f3a"
             ],
             [
              0.8888888888888888,
              "#fdca26"
             ],
             [
              1,
              "#f0f921"
             ]
            ],
            "type": "histogram2dcontour"
           }
          ],
          "mesh3d": [
           {
            "colorbar": {
             "outlinewidth": 0,
             "ticks": ""
            },
            "type": "mesh3d"
           }
          ],
          "parcoords": [
           {
            "line": {
             "colorbar": {
              "outlinewidth": 0,
              "ticks": ""
             }
            },
            "type": "parcoords"
           }
          ],
          "pie": [
           {
            "automargin": true,
            "type": "pie"
           }
          ],
          "scatter": [
           {
            "fillpattern": {
             "fillmode": "overlay",
             "size": 10,
             "solidity": 0.2
            },
            "type": "scatter"
           }
          ],
          "scatter3d": [
           {
            "line": {
             "colorbar": {
              "outlinewidth": 0,
              "ticks": ""
             }
            },
            "marker": {
             "colorbar": {
              "outlinewidth": 0,
              "ticks": ""
             }
            },
            "type": "scatter3d"
           }
          ],
          "scattercarpet": [
           {
            "marker": {
             "colorbar": {
              "outlinewidth": 0,
              "ticks": ""
             }
            },
            "type": "scattercarpet"
           }
          ],
          "scattergeo": [
           {
            "marker": {
             "colorbar": {
              "outlinewidth": 0,
              "ticks": ""
             }
            },
            "type": "scattergeo"
           }
          ],
          "scattergl": [
           {
            "marker": {
             "colorbar": {
              "outlinewidth": 0,
              "ticks": ""
             }
            },
            "type": "scattergl"
           }
          ],
          "scattermapbox": [
           {
            "marker": {
             "colorbar": {
              "outlinewidth": 0,
              "ticks": ""
             }
            },
            "type": "scattermapbox"
           }
          ],
          "scatterpolar": [
           {
            "marker": {
             "colorbar": {
              "outlinewidth": 0,
              "ticks": ""
             }
            },
            "type": "scatterpolar"
           }
          ],
          "scatterpolargl": [
           {
            "marker": {
             "colorbar": {
              "outlinewidth": 0,
              "ticks": ""
             }
            },
            "type": "scatterpolargl"
           }
          ],
          "scatterternary": [
           {
            "marker": {
             "colorbar": {
              "outlinewidth": 0,
              "ticks": ""
             }
            },
            "type": "scatterternary"
           }
          ],
          "surface": [
           {
            "colorbar": {
             "outlinewidth": 0,
             "ticks": ""
            },
            "colorscale": [
             [
              0,
              "#0d0887"
             ],
             [
              0.1111111111111111,
              "#46039f"
             ],
             [
              0.2222222222222222,
              "#7201a8"
             ],
             [
              0.3333333333333333,
              "#9c179e"
             ],
             [
              0.4444444444444444,
              "#bd3786"
             ],
             [
              0.5555555555555556,
              "#d8576b"
             ],
             [
              0.6666666666666666,
              "#ed7953"
             ],
             [
              0.7777777777777778,
              "#fb9f3a"
             ],
             [
              0.8888888888888888,
              "#fdca26"
             ],
             [
              1,
              "#f0f921"
             ]
            ],
            "type": "surface"
           }
          ],
          "table": [
           {
            "cells": {
             "fill": {
              "color": "#EBF0F8"
             },
             "line": {
              "color": "white"
             }
            },
            "header": {
             "fill": {
              "color": "#C8D4E3"
             },
             "line": {
              "color": "white"
             }
            },
            "type": "table"
           }
          ]
         },
         "layout": {
          "annotationdefaults": {
           "arrowcolor": "#2a3f5f",
           "arrowhead": 0,
           "arrowwidth": 1
          },
          "autotypenumbers": "strict",
          "coloraxis": {
           "colorbar": {
            "outlinewidth": 0,
            "ticks": ""
           }
          },
          "colorscale": {
           "diverging": [
            [
             0,
             "#8e0152"
            ],
            [
             0.1,
             "#c51b7d"
            ],
            [
             0.2,
             "#de77ae"
            ],
            [
             0.3,
             "#f1b6da"
            ],
            [
             0.4,
             "#fde0ef"
            ],
            [
             0.5,
             "#f7f7f7"
            ],
            [
             0.6,
             "#e6f5d0"
            ],
            [
             0.7,
             "#b8e186"
            ],
            [
             0.8,
             "#7fbc41"
            ],
            [
             0.9,
             "#4d9221"
            ],
            [
             1,
             "#276419"
            ]
           ],
           "sequential": [
            [
             0,
             "#0d0887"
            ],
            [
             0.1111111111111111,
             "#46039f"
            ],
            [
             0.2222222222222222,
             "#7201a8"
            ],
            [
             0.3333333333333333,
             "#9c179e"
            ],
            [
             0.4444444444444444,
             "#bd3786"
            ],
            [
             0.5555555555555556,
             "#d8576b"
            ],
            [
             0.6666666666666666,
             "#ed7953"
            ],
            [
             0.7777777777777778,
             "#fb9f3a"
            ],
            [
             0.8888888888888888,
             "#fdca26"
            ],
            [
             1,
             "#f0f921"
            ]
           ],
           "sequentialminus": [
            [
             0,
             "#0d0887"
            ],
            [
             0.1111111111111111,
             "#46039f"
            ],
            [
             0.2222222222222222,
             "#7201a8"
            ],
            [
             0.3333333333333333,
             "#9c179e"
            ],
            [
             0.4444444444444444,
             "#bd3786"
            ],
            [
             0.5555555555555556,
             "#d8576b"
            ],
            [
             0.6666666666666666,
             "#ed7953"
            ],
            [
             0.7777777777777778,
             "#fb9f3a"
            ],
            [
             0.8888888888888888,
             "#fdca26"
            ],
            [
             1,
             "#f0f921"
            ]
           ]
          },
          "colorway": [
           "#636efa",
           "#EF553B",
           "#00cc96",
           "#ab63fa",
           "#FFA15A",
           "#19d3f3",
           "#FF6692",
           "#B6E880",
           "#FF97FF",
           "#FECB52"
          ],
          "font": {
           "color": "#2a3f5f"
          },
          "geo": {
           "bgcolor": "white",
           "lakecolor": "white",
           "landcolor": "#E5ECF6",
           "showlakes": true,
           "showland": true,
           "subunitcolor": "white"
          },
          "hoverlabel": {
           "align": "left"
          },
          "hovermode": "closest",
          "mapbox": {
           "style": "light"
          },
          "paper_bgcolor": "white",
          "plot_bgcolor": "#E5ECF6",
          "polar": {
           "angularaxis": {
            "gridcolor": "white",
            "linecolor": "white",
            "ticks": ""
           },
           "bgcolor": "#E5ECF6",
           "radialaxis": {
            "gridcolor": "white",
            "linecolor": "white",
            "ticks": ""
           }
          },
          "scene": {
           "xaxis": {
            "backgroundcolor": "#E5ECF6",
            "gridcolor": "white",
            "gridwidth": 2,
            "linecolor": "white",
            "showbackground": true,
            "ticks": "",
            "zerolinecolor": "white"
           },
           "yaxis": {
            "backgroundcolor": "#E5ECF6",
            "gridcolor": "white",
            "gridwidth": 2,
            "linecolor": "white",
            "showbackground": true,
            "ticks": "",
            "zerolinecolor": "white"
           },
           "zaxis": {
            "backgroundcolor": "#E5ECF6",
            "gridcolor": "white",
            "gridwidth": 2,
            "linecolor": "white",
            "showbackground": true,
            "ticks": "",
            "zerolinecolor": "white"
           }
          },
          "shapedefaults": {
           "line": {
            "color": "#2a3f5f"
           }
          },
          "ternary": {
           "aaxis": {
            "gridcolor": "white",
            "linecolor": "white",
            "ticks": ""
           },
           "baxis": {
            "gridcolor": "white",
            "linecolor": "white",
            "ticks": ""
           },
           "bgcolor": "#E5ECF6",
           "caxis": {
            "gridcolor": "white",
            "linecolor": "white",
            "ticks": ""
           }
          },
          "title": {
           "x": 0.05
          },
          "xaxis": {
           "automargin": true,
           "gridcolor": "white",
           "linecolor": "white",
           "ticks": "",
           "title": {
            "standoff": 15
           },
           "zerolinecolor": "white",
           "zerolinewidth": 2
          },
          "yaxis": {
           "automargin": true,
           "gridcolor": "white",
           "linecolor": "white",
           "ticks": "",
           "title": {
            "standoff": 15
           },
           "zerolinecolor": "white",
           "zerolinewidth": 2
          }
         }
        },
        "title": {
         "text": "Boxplot de tipo de descripción y humedad"
        },
        "xaxis": {
         "anchor": "y",
         "domain": [
          0,
          1
         ],
         "title": {
          "text": "description"
         }
        },
        "yaxis": {
         "anchor": "x",
         "domain": [
          0,
          1
         ],
         "title": {
          "text": "curr_hum"
         }
        }
       }
      },
      "text/html": [
       "<div>                            <div id=\"d435a55e-5363-49e7-b221-9cd37d127575\" class=\"plotly-graph-div\" style=\"height:525px; width:100%;\"></div>            <script type=\"text/javascript\">                require([\"plotly\"], function(Plotly) {                    window.PLOTLYENV=window.PLOTLYENV || {};                                    if (document.getElementById(\"d435a55e-5363-49e7-b221-9cd37d127575\")) {                    Plotly.newPlot(                        \"d435a55e-5363-49e7-b221-9cd37d127575\",                        [{\"alignmentgroup\":\"True\",\"hovertemplate\":\"description=%{x}<br>curr_hum=%{y}<extra></extra>\",\"legendgroup\":\"\",\"marker\":{\"color\":\"#636efa\"},\"name\":\"\",\"notched\":false,\"offsetgroup\":\"\",\"orientation\":\"v\",\"showlegend\":false,\"x\":[\"scattered clouds\",\"clear sky\",\"overcast clouds\",\"thunderstorm with light rain\",\"light rain\",\"haze\",\"few clouds\",\"overcast clouds\",\"few clouds\",\"broken clouds\",\"broken clouds\",\"broken clouds\",\"clear sky\",\"overcast clouds\",\"scattered clouds\",\"few clouds\",\"broken clouds\",\"overcast clouds\",\"scattered clouds\",\"clear sky\",\"overcast clouds\",\"broken clouds\",\"overcast clouds\",\"broken clouds\",\"clear sky\",\"clear sky\",\"thunderstorm\",\"broken clouds\",\"broken clouds\",\"scattered clouds\",\"scattered clouds\",\"overcast clouds\",\"overcast clouds\",\"few clouds\",\"scattered clouds\",\"clear sky\",\"scattered clouds\",\"few clouds\",\"overcast clouds\",\"clear sky\",\"haze\",\"clear sky\",\"clear sky\",\"scattered clouds\",\"clear sky\",\"few clouds\",\"clear sky\",\"overcast clouds\",\"clear sky\",\"overcast clouds\",\"broken clouds\",\"clear sky\",\"clear sky\",\"light rain\",\"scattered clouds\",\"clear sky\",\"clear sky\",\"clear sky\",\"clear sky\",\"scattered clouds\",\"overcast clouds\",\"scattered clouds\",\"clear sky\",\"clear sky\",\"broken clouds\",\"scattered clouds\",\"thunderstorm with light rain\",\"broken clouds\",\"light intensity drizzle\",\"broken clouds\",\"overcast clouds\",\"light rain\",\"broken clouds\",\"scattered clouds\",\"mist\",\"thunderstorm\",\"clear sky\",\"clear sky\",\"few clouds\",\"overcast clouds\",\"scattered clouds\",\"thunderstorm with light rain\",\"broken clouds\",\"overcast clouds\",\"few clouds\",\"clear sky\",\"overcast clouds\",\"few clouds\",\"broken clouds\",\"scattered clouds\",\"light rain\",\"haze\",\"overcast clouds\",\"haze\",\"overcast clouds\",\"light rain\",\"overcast clouds\",\"clear sky\",\"broken clouds\",\"drizzle\",\"clear sky\",\"clear sky\",\"clear sky\",\"clear sky\",\"overcast clouds\",\"few clouds\",\"few clouds\",\"broken clouds\",\"light rain\",\"broken clouds\",\"broken clouds\",\"clear sky\",\"few clouds\",\"few clouds\",\"scattered clouds\",\"overcast clouds\",\"broken clouds\",\"broken clouds\",\"scattered clouds\",\"few clouds\",\"moderate rain\",\"clear sky\",\"few clouds\",\"broken clouds\",\"clear sky\",\"scattered clouds\",\"few clouds\",\"few clouds\",\"clear sky\",\"broken clouds\",\"scattered clouds\",\"light rain\",\"scattered clouds\",\"broken clouds\",\"haze\",\"haze\",\"light rain\",\"broken clouds\",\"scattered clouds\",\"clear sky\",\"broken clouds\",\"clear sky\",\"haze\",\"haze\",\"clear sky\",\"few clouds\",\"clear sky\",\"dust\",\"clear sky\",\"broken clouds\",\"overcast clouds\",\"scattered clouds\",\"clear sky\",\"clear sky\",\"scattered clouds\",\"smoke\",\"overcast clouds\",\"few clouds\",\"broken clouds\",\"overcast clouds\",\"clear sky\",\"clear sky\",\"few clouds\",\"clear sky\",\"few clouds\",\"scattered clouds\",\"thunderstorm with light rain\",\"broken clouds\",\"haze\",\"overcast clouds\",\"scattered clouds\",\"few clouds\",\"overcast clouds\",\"clear sky\",\"clear sky\",\"scattered clouds\",\"broken clouds\",\"light rain\",\"haze\",\"light rain\",\"scattered clouds\",\"overcast clouds\",\"clear sky\",\"scattered clouds\",\"thunderstorm\",\"clear sky\",\"overcast clouds\",\"broken clouds\",\"scattered clouds\",\"clear sky\",\"overcast clouds\",\"scattered clouds\",\"clear sky\",\"light rain\",\"few clouds\",\"light rain\",\"scattered clouds\",\"broken clouds\",\"scattered clouds\",\"clear sky\",\"moderate rain\",\"scattered clouds\",\"clear sky\",\"overcast clouds\",\"scattered clouds\",\"clear sky\",\"few clouds\",\"clear sky\",\"clear sky\",\"clear sky\",\"clear sky\",\"broken clouds\",\"broken clouds\",\"clear sky\",\"broken clouds\",\"moderate rain\",\"clear sky\",\"overcast clouds\",\"overcast clouds\",\"moderate rain\",\"light rain\",\"overcast clouds\",\"moderate rain\",\"broken clouds\",\"overcast clouds\",\"moderate rain\",\"smoke\",\"haze\",\"broken clouds\",\"broken clouds\",\"scattered clouds\",\"clear sky\",\"overcast clouds\",\"overcast clouds\",\"fog\",\"clear sky\",\"mist\",\"clear sky\",\"scattered clouds\",\"scattered clouds\",\"overcast clouds\",\"clear sky\",\"broken clouds\",\"clear sky\",\"scattered clouds\",\"scattered clouds\",\"broken clouds\",\"clear sky\",\"mist\",\"clear sky\",\"broken clouds\",\"few clouds\",\"scattered clouds\",\"overcast clouds\",\"scattered clouds\",\"overcast clouds\",\"clear sky\",\"overcast clouds\",\"broken clouds\",\"scattered clouds\",\"few clouds\",\"clear sky\",\"clear sky\",\"haze\",\"overcast clouds\",\"light rain\",\"broken clouds\",\"mist\",\"moderate rain\",\"clear sky\",\"few clouds\",\"clear sky\",\"broken clouds\",\"overcast clouds\",\"clear sky\",\"broken clouds\",\"scattered clouds\",\"overcast clouds\",\"light rain\",\"clear sky\",\"broken clouds\",\"broken clouds\",\"clear sky\",\"clear sky\",\"overcast clouds\",\"scattered clouds\",\"mist\",\"scattered clouds\",\"broken clouds\",\"clear sky\",\"broken clouds\",\"clear sky\",\"fog\",\"clear sky\",\"clear sky\",\"broken clouds\",\"scattered clouds\",\"overcast clouds\",\"overcast clouds\",\"broken clouds\",\"few clouds\",\"clear sky\",\"broken clouds\",\"broken clouds\",\"scattered clouds\",\"broken clouds\",\"clear sky\",\"overcast clouds\",\"clear sky\",\"overcast clouds\",\"light intensity shower rain\",\"clear sky\",\"few clouds\",\"few clouds\",\"broken clouds\",\"broken clouds\",\"clear sky\",\"broken clouds\",\"light rain\",\"scattered clouds\",\"broken clouds\",\"clear sky\",\"few clouds\",\"broken clouds\",\"few clouds\",\"few clouds\",\"broken clouds\",\"clear sky\",\"overcast clouds\",\"broken clouds\",\"clear sky\",\"few clouds\",\"scattered clouds\",\"clear sky\",\"overcast clouds\",\"scattered clouds\",\"broken clouds\",\"few clouds\",\"broken clouds\",\"clear sky\",\"overcast clouds\",\"overcast clouds\",\"scattered clouds\",\"overcast clouds\",\"clear sky\",\"clear sky\",\"few clouds\",\"broken clouds\",\"overcast clouds\",\"overcast clouds\",\"few clouds\",\"few clouds\",\"scattered clouds\",\"clear sky\",\"clear sky\",\"clear sky\",\"clear sky\",\"overcast clouds\",\"broken clouds\",\"few clouds\",\"clear sky\",\"scattered clouds\",\"moderate rain\",\"broken clouds\",\"scattered clouds\",\"broken clouds\",\"few clouds\",\"few clouds\",\"broken clouds\",\"clear sky\"],\"x0\":\" \",\"xaxis\":\"x\",\"y\":[94,53,90,100,100,66,82,71,87,52,67,85,46,94,93,100,79,89,38,41,94,72,71,73,56,82,94,67,84,61,63,79,73,82,83,34,83,83,18,68,74,89,83,85,67,83,86,83,48,69,88,67,83,95,83,38,81,73,73,78,84,94,57,68,88,71,94,67,92,88,75,81,94,77,83,87,50,55,71,88,75,94,77,79,59,47,73,94,57,62,95,27,61,74,61,73,94,65,61,100,46,45,81,90,52,12,74,89,82,60,79,27,66,66,88,86,49,49,53,64,83,15,77,60,83,56,86,83,79,79,86,72,74,73,54,54,96,82,31,16,88,82,31,65,57,90,59,41,74,24,77,91,78,10,69,70,88,64,80,74,15,65,77,27,92,81,94,80,84,81,80,92,99,74,84,58,78,93,42,78,84,80,55,94,88,84,77,83,83,82,98,89,57,79,62,100,79,89,58,62,89,73,87,84,78,100,83,50,52,52,41,83,99,22,83,77,80,76,83,94,85,77,90,75,89,73,54,70,43,45,52,88,71,64,91,51,94,46,88,72,99,33,83,31,80,88,50,63,94,62,79,74,79,94,70,90,82,55,93,79,21,88,84,70,77,88,84,94,91,91,78,29,81,46,44,29,73,94,84,17,94,87,74,83,32,77,95,76,89,60,91,71,100,82,73,100,79,76,83,87,71,56,90,85,57,94,59,95,91,81,49,93,49,62,66,80,48,93,85,100,95,75,88,81,70,79,89,46,87,58,87,66,70,46,82,65,45,79,64,33,83,100,68,79,80,76,52,75,92,75,94,61,89,90,64,81,75,79,81,89,33,64,81,94,83,100,75,71,80,94],\"y0\":\" \",\"yaxis\":\"y\",\"type\":\"box\"}],                        {\"template\":{\"data\":{\"histogram2dcontour\":[{\"type\":\"histogram2dcontour\",\"colorbar\":{\"outlinewidth\":0,\"ticks\":\"\"},\"colorscale\":[[0.0,\"#0d0887\"],[0.1111111111111111,\"#46039f\"],[0.2222222222222222,\"#7201a8\"],[0.3333333333333333,\"#9c179e\"],[0.4444444444444444,\"#bd3786\"],[0.5555555555555556,\"#d8576b\"],[0.6666666666666666,\"#ed7953\"],[0.7777777777777778,\"#fb9f3a\"],[0.8888888888888888,\"#fdca26\"],[1.0,\"#f0f921\"]]}],\"choropleth\":[{\"type\":\"choropleth\",\"colorbar\":{\"outlinewidth\":0,\"ticks\":\"\"}}],\"histogram2d\":[{\"type\":\"histogram2d\",\"colorbar\":{\"outlinewidth\":0,\"ticks\":\"\"},\"colorscale\":[[0.0,\"#0d0887\"],[0.1111111111111111,\"#46039f\"],[0.2222222222222222,\"#7201a8\"],[0.3333333333333333,\"#9c179e\"],[0.4444444444444444,\"#bd3786\"],[0.5555555555555556,\"#d8576b\"],[0.6666666666666666,\"#ed7953\"],[0.7777777777777778,\"#fb9f3a\"],[0.8888888888888888,\"#fdca26\"],[1.0,\"#f0f921\"]]}],\"heatmap\":[{\"type\":\"heatmap\",\"colorbar\":{\"outlinewidth\":0,\"ticks\":\"\"},\"colorscale\":[[0.0,\"#0d0887\"],[0.1111111111111111,\"#46039f\"],[0.2222222222222222,\"#7201a8\"],[0.3333333333333333,\"#9c179e\"],[0.4444444444444444,\"#bd3786\"],[0.5555555555555556,\"#d8576b\"],[0.6666666666666666,\"#ed7953\"],[0.7777777777777778,\"#fb9f3a\"],[0.8888888888888888,\"#fdca26\"],[1.0,\"#f0f921\"]]}],\"heatmapgl\":[{\"type\":\"heatmapgl\",\"colorbar\":{\"outlinewidth\":0,\"ticks\":\"\"},\"colorscale\":[[0.0,\"#0d0887\"],[0.1111111111111111,\"#46039f\"],[0.2222222222222222,\"#7201a8\"],[0.3333333333333333,\"#9c179e\"],[0.4444444444444444,\"#bd3786\"],[0.5555555555555556,\"#d8576b\"],[0.6666666666666666,\"#ed7953\"],[0.7777777777777778,\"#fb9f3a\"],[0.8888888888888888,\"#fdca26\"],[1.0,\"#f0f921\"]]}],\"contourcarpet\":[{\"type\":\"contourcarpet\",\"colorbar\":{\"outlinewidth\":0,\"ticks\":\"\"}}],\"contour\":[{\"type\":\"contour\",\"colorbar\":{\"outlinewidth\":0,\"ticks\":\"\"},\"colorscale\":[[0.0,\"#0d0887\"],[0.1111111111111111,\"#46039f\"],[0.2222222222222222,\"#7201a8\"],[0.3333333333333333,\"#9c179e\"],[0.4444444444444444,\"#bd3786\"],[0.5555555555555556,\"#d8576b\"],[0.6666666666666666,\"#ed7953\"],[0.7777777777777778,\"#fb9f3a\"],[0.8888888888888888,\"#fdca26\"],[1.0,\"#f0f921\"]]}],\"surface\":[{\"type\":\"surface\",\"colorbar\":{\"outlinewidth\":0,\"ticks\":\"\"},\"colorscale\":[[0.0,\"#0d0887\"],[0.1111111111111111,\"#46039f\"],[0.2222222222222222,\"#7201a8\"],[0.3333333333333333,\"#9c179e\"],[0.4444444444444444,\"#bd3786\"],[0.5555555555555556,\"#d8576b\"],[0.6666666666666666,\"#ed7953\"],[0.7777777777777778,\"#fb9f3a\"],[0.8888888888888888,\"#fdca26\"],[1.0,\"#f0f921\"]]}],\"mesh3d\":[{\"type\":\"mesh3d\",\"colorbar\":{\"outlinewidth\":0,\"ticks\":\"\"}}],\"scatter\":[{\"fillpattern\":{\"fillmode\":\"overlay\",\"size\":10,\"solidity\":0.2},\"type\":\"scatter\"}],\"parcoords\":[{\"type\":\"parcoords\",\"line\":{\"colorbar\":{\"outlinewidth\":0,\"ticks\":\"\"}}}],\"scatterpolargl\":[{\"type\":\"scatterpolargl\",\"marker\":{\"colorbar\":{\"outlinewidth\":0,\"ticks\":\"\"}}}],\"bar\":[{\"error_x\":{\"color\":\"#2a3f5f\"},\"error_y\":{\"color\":\"#2a3f5f\"},\"marker\":{\"line\":{\"color\":\"#E5ECF6\",\"width\":0.5},\"pattern\":{\"fillmode\":\"overlay\",\"size\":10,\"solidity\":0.2}},\"type\":\"bar\"}],\"scattergeo\":[{\"type\":\"scattergeo\",\"marker\":{\"colorbar\":{\"outlinewidth\":0,\"ticks\":\"\"}}}],\"scatterpolar\":[{\"type\":\"scatterpolar\",\"marker\":{\"colorbar\":{\"outlinewidth\":0,\"ticks\":\"\"}}}],\"histogram\":[{\"marker\":{\"pattern\":{\"fillmode\":\"overlay\",\"size\":10,\"solidity\":0.2}},\"type\":\"histogram\"}],\"scattergl\":[{\"type\":\"scattergl\",\"marker\":{\"colorbar\":{\"outlinewidth\":0,\"ticks\":\"\"}}}],\"scatter3d\":[{\"type\":\"scatter3d\",\"line\":{\"colorbar\":{\"outlinewidth\":0,\"ticks\":\"\"}},\"marker\":{\"colorbar\":{\"outlinewidth\":0,\"ticks\":\"\"}}}],\"scattermapbox\":[{\"type\":\"scattermapbox\",\"marker\":{\"colorbar\":{\"outlinewidth\":0,\"ticks\":\"\"}}}],\"scatterternary\":[{\"type\":\"scatterternary\",\"marker\":{\"colorbar\":{\"outlinewidth\":0,\"ticks\":\"\"}}}],\"scattercarpet\":[{\"type\":\"scattercarpet\",\"marker\":{\"colorbar\":{\"outlinewidth\":0,\"ticks\":\"\"}}}],\"carpet\":[{\"aaxis\":{\"endlinecolor\":\"#2a3f5f\",\"gridcolor\":\"white\",\"linecolor\":\"white\",\"minorgridcolor\":\"white\",\"startlinecolor\":\"#2a3f5f\"},\"baxis\":{\"endlinecolor\":\"#2a3f5f\",\"gridcolor\":\"white\",\"linecolor\":\"white\",\"minorgridcolor\":\"white\",\"startlinecolor\":\"#2a3f5f\"},\"type\":\"carpet\"}],\"table\":[{\"cells\":{\"fill\":{\"color\":\"#EBF0F8\"},\"line\":{\"color\":\"white\"}},\"header\":{\"fill\":{\"color\":\"#C8D4E3\"},\"line\":{\"color\":\"white\"}},\"type\":\"table\"}],\"barpolar\":[{\"marker\":{\"line\":{\"color\":\"#E5ECF6\",\"width\":0.5},\"pattern\":{\"fillmode\":\"overlay\",\"size\":10,\"solidity\":0.2}},\"type\":\"barpolar\"}],\"pie\":[{\"automargin\":true,\"type\":\"pie\"}]},\"layout\":{\"autotypenumbers\":\"strict\",\"colorway\":[\"#636efa\",\"#EF553B\",\"#00cc96\",\"#ab63fa\",\"#FFA15A\",\"#19d3f3\",\"#FF6692\",\"#B6E880\",\"#FF97FF\",\"#FECB52\"],\"font\":{\"color\":\"#2a3f5f\"},\"hovermode\":\"closest\",\"hoverlabel\":{\"align\":\"left\"},\"paper_bgcolor\":\"white\",\"plot_bgcolor\":\"#E5ECF6\",\"polar\":{\"bgcolor\":\"#E5ECF6\",\"angularaxis\":{\"gridcolor\":\"white\",\"linecolor\":\"white\",\"ticks\":\"\"},\"radialaxis\":{\"gridcolor\":\"white\",\"linecolor\":\"white\",\"ticks\":\"\"}},\"ternary\":{\"bgcolor\":\"#E5ECF6\",\"aaxis\":{\"gridcolor\":\"white\",\"linecolor\":\"white\",\"ticks\":\"\"},\"baxis\":{\"gridcolor\":\"white\",\"linecolor\":\"white\",\"ticks\":\"\"},\"caxis\":{\"gridcolor\":\"white\",\"linecolor\":\"white\",\"ticks\":\"\"}},\"coloraxis\":{\"colorbar\":{\"outlinewidth\":0,\"ticks\":\"\"}},\"colorscale\":{\"sequential\":[[0.0,\"#0d0887\"],[0.1111111111111111,\"#46039f\"],[0.2222222222222222,\"#7201a8\"],[0.3333333333333333,\"#9c179e\"],[0.4444444444444444,\"#bd3786\"],[0.5555555555555556,\"#d8576b\"],[0.6666666666666666,\"#ed7953\"],[0.7777777777777778,\"#fb9f3a\"],[0.8888888888888888,\"#fdca26\"],[1.0,\"#f0f921\"]],\"sequentialminus\":[[0.0,\"#0d0887\"],[0.1111111111111111,\"#46039f\"],[0.2222222222222222,\"#7201a8\"],[0.3333333333333333,\"#9c179e\"],[0.4444444444444444,\"#bd3786\"],[0.5555555555555556,\"#d8576b\"],[0.6666666666666666,\"#ed7953\"],[0.7777777777777778,\"#fb9f3a\"],[0.8888888888888888,\"#fdca26\"],[1.0,\"#f0f921\"]],\"diverging\":[[0,\"#8e0152\"],[0.1,\"#c51b7d\"],[0.2,\"#de77ae\"],[0.3,\"#f1b6da\"],[0.4,\"#fde0ef\"],[0.5,\"#f7f7f7\"],[0.6,\"#e6f5d0\"],[0.7,\"#b8e186\"],[0.8,\"#7fbc41\"],[0.9,\"#4d9221\"],[1,\"#276419\"]]},\"xaxis\":{\"gridcolor\":\"white\",\"linecolor\":\"white\",\"ticks\":\"\",\"title\":{\"standoff\":15},\"zerolinecolor\":\"white\",\"automargin\":true,\"zerolinewidth\":2},\"yaxis\":{\"gridcolor\":\"white\",\"linecolor\":\"white\",\"ticks\":\"\",\"title\":{\"standoff\":15},\"zerolinecolor\":\"white\",\"automargin\":true,\"zerolinewidth\":2},\"scene\":{\"xaxis\":{\"backgroundcolor\":\"#E5ECF6\",\"gridcolor\":\"white\",\"linecolor\":\"white\",\"showbackground\":true,\"ticks\":\"\",\"zerolinecolor\":\"white\",\"gridwidth\":2},\"yaxis\":{\"backgroundcolor\":\"#E5ECF6\",\"gridcolor\":\"white\",\"linecolor\":\"white\",\"showbackground\":true,\"ticks\":\"\",\"zerolinecolor\":\"white\",\"gridwidth\":2},\"zaxis\":{\"backgroundcolor\":\"#E5ECF6\",\"gridcolor\":\"white\",\"linecolor\":\"white\",\"showbackground\":true,\"ticks\":\"\",\"zerolinecolor\":\"white\",\"gridwidth\":2}},\"shapedefaults\":{\"line\":{\"color\":\"#2a3f5f\"}},\"annotationdefaults\":{\"arrowcolor\":\"#2a3f5f\",\"arrowhead\":0,\"arrowwidth\":1},\"geo\":{\"bgcolor\":\"white\",\"landcolor\":\"#E5ECF6\",\"subunitcolor\":\"white\",\"showland\":true,\"showlakes\":true,\"lakecolor\":\"white\"},\"title\":{\"x\":0.05},\"mapbox\":{\"style\":\"light\"}}},\"xaxis\":{\"anchor\":\"y\",\"domain\":[0.0,1.0],\"title\":{\"text\":\"description\"}},\"yaxis\":{\"anchor\":\"x\",\"domain\":[0.0,1.0],\"title\":{\"text\":\"curr_hum\"}},\"legend\":{\"tracegroupgap\":0},\"title\":{\"text\":\"Boxplot de tipo de descripci\\u00f3n y humedad\"},\"boxmode\":\"group\"},                        {\"responsive\": true}                    ).then(function(){\n",
       "                            \n",
       "var gd = document.getElementById('d435a55e-5363-49e7-b221-9cd37d127575');\n",
       "var x = new MutationObserver(function (mutations, observer) {{\n",
       "        var display = window.getComputedStyle(gd).display;\n",
       "        if (!display || display === 'none') {{\n",
       "            console.log([gd, 'removed!']);\n",
       "            Plotly.purge(gd);\n",
       "            observer.disconnect();\n",
       "        }}\n",
       "}});\n",
       "\n",
       "// Listen for the removal of the full notebook cells\n",
       "var notebookContainer = gd.closest('#notebook-container');\n",
       "if (notebookContainer) {{\n",
       "    x.observe(notebookContainer, {childList: true});\n",
       "}}\n",
       "\n",
       "// Listen for the clearing of the current output cell\n",
       "var outputEl = gd.closest('.output');\n",
       "if (outputEl) {{\n",
       "    x.observe(outputEl, {childList: true});\n",
       "}}\n",
       "\n",
       "                        })                };                });            </script>        </div>"
      ]
     },
     "metadata": {},
     "output_type": "display_data"
    }
   ],
   "source": [
    "fig = px.box(df, x=\"description\", y=\"curr_hum\", title= 'Boxplot de tipo de descripción y humedad')\n",
    "fig.show()"
   ]
  },
  {
   "cell_type": "code",
   "execution_count": 75,
   "id": "47941ee5",
   "metadata": {},
   "outputs": [],
   "source": [
    "df3 = df.rename(columns={'city':'name'}).merge(cities, on = 'name')"
   ]
  },
  {
   "cell_type": "code",
   "execution_count": 76,
   "id": "b49465a0",
   "metadata": {},
   "outputs": [
    {
     "data": {
      "text/html": [
       "<div>\n",
       "<style scoped>\n",
       "    .dataframe tbody tr th:only-of-type {\n",
       "        vertical-align: middle;\n",
       "    }\n",
       "\n",
       "    .dataframe tbody tr th {\n",
       "        vertical-align: top;\n",
       "    }\n",
       "\n",
       "    .dataframe thead th {\n",
       "        text-align: right;\n",
       "    }\n",
       "</style>\n",
       "<table border=\"1\" class=\"dataframe\">\n",
       "  <thead>\n",
       "    <tr style=\"text-align: right;\">\n",
       "      <th></th>\n",
       "      <th>name</th>\n",
       "      <th>cur_temp</th>\n",
       "      <th>curr_press</th>\n",
       "      <th>curr_hum</th>\n",
       "      <th>description</th>\n",
       "      <th>curr_temp_C</th>\n",
       "      <th>lon</th>\n",
       "      <th>lat</th>\n",
       "      <th>country</th>\n",
       "    </tr>\n",
       "  </thead>\n",
       "  <tbody>\n",
       "    <tr>\n",
       "      <th>0</th>\n",
       "      <td>Abidjan</td>\n",
       "      <td>299.13</td>\n",
       "      <td>1011</td>\n",
       "      <td>94</td>\n",
       "      <td>scattered clouds</td>\n",
       "      <td>25.98</td>\n",
       "      <td>-4.00167</td>\n",
       "      <td>5.35444</td>\n",
       "      <td>Ivory Coast</td>\n",
       "    </tr>\n",
       "    <tr>\n",
       "      <th>1</th>\n",
       "      <td>Abu Dhabi</td>\n",
       "      <td>303.21</td>\n",
       "      <td>1008</td>\n",
       "      <td>53</td>\n",
       "      <td>clear sky</td>\n",
       "      <td>30.06</td>\n",
       "      <td>54.39696</td>\n",
       "      <td>24.45118</td>\n",
       "      <td>United Arab Emirates</td>\n",
       "    </tr>\n",
       "    <tr>\n",
       "      <th>2</th>\n",
       "      <td>Abuja</td>\n",
       "      <td>299.23</td>\n",
       "      <td>1011</td>\n",
       "      <td>90</td>\n",
       "      <td>overcast clouds</td>\n",
       "      <td>26.08</td>\n",
       "      <td>7.49508</td>\n",
       "      <td>9.05785</td>\n",
       "      <td>Nigeria</td>\n",
       "    </tr>\n",
       "    <tr>\n",
       "      <th>3</th>\n",
       "      <td>Accra</td>\n",
       "      <td>297.38</td>\n",
       "      <td>1012</td>\n",
       "      <td>100</td>\n",
       "      <td>thunderstorm with light rain</td>\n",
       "      <td>24.23</td>\n",
       "      <td>-0.19690</td>\n",
       "      <td>5.55602</td>\n",
       "      <td>Ghana</td>\n",
       "    </tr>\n",
       "    <tr>\n",
       "      <th>4</th>\n",
       "      <td>Addis Ababa</td>\n",
       "      <td>286.64</td>\n",
       "      <td>1026</td>\n",
       "      <td>100</td>\n",
       "      <td>light rain</td>\n",
       "      <td>13.49</td>\n",
       "      <td>38.74689</td>\n",
       "      <td>9.02497</td>\n",
       "      <td>Ethiopia</td>\n",
       "    </tr>\n",
       "  </tbody>\n",
       "</table>\n",
       "</div>"
      ],
      "text/plain": [
       "          name  cur_temp  curr_press  curr_hum                   description  \\\n",
       "0      Abidjan    299.13        1011        94              scattered clouds   \n",
       "1    Abu Dhabi    303.21        1008        53                     clear sky   \n",
       "2        Abuja    299.23        1011        90               overcast clouds   \n",
       "3        Accra    297.38        1012       100  thunderstorm with light rain   \n",
       "4  Addis Ababa    286.64        1026       100                    light rain   \n",
       "\n",
       "   curr_temp_C       lon       lat               country  \n",
       "0        25.98  -4.00167   5.35444           Ivory Coast  \n",
       "1        30.06  54.39696  24.45118  United Arab Emirates  \n",
       "2        26.08   7.49508   9.05785               Nigeria  \n",
       "3        24.23  -0.19690   5.55602                 Ghana  \n",
       "4        13.49  38.74689   9.02497              Ethiopia  "
      ]
     },
     "execution_count": 76,
     "metadata": {},
     "output_type": "execute_result"
    }
   ],
   "source": [
    "df3.head()"
   ]
  },
  {
   "cell_type": "code",
   "execution_count": 77,
   "id": "59f2f597",
   "metadata": {},
   "outputs": [
    {
     "data": {
      "application/vnd.plotly.v1+json": {
       "config": {
        "plotlyServerURL": "https://plot.ly"
       },
       "data": [
        {
         "geo": "geo",
         "hovertemplate": "description=scattered clouds<br>lat=%{lat}<br>lon=%{lon}<extra></extra>",
         "lat": [
          5.35444,
          39.91987,
          37.95,
          -6.92222,
          13.75398,
          10.96854,
          15.99714,
          17.25,
          13.10732,
          -34.61315,
          40.19559,
          14.64953,
          18.3419,
          6.93548,
          33.5102,
          36.14474,
          23.11667,
          21.0245,
          22.27832,
          21.30694,
          32.65246,
          0.31628,
          22.61626,
          13.15527,
          22.31667,
          35.02107,
          -13.96692,
          46.05108,
          -11.66089,
          22.20056,
          4.17521,
          12.13282,
          14.6042,
          10.23535,
          35.18147,
          35.17531,
          18.08581,
          64.18347,
          12.52398,
          37.44188,
          -17.53733,
          11.56245,
          14.6488,
          18.42693,
          15.30174,
          -12.97111,
          15.35472,
          41.99646,
          1.3278,
          14.0818,
          35.6895,
          -4.62001,
          30.58333,
          16.80528
         ],
         "legendgroup": "scattered clouds",
         "lon": [
          -4.00167,
          32.85427,
          58.38333,
          107.60694,
          100.50144,
          -74.78132,
          -61.73214,
          -88.76667,
          -59.62021,
          -58.37723,
          29.06013,
          120.96788,
          -64.9307,
          79.84868,
          36.29128,
          -5.35257,
          113.25,
          105.84117,
          114.17469,
          -157.85833,
          51.67462,
          32.58219,
          120.31333,
          -61.22742,
          114.18333,
          135.75385,
          33.78725,
          14.50513,
          27.47938,
          113.54611,
          73.50916,
          -86.2504,
          120.9822,
          -67.59113,
          136.90641,
          33.3642,
          -15.9785,
          -51.72157,
          -70.02703,
          -122.14302,
          -149.5665,
          104.91601,
          121.0509,
          -64.62079,
          -61.38808,
          -38.51083,
          44.20667,
          21.43141,
          172.97696,
          -87.20681,
          139.69171,
          55.45501,
          114.26667,
          96.15611
         ],
         "marker": {
          "color": "#636efa",
          "symbol": "circle"
         },
         "mode": "markers",
         "name": "scattered clouds",
         "showlegend": true,
         "type": "scattergeo"
        },
        {
         "geo": "geo",
         "hovertemplate": "description=clear sky<br>lat=%{lat}<br>lon=%{lon}<extra></extra>",
         "lat": [
          24.45118,
          61.21806,
          15.33805,
          33.34058,
          40.37767,
          30.50852,
          33.89332,
          -1.45583,
          44.80401,
          -19.92083,
          52.52437,
          42.87,
          -15.77972,
          48.14816,
          -27.46794,
          50.85045,
          44.43225,
          47.49835,
          35.10168,
          30.06263,
          41.85003,
          47.00556,
          35.87028,
          25.28545,
          54.15,
          25.07725,
          53.33306,
          -29.8579,
          -24.65451,
          32.15567,
          53.55073,
          60.16952,
          33.72148,
          38.41273,
          21.49012,
          -26.20227,
          4.85165,
          12.00012,
          26.46523,
          15.55177,
          22.80979,
          36.5138,
          29.36972,
          50.45466,
          38.71667,
          51.50853,
          -15.40669,
          40.4165,
          26.22787,
          -25.96553,
          60.09726,
          -29.31667,
          36.31559,
          -26.31667,
          21.42664,
          24.46861,
          25.77427,
          -1.28333,
          19.745,
          13.51366,
          55.0415,
          51.1801,
          59.91273,
          12.36566,
          48.85341,
          42.44111,
          -20.16194,
          50.08804,
          -25.74486,
          18.51957,
          33.59733,
          56.946,
          -22.90642,
          49.18804,
          49.45981,
          -20.88231,
          46.77914,
          18.46633,
          -33.45694,
          -23.5475,
          43.84864,
          25.33737,
          -26.26781,
          -33.86785,
          59.43696,
          41.26465,
          39.14222,
          62.00973,
          32.88743,
          48.20849,
          17.96667,
          54.68916,
          52.22977,
          -22.55941,
          45.81444
         ],
         "legendgroup": "clear sky",
         "lon": [
          54.39696,
          -149.90028,
          38.93184,
          44.40088,
          49.89201,
          47.7804,
          35.50157,
          -48.50444,
          20.46513,
          -43.93778,
          13.41053,
          74.59,
          -47.92972,
          17.10674,
          153.02809,
          4.34878,
          26.10626,
          19.04045,
          129.03004,
          31.24967,
          -87.65005,
          28.8575,
          128.59111,
          51.53096,
          -4.48333,
          55.30927,
          -6.24889,
          31.0292,
          25.90859,
          74.18705,
          9.99302,
          24.93545,
          73.04329,
          27.13838,
          39.18624,
          28.04363,
          31.58247,
          8.51672,
          80.34975,
          32.53241,
          89.56439,
          -119.554,
          47.97833,
          30.5238,
          -9.13333,
          -0.12574,
          28.28713,
          -3.70256,
          50.58565,
          32.58322,
          19.93481,
          27.48333,
          59.56796,
          31.13333,
          39.82563,
          39.61417,
          -80.19366,
          36.81667,
          96.12972,
          2.1098,
          82.9346,
          71.44598,
          10.74609,
          -1.53388,
          2.3488,
          19.26361,
          57.49889,
          14.42076,
          28.18783,
          73.85535,
          73.0479,
          24.10589,
          -43.18223,
          -2.10491,
          -2.53527,
          55.4504,
          -56.1773,
          -66.10572,
          -70.64827,
          -46.63611,
          18.35644,
          55.41206,
          27.85849,
          151.20732,
          24.75353,
          69.21627,
          117.17667,
          -6.77164,
          13.18733,
          16.37208,
          102.6,
          25.2798,
          21.01178,
          17.08323,
          15.97798
         ],
         "marker": {
          "color": "#EF553B",
          "symbol": "circle"
         },
         "mode": "markers",
         "name": "clear sky",
         "showlegend": true,
         "type": "scattergeo"
        },
        {
         "geo": "geo",
         "hovertemplate": "description=overcast clouds<br>lat=%{lat}<br>lon=%{lon}<extra></extra>",
         "lat": [
          9.05785,
          31.20176,
          42.50779,
          38.255366,
          -25.28646,
          -36.84853,
          4.36122,
          13.45274,
          39.9075,
          46.94809,
          11.86357,
          -3.38193,
          33.58831,
          29.56278,
          -31.4135,
          36.34913,
          39.73915,
          -8.55861,
          -6.17221,
          38.53575,
          -3.42708,
          10.52641,
          35.83266,
          49.98081,
          6.12361,
          6.68848,
          -12.04318,
          34.05223,
          49.61167,
          10.66663,
          53.9,
          2.03711,
          -34.90328,
          55.75222,
          30.79508,
          32.06167,
          -22.27407,
          8.9936,
          5.86638,
          -31.95224,
          10.66668,
          19.03793,
          -0.22985,
          24.68773,
          29.42412,
          32.71571,
          18.47186,
          0.33654,
          38.08,
          41.69411,
          32.5027,
          41.3275,
          43.70011,
          47.14151,
          10.16202,
          38.89511
         ],
         "legendgroup": "overcast clouds",
         "lon": [
          7.49508,
          29.91582,
          1.52109,
          -120.351935,
          -57.647,
          174.76349,
          18.55496,
          -16.57803,
          116.39723,
          7.44744,
          -15.59767,
          29.36142,
          -7.61138,
          106.55278,
          -64.18105,
          127.38493,
          -104.9847,
          125.57361,
          35.73947,
          68.77905,
          29.92463,
          7.43879,
          50.99155,
          36.25272,
          102.24333,
          -1.62443,
          -77.02824,
          -118.24368,
          6.13,
          -71.61245,
          27.56667,
          45.34375,
          -56.18816,
          37.61556,
          106.08473,
          118.77778,
          166.44884,
          -79.51973,
          -55.16682,
          115.8614,
          -61.51889,
          -98.20346,
          -78.52495,
          46.72185,
          -98.49363,
          -117.16472,
          -69.89232,
          6.72732,
          46.2919,
          44.83368,
          -117.00371,
          19.81889,
          -79.4163,
          9.52154,
          -68.00765,
          -77.03637
         ],
         "marker": {
          "color": "#00cc96",
          "symbol": "circle"
         },
         "mode": "markers",
         "name": "overcast clouds",
         "showlegend": true,
         "type": "scattergeo"
        },
        {
         "geo": "geo",
         "hovertemplate": "description=thunderstorm with light rain<br>lat=%{lat}<br>lon=%{lon}<extra></extra>",
         "lat": [
          5.55602,
          9.535,
          9.53795,
          -4.32758
         ],
         "legendgroup": "thunderstorm with light rain",
         "lon": [
          -0.1969,
          -13.68778,
          -13.67729,
          15.31357
         ],
         "marker": {
          "color": "#ab63fa",
          "symbol": "circle"
         },
         "mode": "markers",
         "name": "thunderstorm with light rain",
         "showlegend": true,
         "type": "scattergeo"
        },
        {
         "geo": "geo",
         "hovertemplate": "description=light rain<br>lat=%{lat}<br>lon=%{lon}<extra></extra>",
         "lat": [
          9.02497,
          -4.26613,
          13.9957,
          -6.82349,
          11.58901,
          8.48714,
          -9.43333,
          7.37756,
          6.45407,
          0.39241,
          7.08971,
          3.75578,
          6.30054,
          -17.73648,
          34.01325,
          1.28967
         ],
         "legendgroup": "light rain",
         "lon": [
          38.74689,
          15.28318,
          -61.00614,
          39.26951,
          43.14503,
          -13.2356,
          159.95,
          3.90591,
          3.39467,
          9.45356,
          171.38027,
          8.78166,
          -10.7969,
          168.31366,
          -6.83255,
          103.85007
         ],
         "marker": {
          "color": "#FFA15A",
          "symbol": "circle"
         },
         "mode": "markers",
         "name": "light rain",
         "showlegend": true,
         "type": "scattergeo"
        },
        {
         "geo": "geo",
         "hovertemplate": "description=haze<br>lat=%{lat}<br>lon=%{lon}<extra></extra>",
         "lat": [
          23.02579,
          -6.2349,
          28.65195,
          23.7104,
          17.38405,
          25.39242,
          17.38405,
          25.39242,
          26.91962,
          -6.21462,
          22.56263,
          31.558,
          19.07283,
          -9.47723
         ],
         "legendgroup": "haze",
         "lon": [
          72.58727,
          106.9896,
          77.23149,
          90.40744,
          78.45636,
          68.37366,
          78.45636,
          68.37366,
          75.78781,
          106.84513,
          88.36304,
          74.35071,
          72.88261,
          147.15089
         ],
         "marker": {
          "color": "#19d3f3",
          "symbol": "circle"
         },
         "mode": "markers",
         "name": "haze",
         "showlegend": true,
         "type": "scattergeo"
        },
        {
         "geo": "geo",
         "hovertemplate": "description=few clouds<br>lat=%{lat}<br>lon=%{lon}<extra></extra>",
         "lat": [
          36.20124,
          36.73225,
          -18.91368,
          41.38879,
          17.2955,
          12.97194,
          22.3384,
          -25.42778,
          14.6937,
          31.41554,
          14.60365,
          19.2866,
          6.80448,
          14.64072,
          17.89618,
          -17.82772,
          23.13302,
          31.76904,
          27.70169,
          -1.94995,
          17.99702,
          3.1412,
          -5.14861,
          18.06819,
          -2.91673,
          33.44838,
          14.93152,
          9.93333,
          47.60621,
          -6.99306,
          59.32938,
          -7.24917,
          21.19594,
          -6.17806,
          32.08088,
          36.81897,
          35.89968,
          49.24966,
          12.1084,
          56.8519,
          40.18111
         ],
         "legendgroup": "few clouds",
         "lon": [
          37.16117,
          3.08746,
          47.53613,
          2.15899,
          -62.72499,
          77.59369,
          91.83168,
          -49.27306,
          -17.44406,
          73.08969,
          -61.07418,
          -81.37436,
          -58.15527,
          -90.51327,
          -62.84978,
          31.05337,
          -82.38304,
          35.21633,
          85.3206,
          30.05885,
          -76.79358,
          101.68653,
          119.43194,
          -63.08302,
          104.7458,
          -112.07404,
          -23.51254,
          -84.08333,
          -122.33207,
          110.42083,
          18.06871,
          112.75083,
          72.83023,
          106.63,
          34.78057,
          10.16579,
          14.5148,
          -123.11934,
          -68.93354,
          60.6122,
          44.51361
         ],
         "marker": {
          "color": "#FF6692",
          "symbol": "circle"
         },
         "mode": "markers",
         "name": "few clouds",
         "showlegend": true,
         "type": "scattergeo"
        },
        {
         "geo": "geo",
         "hovertemplate": "description=broken clouds<br>lat=%{lat}<br>lon=%{lon}<extra></extra>",
         "lat": [
          43.25667,
          31.95522,
          52.37403,
          -13.83333,
          37.98376,
          -21.2075,
          5.54167,
          4.89035,
          4.60971,
          3.43722,
          -35.28346,
          10.48801,
          4.93333,
          55.67594,
          32.78306,
          23.01797,
          -3.71722,
          33.6,
          -8.52425,
          30.00944,
          20.66682,
          35.15472,
          10.82302,
          29.76328,
          37.45646,
          41.01384,
          34.52813,
          35.52056,
          34.6913,
          -16.5,
          -8.83682,
          -12.78234,
          3.58333,
          6.25184,
          -37.814,
          -11.70216,
          23.58413,
          12.10672,
          -21.13938,
          34.69374,
          -14.27806,
          39.95233,
          18.54349,
          42.67272,
          39.03385,
          -8.05389,
          64.13548,
          12.05288,
          17.12096,
          15.21233,
          37.77493,
          43.93667,
          13.68935,
          -17.78629,
          37.566,
          31.22222,
          22.54554,
          42.69751,
          -19.03332,
          -18.14161,
          25.04776,
          35.69439,
          27.46609,
          47.90771,
          -41.28664,
          6.82055,
          3.86667,
          35.43333
         ],
         "legendgroup": "broken clouds",
         "lon": [
          76.92861,
          35.94503,
          4.88969,
          -171.76666,
          23.72784,
          -159.77545,
          95.33333,
          114.94006,
          -74.08175,
          -76.5225,
          149.12807,
          -66.87919,
          -52.33333,
          12.56553,
          -96.80667,
          113.74866,
          -38.54306,
          130.41667,
          179.19417,
          31.20861,
          -103.39182,
          126.91556,
          106.62965,
          -95.36327,
          126.70515,
          28.94966,
          69.17233,
          139.71722,
          135.183,
          -68.15,
          13.23432,
          45.22878,
          98.66667,
          -75.56359,
          144.96332,
          43.25506,
          58.40778,
          15.0444,
          -175.2018,
          135.50218,
          -170.7025,
          -75.16379,
          -72.33881,
          21.16688,
          125.75432,
          -34.88111,
          -21.89541,
          -61.75226,
          -61.84329,
          145.7545,
          -122.41942,
          12.44639,
          -89.18718,
          -63.18117,
          126.9784,
          121.45806,
          114.0683,
          23.32415,
          -65.26274,
          178.44149,
          121.53185,
          51.42151,
          89.64191,
          106.88324,
          174.77557,
          -5.27674,
          11.51667,
          139.65
         ],
         "marker": {
          "color": "#B6E880",
          "symbol": "circle"
         },
         "mode": "markers",
         "name": "broken clouds",
         "showlegend": true,
         "type": "scattergeo"
        },
        {
         "geo": "geo",
         "hovertemplate": "description=thunderstorm<br>lat=%{lat}<br>lon=%{lon}<extra></extra>",
         "lat": [
          12.65,
          13.08784,
          6.12874
         ],
         "legendgroup": "thunderstorm",
         "lon": [
          -8,
          80.27847,
          1.22154
         ],
         "marker": {
          "color": "#FF97FF",
          "symbol": "circle"
         },
         "mode": "markers",
         "name": "thunderstorm",
         "showlegend": true,
         "type": "scattergeo"
        },
        {
         "geo": "geo",
         "hovertemplate": "description=light intensity drizzle<br>lat=%{lat}<br>lon=%{lon}<extra></extra>",
         "lat": [
          -33.92584
         ],
         "legendgroup": "light intensity drizzle",
         "lon": [
          18.42322
         ],
         "marker": {
          "color": "#FECB52",
          "symbol": "circle"
         },
         "mode": "markers",
         "name": "light intensity drizzle",
         "showlegend": true,
         "type": "scattergeo"
        },
        {
         "geo": "geo",
         "hovertemplate": "description=mist<br>lat=%{lat}<br>lon=%{lon}<extra></extra>",
         "lat": [
          30.66667,
          40.71427,
          45.41117,
          -30.03283,
          41.89193
         ],
         "legendgroup": "mist",
         "lon": [
          104.06667,
          -74.00597,
          -75.69812,
          -51.23019,
          12.51133
         ],
         "marker": {
          "color": "#636efa",
          "symbol": "circle"
         },
         "mode": "markers",
         "name": "mist",
         "showlegend": true,
         "type": "scattergeo"
        },
        {
         "geo": "geo",
         "hovertemplate": "description=drizzle<br>lat=%{lat}<br>lon=%{lon}<extra></extra>",
         "lat": [
          4.04827
         ],
         "legendgroup": "drizzle",
         "lon": [
          9.70428
         ],
         "marker": {
          "color": "#EF553B",
          "symbol": "circle"
         },
         "mode": "markers",
         "name": "drizzle",
         "showlegend": true,
         "type": "scattergeo"
        },
        {
         "geo": "geo",
         "hovertemplate": "description=moderate rain<br>lat=%{lat}<br>lon=%{lon}<extra></extra>",
         "lat": [
          -2.19616,
          -3.10194,
          19.42847,
          43.73333,
          45.50884,
          36.335,
          6.49646,
          34.25833
         ],
         "legendgroup": "moderate rain",
         "lon": [
          -79.88621,
          -60.025,
          -99.12766,
          7.41667,
          -73.58781,
          43.11889,
          2.60359,
          108.92861
         ],
         "marker": {
          "color": "#00cc96",
          "symbol": "circle"
         },
         "mode": "markers",
         "name": "moderate rain",
         "showlegend": true,
         "type": "scattergeo"
        },
        {
         "geo": "geo",
         "hovertemplate": "description=dust<br>lat=%{lat}<br>lon=%{lon}<extra></extra>",
         "lat": [
          31.72024
         ],
         "legendgroup": "dust",
         "lon": [
          -106.46084
         ],
         "marker": {
          "color": "#ab63fa",
          "symbol": "circle"
         },
         "mode": "markers",
         "name": "dust",
         "showlegend": true,
         "type": "scattergeo"
        },
        {
         "geo": "geo",
         "hovertemplate": "description=smoke<br>lat=%{lat}<br>lon=%{lon}<extra></extra>",
         "lat": [
          24.8608,
          30.19679
         ],
         "legendgroup": "smoke",
         "lon": [
          67.0104,
          71.47824
         ],
         "marker": {
          "color": "#FFA15A",
          "symbol": "circle"
         },
         "mode": "markers",
         "name": "smoke",
         "showlegend": true,
         "type": "scattergeo"
        },
        {
         "geo": "geo",
         "hovertemplate": "description=fog<br>lat=%{lat}<br>lon=%{lon}<extra></extra>",
         "lat": [
          25.05823,
          59.93863
         ],
         "legendgroup": "fog",
         "lon": [
          -77.34306,
          30.31413
         ],
         "marker": {
          "color": "#19d3f3",
          "symbol": "circle"
         },
         "mode": "markers",
         "name": "fog",
         "showlegend": true,
         "type": "scattergeo"
        },
        {
         "geo": "geo",
         "hovertemplate": "description=light intensity shower rain<br>lat=%{lat}<br>lon=%{lon}<extra></extra>",
         "lat": [
          43.06667
         ],
         "legendgroup": "light intensity shower rain",
         "lon": [
          141.35
         ],
         "marker": {
          "color": "#FF6692",
          "symbol": "circle"
         },
         "mode": "markers",
         "name": "light intensity shower rain",
         "showlegend": true,
         "type": "scattergeo"
        }
       ],
       "layout": {
        "geo": {
         "center": {},
         "domain": {
          "x": [
           0,
           1
          ],
          "y": [
           0,
           1
          ]
         }
        },
        "legend": {
         "title": {
          "text": "description"
         },
         "tracegroupgap": 0
        },
        "margin": {
         "t": 60
        },
        "template": {
         "data": {
          "bar": [
           {
            "error_x": {
             "color": "#2a3f5f"
            },
            "error_y": {
             "color": "#2a3f5f"
            },
            "marker": {
             "line": {
              "color": "#E5ECF6",
              "width": 0.5
             },
             "pattern": {
              "fillmode": "overlay",
              "size": 10,
              "solidity": 0.2
             }
            },
            "type": "bar"
           }
          ],
          "barpolar": [
           {
            "marker": {
             "line": {
              "color": "#E5ECF6",
              "width": 0.5
             },
             "pattern": {
              "fillmode": "overlay",
              "size": 10,
              "solidity": 0.2
             }
            },
            "type": "barpolar"
           }
          ],
          "carpet": [
           {
            "aaxis": {
             "endlinecolor": "#2a3f5f",
             "gridcolor": "white",
             "linecolor": "white",
             "minorgridcolor": "white",
             "startlinecolor": "#2a3f5f"
            },
            "baxis": {
             "endlinecolor": "#2a3f5f",
             "gridcolor": "white",
             "linecolor": "white",
             "minorgridcolor": "white",
             "startlinecolor": "#2a3f5f"
            },
            "type": "carpet"
           }
          ],
          "choropleth": [
           {
            "colorbar": {
             "outlinewidth": 0,
             "ticks": ""
            },
            "type": "choropleth"
           }
          ],
          "contour": [
           {
            "colorbar": {
             "outlinewidth": 0,
             "ticks": ""
            },
            "colorscale": [
             [
              0,
              "#0d0887"
             ],
             [
              0.1111111111111111,
              "#46039f"
             ],
             [
              0.2222222222222222,
              "#7201a8"
             ],
             [
              0.3333333333333333,
              "#9c179e"
             ],
             [
              0.4444444444444444,
              "#bd3786"
             ],
             [
              0.5555555555555556,
              "#d8576b"
             ],
             [
              0.6666666666666666,
              "#ed7953"
             ],
             [
              0.7777777777777778,
              "#fb9f3a"
             ],
             [
              0.8888888888888888,
              "#fdca26"
             ],
             [
              1,
              "#f0f921"
             ]
            ],
            "type": "contour"
           }
          ],
          "contourcarpet": [
           {
            "colorbar": {
             "outlinewidth": 0,
             "ticks": ""
            },
            "type": "contourcarpet"
           }
          ],
          "heatmap": [
           {
            "colorbar": {
             "outlinewidth": 0,
             "ticks": ""
            },
            "colorscale": [
             [
              0,
              "#0d0887"
             ],
             [
              0.1111111111111111,
              "#46039f"
             ],
             [
              0.2222222222222222,
              "#7201a8"
             ],
             [
              0.3333333333333333,
              "#9c179e"
             ],
             [
              0.4444444444444444,
              "#bd3786"
             ],
             [
              0.5555555555555556,
              "#d8576b"
             ],
             [
              0.6666666666666666,
              "#ed7953"
             ],
             [
              0.7777777777777778,
              "#fb9f3a"
             ],
             [
              0.8888888888888888,
              "#fdca26"
             ],
             [
              1,
              "#f0f921"
             ]
            ],
            "type": "heatmap"
           }
          ],
          "heatmapgl": [
           {
            "colorbar": {
             "outlinewidth": 0,
             "ticks": ""
            },
            "colorscale": [
             [
              0,
              "#0d0887"
             ],
             [
              0.1111111111111111,
              "#46039f"
             ],
             [
              0.2222222222222222,
              "#7201a8"
             ],
             [
              0.3333333333333333,
              "#9c179e"
             ],
             [
              0.4444444444444444,
              "#bd3786"
             ],
             [
              0.5555555555555556,
              "#d8576b"
             ],
             [
              0.6666666666666666,
              "#ed7953"
             ],
             [
              0.7777777777777778,
              "#fb9f3a"
             ],
             [
              0.8888888888888888,
              "#fdca26"
             ],
             [
              1,
              "#f0f921"
             ]
            ],
            "type": "heatmapgl"
           }
          ],
          "histogram": [
           {
            "marker": {
             "pattern": {
              "fillmode": "overlay",
              "size": 10,
              "solidity": 0.2
             }
            },
            "type": "histogram"
           }
          ],
          "histogram2d": [
           {
            "colorbar": {
             "outlinewidth": 0,
             "ticks": ""
            },
            "colorscale": [
             [
              0,
              "#0d0887"
             ],
             [
              0.1111111111111111,
              "#46039f"
             ],
             [
              0.2222222222222222,
              "#7201a8"
             ],
             [
              0.3333333333333333,
              "#9c179e"
             ],
             [
              0.4444444444444444,
              "#bd3786"
             ],
             [
              0.5555555555555556,
              "#d8576b"
             ],
             [
              0.6666666666666666,
              "#ed7953"
             ],
             [
              0.7777777777777778,
              "#fb9f3a"
             ],
             [
              0.8888888888888888,
              "#fdca26"
             ],
             [
              1,
              "#f0f921"
             ]
            ],
            "type": "histogram2d"
           }
          ],
          "histogram2dcontour": [
           {
            "colorbar": {
             "outlinewidth": 0,
             "ticks": ""
            },
            "colorscale": [
             [
              0,
              "#0d0887"
             ],
             [
              0.1111111111111111,
              "#46039f"
             ],
             [
              0.2222222222222222,
              "#7201a8"
             ],
             [
              0.3333333333333333,
              "#9c179e"
             ],
             [
              0.4444444444444444,
              "#bd3786"
             ],
             [
              0.5555555555555556,
              "#d8576b"
             ],
             [
              0.6666666666666666,
              "#ed7953"
             ],
             [
              0.7777777777777778,
              "#fb9f3a"
             ],
             [
              0.8888888888888888,
              "#fdca26"
             ],
             [
              1,
              "#f0f921"
             ]
            ],
            "type": "histogram2dcontour"
           }
          ],
          "mesh3d": [
           {
            "colorbar": {
             "outlinewidth": 0,
             "ticks": ""
            },
            "type": "mesh3d"
           }
          ],
          "parcoords": [
           {
            "line": {
             "colorbar": {
              "outlinewidth": 0,
              "ticks": ""
             }
            },
            "type": "parcoords"
           }
          ],
          "pie": [
           {
            "automargin": true,
            "type": "pie"
           }
          ],
          "scatter": [
           {
            "fillpattern": {
             "fillmode": "overlay",
             "size": 10,
             "solidity": 0.2
            },
            "type": "scatter"
           }
          ],
          "scatter3d": [
           {
            "line": {
             "colorbar": {
              "outlinewidth": 0,
              "ticks": ""
             }
            },
            "marker": {
             "colorbar": {
              "outlinewidth": 0,
              "ticks": ""
             }
            },
            "type": "scatter3d"
           }
          ],
          "scattercarpet": [
           {
            "marker": {
             "colorbar": {
              "outlinewidth": 0,
              "ticks": ""
             }
            },
            "type": "scattercarpet"
           }
          ],
          "scattergeo": [
           {
            "marker": {
             "colorbar": {
              "outlinewidth": 0,
              "ticks": ""
             }
            },
            "type": "scattergeo"
           }
          ],
          "scattergl": [
           {
            "marker": {
             "colorbar": {
              "outlinewidth": 0,
              "ticks": ""
             }
            },
            "type": "scattergl"
           }
          ],
          "scattermapbox": [
           {
            "marker": {
             "colorbar": {
              "outlinewidth": 0,
              "ticks": ""
             }
            },
            "type": "scattermapbox"
           }
          ],
          "scatterpolar": [
           {
            "marker": {
             "colorbar": {
              "outlinewidth": 0,
              "ticks": ""
             }
            },
            "type": "scatterpolar"
           }
          ],
          "scatterpolargl": [
           {
            "marker": {
             "colorbar": {
              "outlinewidth": 0,
              "ticks": ""
             }
            },
            "type": "scatterpolargl"
           }
          ],
          "scatterternary": [
           {
            "marker": {
             "colorbar": {
              "outlinewidth": 0,
              "ticks": ""
             }
            },
            "type": "scatterternary"
           }
          ],
          "surface": [
           {
            "colorbar": {
             "outlinewidth": 0,
             "ticks": ""
            },
            "colorscale": [
             [
              0,
              "#0d0887"
             ],
             [
              0.1111111111111111,
              "#46039f"
             ],
             [
              0.2222222222222222,
              "#7201a8"
             ],
             [
              0.3333333333333333,
              "#9c179e"
             ],
             [
              0.4444444444444444,
              "#bd3786"
             ],
             [
              0.5555555555555556,
              "#d8576b"
             ],
             [
              0.6666666666666666,
              "#ed7953"
             ],
             [
              0.7777777777777778,
              "#fb9f3a"
             ],
             [
              0.8888888888888888,
              "#fdca26"
             ],
             [
              1,
              "#f0f921"
             ]
            ],
            "type": "surface"
           }
          ],
          "table": [
           {
            "cells": {
             "fill": {
              "color": "#EBF0F8"
             },
             "line": {
              "color": "white"
             }
            },
            "header": {
             "fill": {
              "color": "#C8D4E3"
             },
             "line": {
              "color": "white"
             }
            },
            "type": "table"
           }
          ]
         },
         "layout": {
          "annotationdefaults": {
           "arrowcolor": "#2a3f5f",
           "arrowhead": 0,
           "arrowwidth": 1
          },
          "autotypenumbers": "strict",
          "coloraxis": {
           "colorbar": {
            "outlinewidth": 0,
            "ticks": ""
           }
          },
          "colorscale": {
           "diverging": [
            [
             0,
             "#8e0152"
            ],
            [
             0.1,
             "#c51b7d"
            ],
            [
             0.2,
             "#de77ae"
            ],
            [
             0.3,
             "#f1b6da"
            ],
            [
             0.4,
             "#fde0ef"
            ],
            [
             0.5,
             "#f7f7f7"
            ],
            [
             0.6,
             "#e6f5d0"
            ],
            [
             0.7,
             "#b8e186"
            ],
            [
             0.8,
             "#7fbc41"
            ],
            [
             0.9,
             "#4d9221"
            ],
            [
             1,
             "#276419"
            ]
           ],
           "sequential": [
            [
             0,
             "#0d0887"
            ],
            [
             0.1111111111111111,
             "#46039f"
            ],
            [
             0.2222222222222222,
             "#7201a8"
            ],
            [
             0.3333333333333333,
             "#9c179e"
            ],
            [
             0.4444444444444444,
             "#bd3786"
            ],
            [
             0.5555555555555556,
             "#d8576b"
            ],
            [
             0.6666666666666666,
             "#ed7953"
            ],
            [
             0.7777777777777778,
             "#fb9f3a"
            ],
            [
             0.8888888888888888,
             "#fdca26"
            ],
            [
             1,
             "#f0f921"
            ]
           ],
           "sequentialminus": [
            [
             0,
             "#0d0887"
            ],
            [
             0.1111111111111111,
             "#46039f"
            ],
            [
             0.2222222222222222,
             "#7201a8"
            ],
            [
             0.3333333333333333,
             "#9c179e"
            ],
            [
             0.4444444444444444,
             "#bd3786"
            ],
            [
             0.5555555555555556,
             "#d8576b"
            ],
            [
             0.6666666666666666,
             "#ed7953"
            ],
            [
             0.7777777777777778,
             "#fb9f3a"
            ],
            [
             0.8888888888888888,
             "#fdca26"
            ],
            [
             1,
             "#f0f921"
            ]
           ]
          },
          "colorway": [
           "#636efa",
           "#EF553B",
           "#00cc96",
           "#ab63fa",
           "#FFA15A",
           "#19d3f3",
           "#FF6692",
           "#B6E880",
           "#FF97FF",
           "#FECB52"
          ],
          "font": {
           "color": "#2a3f5f"
          },
          "geo": {
           "bgcolor": "white",
           "lakecolor": "white",
           "landcolor": "#E5ECF6",
           "showlakes": true,
           "showland": true,
           "subunitcolor": "white"
          },
          "hoverlabel": {
           "align": "left"
          },
          "hovermode": "closest",
          "mapbox": {
           "style": "light"
          },
          "paper_bgcolor": "white",
          "plot_bgcolor": "#E5ECF6",
          "polar": {
           "angularaxis": {
            "gridcolor": "white",
            "linecolor": "white",
            "ticks": ""
           },
           "bgcolor": "#E5ECF6",
           "radialaxis": {
            "gridcolor": "white",
            "linecolor": "white",
            "ticks": ""
           }
          },
          "scene": {
           "xaxis": {
            "backgroundcolor": "#E5ECF6",
            "gridcolor": "white",
            "gridwidth": 2,
            "linecolor": "white",
            "showbackground": true,
            "ticks": "",
            "zerolinecolor": "white"
           },
           "yaxis": {
            "backgroundcolor": "#E5ECF6",
            "gridcolor": "white",
            "gridwidth": 2,
            "linecolor": "white",
            "showbackground": true,
            "ticks": "",
            "zerolinecolor": "white"
           },
           "zaxis": {
            "backgroundcolor": "#E5ECF6",
            "gridcolor": "white",
            "gridwidth": 2,
            "linecolor": "white",
            "showbackground": true,
            "ticks": "",
            "zerolinecolor": "white"
           }
          },
          "shapedefaults": {
           "line": {
            "color": "#2a3f5f"
           }
          },
          "ternary": {
           "aaxis": {
            "gridcolor": "white",
            "linecolor": "white",
            "ticks": ""
           },
           "baxis": {
            "gridcolor": "white",
            "linecolor": "white",
            "ticks": ""
           },
           "bgcolor": "#E5ECF6",
           "caxis": {
            "gridcolor": "white",
            "linecolor": "white",
            "ticks": ""
           }
          },
          "title": {
           "x": 0.05
          },
          "xaxis": {
           "automargin": true,
           "gridcolor": "white",
           "linecolor": "white",
           "ticks": "",
           "title": {
            "standoff": 15
           },
           "zerolinecolor": "white",
           "zerolinewidth": 2
          },
          "yaxis": {
           "automargin": true,
           "gridcolor": "white",
           "linecolor": "white",
           "ticks": "",
           "title": {
            "standoff": 15
           },
           "zerolinecolor": "white",
           "zerolinewidth": 2
          }
         }
        },
        "title": {
         "text": "Paises y su descripcion",
         "x": 0.5
        }
       }
      },
      "text/html": [
       "<div>                            <div id=\"6aa0d8a5-02a6-4cd4-a0d0-7d0ff9dc66db\" class=\"plotly-graph-div\" style=\"height:525px; width:100%;\"></div>            <script type=\"text/javascript\">                require([\"plotly\"], function(Plotly) {                    window.PLOTLYENV=window.PLOTLYENV || {};                                    if (document.getElementById(\"6aa0d8a5-02a6-4cd4-a0d0-7d0ff9dc66db\")) {                    Plotly.newPlot(                        \"6aa0d8a5-02a6-4cd4-a0d0-7d0ff9dc66db\",                        [{\"geo\":\"geo\",\"hovertemplate\":\"description=scattered clouds<br>lat=%{lat}<br>lon=%{lon}<extra></extra>\",\"lat\":[5.35444,39.91987,37.95,-6.92222,13.75398,10.96854,15.99714,17.25,13.10732,-34.61315,40.19559,14.64953,18.3419,6.93548,33.5102,36.14474,23.11667,21.0245,22.27832,21.30694,32.65246,0.31628,22.61626,13.15527,22.31667,35.02107,-13.96692,46.05108,-11.66089,22.20056,4.17521,12.13282,14.6042,10.23535,35.18147,35.17531,18.08581,64.18347,12.52398,37.44188,-17.53733,11.56245,14.6488,18.42693,15.30174,-12.97111,15.35472,41.99646,1.3278,14.0818,35.6895,-4.62001,30.58333,16.80528],\"legendgroup\":\"scattered clouds\",\"lon\":[-4.00167,32.85427,58.38333,107.60694,100.50144,-74.78132,-61.73214,-88.76667,-59.62021,-58.37723,29.06013,120.96788,-64.9307,79.84868,36.29128,-5.35257,113.25,105.84117,114.17469,-157.85833,51.67462,32.58219,120.31333,-61.22742,114.18333,135.75385,33.78725,14.50513,27.47938,113.54611,73.50916,-86.2504,120.9822,-67.59113,136.90641,33.3642,-15.9785,-51.72157,-70.02703,-122.14302,-149.5665,104.91601,121.0509,-64.62079,-61.38808,-38.51083,44.20667,21.43141,172.97696,-87.20681,139.69171,55.45501,114.26667,96.15611],\"marker\":{\"color\":\"#636efa\",\"symbol\":\"circle\"},\"mode\":\"markers\",\"name\":\"scattered clouds\",\"showlegend\":true,\"type\":\"scattergeo\"},{\"geo\":\"geo\",\"hovertemplate\":\"description=clear sky<br>lat=%{lat}<br>lon=%{lon}<extra></extra>\",\"lat\":[24.45118,61.21806,15.33805,33.34058,40.37767,30.50852,33.89332,-1.45583,44.80401,-19.92083,52.52437,42.87,-15.77972,48.14816,-27.46794,50.85045,44.43225,47.49835,35.10168,30.06263,41.85003,47.00556,35.87028,25.28545,54.15,25.07725,53.33306,-29.8579,-24.65451,32.15567,53.55073,60.16952,33.72148,38.41273,21.49012,-26.20227,4.85165,12.00012,26.46523,15.55177,22.80979,36.5138,29.36972,50.45466,38.71667,51.50853,-15.40669,40.4165,26.22787,-25.96553,60.09726,-29.31667,36.31559,-26.31667,21.42664,24.46861,25.77427,-1.28333,19.745,13.51366,55.0415,51.1801,59.91273,12.36566,48.85341,42.44111,-20.16194,50.08804,-25.74486,18.51957,33.59733,56.946,-22.90642,49.18804,49.45981,-20.88231,46.77914,18.46633,-33.45694,-23.5475,43.84864,25.33737,-26.26781,-33.86785,59.43696,41.26465,39.14222,62.00973,32.88743,48.20849,17.96667,54.68916,52.22977,-22.55941,45.81444],\"legendgroup\":\"clear sky\",\"lon\":[54.39696,-149.90028,38.93184,44.40088,49.89201,47.7804,35.50157,-48.50444,20.46513,-43.93778,13.41053,74.59,-47.92972,17.10674,153.02809,4.34878,26.10626,19.04045,129.03004,31.24967,-87.65005,28.8575,128.59111,51.53096,-4.48333,55.30927,-6.24889,31.0292,25.90859,74.18705,9.99302,24.93545,73.04329,27.13838,39.18624,28.04363,31.58247,8.51672,80.34975,32.53241,89.56439,-119.554,47.97833,30.5238,-9.13333,-0.12574,28.28713,-3.70256,50.58565,32.58322,19.93481,27.48333,59.56796,31.13333,39.82563,39.61417,-80.19366,36.81667,96.12972,2.1098,82.9346,71.44598,10.74609,-1.53388,2.3488,19.26361,57.49889,14.42076,28.18783,73.85535,73.0479,24.10589,-43.18223,-2.10491,-2.53527,55.4504,-56.1773,-66.10572,-70.64827,-46.63611,18.35644,55.41206,27.85849,151.20732,24.75353,69.21627,117.17667,-6.77164,13.18733,16.37208,102.6,25.2798,21.01178,17.08323,15.97798],\"marker\":{\"color\":\"#EF553B\",\"symbol\":\"circle\"},\"mode\":\"markers\",\"name\":\"clear sky\",\"showlegend\":true,\"type\":\"scattergeo\"},{\"geo\":\"geo\",\"hovertemplate\":\"description=overcast clouds<br>lat=%{lat}<br>lon=%{lon}<extra></extra>\",\"lat\":[9.05785,31.20176,42.50779,38.255366,-25.28646,-36.84853,4.36122,13.45274,39.9075,46.94809,11.86357,-3.38193,33.58831,29.56278,-31.4135,36.34913,39.73915,-8.55861,-6.17221,38.53575,-3.42708,10.52641,35.83266,49.98081,6.12361,6.68848,-12.04318,34.05223,49.61167,10.66663,53.9,2.03711,-34.90328,55.75222,30.79508,32.06167,-22.27407,8.9936,5.86638,-31.95224,10.66668,19.03793,-0.22985,24.68773,29.42412,32.71571,18.47186,0.33654,38.08,41.69411,32.5027,41.3275,43.70011,47.14151,10.16202,38.89511],\"legendgroup\":\"overcast clouds\",\"lon\":[7.49508,29.91582,1.52109,-120.351935,-57.647,174.76349,18.55496,-16.57803,116.39723,7.44744,-15.59767,29.36142,-7.61138,106.55278,-64.18105,127.38493,-104.9847,125.57361,35.73947,68.77905,29.92463,7.43879,50.99155,36.25272,102.24333,-1.62443,-77.02824,-118.24368,6.13,-71.61245,27.56667,45.34375,-56.18816,37.61556,106.08473,118.77778,166.44884,-79.51973,-55.16682,115.8614,-61.51889,-98.20346,-78.52495,46.72185,-98.49363,-117.16472,-69.89232,6.72732,46.2919,44.83368,-117.00371,19.81889,-79.4163,9.52154,-68.00765,-77.03637],\"marker\":{\"color\":\"#00cc96\",\"symbol\":\"circle\"},\"mode\":\"markers\",\"name\":\"overcast clouds\",\"showlegend\":true,\"type\":\"scattergeo\"},{\"geo\":\"geo\",\"hovertemplate\":\"description=thunderstorm with light rain<br>lat=%{lat}<br>lon=%{lon}<extra></extra>\",\"lat\":[5.55602,9.535,9.53795,-4.32758],\"legendgroup\":\"thunderstorm with light rain\",\"lon\":[-0.1969,-13.68778,-13.67729,15.31357],\"marker\":{\"color\":\"#ab63fa\",\"symbol\":\"circle\"},\"mode\":\"markers\",\"name\":\"thunderstorm with light rain\",\"showlegend\":true,\"type\":\"scattergeo\"},{\"geo\":\"geo\",\"hovertemplate\":\"description=light rain<br>lat=%{lat}<br>lon=%{lon}<extra></extra>\",\"lat\":[9.02497,-4.26613,13.9957,-6.82349,11.58901,8.48714,-9.43333,7.37756,6.45407,0.39241,7.08971,3.75578,6.30054,-17.73648,34.01325,1.28967],\"legendgroup\":\"light rain\",\"lon\":[38.74689,15.28318,-61.00614,39.26951,43.14503,-13.2356,159.95,3.90591,3.39467,9.45356,171.38027,8.78166,-10.7969,168.31366,-6.83255,103.85007],\"marker\":{\"color\":\"#FFA15A\",\"symbol\":\"circle\"},\"mode\":\"markers\",\"name\":\"light rain\",\"showlegend\":true,\"type\":\"scattergeo\"},{\"geo\":\"geo\",\"hovertemplate\":\"description=haze<br>lat=%{lat}<br>lon=%{lon}<extra></extra>\",\"lat\":[23.02579,-6.2349,28.65195,23.7104,17.38405,25.39242,17.38405,25.39242,26.91962,-6.21462,22.56263,31.558,19.07283,-9.47723],\"legendgroup\":\"haze\",\"lon\":[72.58727,106.9896,77.23149,90.40744,78.45636,68.37366,78.45636,68.37366,75.78781,106.84513,88.36304,74.35071,72.88261,147.15089],\"marker\":{\"color\":\"#19d3f3\",\"symbol\":\"circle\"},\"mode\":\"markers\",\"name\":\"haze\",\"showlegend\":true,\"type\":\"scattergeo\"},{\"geo\":\"geo\",\"hovertemplate\":\"description=few clouds<br>lat=%{lat}<br>lon=%{lon}<extra></extra>\",\"lat\":[36.20124,36.73225,-18.91368,41.38879,17.2955,12.97194,22.3384,-25.42778,14.6937,31.41554,14.60365,19.2866,6.80448,14.64072,17.89618,-17.82772,23.13302,31.76904,27.70169,-1.94995,17.99702,3.1412,-5.14861,18.06819,-2.91673,33.44838,14.93152,9.93333,47.60621,-6.99306,59.32938,-7.24917,21.19594,-6.17806,32.08088,36.81897,35.89968,49.24966,12.1084,56.8519,40.18111],\"legendgroup\":\"few clouds\",\"lon\":[37.16117,3.08746,47.53613,2.15899,-62.72499,77.59369,91.83168,-49.27306,-17.44406,73.08969,-61.07418,-81.37436,-58.15527,-90.51327,-62.84978,31.05337,-82.38304,35.21633,85.3206,30.05885,-76.79358,101.68653,119.43194,-63.08302,104.7458,-112.07404,-23.51254,-84.08333,-122.33207,110.42083,18.06871,112.75083,72.83023,106.63,34.78057,10.16579,14.5148,-123.11934,-68.93354,60.6122,44.51361],\"marker\":{\"color\":\"#FF6692\",\"symbol\":\"circle\"},\"mode\":\"markers\",\"name\":\"few clouds\",\"showlegend\":true,\"type\":\"scattergeo\"},{\"geo\":\"geo\",\"hovertemplate\":\"description=broken clouds<br>lat=%{lat}<br>lon=%{lon}<extra></extra>\",\"lat\":[43.25667,31.95522,52.37403,-13.83333,37.98376,-21.2075,5.54167,4.89035,4.60971,3.43722,-35.28346,10.48801,4.93333,55.67594,32.78306,23.01797,-3.71722,33.6,-8.52425,30.00944,20.66682,35.15472,10.82302,29.76328,37.45646,41.01384,34.52813,35.52056,34.6913,-16.5,-8.83682,-12.78234,3.58333,6.25184,-37.814,-11.70216,23.58413,12.10672,-21.13938,34.69374,-14.27806,39.95233,18.54349,42.67272,39.03385,-8.05389,64.13548,12.05288,17.12096,15.21233,37.77493,43.93667,13.68935,-17.78629,37.566,31.22222,22.54554,42.69751,-19.03332,-18.14161,25.04776,35.69439,27.46609,47.90771,-41.28664,6.82055,3.86667,35.43333],\"legendgroup\":\"broken clouds\",\"lon\":[76.92861,35.94503,4.88969,-171.76666,23.72784,-159.77545,95.33333,114.94006,-74.08175,-76.5225,149.12807,-66.87919,-52.33333,12.56553,-96.80667,113.74866,-38.54306,130.41667,179.19417,31.20861,-103.39182,126.91556,106.62965,-95.36327,126.70515,28.94966,69.17233,139.71722,135.183,-68.15,13.23432,45.22878,98.66667,-75.56359,144.96332,43.25506,58.40778,15.0444,-175.2018,135.50218,-170.7025,-75.16379,-72.33881,21.16688,125.75432,-34.88111,-21.89541,-61.75226,-61.84329,145.7545,-122.41942,12.44639,-89.18718,-63.18117,126.9784,121.45806,114.0683,23.32415,-65.26274,178.44149,121.53185,51.42151,89.64191,106.88324,174.77557,-5.27674,11.51667,139.65],\"marker\":{\"color\":\"#B6E880\",\"symbol\":\"circle\"},\"mode\":\"markers\",\"name\":\"broken clouds\",\"showlegend\":true,\"type\":\"scattergeo\"},{\"geo\":\"geo\",\"hovertemplate\":\"description=thunderstorm<br>lat=%{lat}<br>lon=%{lon}<extra></extra>\",\"lat\":[12.65,13.08784,6.12874],\"legendgroup\":\"thunderstorm\",\"lon\":[-8.0,80.27847,1.22154],\"marker\":{\"color\":\"#FF97FF\",\"symbol\":\"circle\"},\"mode\":\"markers\",\"name\":\"thunderstorm\",\"showlegend\":true,\"type\":\"scattergeo\"},{\"geo\":\"geo\",\"hovertemplate\":\"description=light intensity drizzle<br>lat=%{lat}<br>lon=%{lon}<extra></extra>\",\"lat\":[-33.92584],\"legendgroup\":\"light intensity drizzle\",\"lon\":[18.42322],\"marker\":{\"color\":\"#FECB52\",\"symbol\":\"circle\"},\"mode\":\"markers\",\"name\":\"light intensity drizzle\",\"showlegend\":true,\"type\":\"scattergeo\"},{\"geo\":\"geo\",\"hovertemplate\":\"description=mist<br>lat=%{lat}<br>lon=%{lon}<extra></extra>\",\"lat\":[30.66667,40.71427,45.41117,-30.03283,41.89193],\"legendgroup\":\"mist\",\"lon\":[104.06667,-74.00597,-75.69812,-51.23019,12.51133],\"marker\":{\"color\":\"#636efa\",\"symbol\":\"circle\"},\"mode\":\"markers\",\"name\":\"mist\",\"showlegend\":true,\"type\":\"scattergeo\"},{\"geo\":\"geo\",\"hovertemplate\":\"description=drizzle<br>lat=%{lat}<br>lon=%{lon}<extra></extra>\",\"lat\":[4.04827],\"legendgroup\":\"drizzle\",\"lon\":[9.70428],\"marker\":{\"color\":\"#EF553B\",\"symbol\":\"circle\"},\"mode\":\"markers\",\"name\":\"drizzle\",\"showlegend\":true,\"type\":\"scattergeo\"},{\"geo\":\"geo\",\"hovertemplate\":\"description=moderate rain<br>lat=%{lat}<br>lon=%{lon}<extra></extra>\",\"lat\":[-2.19616,-3.10194,19.42847,43.73333,45.50884,36.335,6.49646,34.25833],\"legendgroup\":\"moderate rain\",\"lon\":[-79.88621,-60.025,-99.12766,7.41667,-73.58781,43.11889,2.60359,108.92861],\"marker\":{\"color\":\"#00cc96\",\"symbol\":\"circle\"},\"mode\":\"markers\",\"name\":\"moderate rain\",\"showlegend\":true,\"type\":\"scattergeo\"},{\"geo\":\"geo\",\"hovertemplate\":\"description=dust<br>lat=%{lat}<br>lon=%{lon}<extra></extra>\",\"lat\":[31.72024],\"legendgroup\":\"dust\",\"lon\":[-106.46084],\"marker\":{\"color\":\"#ab63fa\",\"symbol\":\"circle\"},\"mode\":\"markers\",\"name\":\"dust\",\"showlegend\":true,\"type\":\"scattergeo\"},{\"geo\":\"geo\",\"hovertemplate\":\"description=smoke<br>lat=%{lat}<br>lon=%{lon}<extra></extra>\",\"lat\":[24.8608,30.19679],\"legendgroup\":\"smoke\",\"lon\":[67.0104,71.47824],\"marker\":{\"color\":\"#FFA15A\",\"symbol\":\"circle\"},\"mode\":\"markers\",\"name\":\"smoke\",\"showlegend\":true,\"type\":\"scattergeo\"},{\"geo\":\"geo\",\"hovertemplate\":\"description=fog<br>lat=%{lat}<br>lon=%{lon}<extra></extra>\",\"lat\":[25.05823,59.93863],\"legendgroup\":\"fog\",\"lon\":[-77.34306,30.31413],\"marker\":{\"color\":\"#19d3f3\",\"symbol\":\"circle\"},\"mode\":\"markers\",\"name\":\"fog\",\"showlegend\":true,\"type\":\"scattergeo\"},{\"geo\":\"geo\",\"hovertemplate\":\"description=light intensity shower rain<br>lat=%{lat}<br>lon=%{lon}<extra></extra>\",\"lat\":[43.06667],\"legendgroup\":\"light intensity shower rain\",\"lon\":[141.35],\"marker\":{\"color\":\"#FF6692\",\"symbol\":\"circle\"},\"mode\":\"markers\",\"name\":\"light intensity shower rain\",\"showlegend\":true,\"type\":\"scattergeo\"}],                        {\"template\":{\"data\":{\"histogram2dcontour\":[{\"type\":\"histogram2dcontour\",\"colorbar\":{\"outlinewidth\":0,\"ticks\":\"\"},\"colorscale\":[[0.0,\"#0d0887\"],[0.1111111111111111,\"#46039f\"],[0.2222222222222222,\"#7201a8\"],[0.3333333333333333,\"#9c179e\"],[0.4444444444444444,\"#bd3786\"],[0.5555555555555556,\"#d8576b\"],[0.6666666666666666,\"#ed7953\"],[0.7777777777777778,\"#fb9f3a\"],[0.8888888888888888,\"#fdca26\"],[1.0,\"#f0f921\"]]}],\"choropleth\":[{\"type\":\"choropleth\",\"colorbar\":{\"outlinewidth\":0,\"ticks\":\"\"}}],\"histogram2d\":[{\"type\":\"histogram2d\",\"colorbar\":{\"outlinewidth\":0,\"ticks\":\"\"},\"colorscale\":[[0.0,\"#0d0887\"],[0.1111111111111111,\"#46039f\"],[0.2222222222222222,\"#7201a8\"],[0.3333333333333333,\"#9c179e\"],[0.4444444444444444,\"#bd3786\"],[0.5555555555555556,\"#d8576b\"],[0.6666666666666666,\"#ed7953\"],[0.7777777777777778,\"#fb9f3a\"],[0.8888888888888888,\"#fdca26\"],[1.0,\"#f0f921\"]]}],\"heatmap\":[{\"type\":\"heatmap\",\"colorbar\":{\"outlinewidth\":0,\"ticks\":\"\"},\"colorscale\":[[0.0,\"#0d0887\"],[0.1111111111111111,\"#46039f\"],[0.2222222222222222,\"#7201a8\"],[0.3333333333333333,\"#9c179e\"],[0.4444444444444444,\"#bd3786\"],[0.5555555555555556,\"#d8576b\"],[0.6666666666666666,\"#ed7953\"],[0.7777777777777778,\"#fb9f3a\"],[0.8888888888888888,\"#fdca26\"],[1.0,\"#f0f921\"]]}],\"heatmapgl\":[{\"type\":\"heatmapgl\",\"colorbar\":{\"outlinewidth\":0,\"ticks\":\"\"},\"colorscale\":[[0.0,\"#0d0887\"],[0.1111111111111111,\"#46039f\"],[0.2222222222222222,\"#7201a8\"],[0.3333333333333333,\"#9c179e\"],[0.4444444444444444,\"#bd3786\"],[0.5555555555555556,\"#d8576b\"],[0.6666666666666666,\"#ed7953\"],[0.7777777777777778,\"#fb9f3a\"],[0.8888888888888888,\"#fdca26\"],[1.0,\"#f0f921\"]]}],\"contourcarpet\":[{\"type\":\"contourcarpet\",\"colorbar\":{\"outlinewidth\":0,\"ticks\":\"\"}}],\"contour\":[{\"type\":\"contour\",\"colorbar\":{\"outlinewidth\":0,\"ticks\":\"\"},\"colorscale\":[[0.0,\"#0d0887\"],[0.1111111111111111,\"#46039f\"],[0.2222222222222222,\"#7201a8\"],[0.3333333333333333,\"#9c179e\"],[0.4444444444444444,\"#bd3786\"],[0.5555555555555556,\"#d8576b\"],[0.6666666666666666,\"#ed7953\"],[0.7777777777777778,\"#fb9f3a\"],[0.8888888888888888,\"#fdca26\"],[1.0,\"#f0f921\"]]}],\"surface\":[{\"type\":\"surface\",\"colorbar\":{\"outlinewidth\":0,\"ticks\":\"\"},\"colorscale\":[[0.0,\"#0d0887\"],[0.1111111111111111,\"#46039f\"],[0.2222222222222222,\"#7201a8\"],[0.3333333333333333,\"#9c179e\"],[0.4444444444444444,\"#bd3786\"],[0.5555555555555556,\"#d8576b\"],[0.6666666666666666,\"#ed7953\"],[0.7777777777777778,\"#fb9f3a\"],[0.8888888888888888,\"#fdca26\"],[1.0,\"#f0f921\"]]}],\"mesh3d\":[{\"type\":\"mesh3d\",\"colorbar\":{\"outlinewidth\":0,\"ticks\":\"\"}}],\"scatter\":[{\"fillpattern\":{\"fillmode\":\"overlay\",\"size\":10,\"solidity\":0.2},\"type\":\"scatter\"}],\"parcoords\":[{\"type\":\"parcoords\",\"line\":{\"colorbar\":{\"outlinewidth\":0,\"ticks\":\"\"}}}],\"scatterpolargl\":[{\"type\":\"scatterpolargl\",\"marker\":{\"colorbar\":{\"outlinewidth\":0,\"ticks\":\"\"}}}],\"bar\":[{\"error_x\":{\"color\":\"#2a3f5f\"},\"error_y\":{\"color\":\"#2a3f5f\"},\"marker\":{\"line\":{\"color\":\"#E5ECF6\",\"width\":0.5},\"pattern\":{\"fillmode\":\"overlay\",\"size\":10,\"solidity\":0.2}},\"type\":\"bar\"}],\"scattergeo\":[{\"type\":\"scattergeo\",\"marker\":{\"colorbar\":{\"outlinewidth\":0,\"ticks\":\"\"}}}],\"scatterpolar\":[{\"type\":\"scatterpolar\",\"marker\":{\"colorbar\":{\"outlinewidth\":0,\"ticks\":\"\"}}}],\"histogram\":[{\"marker\":{\"pattern\":{\"fillmode\":\"overlay\",\"size\":10,\"solidity\":0.2}},\"type\":\"histogram\"}],\"scattergl\":[{\"type\":\"scattergl\",\"marker\":{\"colorbar\":{\"outlinewidth\":0,\"ticks\":\"\"}}}],\"scatter3d\":[{\"type\":\"scatter3d\",\"line\":{\"colorbar\":{\"outlinewidth\":0,\"ticks\":\"\"}},\"marker\":{\"colorbar\":{\"outlinewidth\":0,\"ticks\":\"\"}}}],\"scattermapbox\":[{\"type\":\"scattermapbox\",\"marker\":{\"colorbar\":{\"outlinewidth\":0,\"ticks\":\"\"}}}],\"scatterternary\":[{\"type\":\"scatterternary\",\"marker\":{\"colorbar\":{\"outlinewidth\":0,\"ticks\":\"\"}}}],\"scattercarpet\":[{\"type\":\"scattercarpet\",\"marker\":{\"colorbar\":{\"outlinewidth\":0,\"ticks\":\"\"}}}],\"carpet\":[{\"aaxis\":{\"endlinecolor\":\"#2a3f5f\",\"gridcolor\":\"white\",\"linecolor\":\"white\",\"minorgridcolor\":\"white\",\"startlinecolor\":\"#2a3f5f\"},\"baxis\":{\"endlinecolor\":\"#2a3f5f\",\"gridcolor\":\"white\",\"linecolor\":\"white\",\"minorgridcolor\":\"white\",\"startlinecolor\":\"#2a3f5f\"},\"type\":\"carpet\"}],\"table\":[{\"cells\":{\"fill\":{\"color\":\"#EBF0F8\"},\"line\":{\"color\":\"white\"}},\"header\":{\"fill\":{\"color\":\"#C8D4E3\"},\"line\":{\"color\":\"white\"}},\"type\":\"table\"}],\"barpolar\":[{\"marker\":{\"line\":{\"color\":\"#E5ECF6\",\"width\":0.5},\"pattern\":{\"fillmode\":\"overlay\",\"size\":10,\"solidity\":0.2}},\"type\":\"barpolar\"}],\"pie\":[{\"automargin\":true,\"type\":\"pie\"}]},\"layout\":{\"autotypenumbers\":\"strict\",\"colorway\":[\"#636efa\",\"#EF553B\",\"#00cc96\",\"#ab63fa\",\"#FFA15A\",\"#19d3f3\",\"#FF6692\",\"#B6E880\",\"#FF97FF\",\"#FECB52\"],\"font\":{\"color\":\"#2a3f5f\"},\"hovermode\":\"closest\",\"hoverlabel\":{\"align\":\"left\"},\"paper_bgcolor\":\"white\",\"plot_bgcolor\":\"#E5ECF6\",\"polar\":{\"bgcolor\":\"#E5ECF6\",\"angularaxis\":{\"gridcolor\":\"white\",\"linecolor\":\"white\",\"ticks\":\"\"},\"radialaxis\":{\"gridcolor\":\"white\",\"linecolor\":\"white\",\"ticks\":\"\"}},\"ternary\":{\"bgcolor\":\"#E5ECF6\",\"aaxis\":{\"gridcolor\":\"white\",\"linecolor\":\"white\",\"ticks\":\"\"},\"baxis\":{\"gridcolor\":\"white\",\"linecolor\":\"white\",\"ticks\":\"\"},\"caxis\":{\"gridcolor\":\"white\",\"linecolor\":\"white\",\"ticks\":\"\"}},\"coloraxis\":{\"colorbar\":{\"outlinewidth\":0,\"ticks\":\"\"}},\"colorscale\":{\"sequential\":[[0.0,\"#0d0887\"],[0.1111111111111111,\"#46039f\"],[0.2222222222222222,\"#7201a8\"],[0.3333333333333333,\"#9c179e\"],[0.4444444444444444,\"#bd3786\"],[0.5555555555555556,\"#d8576b\"],[0.6666666666666666,\"#ed7953\"],[0.7777777777777778,\"#fb9f3a\"],[0.8888888888888888,\"#fdca26\"],[1.0,\"#f0f921\"]],\"sequentialminus\":[[0.0,\"#0d0887\"],[0.1111111111111111,\"#46039f\"],[0.2222222222222222,\"#7201a8\"],[0.3333333333333333,\"#9c179e\"],[0.4444444444444444,\"#bd3786\"],[0.5555555555555556,\"#d8576b\"],[0.6666666666666666,\"#ed7953\"],[0.7777777777777778,\"#fb9f3a\"],[0.8888888888888888,\"#fdca26\"],[1.0,\"#f0f921\"]],\"diverging\":[[0,\"#8e0152\"],[0.1,\"#c51b7d\"],[0.2,\"#de77ae\"],[0.3,\"#f1b6da\"],[0.4,\"#fde0ef\"],[0.5,\"#f7f7f7\"],[0.6,\"#e6f5d0\"],[0.7,\"#b8e186\"],[0.8,\"#7fbc41\"],[0.9,\"#4d9221\"],[1,\"#276419\"]]},\"xaxis\":{\"gridcolor\":\"white\",\"linecolor\":\"white\",\"ticks\":\"\",\"title\":{\"standoff\":15},\"zerolinecolor\":\"white\",\"automargin\":true,\"zerolinewidth\":2},\"yaxis\":{\"gridcolor\":\"white\",\"linecolor\":\"white\",\"ticks\":\"\",\"title\":{\"standoff\":15},\"zerolinecolor\":\"white\",\"automargin\":true,\"zerolinewidth\":2},\"scene\":{\"xaxis\":{\"backgroundcolor\":\"#E5ECF6\",\"gridcolor\":\"white\",\"linecolor\":\"white\",\"showbackground\":true,\"ticks\":\"\",\"zerolinecolor\":\"white\",\"gridwidth\":2},\"yaxis\":{\"backgroundcolor\":\"#E5ECF6\",\"gridcolor\":\"white\",\"linecolor\":\"white\",\"showbackground\":true,\"ticks\":\"\",\"zerolinecolor\":\"white\",\"gridwidth\":2},\"zaxis\":{\"backgroundcolor\":\"#E5ECF6\",\"gridcolor\":\"white\",\"linecolor\":\"white\",\"showbackground\":true,\"ticks\":\"\",\"zerolinecolor\":\"white\",\"gridwidth\":2}},\"shapedefaults\":{\"line\":{\"color\":\"#2a3f5f\"}},\"annotationdefaults\":{\"arrowcolor\":\"#2a3f5f\",\"arrowhead\":0,\"arrowwidth\":1},\"geo\":{\"bgcolor\":\"white\",\"landcolor\":\"#E5ECF6\",\"subunitcolor\":\"white\",\"showland\":true,\"showlakes\":true,\"lakecolor\":\"white\"},\"title\":{\"x\":0.05},\"mapbox\":{\"style\":\"light\"}}},\"geo\":{\"domain\":{\"x\":[0.0,1.0],\"y\":[0.0,1.0]},\"center\":{}},\"legend\":{\"title\":{\"text\":\"description\"},\"tracegroupgap\":0},\"margin\":{\"t\":60},\"title\":{\"text\":\"Paises y su descripcion\",\"x\":0.5}},                        {\"responsive\": true}                    ).then(function(){\n",
       "                            \n",
       "var gd = document.getElementById('6aa0d8a5-02a6-4cd4-a0d0-7d0ff9dc66db');\n",
       "var x = new MutationObserver(function (mutations, observer) {{\n",
       "        var display = window.getComputedStyle(gd).display;\n",
       "        if (!display || display === 'none') {{\n",
       "            console.log([gd, 'removed!']);\n",
       "            Plotly.purge(gd);\n",
       "            observer.disconnect();\n",
       "        }}\n",
       "}});\n",
       "\n",
       "// Listen for the removal of the full notebook cells\n",
       "var notebookContainer = gd.closest('#notebook-container');\n",
       "if (notebookContainer) {{\n",
       "    x.observe(notebookContainer, {childList: true});\n",
       "}}\n",
       "\n",
       "// Listen for the clearing of the current output cell\n",
       "var outputEl = gd.closest('.output');\n",
       "if (outputEl) {{\n",
       "    x.observe(outputEl, {childList: true});\n",
       "}}\n",
       "\n",
       "                        })                };                });            </script>        </div>"
      ]
     },
     "metadata": {},
     "output_type": "display_data"
    }
   ],
   "source": [
    "# plotting map using plotly\n",
    "fig = px.scatter_geo(df3, lat = 'lat', lon = 'lon', color = 'description')\n",
    "\n",
    "# setting title for the map\n",
    "fig.update_layout(title = 'Paises y su descripcion', title_x = 0.5)\n"
   ]
  },
  {
   "cell_type": "code",
   "execution_count": null,
   "id": "ad673ef7",
   "metadata": {},
   "outputs": [],
   "source": []
  }
 ],
 "metadata": {
  "kernelspec": {
   "display_name": "Python 3 (ipykernel)",
   "language": "python",
   "name": "python3"
  },
  "language_info": {
   "codemirror_mode": {
    "name": "ipython",
    "version": 3
   },
   "file_extension": ".py",
   "mimetype": "text/x-python",
   "name": "python",
   "nbconvert_exporter": "python",
   "pygments_lexer": "ipython3",
   "version": "3.10.9"
  }
 },
 "nbformat": 4,
 "nbformat_minor": 5
}
